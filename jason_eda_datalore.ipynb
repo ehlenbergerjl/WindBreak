{
 "cells": [
  {
   "cell_type": "markdown",
   "source": [
    "# Processing"
   ],
   "attachments": {},
   "metadata": {
    "datalore": {
     "node_id": "Processing",
     "type": "MD",
     "hide_input_from_viewers": false,
     "hide_output_from_viewers": false,
     "sheet_delimiter": true
    }
   }
  },
  {
   "cell_type": "markdown",
   "source": [
    "# EXPLORATORY DATA ANALYSIS\n",
    "1) Describe the Data\n",
    "2) Trends\n",
    "3) Summary tables\n",
    "4) drop unneeded columns\n",
    "5) drop duplicates\n",
    "6) drop outliers"
   ],
   "attachments": {},
   "metadata": {
    "datalore": {
     "node_id": "kKXqST3ZUE51qmpf3huPyR",
     "type": "MD",
     "hide_input_from_viewers": false,
     "hide_output_from_viewers": false,
     "report_properties": {
      "rowId": "YqvChVP4VgmRFOJf9Yegmi"
     }
    }
   }
  },
  {
   "cell_type": "markdown",
   "source": [
    "# Prepare the EDA Environment"
   ],
   "attachments": {},
   "metadata": {
    "datalore": {
     "node_id": "bbVaFvUtckSVW9M3sUewbT",
     "type": "MD",
     "hide_input_from_viewers": false,
     "hide_output_from_viewers": false,
     "report_properties": {
      "rowId": "V5fxVeIBWIBytsH8Fx6WJt"
     }
    }
   }
  },
  {
   "cell_type": "code",
   "source": [
    "import os\n",
    "import warnings\n",
    "import netCDF4 as nc\n",
    "import numpy as np\n",
    "import pandas as pd\n",
    "import geopandas as gpd\n",
    "import seaborn as sns\n",
    "import matplotlib.pyplot as plt\n",
    "import matplotlib.ticker as mticker\n",
    "import holoviews as hv\n",
    "import xarray as xr\n",
    "import rasterio\n",
    "import ipywidgets as widgets\n",
    "import regex as re\n",
    "import chardet\n",
    "import holoviews as hv\n",
    "from geopandas import GeoDataFrame\n",
    "from shapely.geometry import Point\n",
    "from shapely.geometry import LineString\n",
    "from rasterio.transform import from_origin\n",
    "from rasterstats import zonal_stats\n",
    "from matplotlib.path import Path\n",
    "from matplotlib.colors import Normalize\n",
    "from mpl_toolkits.axes_grid1 import make_axes_locatable\n",
    "from mpl_toolkits.basemap import Basemap\n",
    "from netCDF4 import Dataset\n",
    "from pyproj import CRS\n",
    "from IPython.display import display\n",
    "from sklearn.preprocessing import StandardScaler\n",
    "from bokeh.io import output_notebook, show\n",
    "from bokeh.resources import INLINE\n",
    "from windbreaks_helpers import *"
   ],
   "metadata": {
    "datalore": {
     "node_id": "7yuKgSfP6RIC5PuVB8baDO",
     "type": "CODE",
     "hide_input_from_viewers": true,
     "hide_output_from_viewers": true
    },
    "ExecuteTime": {
     "end_time": "2024-04-09T22:04:18.082705Z",
     "start_time": "2024-04-09T22:04:14.647447Z"
    }
   },
   "outputs": [
    {
     "ename": "ImportError",
     "evalue": "cannot import name 'Image' from 'PIL' (unknown location)",
     "output_type": "error",
     "traceback": [
      "\u001B[1;31m---------------------------------------------------------------------------\u001B[0m",
      "\u001B[1;31mImportError\u001B[0m                               Traceback (most recent call last)",
      "Cell \u001B[1;32mIn[1], line 7\u001B[0m\n\u001B[0;32m      5\u001B[0m \u001B[38;5;28;01mimport\u001B[39;00m \u001B[38;5;21;01mpandas\u001B[39;00m \u001B[38;5;28;01mas\u001B[39;00m \u001B[38;5;21;01mpd\u001B[39;00m\n\u001B[0;32m      6\u001B[0m \u001B[38;5;28;01mimport\u001B[39;00m \u001B[38;5;21;01mgeopandas\u001B[39;00m \u001B[38;5;28;01mas\u001B[39;00m \u001B[38;5;21;01mgpd\u001B[39;00m\n\u001B[1;32m----> 7\u001B[0m \u001B[38;5;28;01mimport\u001B[39;00m \u001B[38;5;21;01mseaborn\u001B[39;00m \u001B[38;5;28;01mas\u001B[39;00m \u001B[38;5;21;01msns\u001B[39;00m\n\u001B[0;32m      8\u001B[0m \u001B[38;5;28;01mimport\u001B[39;00m \u001B[38;5;21;01mmatplotlib\u001B[39;00m\u001B[38;5;21;01m.\u001B[39;00m\u001B[38;5;21;01mpyplot\u001B[39;00m \u001B[38;5;28;01mas\u001B[39;00m \u001B[38;5;21;01mplt\u001B[39;00m\n\u001B[0;32m      9\u001B[0m \u001B[38;5;28;01mimport\u001B[39;00m \u001B[38;5;21;01mmatplotlib\u001B[39;00m\u001B[38;5;21;01m.\u001B[39;00m\u001B[38;5;21;01mticker\u001B[39;00m \u001B[38;5;28;01mas\u001B[39;00m \u001B[38;5;21;01mmticker\u001B[39;00m\n",
      "File \u001B[1;32m~\\AppData\\Local\\conda\\envs\\WindBreaks\\lib\\site-packages\\seaborn\\__init__.py:2\u001B[0m\n\u001B[0;32m      1\u001B[0m \u001B[38;5;66;03m# Import seaborn objects\u001B[39;00m\n\u001B[1;32m----> 2\u001B[0m \u001B[38;5;28;01mfrom\u001B[39;00m \u001B[38;5;21;01m.\u001B[39;00m\u001B[38;5;21;01mrcmod\u001B[39;00m \u001B[38;5;28;01mimport\u001B[39;00m \u001B[38;5;241m*\u001B[39m  \u001B[38;5;66;03m# noqa: F401,F403\u001B[39;00m\n\u001B[0;32m      3\u001B[0m \u001B[38;5;28;01mfrom\u001B[39;00m \u001B[38;5;21;01m.\u001B[39;00m\u001B[38;5;21;01mutils\u001B[39;00m \u001B[38;5;28;01mimport\u001B[39;00m \u001B[38;5;241m*\u001B[39m  \u001B[38;5;66;03m# noqa: F401,F403\u001B[39;00m\n\u001B[0;32m      4\u001B[0m \u001B[38;5;28;01mfrom\u001B[39;00m \u001B[38;5;21;01m.\u001B[39;00m\u001B[38;5;21;01mpalettes\u001B[39;00m \u001B[38;5;28;01mimport\u001B[39;00m \u001B[38;5;241m*\u001B[39m  \u001B[38;5;66;03m# noqa: F401,F403\u001B[39;00m\n",
      "File \u001B[1;32m~\\AppData\\Local\\conda\\envs\\WindBreaks\\lib\\site-packages\\seaborn\\rcmod.py:3\u001B[0m\n\u001B[0;32m      1\u001B[0m \u001B[38;5;124;03m\"\"\"Control plot style and scaling using the matplotlib rcParams interface.\"\"\"\u001B[39;00m\n\u001B[0;32m      2\u001B[0m \u001B[38;5;28;01mimport\u001B[39;00m \u001B[38;5;21;01mfunctools\u001B[39;00m\n\u001B[1;32m----> 3\u001B[0m \u001B[38;5;28;01mimport\u001B[39;00m \u001B[38;5;21;01mmatplotlib\u001B[39;00m \u001B[38;5;28;01mas\u001B[39;00m \u001B[38;5;21;01mmpl\u001B[39;00m\n\u001B[0;32m      4\u001B[0m \u001B[38;5;28;01mfrom\u001B[39;00m \u001B[38;5;21;01mcycler\u001B[39;00m \u001B[38;5;28;01mimport\u001B[39;00m cycler\n\u001B[0;32m      5\u001B[0m \u001B[38;5;28;01mfrom\u001B[39;00m \u001B[38;5;21;01m.\u001B[39;00m \u001B[38;5;28;01mimport\u001B[39;00m palettes\n",
      "File \u001B[1;32m~\\AppData\\Local\\conda\\envs\\WindBreaks\\lib\\site-packages\\matplotlib\\__init__.py:161\u001B[0m\n\u001B[0;32m    157\u001B[0m \u001B[38;5;28;01mfrom\u001B[39;00m \u001B[38;5;21;01mpackaging\u001B[39;00m\u001B[38;5;21;01m.\u001B[39;00m\u001B[38;5;21;01mversion\u001B[39;00m \u001B[38;5;28;01mimport\u001B[39;00m parse \u001B[38;5;28;01mas\u001B[39;00m parse_version\n\u001B[0;32m    159\u001B[0m \u001B[38;5;66;03m# cbook must import matplotlib only within function\u001B[39;00m\n\u001B[0;32m    160\u001B[0m \u001B[38;5;66;03m# definitions, so it is safe to import from it here.\u001B[39;00m\n\u001B[1;32m--> 161\u001B[0m \u001B[38;5;28;01mfrom\u001B[39;00m \u001B[38;5;21;01m.\u001B[39;00m \u001B[38;5;28;01mimport\u001B[39;00m _api, _version, cbook, _docstring, rcsetup\n\u001B[0;32m    162\u001B[0m \u001B[38;5;28;01mfrom\u001B[39;00m \u001B[38;5;21;01mmatplotlib\u001B[39;00m\u001B[38;5;21;01m.\u001B[39;00m\u001B[38;5;21;01mcbook\u001B[39;00m \u001B[38;5;28;01mimport\u001B[39;00m sanitize_sequence\n\u001B[0;32m    163\u001B[0m \u001B[38;5;28;01mfrom\u001B[39;00m \u001B[38;5;21;01mmatplotlib\u001B[39;00m\u001B[38;5;21;01m.\u001B[39;00m\u001B[38;5;21;01m_api\u001B[39;00m \u001B[38;5;28;01mimport\u001B[39;00m MatplotlibDeprecationWarning\n",
      "File \u001B[1;32m~\\AppData\\Local\\conda\\envs\\WindBreaks\\lib\\site-packages\\matplotlib\\rcsetup.py:27\u001B[0m\n\u001B[0;32m     25\u001B[0m \u001B[38;5;28;01mfrom\u001B[39;00m \u001B[38;5;21;01mmatplotlib\u001B[39;00m \u001B[38;5;28;01mimport\u001B[39;00m _api, cbook\n\u001B[0;32m     26\u001B[0m \u001B[38;5;28;01mfrom\u001B[39;00m \u001B[38;5;21;01mmatplotlib\u001B[39;00m\u001B[38;5;21;01m.\u001B[39;00m\u001B[38;5;21;01mcbook\u001B[39;00m \u001B[38;5;28;01mimport\u001B[39;00m ls_mapper\n\u001B[1;32m---> 27\u001B[0m \u001B[38;5;28;01mfrom\u001B[39;00m \u001B[38;5;21;01mmatplotlib\u001B[39;00m\u001B[38;5;21;01m.\u001B[39;00m\u001B[38;5;21;01mcolors\u001B[39;00m \u001B[38;5;28;01mimport\u001B[39;00m Colormap, is_color_like\n\u001B[0;32m     28\u001B[0m \u001B[38;5;28;01mfrom\u001B[39;00m \u001B[38;5;21;01mmatplotlib\u001B[39;00m\u001B[38;5;21;01m.\u001B[39;00m\u001B[38;5;21;01m_fontconfig_pattern\u001B[39;00m \u001B[38;5;28;01mimport\u001B[39;00m parse_fontconfig_pattern\n\u001B[0;32m     29\u001B[0m \u001B[38;5;28;01mfrom\u001B[39;00m \u001B[38;5;21;01mmatplotlib\u001B[39;00m\u001B[38;5;21;01m.\u001B[39;00m\u001B[38;5;21;01m_enums\u001B[39;00m \u001B[38;5;28;01mimport\u001B[39;00m JoinStyle, CapStyle\n",
      "File \u001B[1;32m~\\AppData\\Local\\conda\\envs\\WindBreaks\\lib\\site-packages\\matplotlib\\colors.py:52\u001B[0m\n\u001B[0;32m     49\u001B[0m \u001B[38;5;28;01mfrom\u001B[39;00m \u001B[38;5;21;01mnumbers\u001B[39;00m \u001B[38;5;28;01mimport\u001B[39;00m Real\n\u001B[0;32m     50\u001B[0m \u001B[38;5;28;01mimport\u001B[39;00m \u001B[38;5;21;01mre\u001B[39;00m\n\u001B[1;32m---> 52\u001B[0m \u001B[38;5;28;01mfrom\u001B[39;00m \u001B[38;5;21;01mPIL\u001B[39;00m \u001B[38;5;28;01mimport\u001B[39;00m Image\n\u001B[0;32m     53\u001B[0m \u001B[38;5;28;01mfrom\u001B[39;00m \u001B[38;5;21;01mPIL\u001B[39;00m\u001B[38;5;21;01m.\u001B[39;00m\u001B[38;5;21;01mPngImagePlugin\u001B[39;00m \u001B[38;5;28;01mimport\u001B[39;00m PngInfo\n\u001B[0;32m     55\u001B[0m \u001B[38;5;28;01mimport\u001B[39;00m \u001B[38;5;21;01mmatplotlib\u001B[39;00m \u001B[38;5;28;01mas\u001B[39;00m \u001B[38;5;21;01mmpl\u001B[39;00m\n",
      "\u001B[1;31mImportError\u001B[0m: cannot import name 'Image' from 'PIL' (unknown location)"
     ]
    }
   ],
   "execution_count": 1
  },
  {
   "cell_type": "code",
   "source": [
    "warnings.filterwarnings('ignore')"
   ],
   "execution_count": 4,
   "outputs": [],
   "metadata": {
    "datalore": {
     "node_id": "5PScbBPI3wW3XRnBZ5ojYA",
     "type": "CODE",
     "hide_input_from_viewers": false,
     "hide_output_from_viewers": false,
     "report_properties": {
      "rowId": "iHyqWsl2fiFLBe5kVeTZlA"
     }
    }
   }
  },
  {
   "cell_type": "code",
   "source": [
    "# Set up Bokeh to display plots inline in the notebook.\n",
    "output_notebook(INLINE)\n",
    "hv.extension('bokeh')\n",
    "%matplotlib inline"
   ],
   "execution_count": 5,
   "outputs": [],
   "metadata": {
    "datalore": {
     "node_id": "kYabYfjZlSo3zL6ngQfQSm",
     "type": "CODE",
     "hide_input_from_viewers": false,
     "hide_output_from_viewers": false,
     "report_properties": {
      "rowId": "jTeJnGFxek4QBXpHCpsux2"
     }
    }
   }
  },
  {
   "cell_type": "code",
   "source": [
    "print_modules()"
   ],
   "execution_count": 6,
   "outputs": [],
   "metadata": {
    "datalore": {
     "node_id": "e1Al6XAmzCMWq1wd0kq0Xr",
     "type": "CODE",
     "hide_input_from_viewers": false,
     "hide_output_from_viewers": false,
     "report_properties": {
      "rowId": "WxukVmjrHJd8vXZELlKJCl"
     }
    }
   }
  },
  {
   "cell_type": "code",
   "source": [
    "# # Diagnostic only!! Very long print output.\n",
    "#print_all_imported_modules()"
   ],
   "execution_count": 7,
   "outputs": [],
   "metadata": {
    "datalore": {
     "node_id": "tCJthiOJ5FogTRVAimcFqv",
     "type": "CODE",
     "hide_input_from_viewers": false,
     "hide_output_from_viewers": false,
     "report_properties": {
      "rowId": "rVlPYGcxLeBOdzX9ahzmwi"
     }
    }
   }
  },
  {
   "cell_type": "code",
   "source": [
    "print_functions()"
   ],
   "execution_count": 8,
   "outputs": [],
   "metadata": {
    "datalore": {
     "node_id": "h93PukvjPNMlq0ooGvjR9B",
     "type": "CODE",
     "hide_input_from_viewers": false,
     "hide_output_from_viewers": false,
     "report_properties": {
      "rowId": "daLB1I6k89HpJmY47BU6ld"
     }
    }
   }
  },
  {
   "cell_type": "code",
   "source": [
    "# # Recover previously stored src_dir\n",
    "# %store -r src_dir\n",
    "# print('The Data source directory is:', src_dir)\n",
    "\n",
    "# If src_dir is not set, then comment out above, uncomment below and run, again\n",
    "# Path to the directory\n",
    "directory = 'Data'\n",
    "\n",
    "# Check if the directory exists\n",
    "if os.path.isdir(directory):\n",
    "    src_dir = directory    \n",
    "else:\n",
    "    src_dir = '/data/workspace_files/'\n",
    "\n",
    "%store src_dir\n",
    "print(src_dir)"
   ],
   "execution_count": 9,
   "outputs": [],
   "metadata": {
    "datalore": {
     "node_id": "s5VKJ0CejDREuU1jtexZTQ",
     "type": "CODE",
     "hide_input_from_viewers": false,
     "hide_output_from_viewers": false,
     "report_properties": {
      "rowId": "DvOzFGc68fjHsTxDvdYrmH"
     }
    }
   }
  },
  {
   "cell_type": "code",
   "source": [
    "# %store -r extent_coords\n",
    "\n",
    "# # Project extents\n",
    "extent_coords = {'min_lat': 36.998665, 'max_lat': 37.734463, 'min_lon': -95.964735, 'max_lon': -94.616789}\n",
    "%store extent_coords\n",
    "print('The project extents are: ', extent_coords)"
   ],
   "execution_count": 10,
   "outputs": [],
   "metadata": {
    "datalore": {
     "node_id": "hBzTQXEVQJH3KBEMCKGzVR",
     "type": "CODE",
     "hide_input_from_viewers": false,
     "hide_output_from_viewers": false,
     "report_properties": {
      "rowId": "2qrhtV4Bs7W6al9TrUZg79"
     }
    }
   }
  },
  {
   "cell_type": "markdown",
   "source": [
    "# County Boundaries"
   ],
   "attachments": {},
   "metadata": {
    "datalore": {
     "node_id": "rfNoc4Uu8qfvHswaToQWY8",
     "type": "MD",
     "hide_input_from_viewers": true,
     "hide_output_from_viewers": true
    }
   }
  },
  {
   "cell_type": "code",
   "source": [
    "# Load the county boundary shapefile\n",
    "sixco_fn = os.path.join(src_dir, 'GIS_files/KS_six_co_bo.shp')\n",
    "sixco_data = gpd.read_file(sixco_fn)\n",
    "sixco_data = sixco_data.to_crs('EPSG:6469')\n",
    "\n",
    "# Get the CRS\n",
    "get_crs(sixco_data)\n",
    "# get column names with their index\n",
    "print(sixco_data)"
   ],
   "execution_count": 12,
   "outputs": [],
   "metadata": {
    "datalore": {
     "node_id": "jxE63eGZ6NRcHlEhIVngeg",
     "type": "CODE",
     "hide_input_from_viewers": true,
     "hide_output_from_viewers": true
    }
   }
  },
  {
   "cell_type": "markdown",
   "source": [
    "# Storm Event Data"
   ],
   "attachments": {},
   "metadata": {
    "datalore": {
     "node_id": "QUdwqRzAeUYUlOElsH8dFd",
     "type": "MD",
     "hide_input_from_viewers": true,
     "hide_output_from_viewers": true
    }
   }
  },
  {
   "cell_type": "code",
   "source": [
    "se_df = pd.read_csv(os.path.join(src_dir, 'Storm_event/StormEvents_all.csv'))\n",
    "output_shp_file = os.path.join(src_dir, 'Storm_event/StormEvents_all.shp')\n",
    "gdf_to_shp(se_df, output_shp_file, extent_coords)\n",
    "se_gdf = gpd.read_file(output_shp_file)\n",
    "se_gdf = se_gdf.set_crs(\"EPSG:4269\", allow_override=True)\n",
    "print('Set the crs based on original shapefile')\n",
    "get_crs(se_gdf)\n",
    "print('Project to Kansas South EPSG:6469')\n",
    "se_gdf = se_gdf.to_crs('EPSG:6469')\n",
    "print('Write the projected shapefile')\n",
    "# Write the projected shapefile\n",
    "proj_shp_file = os.path.join(src_dir, 'Storm_event/StormEvents_all_proj.shp')\n",
    "se_gdf.to_file(proj_shp_file)\n",
    "# Read the projected shapefile\n",
    "se_gdf = gpd.read_file(proj_shp_file)\n",
    "get_crs(se_gdf)\n",
    "# print(se_gdf)\n",
    "se_gdf.head()"
   ],
   "execution_count": 14,
   "outputs": [],
   "metadata": {
    "datalore": {
     "node_id": "5YPjkypzYbxviO6qOc6HS8",
     "type": "CODE",
     "hide_input_from_viewers": false,
     "hide_output_from_viewers": false,
     "report_properties": {
      "rowId": "QijmL5cLHlcO1JsPeySSLw"
     }
    }
   }
  },
  {
   "cell_type": "code",
   "source": [
    "# Create a new map instance with the 'tmerc' projection\n",
    "m = Basemap(projection='tmerc', lat_0=0, lon_0=0, k_0=0.9996)\n",
    "\n",
    "# Draw coastlines, countries, states, and counties\n",
    "m.drawcoastlines()\n",
    "m.drawcountries()\n",
    "m.drawstates()\n",
    "m.drawcounties()\n",
    "\n",
    "# Load the shapes\n",
    "storm_events = se_gdf.to_crs(6469).geometry.scale(xfact=0.001, yfact=0.001, origin=(0,0))\n",
    "ks_six_counties = sixco_data.to_crs(6469).geometry.scale(xfact=0.001, yfact=0.001, origin=(0,0))\n",
    "\n",
    "# Create a new figure and axis\n",
    "fig, ax = plt.subplots(1, 1, figsize=(10, 10))\n",
    "\n",
    "# Plot the shapefiles\n",
    "for line in storm_events:\n",
    "    x, y = line.xy\n",
    "    x = list(x)\n",
    "    y = list(y)\n",
    "    m.plot(x, y, color='red')\n",
    "    ax.quiver(x[-2], y[-2], [x[-1]-x[-2]], [y[-1]-y[-2]], scale_units='xy', angles='xy', scale=1, color='red')\n",
    "\n",
    "for polygon in ks_six_counties:\n",
    "    x, y = polygon.exterior.xy\n",
    "    m.plot(x, y, color='beige', edgecolor='brown')\n",
    "\n",
    "plt.show()"
   ],
   "execution_count": 15,
   "outputs": [],
   "metadata": {
    "datalore": {
     "node_id": "2iKwKDwDp4IgGDY7d0BsRN",
     "type": "CODE",
     "hide_input_from_viewers": true,
     "hide_output_from_viewers": true
    }
   }
  },
  {
   "cell_type": "markdown",
   "source": [
    "# Crop Loss Data"
   ],
   "attachments": {},
   "metadata": {
    "datalore": {
     "node_id": "LTnk9649EqUSCLJgFhoS3l",
     "type": "MD",
     "hide_input_from_viewers": false,
     "hide_output_from_viewers": false,
     "report_properties": {
      "rowId": "DVArPI3uUtCd1Wrhzhst1K"
     }
    }
   }
  },
  {
   "cell_type": "code",
   "source": [
    "crop_data = pd.read_csv(os.path.join(src_dir, 'crop_loss_COL/CropData_all.csv'))\n",
    "crop_data.head(10000)"
   ],
   "execution_count": null,
   "outputs": [],
   "metadata": {
    "datalore": {
     "node_id": "XoroHRCc6gBxd5MLA0XkIS",
     "type": "CODE",
     "hide_input_from_viewers": true,
     "hide_output_from_viewers": true
    }
   }
  },
  {
   "cell_type": "code",
   "source": [
    "storm_grouped = se_gdf.groupby(['YEAR', 'FIPS'])['EVENT_ID'].count().reset_index(name='STORM_COUNT')\n",
    "\n",
    "\n",
    "crop_grouped = crop_data.groupby(['YEAR', 'FIPS'])['indemnity'].sum().reset_index(name='TOTAL_INDEMNITY')\n",
    "\n",
    "aligned_data = pd.merge(storm_grouped, crop_grouped, on=['YEAR', 'FIPS'], how='inner')\n",
    "print(aligned_data)"
   ],
   "execution_count": null,
   "outputs": [],
   "metadata": {
    "datalore": {
     "node_id": "OIy4ieyifvlUye6lfbGP2o",
     "type": "CODE",
     "hide_input_from_viewers": true,
     "hide_output_from_viewers": true
    }
   }
  },
  {
   "cell_type": "code",
   "source": [
    "\n",
    "\n",
    "# Calculate correlation\n",
    "correlation = aligned_data[['STORM_COUNT', 'TOTAL_INDEMNITY']].corr()\n",
    "correlation.head()"
   ],
   "execution_count": null,
   "outputs": [],
   "metadata": {
    "datalore": {
     "node_id": "hOTRn7lmBu3KpD8uHg9xaE",
     "type": "CODE",
     "hide_input_from_viewers": true,
     "hide_output_from_viewers": true
    }
   }
  },
  {
   "cell_type": "code",
   "source": [
    "%whos"
   ],
   "execution_count": null,
   "outputs": [],
   "metadata": {
    "datalore": {
     "node_id": "FGacRaJRbekgSNO9kYXVYO",
     "type": "CODE",
     "hide_input_from_viewers": true,
     "hide_output_from_viewers": true
    }
   }
  },
  {
   "cell_type": "markdown",
   "source": [
    "# Visualization"
   ],
   "attachments": {},
   "metadata": {
    "datalore": {
     "node_id": "Visualization",
     "type": "MD",
     "hide_input_from_viewers": false,
     "hide_output_from_viewers": false,
     "sheet_delimiter": true
    }
   }
  },
  {
   "cell_type": "code",
   "source": [
    "# Create a scatter plot\n",
    "plt.figure(figsize=(10, 6))\n",
    "sns.scatterplot(data=aligned_data, x='STORM_COUNT', y='TOTAL_INDEMNITY')\n",
    "\n",
    "# Add a regression line\n",
    "sns.regplot(data=aligned_data, x='STORM_COUNT', y='TOTAL_INDEMNITY', scatter=False, color='red')\n",
    "\n",
    "# Set plot title and labels\n",
    "plt.title('Correlation between Storm Count and Total Indemnity')\n",
    "plt.xlabel('Storm Count')\n",
    "plt.ylabel('Total Indemnity')\n",
    "\n",
    "# Show the plot\n",
    "plt.show()"
   ],
   "execution_count": null,
   "outputs": [],
   "metadata": {
    "datalore": {
     "node_id": "DkIAKRHz9vkKsEess8DLj7",
     "type": "CODE",
     "hide_input_from_viewers": true,
     "hide_output_from_viewers": true
    }
   }
  },
  {
   "cell_type": "code",
   "source": [
    "# Create a new figure\n",
    "plt.figure(figsize=(12, 6))\n",
    "\n",
    "# Create a box plot for 'STORM_COUNT'\n",
    "plt.subplot(1, 2, 1)\n",
    "sns.boxplot(data=aligned_data, y='STORM_COUNT')\n",
    "plt.title('Box Plot of Storm Count')\n",
    "\n",
    "# Create a box plot for 'TOTAL_INDEMNITY'\n",
    "plt.subplot(1, 2, 2)\n",
    "sns.boxplot(data=aligned_data, y='TOTAL_INDEMNITY')\n",
    "plt.title('Box Plot of Total Indemnity')\n",
    "\n",
    "# Show the plot\n",
    "plt.tight_layout()\n",
    "plt.show()"
   ],
   "execution_count": null,
   "outputs": [],
   "metadata": {
    "datalore": {
     "node_id": "l3dMLax5Zfc8FwCR8JPC0j",
     "type": "CODE",
     "hide_input_from_viewers": true,
     "hide_output_from_viewers": true
    }
   }
  },
  {
   "cell_type": "code",
   "source": [
    "# Assuming 'aligned_data' is your DataFrame from the previous step\n",
    "\n",
    "# Standardize 'STORM_COUNT' and 'TOTAL_INDEMNITY'\n",
    "scaler = StandardScaler()\n",
    "aligned_data[['STORM_COUNT', 'TOTAL_INDEMNITY']] = scaler.fit_transform(aligned_data[['STORM_COUNT', 'TOTAL_INDEMNITY']])\n",
    "\n",
    "# Melt the DataFrame to long format for seaborn boxplot\n",
    "melted_data = aligned_data.melt(value_vars=['STORM_COUNT', 'TOTAL_INDEMNITY'], var_name='Variable', value_name='Value')\n",
    "\n",
    "# Create a box plot\n",
    "plt.figure(figsize=(10, 6))\n",
    "sns.boxplot(data=melted_data, x='Variable', y='Value')\n",
    "plt.title('Box Plot of Standardized Storm Count and Total Indemnity')\n",
    "\n",
    "# Show the plot\n",
    "plt.show()"
   ],
   "execution_count": null,
   "outputs": [],
   "metadata": {
    "datalore": {
     "node_id": "QzWgD2GUE4WsbW2O6FqV6P",
     "type": "CODE",
     "hide_input_from_viewers": true,
     "hide_output_from_viewers": true
    }
   }
  },
  {
   "cell_type": "code",
   "source": [
    "aligned_data.set_index('YEAR')[['STORM_COUNT', 'TOTAL_INDEMNITY']].plot(marker='o')\n",
    "plt.ylabel('Value')\n",
    "plt.title('Storm Count and Total Indemnity over Years')\n",
    "plt.show()"
   ],
   "execution_count": null,
   "outputs": [],
   "metadata": {
    "datalore": {
     "node_id": "QqmCvktAxJ4gS4Mmt93jHl",
     "type": "CODE",
     "hide_input_from_viewers": true,
     "hide_output_from_viewers": true
    }
   }
  },
  {
   "cell_type": "code",
   "source": [
    "aligned_data.set_index('YEAR')[['STORM_COUNT', 'TOTAL_INDEMNITY']].plot(kind='bar', subplots=True)\n",
    "plt.ylabel('Value')\n",
    "plt.title('Storm Count and Total Indemnity per Year')\n",
    "plt.show()"
   ],
   "execution_count": null,
   "outputs": [],
   "metadata": {
    "datalore": {
     "node_id": "6xMBA9uXnIbRQ8soIEGmIk",
     "type": "CODE",
     "hide_input_from_viewers": true,
     "hide_output_from_viewers": true
    }
   }
  }
 ],
 "metadata": {
  "kernelspec": {
   "display_name": "WindBreaks",
   "language": "python",
   "name": "windbreaks"
  },
  "datalore": {
   "computation_mode": "JUPYTER",
   "package_manager": "conda",
   "base_environment": "minimal",
   "packages": [],
   "report_row_ids": [
    "V5fxVeIBWIBytsH8Fx6WJt",
    "YqvChVP4VgmRFOJf9Yegmi",
    "BMjUsUnGK3uz4tFMxUlsOi",
    "iHyqWsl2fiFLBe5kVeTZlA",
    "jTeJnGFxek4QBXpHCpsux2",
    "WxukVmjrHJd8vXZELlKJCl",
    "rVlPYGcxLeBOdzX9ahzmwi",
    "daLB1I6k89HpJmY47BU6ld",
    "DvOzFGc68fjHsTxDvdYrmH",
    "2qrhtV4Bs7W6al9TrUZg79",
    "fgqmHiKCLmN9s153tdzwmZ",
    "oDXIGYbrt6oaKL0xEJPDeG",
    "QijmL5cLHlcO1JsPeySSLw",
    "DVArPI3uUtCd1Wrhzhst1K",
    "7h39PbhjaXuh5sjfeaq6Es"
   ],
   "version": 3
  }
 },
 "nbformat": 4,
 "nbformat_minor": 4
}
