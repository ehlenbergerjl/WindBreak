{
 "cells": [
  {
   "cell_type": "code",
   "execution_count": null,
   "id": "initial_id",
   "metadata": {
    "collapsed": true
   },
   "outputs": [],
   "source": []
  },
  {
   "cell_type": "code",
   "id": "7fed6730a866eada",
   "metadata": {
    "collapsed": false
   },
   "outputs": [],
   "source": [
    "import geopandas as gpd\n",
    "import rasterio\n",
    "from rasterstats import zonal_stats\n",
    "\n",
    "# Open the vector file\n",
    "vector = gpd.read_file('path_to_your_shapefile.shp')\n",
    "\n",
    "# Open the raster file\n",
    "raster = rasterio.open('crop_cover.tif') \n",
    "\n",
    "# Specify the band statistics you are interested in\n",
    "bands = [1, 5, 6, 23, 24, 26, 225, 226, 236, 237, 238, 240, 241, 254]\n",
    "\n",
    "# Create an empty dictionary to save the zonal statistics results\n",
    "statistics = {}\n",
    "\n",
    "# Iterate over the bands of interest\n",
    "for band in bands:\n",
    "    # Get the zonal statistics\n",
    "    stats = zonal_stats(vector, raster.read(band), \n",
    "                        stats=['min', 'max', 'mean', 'std', 'median'], \n",
    "                        geojson_out=True)\n",
    "    # Save the statistics in the dictionary\n",
    "    statistics[band] = stats\n",
    "\n",
    "# Now, `statistics` contains the zonal statistics for each band as a list of GeoJSON-like features"
   ]
  }
 ],
 "metadata": {
  "kernelspec": {
   "display_name": "WindBreaks",
   "language": "python",
   "name": "WindBreaks"
  },
  "language_info": {
   "codemirror_mode": {
    "name": "ipython",
    "version": 2
   },
   "file_extension": ".py",
   "mimetype": "text/x-python",
   "name": "python",
   "nbconvert_exporter": "python",
   "pygments_lexer": "ipython2",
   "version": "2.7.6"
  }
 },
 "nbformat": 4,
 "nbformat_minor": 5
}
