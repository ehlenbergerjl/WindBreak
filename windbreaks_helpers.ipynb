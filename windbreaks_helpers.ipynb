{
 "cells": [
  {
   "cell_type": "code",
   "execution_count": null,
   "id": "9552a782d390e3b9",
   "metadata": {
    "collapsed": false,
    "jupyter": {
     "outputs_hidden": false
    }
   },
   "outputs": [],
   "source": [
    "# Python 3.11.8\n",
    "\n",
    "import importlib\n",
    "import re\n",
    "import types\n",
    "\n",
    "\n",
    "def print_imported_functions():\n",
    "    functions = [func for func in globals().values() if isinstance(func, types.FunctionType)]\n",
    "    print(\"Imported functions are:\", [func.__name__ for func in functions])\n",
    "\n"
   ]
  },
  {
   "cell_type": "code",
   "execution_count": null,
   "id": "65496ee9f840ca72",
   "metadata": {
    "collapsed": false,
    "jupyter": {
     "outputs_hidden": false
    }
   },
   "outputs": [],
   "source": [
    "def generate_map_from_import_file(file_path):\n",
    "    module_to_class_map = {}\n",
    "    with open(file_path, 'r') as import_file:\n",
    "        lines = import_file.readlines()\n",
    "        for line in lines:\n",
    "            match = re.match(r'import (\\w+)', line)  # Matches 'import xyz'\n",
    "            if match:\n",
    "                module_name = match.group(1)  # Get 'xyz'\n",
    "                module = importlib.import_module(module_name)  # Dynamic import\n",
    "                module_classes = [attr for name, attr in module.__dict__.items() if isinstance(attr, type)]\n",
    "                module_to_class_map[module_name] = tuple(module_classes)\n",
    "\n",
    "    return module_to_class_map\n",
    "\n",
    "\n",
    "# Prepare a dictionary to store variable names per notebook\n",
    "notebook_vars = {}\n",
    "\n"
   ]
  },
  {
   "cell_type": "code",
   "execution_count": null,
   "id": "f999e8c3fbcfcb85",
   "metadata": {
    "collapsed": false,
    "jupyter": {
     "outputs_hidden": false
    }
   },
   "outputs": [],
   "source": [
    "import os\n",
    "from IPython.display import display, Javascript\n",
    "\n",
    "\n",
    "def store_nb_vars(run_files):\n",
    "    display(\n",
    "        Javascript('IPython.notebook.kernel.execute(\"notebook_name = \\'\" + IPython.notebook.notebook_name + \"\\'\");'))\n",
    "    notebook_name = os.path.splitext(notebook_name)[0]\n",
    "    module_to_class_map = generate_map_from_import_file(run_files[-1])\n",
    "    shell = IPython.get_ipython()\n",
    "    variables = list(locals().keys())\n",
    "    nb_variables = []\n",
    "    for v_name in variables:\n",
    "        v_value = shell.user_ns[v_name]\n",
    "        for module_name, classes in module_to_class_map.items():\n",
    "            if isinstance(v_value, classes):\n",
    "                nb_variables.append(v_name)\n",
    "                shell.run_line_magic('store', v_name)\n",
    "    notebook_vars[notebook_name] = nb_variables"
   ]
  },
  {
   "cell_type": "code",
   "execution_count": null,
   "id": "f331fbd9ef070b",
   "metadata": {
    "collapsed": false,
    "jupyter": {
     "outputs_hidden": false
    }
   },
   "outputs": [],
   "source": [
    "def load_nb_vars(notebook_name):\n",
    "    if notebook_name in notebook_vars:\n",
    "        for var in notebook_vars[notebook_name]:\n",
    "            %store - r $var\n",
    "    else:\n",
    "        print(\"No variables stored for this notebook\")\n"
   ]
  },
  {
   "cell_type": "code",
   "execution_count": null,
   "id": "fff5682045cc6a7f",
   "metadata": {
    "collapsed": false,
    "jupyter": {
     "outputs_hidden": false
    }
   },
   "outputs": [],
   "source": [
    "def print_message():\n",
    "    # List comprehension to get all the functions in the .ipynb file\n",
    "    functions = [func for func in globals().values() if isinstance(func, types.FunctionType)]\n",
    "    print(\"Imported functions are:\", [func.__name__ for func in functions])\n"
   ]
  }
 ],
 "metadata": {
  "kernelspec": {
   "display_name": "Python 3 (ipykernel)",
   "language": "python",
   "name": "python3"
  },
  "language_info": {
   "codemirror_mode": {
    "name": "ipython",
    "version": 3
   },
   "file_extension": ".py",
   "mimetype": "text/x-python",
   "name": "python",
   "nbconvert_exporter": "python",
   "pygments_lexer": "ipython3",
   "version": "3.11.5"
  }
 },
 "nbformat": 4,
 "nbformat_minor": 5
}
