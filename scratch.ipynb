{
 "cells": [
  {
   "cell_type": "code",
   "execution_count": null,
   "id": "initial_id",
   "metadata": {
    "collapsed": true
   },
   "outputs": [],
   "source": []
  },
  {
   "cell_type": "code",
   "outputs": [],
   "source": [
    "s_sixco_fg10 = load_nc(data_path(src_dir, 'Gridmet_WIND/wind_gusts_2014.nc'))\n",
    "\n",
    "print(ds_sixco_fg10.variables.keys())"
   ],
   "metadata": {
    "collapsed": false
   },
   "id": "55fffc34dbbc66fd"
  },
  {
   "cell_type": "code",
   "outputs": [],
   "source": [
    "# Get the array of latitudes, longitudes, and time\n",
    "lat = ds_sixco_fg10.variables['latitude'][:]\n",
    "lon = ds_sixco_fg10.variables['longitude'][:]\n",
    "time = ds_sixco_fg10.variables['time'][:]\n",
    "\n",
    "# Calculate the pixel size\n",
    "dx = lon[1] - lon[0]\n",
    "dy = lat[0] - lat[1]  # latitudes may be in reverse order, depending on your data\n",
    "\n",
    "# Define the transformation\n",
    "transform = from_origin(lon[0] - dx / 2, lat[0] + dy / 2, dx, dy)\n",
    "\n",
    "# Define the dimensions\n",
    "height = lat.shape[0]\n",
    "width = lon.shape[0]\n",
    "count = time.shape[0]\n",
    "\n",
    "# Create the raster file\n",
    "with rasterio.open(\n",
    "        'Output/fg10.tif',\n",
    "        'w',\n",
    "        driver='GTiff',\n",
    "        height=height,\n",
    "        width=width,\n",
    "        count=count,\n",
    "        dtype='float32',  # assuming your data is float; change if otherwise\n",
    "        crs='+proj=latlong',  # again, assuming a simple lat/long projection; change if otherwise\n",
    "        transform=transform\n",
    ") as dst:\n",
    "    for t in range(count):\n",
    "        dst.write(ds_sixco_fg10.variables['fg10'][t].filled(np.nan), t + 1)\n"
   ],
   "metadata": {
    "collapsed": false
   },
   "id": "c0d44380a2227380"
  },
  {
   "cell_type": "code",
   "outputs": [],
   "source": [
    "# Open the NetCDF file\n",
    "ds_sixco_fg10 = xr.open_dataset('Gridmet_WIND/wind_gusts_2014.nc')\n",
    "\n",
    "# Note that xarray automatically plots a histogram if the data is 1D,\n",
    "# or a 2D image if the data is 2D. Here, let's plot the 'fg10' variable.\n",
    "ds_sixco_fg10['fg10'].plot()"
   ],
   "metadata": {
    "collapsed": false
   },
   "id": "1dd42b9d269ec42d"
  },
  {
   "cell_type": "code",
   "outputs": [],
   "source": [
    "ds_sixco_fg10 = xr.open_dataset('Gridmet_WIND/wind_gusts_2014.nc')\n",
    "plot = ds_sixco_fg10['fg10'].hvplot('longitude', 'latitude')\n",
    "plot\n"
   ],
   "metadata": {
    "collapsed": false
   },
   "id": "6d70d46f92949f66"
  },
  {
   "cell_type": "code",
   "outputs": [],
   "source": [
    "# Read the NetCDF file\n",
    "ds_sixco_fg10 = xr.open_dataset('Gridmet_WIND/wind_gusts_2014.nc')\n",
    "\n",
    "# Convert the xarray Dataset to a DataFrame\n",
    "df = ds_sixco_fg10.to_dataframe().reset_index()\n",
    "\n",
    "# Use Seaborn to create plots (for example, a scatterplot)\n",
    "sns.scatterplot(x='longitude', y='latitude', hue='fg10', data=df)\n",
    "\n",
    "# Show the plot\n",
    "plt.show()"
   ],
   "metadata": {
    "collapsed": false
   },
   "id": "b0bde96c3c816e03"
  },
  {
   "cell_type": "code",
   "outputs": [],
   "source": [
    "# Open the NetCDF file\n",
    "ds_sixco_fg10 = xr.open_dataset('Gridmet_WIND/wind_gusts_2014.nc')\n",
    "\n",
    "# Let's say we want the data at the first time point:\n",
    "ds_sixco_fg10_time_slice = ds_sixco_fg10.isel(time=0)  # change '0' to any valid time index\n",
    "\n",
    "# Convert the xarray Dataset to a DataFrame\n",
    "df = ds_sixco_fg10_time_slice.to_dataframe().reset_index()\n",
    "\n",
    "# Pivot the DataFrame to get 2D arrays for lat, lon and your variable\n",
    "df_pivot = df.pivot(index='latitude', columns='longitude', values='fg10')\n",
    "\n",
    "# Plot heatmap using seaborn \n",
    "plt.figure(figsize=(10, 6))  # Increase size of plot\n",
    "sns.heatmap(df_pivot)\n",
    "\n",
    "# Show the plot\n",
    "plt.show()\n"
   ],
   "metadata": {
    "collapsed": false
   },
   "id": "5b8a12a48a629061"
  }
 ],
 "metadata": {
  "kernelspec": {
   "display_name": "Python 3",
   "language": "python",
   "name": "python3"
  },
  "language_info": {
   "codemirror_mode": {
    "name": "ipython",
    "version": 2
   },
   "file_extension": ".py",
   "mimetype": "text/x-python",
   "name": "python",
   "nbconvert_exporter": "python",
   "pygments_lexer": "ipython2",
   "version": "2.7.6"
  }
 },
 "nbformat": 4,
 "nbformat_minor": 5
}
