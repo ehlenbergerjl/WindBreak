{
 "cells": [
  {
   "cell_type": "code",
   "outputs": [],
   "source": [
    "# !pip install --upgrade pip"
   ],
   "metadata": {
    "collapsed": false
   },
   "id": "751a4598dab873aa",
   "execution_count": null
  },
  {
   "cell_type": "code",
   "outputs": [],
   "source": [
    "!pip install --upgrade jupyter"
   ],
   "metadata": {
    "collapsed": false
   },
   "id": "19434d40a21898b3",
   "execution_count": null
  },
  {
   "cell_type": "code",
   "outputs": [],
   "source": [
    "!pip install --upgrade matplotlib"
   ],
   "metadata": {
    "collapsed": true
   },
   "id": "initial_id",
   "execution_count": null
  },
  {
   "cell_type": "code",
   "outputs": [],
   "source": [
    "!pip install --upgrade zipfile36"
   ],
   "metadata": {
    "collapsed": false
   },
   "id": "a73e50342908a830",
   "execution_count": null
  },
  {
   "cell_type": "code",
   "outputs": [],
   "source": [
    "!pip install --upgrade numpy"
   ],
   "metadata": {
    "collapsed": false
   },
   "id": "bf5029bd35e79dd1",
   "execution_count": null
  },
  {
   "cell_type": "code",
   "outputs": [],
   "source": [
    "!pip install --upgrade pandas"
   ],
   "metadata": {
    "collapsed": false
   },
   "id": "6e0e9d3d18a192d0",
   "execution_count": null
  },
  {
   "cell_type": "code",
   "outputs": [],
   "source": [
    "!pip install --upgrade geopandas"
   ],
   "metadata": {
    "collapsed": false
   },
   "id": "5e88c446a2847b37",
   "execution_count": null
  },
  {
   "cell_type": "code",
   "outputs": [],
   "source": [
    "!pip install --upgrade seaborn"
   ],
   "metadata": {
    "collapsed": false
   },
   "id": "876f91ebc4709478",
   "execution_count": null
  },
  {
   "cell_type": "code",
   "outputs": [],
   "source": [
    "!pip install --upgrade rasterio"
   ],
   "metadata": {
    "collapsed": false
   },
   "id": "22e93cbfce2606b9",
   "execution_count": null
  },
  {
   "cell_type": "code",
   "outputs": [],
   "source": [
    "!pip install --upgrade rasterstats"
   ],
   "metadata": {
    "collapsed": false
   },
   "id": "ac07983f172d2fd3",
   "execution_count": null
  },
  {
   "cell_type": "code",
   "outputs": [],
   "source": [
    "!pip install --upgrade plotly"
   ],
   "metadata": {
    "collapsed": false
   },
   "id": "daf0959a97aa52c9",
   "execution_count": null
  },
  {
   "cell_type": "code",
   "outputs": [],
   "source": [
    "!pip install --upgrade geoplot"
   ],
   "metadata": {
    "collapsed": false
   },
   "id": "8af4f750bac36a26",
   "execution_count": null
  },
  {
   "cell_type": "code",
   "outputs": [],
   "source": [
    "!pip install --upgrade ggplot"
   ],
   "metadata": {
    "collapsed": false
   },
   "id": "79fcdac71a05a29e",
   "execution_count": null
  },
  {
   "cell_type": "code",
   "outputs": [],
   "source": [
    "!pip install --upgrade leafly"
   ],
   "metadata": {
    "collapsed": false
   },
   "id": "e6e3455f14366b08",
   "execution_count": null
  },
  {
   "cell_type": "code",
   "outputs": [],
   "source": [
    "!pip install --upgrade cartopy"
   ],
   "metadata": {
    "collapsed": false
   },
   "id": "50094e59a62ffb88",
   "execution_count": null
  },
  {
   "cell_type": "code",
   "outputs": [],
   "source": [
    "!pip install --upgrade cython"
   ],
   "metadata": {
    "collapsed": false
   },
   "id": "13d72111056d066b",
   "execution_count": null
  },
  {
   "cell_type": "code",
   "outputs": [],
   "source": [
    "!pip install --upgrade shapely"
   ],
   "metadata": {
    "collapsed": false
   },
   "id": "78a33c6250fe6ef0",
   "execution_count": null
  },
  {
   "cell_type": "code",
   "outputs": [],
   "source": [
    "!pip install --upgrade geos"
   ],
   "metadata": {
    "collapsed": false
   },
   "id": "85c976d35347792b",
   "execution_count": null
  },
  {
   "cell_type": "code",
   "outputs": [],
   "source": [
    "!pip install --upgrade pyshp"
   ],
   "metadata": {
    "collapsed": false
   },
   "id": "7b3b02bd5d0e0837",
   "execution_count": null
  },
  {
   "cell_type": "code",
   "outputs": [],
   "source": [
    "!pip install --upgrade proj"
   ],
   "metadata": {
    "collapsed": false
   },
   "id": "4d8d15b04ea7b03f",
   "execution_count": null
  },
  {
   "cell_type": "code",
   "outputs": [],
   "source": [
    "!pip install --upgrade six"
   ],
   "metadata": {
    "collapsed": false
   },
   "id": "e174257dae288b9c",
   "execution_count": null
  },
  {
   "cell_type": "code",
   "outputs": [],
   "source": [
    "!pip install --upgrade altair"
   ],
   "metadata": {
    "collapsed": false
   },
   "id": "5b2e961f77a33799",
   "execution_count": null
  },
  {
   "cell_type": "code",
   "outputs": [],
   "source": [
    "!pip install --upgrade bokeh"
   ],
   "metadata": {
    "collapsed": false
   },
   "id": "103b5953351dc61e",
   "execution_count": null
  },
  {
   "cell_type": "code",
   "outputs": [],
   "source": [
    "!pip install --upgrade pygal"
   ],
   "metadata": {
    "collapsed": false
   },
   "id": "5f153d6706f6c21f",
   "execution_count": null
  },
  {
   "cell_type": "code",
   "outputs": [],
   "source": [
    "!pip install --upgrade geoplotlib"
   ],
   "metadata": {
    "collapsed": false
   },
   "id": "e6af963e8d5ff256",
   "execution_count": null
  },
  {
   "cell_type": "code",
   "outputs": [],
   "source": [
    "!pip install --upgrade folium"
   ],
   "metadata": {
    "collapsed": false
   },
   "id": "39da3a8b76612098",
   "execution_count": null
  },
  {
   "cell_type": "code",
   "outputs": [],
   "source": [
    "!pip install --upgrade gleam"
   ],
   "metadata": {
    "collapsed": false
   },
   "id": "b5732a11312b0a2d",
   "execution_count": null
  }
 ],
 "metadata": {
  "kernelspec": {
   "display_name": "Python 3",
   "language": "python",
   "name": "python3"
  },
  "language_info": {
   "codemirror_mode": {
    "name": "ipython",
    "version": 2
   },
   "file_extension": ".py",
   "mimetype": "text/x-python",
   "name": "python",
   "nbconvert_exporter": "python",
   "pygments_lexer": "ipython2",
   "version": "2.7.6"
  }
 },
 "nbformat": 4,
 "nbformat_minor": 5
}
