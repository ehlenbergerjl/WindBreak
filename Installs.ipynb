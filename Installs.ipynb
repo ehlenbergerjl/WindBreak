{
 "cells": [
  {
   "cell_type": "code",
   "outputs": [
    {
     "name": "stdout",
     "output_type": "stream",
     "text": [
      "# conda environments:\n",
      "#\n",
      "base                  *  C:\\ProgramData\\anaconda3\n",
      "CS5245                   C:\\ProgramData\\anaconda3\\envs\\CS5245\n",
      "WindBreaks               C:\\ProgramData\\anaconda3\\envs\\WindBreaks\n"
     ]
    }
   ],
   "source": [
    "!conda info --envs"
   ],
   "metadata": {
    "collapsed": false,
    "ExecuteTime": {
     "end_time": "2024-03-09T03:25:05.361457Z",
     "start_time": "2024-03-09T03:24:57.759753Z"
    }
   },
   "id": "30300cc343b478b5",
   "execution_count": 2
  },
  {
   "cell_type": "code",
   "outputs": [
    {
     "name": "stdout",
     "output_type": "stream",
     "text": [
      "C:\\ProgramData\\anaconda3\\Library\\bin\\conda.bat\n",
      "C:\\ProgramData\\anaconda3\\Scripts\\conda.exe\n",
      "C:\\Program Files\\ArcGIS\\Pro\\bin\\Python\\condabin\\conda.bat\n"
     ]
    }
   ],
   "source": [
    "!where conda"
   ],
   "metadata": {
    "collapsed": false,
    "ExecuteTime": {
     "end_time": "2024-03-09T03:25:05.683551Z",
     "start_time": "2024-03-09T03:25:05.364480Z"
    }
   },
   "id": "4baeefcbb8c9202a",
   "execution_count": 3
  },
  {
   "cell_type": "code",
   "outputs": [
    {
     "name": "stdout",
     "output_type": "stream",
     "text": [
      "C:\\ProgramData\\anaconda3\\python.exe\n",
      "C:\\Program Files\\Python312\\python.exe\n",
      "C:\\Users\\excehl.LAPTOP-RF0HPLKT\\AppData\\Local\\Microsoft\\WindowsApps\\python.exe\n"
     ]
    }
   ],
   "source": [
    "!where python"
   ],
   "metadata": {
    "collapsed": false,
    "ExecuteTime": {
     "end_time": "2024-03-09T03:25:05.993745Z",
     "start_time": "2024-03-09T03:25:05.687575Z"
    }
   },
   "id": "ae6877053706ce3f",
   "execution_count": 4
  },
  {
   "cell_type": "code",
   "outputs": [
    {
     "name": "stdout",
     "output_type": "stream",
     "text": [
      "Python 3.11.5\n"
     ]
    }
   ],
   "source": [
    "!python --version"
   ],
   "metadata": {
    "collapsed": false,
    "ExecuteTime": {
     "end_time": "2024-03-09T03:25:06.115010Z",
     "start_time": "2024-03-09T03:25:05.995788Z"
    }
   },
   "id": "3ad80f95cb042dad",
   "execution_count": 5
  },
  {
   "cell_type": "code",
   "outputs": [],
   "source": [
    "!conda update -n base conda"
   ],
   "metadata": {
    "collapsed": false,
    "ExecuteTime": {
     "start_time": "2024-03-09T03:25:06.117716Z"
    }
   },
   "id": "862be075b8df0e75",
   "execution_count": null
  },
  {
   "cell_type": "code",
   "outputs": [],
   "source": [
    "!conda active base conda"
   ],
   "metadata": {
    "collapsed": false
   },
   "id": "4177a0a3c07a179e",
   "execution_count": null
  },
  {
   "cell_type": "code",
   "outputs": [
    {
     "name": "stdout",
     "output_type": "stream",
     "text": [
      "Python 3.11.5\n"
     ]
    }
   ],
   "source": [
    "!python --version"
   ],
   "metadata": {
    "collapsed": false,
    "ExecuteTime": {
     "end_time": "2024-03-09T03:25:40.879951Z",
     "start_time": "2024-03-09T03:25:40.749669Z"
    }
   },
   "id": "bb0bfe8bc1ce29ed",
   "execution_count": 1
  },
  {
   "cell_type": "code",
   "outputs": [],
   "source": [
    "!conda install -c conda-forge jupyterlab"
   ],
   "metadata": {
    "collapsed": false,
    "is_executing": true,
    "ExecuteTime": {
     "start_time": "2024-03-09T03:25:40.882965Z"
    }
   },
   "id": "ed7e49b435fd7cca"
  },
  {
   "cell_type": "code",
   "outputs": [],
   "source": [
    "!conda install -y pip==24.0"
   ],
   "metadata": {
    "collapsed": false,
    "is_executing": true
   },
   "id": "751a4598dab873aa",
   "execution_count": null
  },
  {
   "cell_type": "code",
   "outputs": [],
   "source": [
    "# !conda install -y jupyter "
   ],
   "metadata": {
    "collapsed": false,
    "is_executing": true
   },
   "id": "19434d40a21898b3",
   "execution_count": null
  },
  {
   "cell_type": "code",
   "outputs": [],
   "source": [
    "!conda install -y matplotlib "
   ],
   "metadata": {
    "collapsed": true,
    "is_executing": true
   },
   "id": "initial_id",
   "execution_count": null
  },
  {
   "cell_type": "code",
   "outputs": [],
   "source": [
    "!conda install -y numpy "
   ],
   "metadata": {
    "collapsed": false,
    "is_executing": true
   },
   "id": "bf5029bd35e79dd1",
   "execution_count": null
  },
  {
   "cell_type": "code",
   "outputs": [],
   "source": [
    "!conda install -y pandas "
   ],
   "metadata": {
    "collapsed": false,
    "is_executing": true
   },
   "id": "6e0e9d3d18a192d0",
   "execution_count": null
  },
  {
   "cell_type": "code",
   "outputs": [],
   "source": [
    "!conda install -y geopandas "
   ],
   "metadata": {
    "collapsed": false,
    "is_executing": true
   },
   "id": "5e88c446a2847b37",
   "execution_count": null
  },
  {
   "cell_type": "code",
   "outputs": [],
   "source": [
    "!conda install -y seaborn "
   ],
   "metadata": {
    "collapsed": false,
    "is_executing": true
   },
   "id": "876f91ebc4709478",
   "execution_count": null
  },
  {
   "cell_type": "code",
   "outputs": [],
   "source": [
    "!conda install -y rasterio "
   ],
   "metadata": {
    "collapsed": false,
    "is_executing": true
   },
   "id": "22e93cbfce2606b9",
   "execution_count": null
  },
  {
   "cell_type": "code",
   "outputs": [],
   "source": [
    "!conda install -y rasterstats "
   ],
   "metadata": {
    "collapsed": false,
    "is_executing": true
   },
   "id": "ac07983f172d2fd3",
   "execution_count": null
  },
  {
   "cell_type": "code",
   "outputs": [],
   "source": [
    "!conda install -y plotly "
   ],
   "metadata": {
    "collapsed": false,
    "is_executing": true
   },
   "id": "daf0959a97aa52c9",
   "execution_count": null
  },
  {
   "cell_type": "code",
   "outputs": [],
   "source": [
    "!conda install -y geoplot "
   ],
   "metadata": {
    "collapsed": false,
    "is_executing": true
   },
   "id": "8af4f750bac36a26",
   "execution_count": null
  },
  {
   "cell_type": "code",
   "outputs": [],
   "source": [
    "!conda install -y ggplot "
   ],
   "metadata": {
    "collapsed": false,
    "is_executing": true
   },
   "id": "79fcdac71a05a29e",
   "execution_count": null
  },
  {
   "cell_type": "code",
   "outputs": [],
   "source": [
    "!conda install -y leafly "
   ],
   "metadata": {
    "collapsed": false,
    "is_executing": true
   },
   "id": "e6e3455f14366b08",
   "execution_count": null
  },
  {
   "cell_type": "code",
   "outputs": [],
   "source": [
    "!conda install -y cartopy "
   ],
   "metadata": {
    "collapsed": false,
    "is_executing": true
   },
   "id": "50094e59a62ffb88",
   "execution_count": null
  },
  {
   "cell_type": "code",
   "outputs": [],
   "source": [
    "!conda install -y cython "
   ],
   "metadata": {
    "collapsed": false,
    "is_executing": true
   },
   "id": "13d72111056d066b",
   "execution_count": null
  },
  {
   "cell_type": "code",
   "outputs": [],
   "source": [
    "!conda install -y shapely "
   ],
   "metadata": {
    "collapsed": false,
    "is_executing": true
   },
   "id": "78a33c6250fe6ef0",
   "execution_count": null
  },
  {
   "cell_type": "code",
   "outputs": [],
   "source": [
    "!conda install -y geos "
   ],
   "metadata": {
    "collapsed": false,
    "is_executing": true
   },
   "id": "85c976d35347792b",
   "execution_count": null
  },
  {
   "cell_type": "code",
   "outputs": [],
   "source": [
    "!conda install -y pyshp "
   ],
   "metadata": {
    "collapsed": false,
    "is_executing": true
   },
   "id": "7b3b02bd5d0e0837",
   "execution_count": null
  },
  {
   "cell_type": "code",
   "outputs": [],
   "source": [
    "!conda install -y proj "
   ],
   "metadata": {
    "collapsed": false,
    "is_executing": true
   },
   "id": "4d8d15b04ea7b03f",
   "execution_count": null
  },
  {
   "cell_type": "code",
   "outputs": [],
   "source": [
    "!conda install -y six "
   ],
   "metadata": {
    "collapsed": false,
    "is_executing": true
   },
   "id": "e174257dae288b9c",
   "execution_count": null
  },
  {
   "cell_type": "code",
   "outputs": [],
   "source": [
    "!conda install -y altair "
   ],
   "metadata": {
    "collapsed": false,
    "is_executing": true
   },
   "id": "5b2e961f77a33799",
   "execution_count": null
  },
  {
   "cell_type": "code",
   "outputs": [],
   "source": [
    "!conda install -y bokeh "
   ],
   "metadata": {
    "collapsed": false,
    "is_executing": true
   },
   "id": "103b5953351dc61e",
   "execution_count": null
  },
  {
   "cell_type": "code",
   "outputs": [],
   "source": [
    "!conda install -y pygal "
   ],
   "metadata": {
    "collapsed": false,
    "is_executing": true
   },
   "id": "5f153d6706f6c21f",
   "execution_count": null
  },
  {
   "cell_type": "code",
   "outputs": [],
   "source": [
    "!conda install -y geoplotlib "
   ],
   "metadata": {
    "collapsed": false,
    "is_executing": true
   },
   "id": "e6af963e8d5ff256",
   "execution_count": null
  },
  {
   "cell_type": "code",
   "outputs": [],
   "source": [
    "!conda install -y folium "
   ],
   "metadata": {
    "collapsed": false,
    "is_executing": true
   },
   "id": "39da3a8b76612098",
   "execution_count": null
  },
  {
   "cell_type": "code",
   "outputs": [],
   "source": [
    "!conda install -y gleam "
   ],
   "metadata": {
    "collapsed": false,
    "is_executing": true
   },
   "id": "b5732a11312b0a2d",
   "execution_count": null
  }
 ],
 "metadata": {
  "kernelspec": {
   "display_name": "Python 3",
   "language": "python",
   "name": "python3"
  },
  "language_info": {
   "codemirror_mode": {
    "name": "ipython",
    "version": 2
   },
   "file_extension": ".py",
   "mimetype": "text/x-python",
   "name": "python",
   "nbconvert_exporter": "python",
   "pygments_lexer": "ipython2",
   "version": "2.7.6"
  }
 },
 "nbformat": 4,
 "nbformat_minor": 5
}
