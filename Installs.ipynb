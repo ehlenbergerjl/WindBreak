{
 "cells": [
  {
   "cell_type": "code",
   "outputs": [
    {
     "name": "stdout",
     "output_type": "stream",
     "text": [
      "# conda environments:\n",
      "#\n",
      "base                  *  C:\\ProgramData\\anaconda3\n",
      "CS5245                   C:\\ProgramData\\anaconda3\\envs\\CS5245\n",
      "WindBreaks               C:\\ProgramData\\anaconda3\\envs\\WindBreaks\n"
     ]
    }
   ],
   "source": [
    "!conda info --envs"
   ],
   "metadata": {
    "collapsed": false,
    "ExecuteTime": {
     "end_time": "2024-03-09T01:49:49.208577Z",
     "start_time": "2024-03-09T01:49:43.679676Z"
    }
   },
   "id": "30300cc343b478b5",
   "execution_count": 9
  },
  {
   "cell_type": "code",
   "outputs": [
    {
     "name": "stdout",
     "output_type": "stream",
     "text": [
      "C:\\ProgramData\\anaconda3\\Library\\bin\\conda.bat\n",
      "C:\\ProgramData\\anaconda3\\Scripts\\conda.exe\n",
      "C:\\Program Files\\ArcGIS\\Pro\\bin\\Python\\condabin\\conda.bat\n"
     ]
    }
   ],
   "source": [
    "!where conda"
   ],
   "metadata": {
    "collapsed": false,
    "ExecuteTime": {
     "end_time": "2024-03-09T01:49:49.468522Z",
     "start_time": "2024-03-09T01:49:49.212102Z"
    }
   },
   "id": "4baeefcbb8c9202a",
   "execution_count": 10
  },
  {
   "cell_type": "code",
   "outputs": [
    {
     "name": "stdout",
     "output_type": "stream",
     "text": [
      "C:\\ProgramData\\anaconda3\\python.exe\n",
      "C:\\Program Files\\Python312\\python.exe\n",
      "C:\\Users\\excehl.LAPTOP-RF0HPLKT\\AppData\\Local\\Microsoft\\WindowsApps\\python.exe\n"
     ]
    }
   ],
   "source": [
    "!where python"
   ],
   "metadata": {
    "collapsed": false,
    "ExecuteTime": {
     "end_time": "2024-03-09T01:49:49.706478Z",
     "start_time": "2024-03-09T01:49:49.470839Z"
    }
   },
   "id": "ae6877053706ce3f",
   "execution_count": 11
  },
  {
   "cell_type": "code",
   "outputs": [
    {
     "name": "stdout",
     "output_type": "stream",
     "text": [
      "Python 3.11.5\n"
     ]
    }
   ],
   "source": [
    "!python --version"
   ],
   "metadata": {
    "collapsed": false,
    "ExecuteTime": {
     "end_time": "2024-03-09T01:49:49.809965Z",
     "start_time": "2024-03-09T01:49:49.708748Z"
    }
   },
   "id": "3ad80f95cb042dad",
   "execution_count": 12
  },
  {
   "cell_type": "code",
   "outputs": [
    {
     "name": "stdout",
     "output_type": "stream",
     "text": [
      "Channels:\n",
      " - defaults\n",
      "Platform: win-64\n",
      "Collecting package metadata (repodata.json): ...working... done\n",
      "Solving environment: ...working... done\n",
      "\n",
      "# All requested packages already installed.\n"
     ]
    },
    {
     "name": "stderr",
     "output_type": "stream",
     "text": [
      "DEBUG:urllib3.connectionpool:Starting new HTTPS connection (1): repo.anaconda.com:443\n",
      "DEBUG:urllib3.connectionpool:Starting new HTTPS connection (1): repo.anaconda.com:443\n",
      "DEBUG:urllib3.connectionpool:Starting new HTTPS connection (1): repo.anaconda.com:443\n",
      "DEBUG:urllib3.connectionpool:Starting new HTTPS connection (1): repo.anaconda.com:443\n",
      "DEBUG:urllib3.connectionpool:Starting new HTTPS connection (1): repo.anaconda.com:443\n",
      "DEBUG:urllib3.connectionpool:Starting new HTTPS connection (1): repo.anaconda.com:443\n",
      "DEBUG:urllib3.connectionpool:https://repo.anaconda.com:443 \"GET /pkgs/msys2/win-64/repodata.json HTTP/1.1\" 304 0\n",
      "DEBUG:urllib3.connectionpool:https://repo.anaconda.com:443 \"GET /pkgs/r/win-64/repodata.json HTTP/1.1\" 304 0\n",
      "DEBUG:urllib3.connectionpool:https://repo.anaconda.com:443 \"GET /pkgs/r/noarch/repodata.json HTTP/1.1\" 304 0\n",
      "DEBUG:urllib3.connectionpool:https://repo.anaconda.com:443 \"GET /pkgs/msys2/noarch/repodata.json HTTP/1.1\" 304 0\n",
      "DEBUG:urllib3.connectionpool:https://repo.anaconda.com:443 \"GET /pkgs/main/noarch/repodata.json HTTP/1.1\" 304 0\n",
      "DEBUG:urllib3.connectionpool:https://repo.anaconda.com:443 \"GET /pkgs/main/win-64/repodata.json HTTP/1.1\" 304 0\n"
     ]
    }
   ],
   "source": [
    "!conda update -n base conda"
   ],
   "metadata": {
    "collapsed": false,
    "ExecuteTime": {
     "end_time": "2024-03-09T01:50:41.619975Z",
     "start_time": "2024-03-09T01:49:49.812193Z"
    }
   },
   "id": "862be075b8df0e75",
   "execution_count": 13
  },
  {
   "cell_type": "code",
   "outputs": [
    {
     "name": "stderr",
     "output_type": "stream",
     "text": [
      "\n",
      "PackageNotInstalledError: Package is not installed in prefix.\n",
      "  prefix: C:\\ProgramData\\anaconda3\n",
      "  package name: anaconda\n",
      "\n",
      "\n"
     ]
    }
   ],
   "source": [
    "!conda active base conda"
   ],
   "metadata": {
    "collapsed": false,
    "ExecuteTime": {
     "end_time": "2024-03-09T01:50:52.822443Z",
     "start_time": "2024-03-09T01:50:41.622265Z"
    }
   },
   "id": "4177a0a3c07a179e",
   "execution_count": 14
  },
  {
   "cell_type": "code",
   "outputs": [
    {
     "name": "stderr",
     "output_type": "stream",
     "text": [
      "\n",
      "CondaValueError: no package names supplied\n",
      "# Example: conda update -n myenv scipy\n",
      "\n",
      "\n"
     ]
    }
   ],
   "source": [
    "!python --version"
   ],
   "metadata": {
    "collapsed": false,
    "ExecuteTime": {
     "end_time": "2024-03-09T01:50:56.134584Z",
     "start_time": "2024-03-09T01:50:52.823546Z"
    }
   },
   "id": "bb0bfe8bc1ce29ed",
   "execution_count": 15
  },
  {
   "cell_type": "code",
   "outputs": [],
   "source": [
    "!conda install -y pip==24.0"
   ],
   "metadata": {
    "collapsed": false,
    "is_executing": true
   },
   "id": "751a4598dab873aa",
   "execution_count": null
  },
  {
   "cell_type": "code",
   "outputs": [
    {
     "name": "stdout",
     "output_type": "stream",
     "text": [
      "^C\n"
     ]
    }
   ],
   "source": [
    "# !conda install -y jupyter "
   ],
   "metadata": {
    "collapsed": false,
    "ExecuteTime": {
     "end_time": "2024-03-09T01:51:06.795448Z",
     "start_time": "2024-03-09T01:50:57.918885Z"
    }
   },
   "id": "19434d40a21898b3",
   "execution_count": 17
  },
  {
   "cell_type": "code",
   "outputs": [
    {
     "name": "stdout",
     "output_type": "stream",
     "text": [
      "Channels:\n",
      " - defaults\n",
      "Platform: win-64\n",
      "Collecting package metadata (repodata.json): ...working... done\n",
      "Solving environment: ...working... done\n",
      "\n",
      "## Package Plan ##\n",
      "\n",
      "  environment location: C:\\ProgramData\\anaconda3\n",
      "\n",
      "  added / updated specs:\n",
      "    - jupyter\n",
      "\n",
      "\n",
      "The following packages will be downloaded:\n",
      "\n",
      "    package                    |            build\n",
      "    ---------------------------|-----------------\n",
      "    jupyter-1.0.0              |  py311haa95532_9           8 KB\n",
      "    ------------------------------------------------------------\n",
      "                                           Total:           8 KB\n",
      "\n",
      "The following packages will be UPDATED:\n",
      "\n",
      "  jupyter                             1.0.0-py311haa95532_8 --> 1.0.0-py311haa95532_9 \n",
      "\n",
      "\n",
      "\n",
      "Downloading and Extracting Packages: ...working... done\n",
      "Preparing transaction: ...working... done\n",
      "Verifying transaction: ...working... done\n",
      "Executing transaction: ...working... done\n"
     ]
    },
    {
     "name": "stderr",
     "output_type": "stream",
     "text": [
      "DEBUG:urllib3.connectionpool:Starting new HTTPS connection (1): repo.anaconda.com:443\n",
      "DEBUG:urllib3.connectionpool:Starting new HTTPS connection (1): repo.anaconda.com:443\n",
      "DEBUG:urllib3.connectionpool:Starting new HTTPS connection (1): repo.anaconda.com:443\n",
      "DEBUG:urllib3.connectionpool:Starting new HTTPS connection (1): repo.anaconda.com:443\n",
      "DEBUG:urllib3.connectionpool:Starting new HTTPS connection (1): repo.anaconda.com:443\n",
      "DEBUG:urllib3.connectionpool:Starting new HTTPS connection (1): repo.anaconda.com:443\n",
      "DEBUG:urllib3.connectionpool:https://repo.anaconda.com:443 \"GET /pkgs/msys2/win-64/repodata.json HTTP/1.1\" 304 0\n",
      "DEBUG:urllib3.connectionpool:https://repo.anaconda.com:443 \"GET /pkgs/main/win-64/repodata.json HTTP/1.1\" 304 0\n",
      "DEBUG:urllib3.connectionpool:https://repo.anaconda.com:443 \"GET /pkgs/main/noarch/repodata.json HTTP/1.1\" 304 0\n",
      "DEBUG:urllib3.connectionpool:https://repo.anaconda.com:443 \"GET /pkgs/r/noarch/repodata.json HTTP/1.1\" 304 0\n",
      "DEBUG:urllib3.connectionpool:https://repo.anaconda.com:443 \"GET /pkgs/r/win-64/repodata.json HTTP/1.1\" 304 0\n",
      "DEBUG:urllib3.connectionpool:https://repo.anaconda.com:443 \"GET /pkgs/msys2/noarch/repodata.json HTTP/1.1\" 304 0\n",
      "DEBUG:urllib3.connectionpool:Starting new HTTPS connection (1): repo.anaconda.com:443\n",
      "DEBUG:urllib3.connectionpool:https://repo.anaconda.com:443 \"GET /pkgs/main/win-64/jupyter-1.0.0-py311haa95532_9.conda HTTP/1.1\" 200 8492\n"
     ]
    },
    {
     "name": "stdout",
     "output_type": "stream",
     "text": [
      "Channels:\n",
      " - defaults\n",
      "Platform: win-64\n",
      "Collecting package metadata (repodata.json): ...working... done\n",
      "Solving environment: ...working... done\n",
      "\n",
      "# All requested packages already installed.\n"
     ]
    }
   ],
   "source": [
    "!conda install -y matplotlib "
   ],
   "metadata": {
    "collapsed": true,
    "ExecuteTime": {
     "end_time": "2024-03-09T01:52:06.340768Z",
     "start_time": "2024-03-09T01:51:06.802308Z"
    }
   },
   "id": "initial_id",
   "execution_count": 18
  },
  {
   "cell_type": "code",
   "outputs": [
    {
     "name": "stdout",
     "output_type": "stream",
     "text": [
      "Channels:\n",
      " - defaults\n",
      "Platform: win-64\n",
      "Collecting package metadata (repodata.json): ...working... done\n",
      "Solving environment: ...working... done\n",
      "\n",
      "## Package Plan ##\n",
      "\n",
      "  environment location: C:\\ProgramData\\anaconda3\n",
      "\n",
      "  added / updated specs:\n",
      "    - numpy\n",
      "\n",
      "\n",
      "The following packages will be downloaded:\n",
      "\n",
      "    package                    |            build\n",
      "    ---------------------------|-----------------\n",
      "    numpy-1.26.4               |  py311hdab7c0b_0          11 KB\n",
      "    numpy-base-1.26.4          |  py311hd01c5d8_0         9.1 MB\n",
      "    ------------------------------------------------------------\n",
      "                                           Total:         9.1 MB\n",
      "\n",
      "The following packages will be UPDATED:\n",
      "\n",
      "  numpy                              1.26.2-py311hdab7c0b_0 --> 1.26.4-py311hdab7c0b_0 \n",
      "  numpy-base                         1.26.2-py311hd01c5d8_0 --> 1.26.4-py311hd01c5d8_0 \n",
      "\n",
      "\n",
      "\n",
      "Downloading and Extracting Packages: ...working... done\n",
      "Preparing transaction: ...working... done\n",
      "Verifying transaction: ...working... done\n",
      "Executing transaction: ...working... done\n"
     ]
    },
    {
     "name": "stderr",
     "output_type": "stream",
     "text": [
      "DEBUG:urllib3.connectionpool:Starting new HTTPS connection (1): repo.anaconda.com:443\n",
      "DEBUG:urllib3.connectionpool:Starting new HTTPS connection (1): repo.anaconda.com:443\n",
      "DEBUG:urllib3.connectionpool:Starting new HTTPS connection (1): repo.anaconda.com:443\n",
      "DEBUG:urllib3.connectionpool:Starting new HTTPS connection (1): repo.anaconda.com:443\n",
      "DEBUG:urllib3.connectionpool:Starting new HTTPS connection (1): repo.anaconda.com:443\n",
      "DEBUG:urllib3.connectionpool:Starting new HTTPS connection (1): repo.anaconda.com:443\n",
      "DEBUG:urllib3.connectionpool:https://repo.anaconda.com:443 \"GET /pkgs/r/win-64/repodata.json HTTP/1.1\" 304 0\n",
      "DEBUG:urllib3.connectionpool:https://repo.anaconda.com:443 \"GET /pkgs/main/noarch/repodata.json HTTP/1.1\" 304 0\n",
      "DEBUG:urllib3.connectionpool:https://repo.anaconda.com:443 \"GET /pkgs/main/win-64/repodata.json HTTP/1.1\" 304 0\n",
      "DEBUG:urllib3.connectionpool:https://repo.anaconda.com:443 \"GET /pkgs/r/noarch/repodata.json HTTP/1.1\" 304 0\n",
      "DEBUG:urllib3.connectionpool:https://repo.anaconda.com:443 \"GET /pkgs/msys2/win-64/repodata.json HTTP/1.1\" 304 0\n",
      "DEBUG:urllib3.connectionpool:https://repo.anaconda.com:443 \"GET /pkgs/msys2/noarch/repodata.json HTTP/1.1\" 304 0\n",
      "DEBUG:urllib3.connectionpool:Starting new HTTPS connection (1): repo.anaconda.com:443\n",
      "DEBUG:urllib3.connectionpool:Starting new HTTPS connection (1): repo.anaconda.com:443\n",
      "DEBUG:urllib3.connectionpool:https://repo.anaconda.com:443 \"GET /pkgs/main/win-64/numpy-base-1.26.4-py311hd01c5d8_0.conda HTTP/1.1\" 200 9534395\n",
      "DEBUG:urllib3.connectionpool:https://repo.anaconda.com:443 \"GET /pkgs/main/win-64/numpy-1.26.4-py311hdab7c0b_0.conda HTTP/1.1\" 200 11608\n"
     ]
    }
   ],
   "source": [
    "!conda install -y numpy "
   ],
   "metadata": {
    "collapsed": false,
    "ExecuteTime": {
     "end_time": "2024-03-09T01:54:15.010108Z",
     "start_time": "2024-03-09T01:53:03.978044Z"
    }
   },
   "id": "bf5029bd35e79dd1",
   "execution_count": 20
  },
  {
   "cell_type": "code",
   "outputs": [
    {
     "name": "stdout",
     "output_type": "stream",
     "text": [
      "Channels:\n",
      " - defaults\n",
      "Platform: win-64\n",
      "Collecting package metadata (repodata.json): ...working... done\n",
      "Solving environment: ...working... done\n",
      "\n",
      "## Package Plan ##\n",
      "\n",
      "  environment location: C:\\ProgramData\\anaconda3\n",
      "\n",
      "  added / updated specs:\n",
      "    - pandas\n",
      "\n",
      "\n",
      "The following packages will be downloaded:\n",
      "\n",
      "    package                    |            build\n",
      "    ---------------------------|-----------------\n",
      "    pandas-2.1.4               |  py311hf62ec03_0        13.6 MB\n",
      "    ------------------------------------------------------------\n",
      "                                           Total:        13.6 MB\n",
      "\n",
      "The following packages will be UPDATED:\n",
      "\n",
      "  pandas                              2.1.1-py311hf62ec03_0 --> 2.1.4-py311hf62ec03_0 \n",
      "\n",
      "\n",
      "\n",
      "Downloading and Extracting Packages: ...working... done\n",
      "Preparing transaction: ...working... done\n",
      "Verifying transaction: ...working... done\n",
      "Executing transaction: ...working... done\n"
     ]
    },
    {
     "name": "stderr",
     "output_type": "stream",
     "text": [
      "DEBUG:urllib3.connectionpool:Starting new HTTPS connection (1): repo.anaconda.com:443\n",
      "DEBUG:urllib3.connectionpool:Starting new HTTPS connection (1): repo.anaconda.com:443\n",
      "DEBUG:urllib3.connectionpool:Starting new HTTPS connection (1): repo.anaconda.com:443\n",
      "DEBUG:urllib3.connectionpool:Starting new HTTPS connection (1): repo.anaconda.com:443\n",
      "DEBUG:urllib3.connectionpool:Starting new HTTPS connection (1): repo.anaconda.com:443\n",
      "DEBUG:urllib3.connectionpool:Starting new HTTPS connection (1): repo.anaconda.com:443\n",
      "DEBUG:urllib3.connectionpool:https://repo.anaconda.com:443 \"GET /pkgs/msys2/win-64/repodata.json HTTP/1.1\" 304 0\n",
      "DEBUG:urllib3.connectionpool:https://repo.anaconda.com:443 \"GET /pkgs/r/noarch/repodata.json HTTP/1.1\" 304 0\n",
      "DEBUG:urllib3.connectionpool:https://repo.anaconda.com:443 \"GET /pkgs/main/win-64/repodata.json HTTP/1.1\" 304 0\n",
      "DEBUG:urllib3.connectionpool:https://repo.anaconda.com:443 \"GET /pkgs/msys2/noarch/repodata.json HTTP/1.1\" 304 0\n",
      "DEBUG:urllib3.connectionpool:https://repo.anaconda.com:443 \"GET /pkgs/main/noarch/repodata.json HTTP/1.1\" 304 0\n",
      "DEBUG:urllib3.connectionpool:https://repo.anaconda.com:443 \"GET /pkgs/r/win-64/repodata.json HTTP/1.1\" 304 0\n",
      "DEBUG:urllib3.connectionpool:Starting new HTTPS connection (1): repo.anaconda.com:443\n",
      "DEBUG:urllib3.connectionpool:https://repo.anaconda.com:443 \"GET /pkgs/main/win-64/pandas-2.1.4-py311hf62ec03_0.conda HTTP/1.1\" 200 14237645\n"
     ]
    }
   ],
   "source": [
    "!conda install -y pandas "
   ],
   "metadata": {
    "collapsed": false,
    "ExecuteTime": {
     "end_time": "2024-03-09T01:55:46.960448Z",
     "start_time": "2024-03-09T01:54:15.012285Z"
    }
   },
   "id": "6e0e9d3d18a192d0",
   "execution_count": 21
  },
  {
   "cell_type": "code",
   "outputs": [
    {
     "name": "stdout",
     "output_type": "stream",
     "text": [
      "Channels:\n",
      " - defaults\n",
      "Platform: win-64\n",
      "Collecting package metadata (repodata.json): ...working... done\n",
      "Solving environment: ...working... done\n",
      "\n",
      "## Package Plan ##\n",
      "\n",
      "  environment location: C:\\ProgramData\\anaconda3\n",
      "\n",
      "  added / updated specs:\n",
      "    - geopandas\n",
      "\n",
      "\n",
      "The following packages will be downloaded:\n",
      "\n",
      "    package                    |            build\n",
      "    ---------------------------|-----------------\n",
      "    branca-0.6.0               |  py311haa95532_0          52 KB\n",
      "    click-plugins-1.1.1        |     pyhd3eb1b0_0          10 KB\n",
      "    cligj-0.7.2                |     pyhd3eb1b0_0          11 KB\n",
      "    fiona-1.9.5                |  py311hf62ec03_0         868 KB\n",
      "    folium-0.14.0              |  py311haa95532_0         127 KB\n",
      "    freexl-2.0.0               |       hd7a5696_0          84 KB\n",
      "    gdal-3.6.2                 |  py311h4e7b5b2_4         1.8 MB\n",
      "    geopandas-0.14.2           |  py311haa95532_0           8 KB\n",
      "    geopandas-base-0.14.2      |  py311haa95532_0         1.4 MB\n",
      "    geotiff-1.7.0              |       h4545760_3         133 KB\n",
      "    libgdal-3.6.2              |       h9a21643_4         8.5 MB\n",
      "    libspatialite-5.1.0        |       hbdd3232_0         8.8 MB\n",
      "    mapclassify-2.5.0          |  py311haa95532_0          81 KB\n",
      "    minizip-4.0.3              |       hb68bac4_0          88 KB\n",
      "    proj-9.3.1                 |       ha107b6e_0         2.8 MB\n",
      "    pyproj-3.6.1               |  py311ha997c60_0         807 KB\n",
      "    shapely-2.0.1              |  py311h672afca_0         468 KB\n",
      "    ------------------------------------------------------------\n",
      "                                           Total:        26.0 MB\n",
      "\n",
      "The following NEW packages will be INSTALLED:\n",
      "\n",
      "  branca             pkgs/main/win-64::branca-0.6.0-py311haa95532_0 \n",
      "  click-plugins      pkgs/main/noarch::click-plugins-1.1.1-pyhd3eb1b0_0 \n",
      "  cligj              pkgs/main/noarch::cligj-0.7.2-pyhd3eb1b0_0 \n",
      "  fiona              pkgs/main/win-64::fiona-1.9.5-py311hf62ec03_0 \n",
      "  folium             pkgs/main/win-64::folium-0.14.0-py311haa95532_0 \n",
      "  geopandas          pkgs/main/win-64::geopandas-0.14.2-py311haa95532_0 \n",
      "  geopandas-base     pkgs/main/win-64::geopandas-base-0.14.2-py311haa95532_0 \n",
      "  mapclassify        pkgs/main/win-64::mapclassify-2.5.0-py311haa95532_0 \n",
      "  minizip            pkgs/main/win-64::minizip-4.0.3-hb68bac4_0 \n",
      "  pyproj             pkgs/main/win-64::pyproj-3.6.1-py311ha997c60_0 \n",
      "  shapely            pkgs/main/win-64::shapely-2.0.1-py311h672afca_0 \n",
      "\n",
      "The following packages will be UPDATED:\n",
      "\n",
      "  freexl                                   1.0.6-h2bbff1b_0 --> 2.0.0-hd7a5696_0 \n",
      "  gdal                                3.6.2-py311h4e7b5b2_3 --> 3.6.2-py311h4e7b5b2_4 \n",
      "  geotiff                                  1.7.0-h4545760_1 --> 1.7.0-h4545760_3 \n",
      "  libgdal                                  3.6.2-h676b171_3 --> 3.6.2-h9a21643_4 \n",
      "  libspatialite                          4.3.0a-h6ec8781_23 --> 5.1.0-hbdd3232_0 \n",
      "  proj                                     6.2.1-h3758d61_0 --> 9.3.1-ha107b6e_0 \n",
      "  xz                                       5.4.2-h8cc25b3_0 --> 5.4.6-h8cc25b3_0 \n",
      "\n",
      "\n",
      "\n",
      "Downloading and Extracting Packages: ...working... done\n",
      "Preparing transaction: ...working... done\n",
      "Verifying transaction: ...working... done\n",
      "Executing transaction: ...working... done\n"
     ]
    },
    {
     "name": "stderr",
     "output_type": "stream",
     "text": [
      "DEBUG:urllib3.connectionpool:Starting new HTTPS connection (1): repo.anaconda.com:443\n",
      "DEBUG:urllib3.connectionpool:Starting new HTTPS connection (1): repo.anaconda.com:443\n",
      "DEBUG:urllib3.connectionpool:Starting new HTTPS connection (1): repo.anaconda.com:443\n",
      "DEBUG:urllib3.connectionpool:Starting new HTTPS connection (1): repo.anaconda.com:443\n",
      "DEBUG:urllib3.connectionpool:Starting new HTTPS connection (1): repo.anaconda.com:443\n",
      "DEBUG:urllib3.connectionpool:Starting new HTTPS connection (1): repo.anaconda.com:443\n",
      "DEBUG:urllib3.connectionpool:https://repo.anaconda.com:443 \"GET /pkgs/r/win-64/repodata.json HTTP/1.1\" 304 0\n",
      "DEBUG:urllib3.connectionpool:https://repo.anaconda.com:443 \"GET /pkgs/main/win-64/repodata.json HTTP/1.1\" 304 0\n",
      "DEBUG:urllib3.connectionpool:https://repo.anaconda.com:443 \"GET /pkgs/main/noarch/repodata.json HTTP/1.1\" 304 0\n",
      "DEBUG:urllib3.connectionpool:https://repo.anaconda.com:443 \"GET /pkgs/r/noarch/repodata.json HTTP/1.1\" 304 0\n",
      "DEBUG:urllib3.connectionpool:https://repo.anaconda.com:443 \"GET /pkgs/msys2/noarch/repodata.json HTTP/1.1\" 304 0\n",
      "DEBUG:urllib3.connectionpool:https://repo.anaconda.com:443 \"GET /pkgs/msys2/win-64/repodata.json HTTP/1.1\" 304 0\n",
      "DEBUG:urllib3.connectionpool:Starting new HTTPS connection (1): repo.anaconda.com:443\n",
      "DEBUG:urllib3.connectionpool:Starting new HTTPS connection (1): repo.anaconda.com:443\n",
      "DEBUG:urllib3.connectionpool:Starting new HTTPS connection (1): repo.anaconda.com:443\n",
      "DEBUG:urllib3.connectionpool:Starting new HTTPS connection (1): repo.anaconda.com:443\n",
      "DEBUG:urllib3.connectionpool:Starting new HTTPS connection (1): repo.anaconda.com:443\n",
      "DEBUG:urllib3.connectionpool:https://repo.anaconda.com:443 \"GET /pkgs/main/win-64/libgdal-3.6.2-h9a21643_4.conda HTTP/1.1\" 200 8940842\n",
      "DEBUG:urllib3.connectionpool:https://repo.anaconda.com:443 \"GET /pkgs/main/win-64/proj-9.3.1-ha107b6e_0.conda HTTP/1.1\" 200 2972623\n",
      "DEBUG:urllib3.connectionpool:https://repo.anaconda.com:443 \"GET /pkgs/main/win-64/libspatialite-5.1.0-hbdd3232_0.conda HTTP/1.1\" 200 9190963\n",
      "DEBUG:urllib3.connectionpool:https://repo.anaconda.com:443 \"GET /pkgs/main/noarch/click-plugins-1.1.1-pyhd3eb1b0_0.conda HTTP/1.1\" 200 10272\n",
      "DEBUG:urllib3.connectionpool:https://repo.anaconda.com:443 \"GET /pkgs/main/win-64/pyproj-3.6.1-py311ha997c60_0.conda HTTP/1.1\" 200 826502\n",
      "DEBUG:urllib3.connectionpool:https://repo.anaconda.com:443 \"GET /pkgs/main/win-64/geopandas-base-0.14.2-py311haa95532_0.conda HTTP/1.1\" 200 1449477\n",
      "DEBUG:urllib3.connectionpool:https://repo.anaconda.com:443 \"GET /pkgs/main/win-64/branca-0.6.0-py311haa95532_0.conda HTTP/1.1\" 200 52862\n",
      "DEBUG:urllib3.connectionpool:https://repo.anaconda.com:443 \"GET /pkgs/main/win-64/minizip-4.0.3-hb68bac4_0.conda HTTP/1.1\" 200 90563\n",
      "DEBUG:urllib3.connectionpool:https://repo.anaconda.com:443 \"GET /pkgs/main/win-64/mapclassify-2.5.0-py311haa95532_0.conda HTTP/1.1\" 200 82556\n",
      "DEBUG:urllib3.connectionpool:https://repo.anaconda.com:443 \"GET /pkgs/main/win-64/geopandas-0.14.2-py311haa95532_0.conda HTTP/1.1\" 200 7870\n",
      "DEBUG:urllib3.connectionpool:https://repo.anaconda.com:443 \"GET /pkgs/main/win-64/geotiff-1.7.0-h4545760_3.conda HTTP/1.1\" 200 135844\n",
      "DEBUG:urllib3.connectionpool:https://repo.anaconda.com:443 \"GET /pkgs/main/noarch/cligj-0.7.2-pyhd3eb1b0_0.conda HTTP/1.1\" 200 11206\n",
      "DEBUG:urllib3.connectionpool:https://repo.anaconda.com:443 \"GET /pkgs/main/win-64/folium-0.14.0-py311haa95532_0.conda HTTP/1.1\" 200 130500\n",
      "DEBUG:urllib3.connectionpool:https://repo.anaconda.com:443 \"GET /pkgs/main/win-64/shapely-2.0.1-py311h672afca_0.conda HTTP/1.1\" 200 479732\n",
      "DEBUG:urllib3.connectionpool:https://repo.anaconda.com:443 \"GET /pkgs/main/win-64/gdal-3.6.2-py311h4e7b5b2_4.conda HTTP/1.1\" 200 1898035\n",
      "DEBUG:urllib3.connectionpool:https://repo.anaconda.com:443 \"GET /pkgs/main/win-64/freexl-2.0.0-hd7a5696_0.conda HTTP/1.1\" 200 85519\n",
      "DEBUG:urllib3.connectionpool:https://repo.anaconda.com:443 \"GET /pkgs/main/win-64/fiona-1.9.5-py311hf62ec03_0.conda HTTP/1.1\" 200 888714\n"
     ]
    }
   ],
   "source": [
    "!conda install -y geopandas "
   ],
   "metadata": {
    "collapsed": false,
    "ExecuteTime": {
     "end_time": "2024-03-09T01:57:17.919184Z",
     "start_time": "2024-03-09T01:55:46.964475Z"
    }
   },
   "id": "5e88c446a2847b37",
   "execution_count": 22
  },
  {
   "cell_type": "code",
   "outputs": [
    {
     "name": "stdout",
     "output_type": "stream",
     "text": [
      "Channels:\n",
      " - defaults\n",
      "Platform: win-64\n",
      "Collecting package metadata (repodata.json): ...working... done\n",
      "Solving environment: ...working... done\n",
      "\n",
      "# All requested packages already installed.\n"
     ]
    }
   ],
   "source": [
    "!conda install -y seaborn "
   ],
   "metadata": {
    "collapsed": false,
    "ExecuteTime": {
     "end_time": "2024-03-09T01:58:18.586947Z",
     "start_time": "2024-03-09T01:57:17.925202Z"
    }
   },
   "id": "876f91ebc4709478",
   "execution_count": 23
  },
  {
   "cell_type": "code",
   "outputs": [],
   "source": [
    "!conda install -y rasterio "
   ],
   "metadata": {
    "collapsed": false,
    "is_executing": true,
    "ExecuteTime": {
     "start_time": "2024-03-09T01:58:18.589293Z"
    }
   },
   "id": "22e93cbfce2606b9",
   "execution_count": null
  },
  {
   "cell_type": "code",
   "outputs": [],
   "source": [
    "!conda install -y rasterstats "
   ],
   "metadata": {
    "collapsed": false,
    "is_executing": true
   },
   "id": "ac07983f172d2fd3",
   "execution_count": null
  },
  {
   "cell_type": "code",
   "outputs": [],
   "source": [
    "!conda install -y plotly "
   ],
   "metadata": {
    "collapsed": false,
    "is_executing": true
   },
   "id": "daf0959a97aa52c9",
   "execution_count": null
  },
  {
   "cell_type": "code",
   "outputs": [],
   "source": [
    "!conda install -y geoplot "
   ],
   "metadata": {
    "collapsed": false,
    "is_executing": true
   },
   "id": "8af4f750bac36a26",
   "execution_count": null
  },
  {
   "cell_type": "code",
   "outputs": [],
   "source": [
    "!conda install -y ggplot "
   ],
   "metadata": {
    "collapsed": false,
    "is_executing": true
   },
   "id": "79fcdac71a05a29e",
   "execution_count": null
  },
  {
   "cell_type": "code",
   "outputs": [],
   "source": [
    "!conda install -y leafly "
   ],
   "metadata": {
    "collapsed": false,
    "is_executing": true
   },
   "id": "e6e3455f14366b08",
   "execution_count": null
  },
  {
   "cell_type": "code",
   "outputs": [],
   "source": [
    "!conda install -y cartopy "
   ],
   "metadata": {
    "collapsed": false,
    "is_executing": true
   },
   "id": "50094e59a62ffb88",
   "execution_count": null
  },
  {
   "cell_type": "code",
   "outputs": [],
   "source": [
    "!conda install -y cython "
   ],
   "metadata": {
    "collapsed": false,
    "is_executing": true
   },
   "id": "13d72111056d066b",
   "execution_count": null
  },
  {
   "cell_type": "code",
   "outputs": [],
   "source": [
    "!conda install -y shapely "
   ],
   "metadata": {
    "collapsed": false,
    "is_executing": true
   },
   "id": "78a33c6250fe6ef0",
   "execution_count": null
  },
  {
   "cell_type": "code",
   "outputs": [],
   "source": [
    "!conda install -y geos "
   ],
   "metadata": {
    "collapsed": false,
    "is_executing": true
   },
   "id": "85c976d35347792b",
   "execution_count": null
  },
  {
   "cell_type": "code",
   "outputs": [],
   "source": [
    "!conda install -y pyshp "
   ],
   "metadata": {
    "collapsed": false,
    "is_executing": true
   },
   "id": "7b3b02bd5d0e0837",
   "execution_count": null
  },
  {
   "cell_type": "code",
   "outputs": [],
   "source": [
    "!conda install -y proj "
   ],
   "metadata": {
    "collapsed": false,
    "is_executing": true
   },
   "id": "4d8d15b04ea7b03f",
   "execution_count": null
  },
  {
   "cell_type": "code",
   "outputs": [],
   "source": [
    "!conda install -y six "
   ],
   "metadata": {
    "collapsed": false,
    "is_executing": true
   },
   "id": "e174257dae288b9c",
   "execution_count": null
  },
  {
   "cell_type": "code",
   "outputs": [],
   "source": [
    "!conda install -y altair "
   ],
   "metadata": {
    "collapsed": false,
    "is_executing": true
   },
   "id": "5b2e961f77a33799",
   "execution_count": null
  },
  {
   "cell_type": "code",
   "outputs": [],
   "source": [
    "!conda install -y bokeh "
   ],
   "metadata": {
    "collapsed": false,
    "is_executing": true
   },
   "id": "103b5953351dc61e",
   "execution_count": null
  },
  {
   "cell_type": "code",
   "outputs": [],
   "source": [
    "!conda install -y pygal "
   ],
   "metadata": {
    "collapsed": false,
    "is_executing": true
   },
   "id": "5f153d6706f6c21f",
   "execution_count": null
  },
  {
   "cell_type": "code",
   "outputs": [],
   "source": [
    "!conda install -y geoplotlib "
   ],
   "metadata": {
    "collapsed": false,
    "is_executing": true
   },
   "id": "e6af963e8d5ff256",
   "execution_count": null
  },
  {
   "cell_type": "code",
   "outputs": [],
   "source": [
    "!conda install -y folium "
   ],
   "metadata": {
    "collapsed": false,
    "is_executing": true
   },
   "id": "39da3a8b76612098",
   "execution_count": null
  },
  {
   "cell_type": "code",
   "outputs": [],
   "source": [
    "!conda install -y gleam "
   ],
   "metadata": {
    "collapsed": false,
    "is_executing": true
   },
   "id": "b5732a11312b0a2d",
   "execution_count": null
  }
 ],
 "metadata": {
  "kernelspec": {
   "display_name": "Python 3",
   "language": "python",
   "name": "python3"
  },
  "language_info": {
   "codemirror_mode": {
    "name": "ipython",
    "version": 2
   },
   "file_extension": ".py",
   "mimetype": "text/x-python",
   "name": "python",
   "nbconvert_exporter": "python",
   "pygments_lexer": "ipython2",
   "version": "2.7.6"
  }
 },
 "nbformat": 4,
 "nbformat_minor": 5
}
