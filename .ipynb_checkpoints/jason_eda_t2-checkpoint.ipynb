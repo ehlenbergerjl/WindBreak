{
 "cells": [
  {
   "cell_type": "markdown",
   "id": "554985b5bcce07c",
   "metadata": {
    "collapsed": false
   },
   "source": [
    "# EXPLORATORY DATA ANALYSIS\n",
    "1) Describe the Data\n",
    "2) Trends\n",
    "3) Summary tables\n",
    "4) drop unneeded columns\n",
    "5) drop duplicates\n",
    "6) drop outliers\n",
    " \n",
    "## Update from Bhuwan & possible tasks for next week and beyond: (3/30/2024)\n",
    "### * Task 2 - Mean monthly wind speed (netcdf data)\n",
    "  - Considering the time constraints, let’s use the mean monthly wind speed data from [this folder](https://drive.google.com/drive/folders/1zxvOB6XwXkiOWh1QhQyzTEd5VrL87Puw?usp=drive_link).\n",
    "  - The data source is [climatologylab.org](https://www.climatologylab.org/gridmet.html) \n",
    "  - Pick any one year and do the analysis, (1) spatial and temporal trends of wind speed in the study area, (2) its relationship with crop loss (correlation coefficient).  "
   ]
  },
  {
   "cell_type": "markdown",
   "id": "cfc1f96ad46d24f5",
   "metadata": {
    "collapsed": false
   },
   "source": [
    "# Prepare the EDA Environment"
   ]
  },
  {
   "cell_type": "code",
   "execution_count": null,
   "id": "a767be803300aecb",
   "metadata": {
    "collapsed": false
   },
   "outputs": [],
   "source": [
    "import os\n",
    "\n",
    "run_files = []\n",
    "\n",
    "\n",
    "def run_and_store(file):\n",
    "    get_ipython().run_line_magic(\"run\", file)\n",
    "    # Store the filename without extension\n",
    "    run_files.append(os.path.splitext(file)[0])\n",
    "\n",
    "\n",
    "run_and_store('./windbreaks_helpers.ipynb')\n",
    "print_message()\n",
    "run_and_store('./eda_imports.ipynb')\n",
    "print_message()\n"
   ]
  },
  {
   "cell_type": "code",
   "outputs": [],
   "source": [
    "# Variables from Task 1\n",
    "load_nb_vars('jason_eda_t1')"
   ],
   "metadata": {
    "collapsed": false
   },
   "id": "fc95b71945dc61b1",
   "execution_count": null
  },
  {
   "cell_type": "code",
   "execution_count": null,
   "id": "be92c728dd565a1d",
   "metadata": {
    "collapsed": false
   },
   "outputs": [],
   "source": [
    "# Set up Bokeh to display plots inline in the notebook.\n",
    "output_notebook(INLINE)\n",
    "hv.extension('bokeh')\n",
    "%matplotlib inline"
   ]
  },
  {
   "cell_type": "code",
   "outputs": [],
   "source": [
    "# Us Jupyter magik to list all variables and function loaded in the interactive workspace\n",
    "%whos"
   ],
   "metadata": {
    "collapsed": false
   },
   "id": "5b7e2ff848f935e2",
   "execution_count": null
  }
 ],
 "metadata": {
  "kernelspec": {
   "display_name": "WindBreaks",
   "language": "python",
   "name": "windbreaks"
  },
  "language_info": {
   "codemirror_mode": {
    "name": "ipython",
    "version": 3
   },
   "file_extension": ".py",
   "mimetype": "text/x-python",
   "name": "python",
   "nbconvert_exporter": "python",
   "pygments_lexer": "ipython3",
   "version": "3.11.5"
  }
 },
 "nbformat": 4,
 "nbformat_minor": 5
}
