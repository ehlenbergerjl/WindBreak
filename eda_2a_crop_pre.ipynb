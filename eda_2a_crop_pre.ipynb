{
 "cells": [
  {
   "metadata": {
    "ExecuteTime": {
     "end_time": "2024-04-12T00:25:48.823272Z",
     "start_time": "2024-04-12T00:25:48.809775Z"
    }
   },
   "cell_type": "code",
   "source": [
    "import sys\n",
    "import os\n",
    "import types\n",
    "import warnings\n",
    "import glob\n",
    "import regex as re\n",
    "import netCDF4 as nc\n",
    "import rasterio\n",
    "import numpy as np\n",
    "import xarray as xr\n",
    "import hvplot.xarray\n",
    "import holoviews as hv\n",
    "import pandas as pd\n",
    "import seaborn as sns\n",
    "import matplotlib.pyplot as plt\n",
    "import geopandas as gpd\n",
    "import cartopy.crs as ccrs\n",
    "import cartopy.feature as cf\n",
    "import ipywidgets as widgets\n",
    "import matplotlib.ticker as mticker\n",
    "import chardet\n",
    "import pyperclip\n",
    "from geopandas import GeoDataFrame\n",
    "from shapely.geometry import Point\n",
    "from bokeh.io import output_notebook, show\n",
    "from bokeh.resources import INLINE\n",
    "from rasterio.transform import from_origin\n",
    "from rasterstats import zonal_stats\n",
    "from shapely.geometry import LineString\n",
    "from matplotlib.path import Path\n",
    "from matplotlib.colors import Normalize\n",
    "from netCDF4 import Dataset\n",
    "from pyproj import CRS\n",
    "from IPython.display import display\n",
    "from cartopy.mpl.gridliner import LONGITUDE_FORMATTER, LATITUDE_FORMATTER\n",
    "from _windbreaks_helpers import *"
   ],
   "id": "90db4626e4e690a4",
   "outputs": [],
   "execution_count": 7
  },
  {
   "metadata": {
    "ExecuteTime": {
     "end_time": "2024-04-12T00:25:50.370310Z",
     "start_time": "2024-04-12T00:25:50.233371Z"
    }
   },
   "cell_type": "code",
   "source": [
    "warnings.filterwarnings('ignore')\n",
    "warnings.filterwarnings('ignore')\n",
    "%store -r src_dir\n",
    "%store -r extent_coords\n",
    "%store -r ksne_data\n",
    "# %store -r stormbuf_gdf\n",
    "%store -r ksne_gdf\n",
    "# %store -r crop_cvr_gdf\n",
    "%store -r ksne_se_count_gdf"
   ],
   "id": "a73828d657a2a1be",
   "outputs": [],
   "execution_count": 8
  },
  {
   "metadata": {},
   "cell_type": "markdown",
   "source": "## Set data source variables",
   "id": "2d0f83f98d5f0fbc"
  },
  {
   "metadata": {
    "ExecuteTime": {
     "end_time": "2024-04-11T01:49:47.915575Z",
     "start_time": "2024-04-11T01:49:47.897206Z"
    }
   },
   "cell_type": "code",
   "source": [
    "# Path to the directory\n",
    "directory = 'Data'\n",
    "\n",
    "# Check if the directory exists\n",
    "if os.path.isdir(directory):\n",
    "    src_dir = directory\n",
    "else:\n",
    "    src_dir = None\n",
    "\n",
    "print(src_dir)\n",
    "%store src_dir"
   ],
   "id": "56610f6d822d4111",
   "outputs": [
    {
     "name": "stdout",
     "output_type": "stream",
     "text": [
      "Data\n",
      "Stored 'src_dir' (str)\n"
     ]
    }
   ],
   "execution_count": 3
  },
  {
   "metadata": {},
   "cell_type": "markdown",
   "source": "# Preprocess Crop Loss Data",
   "id": "631a7a1a514c2272"
  },
  {
   "metadata": {
    "ExecuteTime": {
     "end_time": "2024-04-10T20:24:09.183251Z",
     "start_time": "2024-04-10T20:24:05.376820Z"
    }
   },
   "cell_type": "code",
   "source": [
    "years = [str(year) for year in range(2014, 2020)]\n",
    "states = ['KS', 'NE']\n",
    "crop_data = combine_files(src_dir+'/_alldata', years, states)"
   ],
   "id": "cef1fd36421ddac6",
   "outputs": [],
   "execution_count": 4
  },
  {
   "metadata": {},
   "cell_type": "code",
   "source": "crop_data.head()",
   "id": "656e9edfc4593654",
   "outputs": [],
   "execution_count": null
  },
  {
   "metadata": {
    "ExecuteTime": {
     "end_time": "2024-04-10T20:31:28.492693Z",
     "start_time": "2024-04-10T20:31:28.486450Z"
    }
   },
   "cell_type": "code",
   "source": [
    "# crop_data = remove_outliers(crop_data, 'Year of Loss')\n",
    "# sns.distplot(crop_data['Year of Loss'], bins=10, kde_kws={'shade': True})"
   ],
   "id": "22ac969f7740029e",
   "outputs": [],
   "execution_count": 13
  },
  {
   "metadata": {
    "ExecuteTime": {
     "end_time": "2024-04-10T20:31:32.134950Z",
     "start_time": "2024-04-10T20:31:32.113265Z"
    }
   },
   "cell_type": "code",
   "source": [
    "# get column names with their index\n",
    "print('\\n', 'crop_data columns:', '\\n')\n",
    "print_cols(crop_data)"
   ],
   "id": "d96d13f72335f549",
   "outputs": [
    {
     "name": "stdout",
     "output_type": "stream",
     "text": [
      "\n",
      " crop_data columns: \n",
      "\n",
      "Index: 0, Column Name: Commodity Year Identifier, Data Type: int64\n",
      "Index: 1, Column Name: State Code, Data Type: int64\n",
      "Index: 2, Column Name: State Abbreviation, Data Type: object\n",
      "Index: 3, Column Name: County Code, Data Type: int64\n",
      "Index: 4, Column Name: County Name, Data Type: object\n",
      "Index: 5, Column Name: Commodity Code, Data Type: int64\n",
      "Index: 6, Column Name: Commodity Name, Data Type: object\n",
      "Index: 7, Column Name: Insurance Plan Code, Data Type: int64\n",
      "Index: 8, Column Name: Insurance Plan Name Abbreviation, Data Type: object\n",
      "Index: 9, Column Name: Coverage Category, Data Type: object\n",
      "Index: 10, Column Name: Stage Code, Data Type: object\n",
      "Index: 11, Column Name: Cause of Loss Code, Data Type: object\n",
      "Index: 12, Column Name: Cause of Loss Description, Data Type: object\n",
      "Index: 13, Column Name: Month of Loss, Data Type: int64\n",
      "Index: 14, Column Name: Month of Loss Name, Data Type: object\n",
      "Index: 15, Column Name: Year of Loss, Data Type: object\n",
      "Index: 16, Column Name: Policies Earning Premium, Data Type: int64\n",
      "Index: 17, Column Name: Policies Indemnified, Data Type: int64\n",
      "Index: 18, Column Name: Net Planted Quantity, Data Type: float64\n",
      "Index: 19, Column Name: Net Endorsed Acres, Data Type: float64\n",
      "Index: 20, Column Name: Liability, Data Type: float64\n",
      "Index: 21, Column Name: Total Premium, Data Type: float64\n",
      "Index: 22, Column Name: Producer Paid Premium, Data Type: float64\n",
      "Index: 23, Column Name: Subsidy, Data Type: float64\n",
      "Index: 24, Column Name: State/Private Subsidy, Data Type: float64\n",
      "Index: 25, Column Name: Additional Subsidy, Data Type: float64\n",
      "Index: 26, Column Name: EFA Premium Discount, Data Type: float64\n",
      "Index: 27, Column Name: Net Determined Quantity, Data Type: float64\n",
      "Index: 28, Column Name: Indemnity Amount, Data Type: float64\n",
      "Index: 29, Column Name: Loss Ratio, Data Type: float64\n",
      "\n"
     ]
    }
   ],
   "execution_count": 14
  },
  {
   "metadata": {
    "ExecuteTime": {
     "end_time": "2024-04-10T20:32:01.983613Z",
     "start_time": "2024-04-10T20:32:01.970526Z"
    }
   },
   "cell_type": "code",
   "source": [
    "columns_to_drop = crop_data.columns[[0, 7, 8, 9, 10, 14, 16, 17, 18, 19, 20, 21, 22, 23, 24, 25, 26, 27, 29]]\n",
    "crop_data = crop_data.drop(columns=columns_to_drop)"
   ],
   "id": "871d67c11f44ce50",
   "outputs": [],
   "execution_count": 15
  },
  {
   "metadata": {
    "ExecuteTime": {
     "end_time": "2024-04-10T20:32:06.491203Z",
     "start_time": "2024-04-10T20:32:06.473875Z"
    }
   },
   "cell_type": "code",
   "source": [
    "# get column names with their index\n",
    "print('\\n', 'crop_data columns:', '\\n')\n",
    "print_cols(crop_data)"
   ],
   "id": "36ff511d3851b39f",
   "outputs": [
    {
     "name": "stdout",
     "output_type": "stream",
     "text": [
      "\n",
      " crop_data columns: \n",
      "\n",
      "Index: 0, Column Name: State Code, Data Type: int64\n",
      "Index: 1, Column Name: State Abbreviation, Data Type: object\n",
      "Index: 2, Column Name: County Code, Data Type: int64\n",
      "Index: 3, Column Name: County Name, Data Type: object\n",
      "Index: 4, Column Name: Commodity Code, Data Type: int64\n",
      "Index: 5, Column Name: Commodity Name, Data Type: object\n",
      "Index: 6, Column Name: Cause of Loss Code, Data Type: object\n",
      "Index: 7, Column Name: Cause of Loss Description, Data Type: object\n",
      "Index: 8, Column Name: Month of Loss, Data Type: int64\n",
      "Index: 9, Column Name: Year of Loss, Data Type: object\n",
      "Index: 10, Column Name: Indemnity Amount, Data Type: float64\n",
      "\n"
     ]
    }
   ],
   "execution_count": 16
  },
  {
   "metadata": {
    "ExecuteTime": {
     "end_time": "2024-04-10T20:32:11.857913Z",
     "start_time": "2024-04-10T20:32:11.523626Z"
    }
   },
   "cell_type": "code",
   "source": [
    "crop_data = crop_data.rename(columns={\n",
    "    'Month of Loss': 'month',\n",
    "    'Year of Loss': 'year',\n",
    "    'State Abbreviation': 'st_abb',\n",
    "    'State Code': 'st_code',\n",
    "    'County Code': 'co_code',\n",
    "    'County Name': 'co_name',\n",
    "    'Commodity Name': 'crop_name',\n",
    "    'Commodity Code': 'crop_code',\n",
    "    'Cause of Loss Code': 'col_code',\n",
    "    'Cause of Loss Description': 'col_des',\n",
    "    'Indemnity Amount': 'indemnity'\n",
    "})\n",
    "# Create 'fips' column by concatenating 'State Code' and 'County Code'\n",
    "crop_data['fips'] = crop_data['st_code'].astype(str).str.zfill(2) + crop_data['co_code'].astype(str).str.zfill(3)\n",
    "\n",
    "# Create 'yrmo' column by concatenating 'Year of Loss' and 'Month of Loss'\n",
    "crop_data['yrmo'] = crop_data['year'].astype(int).astype(str) + crop_data['month'].astype(\n",
    "    str).str.zfill(2)\n",
    "crop_data.head()"
   ],
   "id": "e4b41f1968a48d0",
   "outputs": [
    {
     "data": {
      "text/plain": [
       "   st_code st_abb  co_code                         co_name  crop_code  \\\n",
       "0       20     KS        1  Allen                                  11   \n",
       "1       20     KS        1  Allen                                  11   \n",
       "2       20     KS        1  Allen                                  11   \n",
       "3       20     KS        1  Allen                                  11   \n",
       "4       20     KS        1  Allen                                  11   \n",
       "\n",
       "                        crop_name col_code  \\\n",
       "0  Wheat                                01   \n",
       "1  Wheat                                31   \n",
       "2  Wheat                                31   \n",
       "3  Wheat                                31   \n",
       "4  Wheat                                31   \n",
       "\n",
       "                              col_des  month  year  indemnity   fips    yrmo  \n",
       "0                    Decline in Price      4  2014      34.83  20001  201404  \n",
       "1  Excess Moisture/Precipitation/Rain      4  2014    1706.67  20001  201404  \n",
       "2  Excess Moisture/Precipitation/Rain      6  2014    2237.00  20001  201406  \n",
       "3  Excess Moisture/Precipitation/Rain      7  2014    1754.00  20001  201407  \n",
       "4  Excess Moisture/Precipitation/Rain      5  2014    5434.50  20001  201405  "
      ],
      "text/html": [
       "<div>\n",
       "<style scoped>\n",
       "    .dataframe tbody tr th:only-of-type {\n",
       "        vertical-align: middle;\n",
       "    }\n",
       "\n",
       "    .dataframe tbody tr th {\n",
       "        vertical-align: top;\n",
       "    }\n",
       "\n",
       "    .dataframe thead th {\n",
       "        text-align: right;\n",
       "    }\n",
       "</style>\n",
       "<table border=\"1\" class=\"dataframe\">\n",
       "  <thead>\n",
       "    <tr style=\"text-align: right;\">\n",
       "      <th></th>\n",
       "      <th>st_code</th>\n",
       "      <th>st_abb</th>\n",
       "      <th>co_code</th>\n",
       "      <th>co_name</th>\n",
       "      <th>crop_code</th>\n",
       "      <th>crop_name</th>\n",
       "      <th>col_code</th>\n",
       "      <th>col_des</th>\n",
       "      <th>month</th>\n",
       "      <th>year</th>\n",
       "      <th>indemnity</th>\n",
       "      <th>fips</th>\n",
       "      <th>yrmo</th>\n",
       "    </tr>\n",
       "  </thead>\n",
       "  <tbody>\n",
       "    <tr>\n",
       "      <th>0</th>\n",
       "      <td>20</td>\n",
       "      <td>KS</td>\n",
       "      <td>1</td>\n",
       "      <td>Allen</td>\n",
       "      <td>11</td>\n",
       "      <td>Wheat</td>\n",
       "      <td>01</td>\n",
       "      <td>Decline in Price</td>\n",
       "      <td>4</td>\n",
       "      <td>2014</td>\n",
       "      <td>34.83</td>\n",
       "      <td>20001</td>\n",
       "      <td>201404</td>\n",
       "    </tr>\n",
       "    <tr>\n",
       "      <th>1</th>\n",
       "      <td>20</td>\n",
       "      <td>KS</td>\n",
       "      <td>1</td>\n",
       "      <td>Allen</td>\n",
       "      <td>11</td>\n",
       "      <td>Wheat</td>\n",
       "      <td>31</td>\n",
       "      <td>Excess Moisture/Precipitation/Rain</td>\n",
       "      <td>4</td>\n",
       "      <td>2014</td>\n",
       "      <td>1706.67</td>\n",
       "      <td>20001</td>\n",
       "      <td>201404</td>\n",
       "    </tr>\n",
       "    <tr>\n",
       "      <th>2</th>\n",
       "      <td>20</td>\n",
       "      <td>KS</td>\n",
       "      <td>1</td>\n",
       "      <td>Allen</td>\n",
       "      <td>11</td>\n",
       "      <td>Wheat</td>\n",
       "      <td>31</td>\n",
       "      <td>Excess Moisture/Precipitation/Rain</td>\n",
       "      <td>6</td>\n",
       "      <td>2014</td>\n",
       "      <td>2237.00</td>\n",
       "      <td>20001</td>\n",
       "      <td>201406</td>\n",
       "    </tr>\n",
       "    <tr>\n",
       "      <th>3</th>\n",
       "      <td>20</td>\n",
       "      <td>KS</td>\n",
       "      <td>1</td>\n",
       "      <td>Allen</td>\n",
       "      <td>11</td>\n",
       "      <td>Wheat</td>\n",
       "      <td>31</td>\n",
       "      <td>Excess Moisture/Precipitation/Rain</td>\n",
       "      <td>7</td>\n",
       "      <td>2014</td>\n",
       "      <td>1754.00</td>\n",
       "      <td>20001</td>\n",
       "      <td>201407</td>\n",
       "    </tr>\n",
       "    <tr>\n",
       "      <th>4</th>\n",
       "      <td>20</td>\n",
       "      <td>KS</td>\n",
       "      <td>1</td>\n",
       "      <td>Allen</td>\n",
       "      <td>11</td>\n",
       "      <td>Wheat</td>\n",
       "      <td>31</td>\n",
       "      <td>Excess Moisture/Precipitation/Rain</td>\n",
       "      <td>5</td>\n",
       "      <td>2014</td>\n",
       "      <td>5434.50</td>\n",
       "      <td>20001</td>\n",
       "      <td>201405</td>\n",
       "    </tr>\n",
       "  </tbody>\n",
       "</table>\n",
       "</div>"
      ]
     },
     "execution_count": 17,
     "metadata": {},
     "output_type": "execute_result"
    }
   ],
   "execution_count": 17
  },
  {
   "metadata": {
    "ExecuteTime": {
     "end_time": "2024-04-10T20:32:16.785799Z",
     "start_time": "2024-04-10T20:32:16.751534Z"
    }
   },
   "cell_type": "code",
   "source": [
    "db1_crop_data = crop_data\n",
    "# Capitals dictionary\n",
    "us_state_abbrev_upper = {\n",
    "    'ALABAMA': 'AL',\n",
    "    'ALASKA': 'AK',\n",
    "    'AMERICAN SAMOA': 'AS',\n",
    "    'ARIZONA': 'AZ',\n",
    "    'ARKANSAS': 'AR',\n",
    "    'CALIFORNIA': 'CA',\n",
    "    'COLORADO': 'CO',\n",
    "    'CONNECTICUT': 'CT',\n",
    "    'DELAWARE': 'DE',\n",
    "    'DISTRICT OF COLUMBIA': 'DC',\n",
    "    'FLORIDA': 'FL',\n",
    "    'GEORGIA': 'GA',\n",
    "    'GUAM': 'GU',\n",
    "    'HAWAII': 'HI',\n",
    "    'IDAHO': 'ID',\n",
    "    'ILLINOIS': 'IL',\n",
    "    'INDIANA': 'IN',\n",
    "    'IOWA': 'IA',\n",
    "    'KANSAS': 'KS',\n",
    "    'KENTUCKY': 'KY',\n",
    "    'LOUISIANA': 'LA',\n",
    "    'MAINE': 'ME',\n",
    "    'MARYLAND': 'MD',\n",
    "    'MASSACHUSETTS': 'MA',\n",
    "    'MICHIGAN': 'MI',\n",
    "    'MINNESOTA': 'MN',\n",
    "    'MISSISSIPPI': 'MS',\n",
    "    'MISSOURI': 'MO',\n",
    "    'MONTANA': 'MT',\n",
    "    'NEBRASKA': 'NE',\n",
    "    'NEVADA': 'NV',\n",
    "    'NEW HAMPSHIRE': 'NH',\n",
    "    'NEW JERSEY': 'NJ',\n",
    "    'NEW MEXICO': 'NM',\n",
    "    'NEW YORK': 'NY',\n",
    "    'NORTH CAROLINA': 'NC',\n",
    "    'NORTH DAKOTA': 'ND',\n",
    "    'NORTHERN MARIANA ISLANDS': 'MP',\n",
    "    'OHIO': 'OH',\n",
    "    'OKLAHOMA': 'OK',\n",
    "    'OREGON': 'OR',\n",
    "    'PENNSYLVANIA': 'PA',\n",
    "    'PUERTO RICO': 'PR',\n",
    "    'RHODE ISLAND': 'RI',\n",
    "    'SOUTH CAROLINA': 'SC',\n",
    "    'SOUTH DAKOTA': 'SD',\n",
    "    'TENNESSEE': 'TN',\n",
    "    'TEXAS': 'TX',\n",
    "    'UTAH': 'UT',\n",
    "    'VERMONT': 'VT',\n",
    "    'VIRGIN ISLANDS': 'VI',\n",
    "    'VIRGINIA': 'VA',\n",
    "    'WASHINGTON': 'WA',\n",
    "    'WEST VIRGINIA': 'WV',\n",
    "    'WISCONSIN': 'WI',\n",
    "    'WYOMING': 'WY'\n",
    "}\n",
    "\n",
    "# Inverse the dictionary for easier mapping.\n",
    "abbrev_us_state_upper = {v: k for k, v in us_state_abbrev_upper.items()}\n",
    "\n",
    "crop_data['state'] = crop_data['st_abb'].map(abbrev_us_state_upper)\n",
    "crop_data.head()"
   ],
   "id": "6dae087d35a61f29",
   "outputs": [
    {
     "data": {
      "text/plain": [
       "   st_code st_abb  co_code                         co_name  crop_code  \\\n",
       "0       20     KS        1  Allen                                  11   \n",
       "1       20     KS        1  Allen                                  11   \n",
       "2       20     KS        1  Allen                                  11   \n",
       "3       20     KS        1  Allen                                  11   \n",
       "4       20     KS        1  Allen                                  11   \n",
       "\n",
       "                        crop_name col_code  \\\n",
       "0  Wheat                                01   \n",
       "1  Wheat                                31   \n",
       "2  Wheat                                31   \n",
       "3  Wheat                                31   \n",
       "4  Wheat                                31   \n",
       "\n",
       "                              col_des  month  year  indemnity   fips    yrmo  \\\n",
       "0                    Decline in Price      4  2014      34.83  20001  201404   \n",
       "1  Excess Moisture/Precipitation/Rain      4  2014    1706.67  20001  201404   \n",
       "2  Excess Moisture/Precipitation/Rain      6  2014    2237.00  20001  201406   \n",
       "3  Excess Moisture/Precipitation/Rain      7  2014    1754.00  20001  201407   \n",
       "4  Excess Moisture/Precipitation/Rain      5  2014    5434.50  20001  201405   \n",
       "\n",
       "    state  \n",
       "0  KANSAS  \n",
       "1  KANSAS  \n",
       "2  KANSAS  \n",
       "3  KANSAS  \n",
       "4  KANSAS  "
      ],
      "text/html": [
       "<div>\n",
       "<style scoped>\n",
       "    .dataframe tbody tr th:only-of-type {\n",
       "        vertical-align: middle;\n",
       "    }\n",
       "\n",
       "    .dataframe tbody tr th {\n",
       "        vertical-align: top;\n",
       "    }\n",
       "\n",
       "    .dataframe thead th {\n",
       "        text-align: right;\n",
       "    }\n",
       "</style>\n",
       "<table border=\"1\" class=\"dataframe\">\n",
       "  <thead>\n",
       "    <tr style=\"text-align: right;\">\n",
       "      <th></th>\n",
       "      <th>st_code</th>\n",
       "      <th>st_abb</th>\n",
       "      <th>co_code</th>\n",
       "      <th>co_name</th>\n",
       "      <th>crop_code</th>\n",
       "      <th>crop_name</th>\n",
       "      <th>col_code</th>\n",
       "      <th>col_des</th>\n",
       "      <th>month</th>\n",
       "      <th>year</th>\n",
       "      <th>indemnity</th>\n",
       "      <th>fips</th>\n",
       "      <th>yrmo</th>\n",
       "      <th>state</th>\n",
       "    </tr>\n",
       "  </thead>\n",
       "  <tbody>\n",
       "    <tr>\n",
       "      <th>0</th>\n",
       "      <td>20</td>\n",
       "      <td>KS</td>\n",
       "      <td>1</td>\n",
       "      <td>Allen</td>\n",
       "      <td>11</td>\n",
       "      <td>Wheat</td>\n",
       "      <td>01</td>\n",
       "      <td>Decline in Price</td>\n",
       "      <td>4</td>\n",
       "      <td>2014</td>\n",
       "      <td>34.83</td>\n",
       "      <td>20001</td>\n",
       "      <td>201404</td>\n",
       "      <td>KANSAS</td>\n",
       "    </tr>\n",
       "    <tr>\n",
       "      <th>1</th>\n",
       "      <td>20</td>\n",
       "      <td>KS</td>\n",
       "      <td>1</td>\n",
       "      <td>Allen</td>\n",
       "      <td>11</td>\n",
       "      <td>Wheat</td>\n",
       "      <td>31</td>\n",
       "      <td>Excess Moisture/Precipitation/Rain</td>\n",
       "      <td>4</td>\n",
       "      <td>2014</td>\n",
       "      <td>1706.67</td>\n",
       "      <td>20001</td>\n",
       "      <td>201404</td>\n",
       "      <td>KANSAS</td>\n",
       "    </tr>\n",
       "    <tr>\n",
       "      <th>2</th>\n",
       "      <td>20</td>\n",
       "      <td>KS</td>\n",
       "      <td>1</td>\n",
       "      <td>Allen</td>\n",
       "      <td>11</td>\n",
       "      <td>Wheat</td>\n",
       "      <td>31</td>\n",
       "      <td>Excess Moisture/Precipitation/Rain</td>\n",
       "      <td>6</td>\n",
       "      <td>2014</td>\n",
       "      <td>2237.00</td>\n",
       "      <td>20001</td>\n",
       "      <td>201406</td>\n",
       "      <td>KANSAS</td>\n",
       "    </tr>\n",
       "    <tr>\n",
       "      <th>3</th>\n",
       "      <td>20</td>\n",
       "      <td>KS</td>\n",
       "      <td>1</td>\n",
       "      <td>Allen</td>\n",
       "      <td>11</td>\n",
       "      <td>Wheat</td>\n",
       "      <td>31</td>\n",
       "      <td>Excess Moisture/Precipitation/Rain</td>\n",
       "      <td>7</td>\n",
       "      <td>2014</td>\n",
       "      <td>1754.00</td>\n",
       "      <td>20001</td>\n",
       "      <td>201407</td>\n",
       "      <td>KANSAS</td>\n",
       "    </tr>\n",
       "    <tr>\n",
       "      <th>4</th>\n",
       "      <td>20</td>\n",
       "      <td>KS</td>\n",
       "      <td>1</td>\n",
       "      <td>Allen</td>\n",
       "      <td>11</td>\n",
       "      <td>Wheat</td>\n",
       "      <td>31</td>\n",
       "      <td>Excess Moisture/Precipitation/Rain</td>\n",
       "      <td>5</td>\n",
       "      <td>2014</td>\n",
       "      <td>5434.50</td>\n",
       "      <td>20001</td>\n",
       "      <td>201405</td>\n",
       "      <td>KANSAS</td>\n",
       "    </tr>\n",
       "  </tbody>\n",
       "</table>\n",
       "</div>"
      ]
     },
     "execution_count": 18,
     "metadata": {},
     "output_type": "execute_result"
    }
   ],
   "execution_count": 18
  },
  {
   "metadata": {
    "ExecuteTime": {
     "end_time": "2024-04-10T20:32:20.550676Z",
     "start_time": "2024-04-10T20:32:20.536214Z"
    }
   },
   "cell_type": "code",
   "source": [
    "# get column names with their index\n",
    "print('\\n', 'crop_data columns:', '\\n')\n",
    "print_cols(crop_data)"
   ],
   "id": "10bbb2728b8d734",
   "outputs": [
    {
     "name": "stdout",
     "output_type": "stream",
     "text": [
      "\n",
      " crop_data columns: \n",
      "\n",
      "Index: 0, Column Name: st_code, Data Type: int64\n",
      "Index: 1, Column Name: st_abb, Data Type: object\n",
      "Index: 2, Column Name: co_code, Data Type: int64\n",
      "Index: 3, Column Name: co_name, Data Type: object\n",
      "Index: 4, Column Name: crop_code, Data Type: int64\n",
      "Index: 5, Column Name: crop_name, Data Type: object\n",
      "Index: 6, Column Name: col_code, Data Type: object\n",
      "Index: 7, Column Name: col_des, Data Type: object\n",
      "Index: 8, Column Name: month, Data Type: int64\n",
      "Index: 9, Column Name: year, Data Type: object\n",
      "Index: 10, Column Name: indemnity, Data Type: float64\n",
      "Index: 11, Column Name: fips, Data Type: object\n",
      "Index: 12, Column Name: yrmo, Data Type: object\n",
      "Index: 13, Column Name: state, Data Type: object\n",
      "\n"
     ]
    }
   ],
   "execution_count": 19
  },
  {
   "metadata": {
    "ExecuteTime": {
     "end_time": "2024-04-10T20:32:27.917718Z",
     "start_time": "2024-04-10T20:32:27.901949Z"
    }
   },
   "cell_type": "code",
   "source": [
    "db2_crop_data = crop_data\n",
    "# specify the new column order\n",
    "column_order = ['yrmo', 'fips', 'year', 'month', 'st_abb',\n",
    "                'st_code', 'state', 'co_code', 'co_name',\n",
    "                'crop_name', 'crop_code', 'col_des',\n",
    "                'col_code', 'indemnity']\n",
    "\n",
    "# reindex the dataframe\n",
    "crop_data = crop_data[column_order]"
   ],
   "id": "9a25f4d93f7f2add",
   "outputs": [],
   "execution_count": 20
  },
  {
   "metadata": {
    "ExecuteTime": {
     "end_time": "2024-04-10T20:32:30.205163Z",
     "start_time": "2024-04-10T20:32:30.189343Z"
    }
   },
   "cell_type": "code",
   "source": [
    "print('\\n', 'crop_data columns:', '\\n')\n",
    "# get column names with their index\n",
    "print_cols(crop_data)"
   ],
   "id": "d1869745f2b1e95e",
   "outputs": [
    {
     "name": "stdout",
     "output_type": "stream",
     "text": [
      "\n",
      " crop_data columns: \n",
      "\n",
      "Index: 0, Column Name: yrmo, Data Type: object\n",
      "Index: 1, Column Name: fips, Data Type: object\n",
      "Index: 2, Column Name: year, Data Type: object\n",
      "Index: 3, Column Name: month, Data Type: int64\n",
      "Index: 4, Column Name: st_abb, Data Type: object\n",
      "Index: 5, Column Name: st_code, Data Type: int64\n",
      "Index: 6, Column Name: state, Data Type: object\n",
      "Index: 7, Column Name: co_code, Data Type: int64\n",
      "Index: 8, Column Name: co_name, Data Type: object\n",
      "Index: 9, Column Name: crop_name, Data Type: object\n",
      "Index: 10, Column Name: crop_code, Data Type: int64\n",
      "Index: 11, Column Name: col_des, Data Type: object\n",
      "Index: 12, Column Name: col_code, Data Type: object\n",
      "Index: 13, Column Name: indemnity, Data Type: float64\n",
      "\n"
     ]
    }
   ],
   "execution_count": 21
  },
  {
   "metadata": {
    "ExecuteTime": {
     "end_time": "2024-04-10T20:32:38.407612Z",
     "start_time": "2024-04-10T20:32:38.293836Z"
    }
   },
   "cell_type": "code",
   "source": [
    "crop_data['co_name'] = crop_data['co_name'].str.upper()\n",
    "crop_data['crop_name'] = crop_data['crop_name'].str.upper()\n",
    "crop_data['col_des'] = crop_data['col_des'].str.upper()\n",
    "crop_data.head()"
   ],
   "id": "a99c7211f2ffb89a",
   "outputs": [
    {
     "data": {
      "text/plain": [
       "     yrmo   fips  year  month st_abb  st_code   state  co_code  \\\n",
       "0  201404  20001  2014      4     KS       20  KANSAS        1   \n",
       "1  201404  20001  2014      4     KS       20  KANSAS        1   \n",
       "2  201406  20001  2014      6     KS       20  KANSAS        1   \n",
       "3  201407  20001  2014      7     KS       20  KANSAS        1   \n",
       "4  201405  20001  2014      5     KS       20  KANSAS        1   \n",
       "\n",
       "                          co_name                       crop_name  crop_code  \\\n",
       "0  ALLEN                           WHEAT                                  11   \n",
       "1  ALLEN                           WHEAT                                  11   \n",
       "2  ALLEN                           WHEAT                                  11   \n",
       "3  ALLEN                           WHEAT                                  11   \n",
       "4  ALLEN                           WHEAT                                  11   \n",
       "\n",
       "                              col_des col_code  indemnity  \n",
       "0                    DECLINE IN PRICE       01      34.83  \n",
       "1  EXCESS MOISTURE/PRECIPITATION/RAIN       31    1706.67  \n",
       "2  EXCESS MOISTURE/PRECIPITATION/RAIN       31    2237.00  \n",
       "3  EXCESS MOISTURE/PRECIPITATION/RAIN       31    1754.00  \n",
       "4  EXCESS MOISTURE/PRECIPITATION/RAIN       31    5434.50  "
      ],
      "text/html": [
       "<div>\n",
       "<style scoped>\n",
       "    .dataframe tbody tr th:only-of-type {\n",
       "        vertical-align: middle;\n",
       "    }\n",
       "\n",
       "    .dataframe tbody tr th {\n",
       "        vertical-align: top;\n",
       "    }\n",
       "\n",
       "    .dataframe thead th {\n",
       "        text-align: right;\n",
       "    }\n",
       "</style>\n",
       "<table border=\"1\" class=\"dataframe\">\n",
       "  <thead>\n",
       "    <tr style=\"text-align: right;\">\n",
       "      <th></th>\n",
       "      <th>yrmo</th>\n",
       "      <th>fips</th>\n",
       "      <th>year</th>\n",
       "      <th>month</th>\n",
       "      <th>st_abb</th>\n",
       "      <th>st_code</th>\n",
       "      <th>state</th>\n",
       "      <th>co_code</th>\n",
       "      <th>co_name</th>\n",
       "      <th>crop_name</th>\n",
       "      <th>crop_code</th>\n",
       "      <th>col_des</th>\n",
       "      <th>col_code</th>\n",
       "      <th>indemnity</th>\n",
       "    </tr>\n",
       "  </thead>\n",
       "  <tbody>\n",
       "    <tr>\n",
       "      <th>0</th>\n",
       "      <td>201404</td>\n",
       "      <td>20001</td>\n",
       "      <td>2014</td>\n",
       "      <td>4</td>\n",
       "      <td>KS</td>\n",
       "      <td>20</td>\n",
       "      <td>KANSAS</td>\n",
       "      <td>1</td>\n",
       "      <td>ALLEN</td>\n",
       "      <td>WHEAT</td>\n",
       "      <td>11</td>\n",
       "      <td>DECLINE IN PRICE</td>\n",
       "      <td>01</td>\n",
       "      <td>34.83</td>\n",
       "    </tr>\n",
       "    <tr>\n",
       "      <th>1</th>\n",
       "      <td>201404</td>\n",
       "      <td>20001</td>\n",
       "      <td>2014</td>\n",
       "      <td>4</td>\n",
       "      <td>KS</td>\n",
       "      <td>20</td>\n",
       "      <td>KANSAS</td>\n",
       "      <td>1</td>\n",
       "      <td>ALLEN</td>\n",
       "      <td>WHEAT</td>\n",
       "      <td>11</td>\n",
       "      <td>EXCESS MOISTURE/PRECIPITATION/RAIN</td>\n",
       "      <td>31</td>\n",
       "      <td>1706.67</td>\n",
       "    </tr>\n",
       "    <tr>\n",
       "      <th>2</th>\n",
       "      <td>201406</td>\n",
       "      <td>20001</td>\n",
       "      <td>2014</td>\n",
       "      <td>6</td>\n",
       "      <td>KS</td>\n",
       "      <td>20</td>\n",
       "      <td>KANSAS</td>\n",
       "      <td>1</td>\n",
       "      <td>ALLEN</td>\n",
       "      <td>WHEAT</td>\n",
       "      <td>11</td>\n",
       "      <td>EXCESS MOISTURE/PRECIPITATION/RAIN</td>\n",
       "      <td>31</td>\n",
       "      <td>2237.00</td>\n",
       "    </tr>\n",
       "    <tr>\n",
       "      <th>3</th>\n",
       "      <td>201407</td>\n",
       "      <td>20001</td>\n",
       "      <td>2014</td>\n",
       "      <td>7</td>\n",
       "      <td>KS</td>\n",
       "      <td>20</td>\n",
       "      <td>KANSAS</td>\n",
       "      <td>1</td>\n",
       "      <td>ALLEN</td>\n",
       "      <td>WHEAT</td>\n",
       "      <td>11</td>\n",
       "      <td>EXCESS MOISTURE/PRECIPITATION/RAIN</td>\n",
       "      <td>31</td>\n",
       "      <td>1754.00</td>\n",
       "    </tr>\n",
       "    <tr>\n",
       "      <th>4</th>\n",
       "      <td>201405</td>\n",
       "      <td>20001</td>\n",
       "      <td>2014</td>\n",
       "      <td>5</td>\n",
       "      <td>KS</td>\n",
       "      <td>20</td>\n",
       "      <td>KANSAS</td>\n",
       "      <td>1</td>\n",
       "      <td>ALLEN</td>\n",
       "      <td>WHEAT</td>\n",
       "      <td>11</td>\n",
       "      <td>EXCESS MOISTURE/PRECIPITATION/RAIN</td>\n",
       "      <td>31</td>\n",
       "      <td>5434.50</td>\n",
       "    </tr>\n",
       "  </tbody>\n",
       "</table>\n",
       "</div>"
      ]
     },
     "execution_count": 22,
     "metadata": {},
     "output_type": "execute_result"
    }
   ],
   "execution_count": 22
  },
  {
   "metadata": {
    "ExecuteTime": {
     "end_time": "2024-04-10T20:32:41.056756Z",
     "start_time": "2024-04-10T20:32:41.043729Z"
    }
   },
   "cell_type": "code",
   "source": [
    "unique_col_des = crop_data['col_des'].unique()\n",
    "for value in unique_col_des:\n",
    "    print(value)"
   ],
   "id": "192cd3c814910ac5",
   "outputs": [
    {
     "name": "stdout",
     "output_type": "stream",
     "text": [
      "DECLINE IN PRICE\n",
      "EXCESS MOISTURE/PRECIPITATION/RAIN\n",
      "COLD WINTER\n",
      "DROUGHT\n",
      "FLOOD\n",
      "WIND/EXCESS WIND\n",
      "HAIL\n",
      "OTHER (SNOW, LIGHTNING, ETC.)\n",
      "ARPI CROPS ONLY\n",
      "FROST\n",
      "COLD WET WEATHER\n",
      "WILDLIFE\n",
      "HEAT\n",
      "INSECTS\n",
      "FREEZE\n",
      "HOT WIND\n",
      "nan\n",
      "CYCLONE\n",
      "INABILITY TO PREPARE LAND FOR IRRIGATION\n",
      "PLANT DISEASE\n",
      "FAILURE OF IRRIGATION EQUIPMENT\n",
      "FAILURE OF IRRIGATION SUPPLY\n",
      "FIRE\n",
      "FALLING NUMBERS\n",
      "TORNADO\n",
      "ASIAN SOYBEAN RUST\n",
      "MYCOTOXIN\n",
      "FEDERAL OR STATE ORDERED DESTRUCTION\n",
      "ARPI/SCO/STAX CROPS ONLY\n",
      "ARPI/SCO/STAX/MP CROPS ONLY\n",
      "EARTHQUAKE\n",
      "ALL OTHER CAUSES\n"
     ]
    }
   ],
   "execution_count": 23
  },
  {
   "metadata": {
    "ExecuteTime": {
     "end_time": "2024-04-10T20:32:43.139233Z",
     "start_time": "2024-04-10T20:32:43.123467Z"
    }
   },
   "cell_type": "code",
   "source": [
    "db4_crop_data = crop_data\n",
    "crop_data_col_all = crop_data\n",
    "crop_data = crop_data[crop_data['col_des'].isin(['WIND/EXCESS WIND', 'HOT WIND', 'TORNADO'])]\n",
    "filter_col_des = crop_data['col_des'].unique()\n",
    "for value in filter_col_des:\n",
    "    print(value)"
   ],
   "id": "9abd5cc4346ae660",
   "outputs": [
    {
     "name": "stdout",
     "output_type": "stream",
     "text": [
      "WIND/EXCESS WIND\n",
      "HOT WIND\n",
      "TORNADO\n"
     ]
    }
   ],
   "execution_count": 24
  },
  {
   "metadata": {
    "ExecuteTime": {
     "end_time": "2024-04-10T20:32:48.065012Z",
     "start_time": "2024-04-10T20:32:48.042511Z"
    }
   },
   "cell_type": "code",
   "source": [
    "for col in crop_data.columns:\n",
    "\n",
    "    # If the current column's data type is float and column is not 'Indemnity', convert to int first\n",
    "    if crop_data[col].dtype == 'float64' and col != 'indemnity':\n",
    "        crop_data[col] = crop_data[col].astype(int)\n",
    "\n",
    "    # If column is not 'Indemnity', convert to object\n",
    "    if col != 'indemnity':\n",
    "        crop_data[col] = crop_data[col].astype('object')\n",
    "\n",
    "crop_data.head()"
   ],
   "id": "9c2a453561f36a4c",
   "outputs": [
    {
     "data": {
      "text/plain": [
       "       yrmo   fips  year month st_abb st_code   state co_code  \\\n",
       "15   201404  20001  2014     4     KS      20  KANSAS       1   \n",
       "99   201407  20005  2014     7     KS      20  KANSAS       5   \n",
       "100  201407  20005  2014     7     KS      20  KANSAS       5   \n",
       "172  201402  20007  2014     2     KS      20  KANSAS       7   \n",
       "173  201402  20007  2014     2     KS      20  KANSAS       7   \n",
       "\n",
       "                            co_name                       crop_name crop_code  \\\n",
       "15   ALLEN                           CORN                                  41   \n",
       "99   ATCHISON                        CORN                                  41   \n",
       "100  ATCHISON                        CORN                                  41   \n",
       "172  BARBER                          WHEAT                                 11   \n",
       "173  BARBER                          WHEAT                                 11   \n",
       "\n",
       "              col_des col_code  indemnity  \n",
       "15   WIND/EXCESS WIND       61     4952.0  \n",
       "99   WIND/EXCESS WIND       61     2290.0  \n",
       "100  WIND/EXCESS WIND       61     4936.0  \n",
       "172  WIND/EXCESS WIND       61     1181.0  \n",
       "173  WIND/EXCESS WIND       61    14769.0  "
      ],
      "text/html": [
       "<div>\n",
       "<style scoped>\n",
       "    .dataframe tbody tr th:only-of-type {\n",
       "        vertical-align: middle;\n",
       "    }\n",
       "\n",
       "    .dataframe tbody tr th {\n",
       "        vertical-align: top;\n",
       "    }\n",
       "\n",
       "    .dataframe thead th {\n",
       "        text-align: right;\n",
       "    }\n",
       "</style>\n",
       "<table border=\"1\" class=\"dataframe\">\n",
       "  <thead>\n",
       "    <tr style=\"text-align: right;\">\n",
       "      <th></th>\n",
       "      <th>yrmo</th>\n",
       "      <th>fips</th>\n",
       "      <th>year</th>\n",
       "      <th>month</th>\n",
       "      <th>st_abb</th>\n",
       "      <th>st_code</th>\n",
       "      <th>state</th>\n",
       "      <th>co_code</th>\n",
       "      <th>co_name</th>\n",
       "      <th>crop_name</th>\n",
       "      <th>crop_code</th>\n",
       "      <th>col_des</th>\n",
       "      <th>col_code</th>\n",
       "      <th>indemnity</th>\n",
       "    </tr>\n",
       "  </thead>\n",
       "  <tbody>\n",
       "    <tr>\n",
       "      <th>15</th>\n",
       "      <td>201404</td>\n",
       "      <td>20001</td>\n",
       "      <td>2014</td>\n",
       "      <td>4</td>\n",
       "      <td>KS</td>\n",
       "      <td>20</td>\n",
       "      <td>KANSAS</td>\n",
       "      <td>1</td>\n",
       "      <td>ALLEN</td>\n",
       "      <td>CORN</td>\n",
       "      <td>41</td>\n",
       "      <td>WIND/EXCESS WIND</td>\n",
       "      <td>61</td>\n",
       "      <td>4952.0</td>\n",
       "    </tr>\n",
       "    <tr>\n",
       "      <th>99</th>\n",
       "      <td>201407</td>\n",
       "      <td>20005</td>\n",
       "      <td>2014</td>\n",
       "      <td>7</td>\n",
       "      <td>KS</td>\n",
       "      <td>20</td>\n",
       "      <td>KANSAS</td>\n",
       "      <td>5</td>\n",
       "      <td>ATCHISON</td>\n",
       "      <td>CORN</td>\n",
       "      <td>41</td>\n",
       "      <td>WIND/EXCESS WIND</td>\n",
       "      <td>61</td>\n",
       "      <td>2290.0</td>\n",
       "    </tr>\n",
       "    <tr>\n",
       "      <th>100</th>\n",
       "      <td>201407</td>\n",
       "      <td>20005</td>\n",
       "      <td>2014</td>\n",
       "      <td>7</td>\n",
       "      <td>KS</td>\n",
       "      <td>20</td>\n",
       "      <td>KANSAS</td>\n",
       "      <td>5</td>\n",
       "      <td>ATCHISON</td>\n",
       "      <td>CORN</td>\n",
       "      <td>41</td>\n",
       "      <td>WIND/EXCESS WIND</td>\n",
       "      <td>61</td>\n",
       "      <td>4936.0</td>\n",
       "    </tr>\n",
       "    <tr>\n",
       "      <th>172</th>\n",
       "      <td>201402</td>\n",
       "      <td>20007</td>\n",
       "      <td>2014</td>\n",
       "      <td>2</td>\n",
       "      <td>KS</td>\n",
       "      <td>20</td>\n",
       "      <td>KANSAS</td>\n",
       "      <td>7</td>\n",
       "      <td>BARBER</td>\n",
       "      <td>WHEAT</td>\n",
       "      <td>11</td>\n",
       "      <td>WIND/EXCESS WIND</td>\n",
       "      <td>61</td>\n",
       "      <td>1181.0</td>\n",
       "    </tr>\n",
       "    <tr>\n",
       "      <th>173</th>\n",
       "      <td>201402</td>\n",
       "      <td>20007</td>\n",
       "      <td>2014</td>\n",
       "      <td>2</td>\n",
       "      <td>KS</td>\n",
       "      <td>20</td>\n",
       "      <td>KANSAS</td>\n",
       "      <td>7</td>\n",
       "      <td>BARBER</td>\n",
       "      <td>WHEAT</td>\n",
       "      <td>11</td>\n",
       "      <td>WIND/EXCESS WIND</td>\n",
       "      <td>61</td>\n",
       "      <td>14769.0</td>\n",
       "    </tr>\n",
       "  </tbody>\n",
       "</table>\n",
       "</div>"
      ]
     },
     "execution_count": 25,
     "metadata": {},
     "output_type": "execute_result"
    }
   ],
   "execution_count": 25
  },
  {
   "metadata": {
    "ExecuteTime": {
     "end_time": "2024-04-10T20:34:02.821742Z",
     "start_time": "2024-04-10T20:34:02.757589Z"
    }
   },
   "cell_type": "code",
   "source": [
    "# Strip out extra spaces from each column\n",
    "crop_data = crop_data.applymap(lambda x: x.strip() if isinstance(x, str) else x)\n",
    "\n",
    "crop_data.to_csv(os.path.join(src_dir, 'crop_loss_COL/crop_data_filtered.csv'), index=False)"
   ],
   "id": "490073bc6bd5c429",
   "outputs": [],
   "execution_count": null
  },
  {
   "metadata": {
    "ExecuteTime": {
     "end_time": "2024-04-11T01:50:14.465671Z",
     "start_time": "2024-04-11T01:50:14.426773Z"
    }
   },
   "cell_type": "code",
   "source": [
    "crop_data = pd.read_csv(os.path.join(src_dir, 'crop_loss_COL/crop_data_filtered.csv'))\n",
    "%store crop_data"
   ],
   "id": "6f1aaac10f14d6c9",
   "outputs": [
    {
     "name": "stdout",
     "output_type": "stream",
     "text": [
      "Stored 'crop_data' (DataFrame)\n"
     ]
    }
   ],
   "execution_count": 4
  },
  {
   "metadata": {
    "ExecuteTime": {
     "end_time": "2024-04-11T01:50:17.542776Z",
     "start_time": "2024-04-11T01:50:17.526579Z"
    }
   },
   "cell_type": "code",
   "source": "%whos",
   "id": "b6de4fb8b2b0b702",
   "outputs": [
    {
     "name": "stdout",
     "output_type": "stream",
     "text": [
      "Variable                        Type             Data/Info\n",
      "----------------------------------------------------------\n",
      "CRS                             type             <class 'pyproj.crs.crs.CRS'>\n",
      "Dataset                         type             <class 'netCDF4._netCDF4.Dataset'>\n",
      "GeoDataFrame                    type             <class 'geopandas.geodataframe.GeoDataFrame'>\n",
      "INLINE                          Resources        Resources(mode='inline')\n",
      "LATITUDE_FORMATTER              FuncFormatter    <matplotlib.ticker.FuncFo<...>ct at 0x000001DD93D6BED0>\n",
      "LONGITUDE_FORMATTER             FuncFormatter    <matplotlib.ticker.FuncFo<...>ct at 0x000001DD93D58C10>\n",
      "LineString                      type             <class 'shapely.geometry.linestring.LineString'>\n",
      "Normalize                       type             <class 'matplotlib.colors.Normalize'>\n",
      "Path                            type             <class 'matplotlib.path.Path'>\n",
      "Point                           type             <class 'shapely.geometry.point.Point'>\n",
      "ccrs                            module           <module 'cartopy.crs' fro<...>ckages\\\\cartopy\\\\crs.py'>\n",
      "cf                              module           <module 'cartopy.feature'<...>y\\\\feature\\\\__init__.py'>\n",
      "chardet                         module           <module 'chardet' from 'C<...>s\\\\chardet\\\\__init__.py'>\n",
      "combine_files                   function         <function combine_files at 0x000001DD93D88180>\n",
      "crop_data                       DataFrame                yrmo   fips  year<...>n[5489 rows x 14 columns]\n",
      "directory                       str              Data\n",
      "display                         function         <function display at 0x000001DD86062B60>\n",
      "filter_df_extent                function         <function filter_df_extent at 0x000001DD93D83F60>\n",
      "from_origin                     function         <function from_origin at 0x000001DD8EEC4360>\n",
      "gdf_buf                         function         <function gdf_buf at 0x000001DD93D880E0>\n",
      "gdf_to_shp                      function         <function gdf_to_shp at 0x000001DD93D88040>\n",
      "get_crs                         function         <function get_crs at 0x000001DD93D83EC0>\n",
      "glob                            module           <module 'glob' from 'C:\\\\<...>indBreaks\\\\Lib\\\\glob.py'>\n",
      "gpd                             module           <module 'geopandas' from <...>\\geopandas\\\\__init__.py'>\n",
      "hv                              module           <module 'holoviews' from <...>\\holoviews\\\\__init__.py'>\n",
      "hvplot                          module           <module 'hvplot' from 'C:<...>es\\\\hvplot\\\\__init__.py'>\n",
      "importlib                       module           <module 'importlib' from <...>\\importlib\\\\__init__.py'>\n",
      "mticker                         module           <module 'matplotlib.ticke<...>\\\\matplotlib\\\\ticker.py'>\n",
      "nc                              module           <module 'netCDF4' from 'C<...>s\\\\netCDF4\\\\__init__.py'>\n",
      "np                              module           <module 'numpy' from 'C:\\<...>ges\\\\numpy\\\\__init__.py'>\n",
      "os                              module           <module 'os' (frozen)>\n",
      "output_notebook                 function         <function output_notebook at 0x000001DD89DD6700>\n",
      "pd                              module           <module 'pandas' from 'C:<...>es\\\\pandas\\\\__init__.py'>\n",
      "plt                             module           <module 'matplotlib.pyplo<...>\\\\matplotlib\\\\pyplot.py'>\n",
      "print_all_imported_modules      function         <function print_all_impor<...>es at 0x000001DD93D83D80>\n",
      "print_cols                      function         <function print_cols at 0x000001DD93D83E20>\n",
      "print_functions                 function         <function print_functions at 0x000001DD93D83BA0>\n",
      "print_modules                   function         <function print_modules at 0x000001DD93D83CE0>\n",
      "pydev_jupyter_vars              module           <module 'pydev_jupyter_va<...>\\\\pydev_jupyter_vars.py'>\n",
      "pyperclip                       module           <module 'pyperclip' from <...>\\pyperclip\\\\__init__.py'>\n",
      "rasterio                        module           <module 'rasterio' from '<...>\\\\rasterio\\\\__init__.py'>\n",
      "re                              module           <module 're' from 'C:\\\\Us<...>s\\\\Lib\\\\re\\\\__init__.py'>\n",
      "remove_imported_pydev_package   function         <function remove_imported<...>ge at 0x000001DD8E7C9300>\n",
      "remove_outliers                 function         <function remove_outliers at 0x000001DD93D88220>\n",
      "show                            function         <function show at 0x000001DD89DD6F20>\n",
      "sns                             module           <module 'seaborn' from 'C<...>s\\\\seaborn\\\\__init__.py'>\n",
      "src_dir                         str              Data\n",
      "sys                             module           <module 'sys' (built-in)>\n",
      "types                           module           <module 'types' from 'C:\\<...>ndBreaks\\\\Lib\\\\types.py'>\n",
      "warnings                        module           <module 'warnings' from '<...>reaks\\\\Lib\\\\warnings.py'>\n",
      "widgets                         module           <module 'ipywidgets' from<...>ipywidgets\\\\__init__.py'>\n",
      "wkt                             module           <module 'shapely.wkt' fro<...>ckages\\\\shapely\\\\wkt.py'>\n",
      "xr                              module           <module 'xarray' from 'C:<...>es\\\\xarray\\\\__init__.py'>\n",
      "zonal_stats                     function         <function zonal_stats at 0x000001DD93910AE0>\n"
     ]
    }
   ],
   "execution_count": 5
  },
  {
   "metadata": {
    "ExecuteTime": {
     "end_time": "2024-04-12T01:35:49.172861Z",
     "start_time": "2024-04-12T01:35:49.133488Z"
    }
   },
   "cell_type": "code",
   "source": [
    "crop_data_yfc = pd.read_csv('Output/crop_ind_by_yrmo_fps_crop.csv')\n",
    "crop_data_yfc['yrmo'] = pd.to_datetime(crop_data_yfc['yrmo'])\n",
    "%store crop_data_yfc\n",
    "print_cols(crop_data_yfc)"
   ],
   "id": "9e5c16f09b0be919",
   "outputs": [
    {
     "name": "stdout",
     "output_type": "stream",
     "text": [
      "Stored 'crop_data_yfc' (DataFrame)\n",
      "\n",
      " Dataframe columns: \n",
      "\n",
      "Index: 0, Column Name: yrmo, Data Type: datetime64[ns]\n",
      "Index: 1, Column Name: fips, Data Type: int64\n",
      "Index: 2, Column Name: crop_name, Data Type: object\n",
      "Index: 3, Column Name: indemnity, Data Type: float64\n",
      "\n"
     ]
    }
   ],
   "execution_count": 14
  }
 ],
 "metadata": {
  "kernelspec": {
   "display_name": "WindBreaks",
   "language": "python",
   "name": "windbreaks"
  },
  "language_info": {
   "codemirror_mode": {
    "name": "ipython",
    "version": 2
   },
   "file_extension": ".py",
   "mimetype": "text/x-python",
   "name": "python",
   "nbconvert_exporter": "python",
   "pygments_lexer": "ipython2",
   "version": "2.7.6"
  }
 },
 "nbformat": 4,
 "nbformat_minor": 5
}
