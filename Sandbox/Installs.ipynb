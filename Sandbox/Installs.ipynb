{
 "cells": [
  {
   "cell_type": "code",
   "outputs": [],
   "source": [
    "import sys\n",
    "\n",
    "sys.path.append('C:/ProgramData/anaconda3/envs/WindBreaks')"
   ],
   "metadata": {
    "collapsed": false
   },
   "id": "d8fd421db12565b",
   "execution_count": null
  },
  {
   "cell_type": "markdown",
   "source": [
    "!where conda"
   ],
   "metadata": {
    "collapsed": false
   },
   "id": "db4493d4a10a9636"
  },
  {
   "cell_type": "markdown",
   "source": [
    "!where python"
   ],
   "metadata": {
    "collapsed": false
   },
   "id": "32d35cb18d8c19d"
  },
  {
   "cell_type": "markdown",
   "source": [
    "!python --version"
   ],
   "metadata": {
    "collapsed": false
   },
   "id": "71e7b430b74b172c"
  },
  {
   "cell_type": "markdown",
   "source": [
    "!conda update -n base conda"
   ],
   "metadata": {
    "collapsed": false
   },
   "id": "b3f5fbf244c94eec"
  },
  {
   "cell_type": "markdown",
   "source": [
    "!conda active base conda"
   ],
   "metadata": {
    "collapsed": false
   },
   "id": "3b2bc670d471f588"
  },
  {
   "cell_type": "markdown",
   "source": [
    "!python --version"
   ],
   "metadata": {
    "collapsed": false
   },
   "id": "e36344cae1a01367"
  },
  {
   "cell_type": "code",
   "outputs": [],
   "source": [
    "!conda install -c conda-forge jupyterlab"
   ],
   "metadata": {
    "collapsed": false
   },
   "id": "ed7e49b435fd7cca",
   "execution_count": null
  },
  {
   "cell_type": "code",
   "outputs": [],
   "source": [
    "!python -m pip install pip==24.0"
   ],
   "metadata": {
    "collapsed": false
   },
   "id": "751a4598dab873aa",
   "execution_count": null
  },
  {
   "cell_type": "code",
   "outputs": [],
   "source": [
    "!conda info --envs"
   ],
   "metadata": {
    "collapsed": false
   },
   "id": "f7ddcaffa924d7aa",
   "execution_count": null
  },
  {
   "cell_type": "code",
   "outputs": [],
   "source": [
    "!conda activate C:\\ProgramData\\anaconda3\\envs\\WindBreaks"
   ],
   "metadata": {
    "collapsed": false
   },
   "id": "b4af634420a64a76",
   "execution_count": null
  },
  {
   "cell_type": "code",
   "outputs": [],
   "source": [
    "!conda install ipykernel"
   ],
   "metadata": {
    "collapsed": false
   },
   "id": "f6830445aba4c525",
   "execution_count": null
  },
  {
   "cell_type": "code",
   "outputs": [],
   "source": [
    "!python -m ipykernel install --user --name WindBreaks --display-name \"WindBreaks\""
   ],
   "metadata": {
    "collapsed": false
   },
   "id": "322c01bea3289ee0",
   "execution_count": null
  },
  {
   "cell_type": "code",
   "outputs": [],
   "source": [
    "!conda install -y matplotlib "
   ],
   "metadata": {
    "collapsed": true
   },
   "id": "initial_id",
   "execution_count": null
  },
  {
   "cell_type": "code",
   "outputs": [],
   "source": [
    "!conda install -y numpy "
   ],
   "metadata": {
    "collapsed": false
   },
   "id": "bf5029bd35e79dd1",
   "execution_count": null
  },
  {
   "cell_type": "code",
   "outputs": [],
   "source": [
    "!conda install -y pandas "
   ],
   "metadata": {
    "collapsed": false
   },
   "id": "6e0e9d3d18a192d0",
   "execution_count": null
  },
  {
   "cell_type": "code",
   "outputs": [],
   "source": [
    "!pip install geopandas "
   ],
   "metadata": {
    "collapsed": false
   },
   "id": "5e88c446a2847b37",
   "execution_count": null
  },
  {
   "cell_type": "code",
   "outputs": [],
   "source": [
    "!conda install -y seaborn "
   ],
   "metadata": {
    "collapsed": false
   },
   "id": "876f91ebc4709478",
   "execution_count": null
  },
  {
   "cell_type": "code",
   "outputs": [],
   "source": [
    "!conda install -y rasterio "
   ],
   "metadata": {
    "collapsed": false
   },
   "id": "22e93cbfce2606b9",
   "execution_count": null
  },
  {
   "cell_type": "code",
   "outputs": [],
   "source": [
    "!pip install rasterstats "
   ],
   "metadata": {
    "collapsed": false
   },
   "id": "ac07983f172d2fd3",
   "execution_count": null
  },
  {
   "cell_type": "code",
   "outputs": [],
   "source": [
    "!conda install -y plotly "
   ],
   "metadata": {
    "collapsed": false
   },
   "id": "daf0959a97aa52c9",
   "execution_count": null
  },
  {
   "cell_type": "code",
   "outputs": [],
   "source": [
    "!pip install geoplot "
   ],
   "metadata": {
    "collapsed": false
   },
   "id": "8af4f750bac36a26",
   "execution_count": null
  },
  {
   "cell_type": "code",
   "outputs": [],
   "source": [
    "!pip install ggplot "
   ],
   "metadata": {
    "collapsed": false
   },
   "id": "79fcdac71a05a29e",
   "execution_count": null
  },
  {
   "cell_type": "code",
   "outputs": [],
   "source": [
    "!conda install -y cartopy "
   ],
   "metadata": {
    "collapsed": false
   },
   "id": "50094e59a62ffb88",
   "execution_count": null
  },
  {
   "cell_type": "code",
   "outputs": [],
   "source": [
    "!conda install -y cython "
   ],
   "metadata": {
    "collapsed": false
   },
   "id": "13d72111056d066b",
   "execution_count": null
  },
  {
   "cell_type": "code",
   "outputs": [],
   "source": [
    "!conda install -y shapely "
   ],
   "metadata": {
    "collapsed": false
   },
   "id": "78a33c6250fe6ef0",
   "execution_count": null
  },
  {
   "cell_type": "code",
   "outputs": [],
   "source": [
    "!conda install -y geos "
   ],
   "metadata": {
    "collapsed": false
   },
   "id": "85c976d35347792b",
   "execution_count": null
  },
  {
   "cell_type": "code",
   "outputs": [],
   "source": [
    "!conda install -y pyshp "
   ],
   "metadata": {
    "collapsed": false
   },
   "id": "7b3b02bd5d0e0837",
   "execution_count": null
  },
  {
   "cell_type": "code",
   "outputs": [],
   "source": [
    "!conda install -y proj "
   ],
   "metadata": {
    "collapsed": false
   },
   "id": "4d8d15b04ea7b03f",
   "execution_count": null
  },
  {
   "cell_type": "code",
   "outputs": [],
   "source": [
    "!conda install -y six "
   ],
   "metadata": {
    "collapsed": false
   },
   "id": "e174257dae288b9c",
   "execution_count": null
  },
  {
   "cell_type": "code",
   "outputs": [],
   "source": [
    "!conda install -y altair "
   ],
   "metadata": {
    "collapsed": false
   },
   "id": "5b2e961f77a33799",
   "execution_count": null
  },
  {
   "cell_type": "code",
   "outputs": [],
   "source": [
    "!conda install -y bokeh "
   ],
   "metadata": {
    "collapsed": false
   },
   "id": "103b5953351dc61e",
   "execution_count": null
  },
  {
   "cell_type": "code",
   "outputs": [],
   "source": [
    "!pip install pygal "
   ],
   "metadata": {
    "collapsed": false
   },
   "id": "5f153d6706f6c21f",
   "execution_count": null
  },
  {
   "cell_type": "code",
   "outputs": [],
   "source": [
    "!pip install ipyleaflet"
   ],
   "metadata": {
    "collapsed": false
   },
   "id": "b040b7a69ef32edb",
   "execution_count": null
  },
  {
   "cell_type": "code",
   "outputs": [],
   "source": [
    "!conda install -y folium "
   ],
   "metadata": {
    "collapsed": false
   },
   "id": "39da3a8b76612098",
   "execution_count": null
  },
  {
   "cell_type": "markdown",
   "source": [
    "Use a Virtual Environment: You can create a virtual environment on your original computer, install all the required packages, and then package this environment into a file. This file can be transferred to other computers. You can then recreate the same environment on these computers using this file.\n",
    "In conda, this is done by exporting your environment into a .yml file:\n",
    "conda env export > environment.yml \n",
    "Then on the new computer you can create a new environment from the .yml file:\n",
    "conda env create -f environment.yml"
   ],
   "metadata": {
    "collapsed": false
   },
   "id": "d92e090ff40b6792"
  },
  {
   "cell_type": "code",
   "outputs": [],
   "source": [
    "!conda update -y --all"
   ],
   "metadata": {
    "collapsed": false
   },
   "id": "46ae5068a87c0f7a",
   "execution_count": null
  },
  {
   "cell_type": "code",
   "outputs": [],
   "source": [
    "!conda env export > \"%USERPROFILE%/windbreaks.yml\""
   ],
   "metadata": {
    "collapsed": false
   },
   "id": "55b352fb8c9e429f",
   "execution_count": null
  },
  {
   "cell_type": "code",
   "outputs": [],
   "source": [
    "!conda env export > \"~/windbreaks.yml\""
   ],
   "metadata": {
    "collapsed": false
   },
   "id": "84230bde0b5eb13b"
  }
 ],
 "metadata": {
  "kernelspec": {
   "name": "windbreaks",
   "language": "python",
   "display_name": "WindBreaks"
  },
  "language_info": {
   "codemirror_mode": {
    "name": "ipython",
    "version": 2
   },
   "file_extension": ".py",
   "mimetype": "text/x-python",
   "name": "python",
   "nbconvert_exporter": "python",
   "pygments_lexer": "ipython2",
   "version": "2.7.6"
  }
 },
 "nbformat": 4,
 "nbformat_minor": 5
}
