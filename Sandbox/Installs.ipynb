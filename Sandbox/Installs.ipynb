{
 "cells": [
  {
   "cell_type": "code",
   "execution_count": null,
   "id": "d8fd421db12565b",
   "metadata": {
    "collapsed": false,
    "jupyter": {
     "outputs_hidden": false
    }
   },
   "outputs": [],
   "source": [
    "import sys\n",
    "\n",
    "sys.path.append('C:/ProgramData/anaconda3/envs/WindBreaks')"
   ]
  },
  {
   "cell_type": "markdown",
   "id": "db4493d4a10a9636",
   "metadata": {
    "collapsed": false,
    "jupyter": {
     "outputs_hidden": false
    }
   },
   "source": [
    "!where conda"
   ]
  },
  {
   "cell_type": "markdown",
   "id": "32d35cb18d8c19d",
   "metadata": {
    "collapsed": false,
    "jupyter": {
     "outputs_hidden": false
    }
   },
   "source": [
    "!where python"
   ]
  },
  {
   "cell_type": "markdown",
   "id": "71e7b430b74b172c",
   "metadata": {
    "collapsed": false,
    "jupyter": {
     "outputs_hidden": false
    }
   },
   "source": [
    "!python --version"
   ]
  },
  {
   "cell_type": "markdown",
   "id": "b3f5fbf244c94eec",
   "metadata": {
    "collapsed": false,
    "jupyter": {
     "outputs_hidden": false
    }
   },
   "source": [
    "!conda update -n base conda"
   ]
  },
  {
   "cell_type": "markdown",
   "id": "3b2bc670d471f588",
   "metadata": {
    "collapsed": false,
    "jupyter": {
     "outputs_hidden": false
    }
   },
   "source": [
    "!conda active base conda"
   ]
  },
  {
   "cell_type": "markdown",
   "id": "e36344cae1a01367",
   "metadata": {
    "collapsed": false,
    "jupyter": {
     "outputs_hidden": false
    }
   },
   "source": [
    "!python --version"
   ]
  },
  {
   "cell_type": "code",
   "execution_count": null,
   "id": "ed7e49b435fd7cca",
   "metadata": {
    "collapsed": false,
    "jupyter": {
     "outputs_hidden": false
    }
   },
   "outputs": [],
   "source": [
    "!conda install -c conda-forge jupyterlab"
   ]
  },
  {
   "cell_type": "code",
   "execution_count": null,
   "id": "751a4598dab873aa",
   "metadata": {
    "collapsed": false,
    "jupyter": {
     "outputs_hidden": false
    }
   },
   "outputs": [],
   "source": [
    "!python -m pip install pip==24.0"
   ]
  },
  {
   "cell_type": "code",
   "execution_count": null,
   "id": "f7ddcaffa924d7aa",
   "metadata": {
    "collapsed": false,
    "jupyter": {
     "outputs_hidden": false
    }
   },
   "outputs": [],
   "source": [
    "!conda info --envs"
   ]
  },
  {
   "cell_type": "code",
   "execution_count": null,
   "id": "b4af634420a64a76",
   "metadata": {
    "collapsed": false,
    "jupyter": {
     "outputs_hidden": false
    }
   },
   "outputs": [],
   "source": [
    "!conda activate C:\\ProgramData\\anaconda3\\envs\\WindBreaks"
   ]
  },
  {
   "cell_type": "code",
   "execution_count": null,
   "id": "f6830445aba4c525",
   "metadata": {
    "collapsed": false,
    "jupyter": {
     "outputs_hidden": false
    }
   },
   "outputs": [],
   "source": [
    "!conda install ipykernel"
   ]
  },
  {
   "cell_type": "code",
   "execution_count": null,
   "id": "322c01bea3289ee0",
   "metadata": {
    "collapsed": false,
    "jupyter": {
     "outputs_hidden": false
    }
   },
   "outputs": [],
   "source": [
    "!python -m ipykernel install --user --name WindBreaks --display-name \"WindBreaks\""
   ]
  },
  {
   "cell_type": "code",
   "execution_count": null,
   "id": "initial_id",
   "metadata": {
    "collapsed": true,
    "jupyter": {
     "outputs_hidden": true
    }
   },
   "outputs": [],
   "source": [
    "!conda install -y matplotlib "
   ]
  },
  {
   "cell_type": "code",
   "execution_count": null,
   "id": "bf5029bd35e79dd1",
   "metadata": {
    "collapsed": false,
    "jupyter": {
     "outputs_hidden": false
    }
   },
   "outputs": [],
   "source": [
    "!conda install -y numpy "
   ]
  },
  {
   "cell_type": "code",
   "execution_count": null,
   "id": "6e0e9d3d18a192d0",
   "metadata": {
    "collapsed": false,
    "jupyter": {
     "outputs_hidden": false
    }
   },
   "outputs": [],
   "source": [
    "!conda install -y pandas "
   ]
  },
  {
   "cell_type": "code",
   "execution_count": null,
   "id": "5e88c446a2847b37",
   "metadata": {
    "collapsed": false,
    "jupyter": {
     "outputs_hidden": false
    }
   },
   "outputs": [],
   "source": [
    "!pip install geopandas "
   ]
  },
  {
   "cell_type": "code",
   "execution_count": null,
   "id": "876f91ebc4709478",
   "metadata": {
    "collapsed": false,
    "jupyter": {
     "outputs_hidden": false
    }
   },
   "outputs": [],
   "source": [
    "!conda install -y seaborn "
   ]
  },
  {
   "cell_type": "code",
   "execution_count": null,
   "id": "22e93cbfce2606b9",
   "metadata": {
    "collapsed": false,
    "jupyter": {
     "outputs_hidden": false
    }
   },
   "outputs": [],
   "source": [
    "!conda install -y rasterio "
   ]
  },
  {
   "cell_type": "code",
   "execution_count": null,
   "id": "ac07983f172d2fd3",
   "metadata": {
    "collapsed": false,
    "jupyter": {
     "outputs_hidden": false
    }
   },
   "outputs": [],
   "source": [
    "!pip install rasterstats "
   ]
  },
  {
   "cell_type": "code",
   "execution_count": null,
   "id": "daf0959a97aa52c9",
   "metadata": {
    "collapsed": false,
    "jupyter": {
     "outputs_hidden": false
    }
   },
   "outputs": [],
   "source": [
    "!conda install -y plotly "
   ]
  },
  {
   "cell_type": "code",
   "execution_count": null,
   "id": "8af4f750bac36a26",
   "metadata": {
    "collapsed": false,
    "jupyter": {
     "outputs_hidden": false
    }
   },
   "outputs": [],
   "source": [
    "!pip install geoplot "
   ]
  },
  {
   "cell_type": "code",
   "execution_count": null,
   "id": "79fcdac71a05a29e",
   "metadata": {
    "collapsed": false,
    "jupyter": {
     "outputs_hidden": false
    }
   },
   "outputs": [],
   "source": [
    "!pip install ggplot "
   ]
  },
  {
   "cell_type": "code",
   "execution_count": null,
   "id": "50094e59a62ffb88",
   "metadata": {
    "collapsed": false,
    "jupyter": {
     "outputs_hidden": false
    }
   },
   "outputs": [],
   "source": [
    "!conda install -y cartopy "
   ]
  },
  {
   "cell_type": "code",
   "execution_count": null,
   "id": "13d72111056d066b",
   "metadata": {
    "collapsed": false,
    "jupyter": {
     "outputs_hidden": false
    }
   },
   "outputs": [],
   "source": [
    "!conda install -y cython "
   ]
  },
  {
   "cell_type": "code",
   "execution_count": null,
   "id": "78a33c6250fe6ef0",
   "metadata": {
    "collapsed": false,
    "jupyter": {
     "outputs_hidden": false
    }
   },
   "outputs": [],
   "source": [
    "!conda install -y shapely "
   ]
  },
  {
   "cell_type": "code",
   "execution_count": null,
   "id": "85c976d35347792b",
   "metadata": {
    "collapsed": false,
    "jupyter": {
     "outputs_hidden": false
    }
   },
   "outputs": [],
   "source": [
    "!conda install -y geos "
   ]
  },
  {
   "cell_type": "code",
   "execution_count": null,
   "id": "7b3b02bd5d0e0837",
   "metadata": {
    "collapsed": false,
    "jupyter": {
     "outputs_hidden": false
    }
   },
   "outputs": [],
   "source": [
    "!conda install -y pyshp "
   ]
  },
  {
   "cell_type": "code",
   "execution_count": null,
   "id": "4d8d15b04ea7b03f",
   "metadata": {
    "collapsed": false,
    "jupyter": {
     "outputs_hidden": false
    }
   },
   "outputs": [],
   "source": [
    "!conda install -y proj "
   ]
  },
  {
   "cell_type": "code",
   "execution_count": null,
   "id": "e174257dae288b9c",
   "metadata": {
    "collapsed": false,
    "jupyter": {
     "outputs_hidden": false
    }
   },
   "outputs": [],
   "source": [
    "!conda install -y six "
   ]
  },
  {
   "cell_type": "code",
   "execution_count": null,
   "id": "5b2e961f77a33799",
   "metadata": {
    "collapsed": false,
    "jupyter": {
     "outputs_hidden": false
    }
   },
   "outputs": [],
   "source": [
    "!conda install -y altair "
   ]
  },
  {
   "cell_type": "code",
   "execution_count": null,
   "id": "103b5953351dc61e",
   "metadata": {
    "collapsed": false,
    "jupyter": {
     "outputs_hidden": false
    }
   },
   "outputs": [],
   "source": [
    "!conda install -y bokeh "
   ]
  },
  {
   "cell_type": "code",
   "execution_count": null,
   "id": "5f153d6706f6c21f",
   "metadata": {
    "collapsed": false,
    "jupyter": {
     "outputs_hidden": false
    }
   },
   "outputs": [],
   "source": [
    "!pip install pygal "
   ]
  },
  {
   "cell_type": "code",
   "execution_count": null,
   "id": "b040b7a69ef32edb",
   "metadata": {
    "collapsed": false,
    "jupyter": {
     "outputs_hidden": false
    }
   },
   "outputs": [],
   "source": [
    "!pip install ipyleaflet"
   ]
  },
  {
   "cell_type": "code",
   "execution_count": null,
   "id": "39da3a8b76612098",
   "metadata": {
    "collapsed": false,
    "jupyter": {
     "outputs_hidden": false
    }
   },
   "outputs": [],
   "source": [
    "!conda install -y folium "
   ]
  },
  {
   "cell_type": "markdown",
   "id": "d92e090ff40b6792",
   "metadata": {
    "collapsed": false,
    "jupyter": {
     "outputs_hidden": false
    }
   },
   "source": [
    "Use a Virtual Environment: You can create a virtual environment on your original computer, install all the required packages, and then package this environment into a file. This file can be transferred to other computers. You can then recreate the same environment on these computers using this file.\n",
    "In conda, this is done by exporting your environment into a .yml file:\n",
    "conda env export > environment.yml \n",
    "Then on the new computer you can create a new environment from the .yml file:\n",
    "conda env create -f environment.yml"
   ]
  },
  {
   "cell_type": "code",
   "execution_count": null,
   "id": "46ae5068a87c0f7a",
   "metadata": {
    "collapsed": false,
    "jupyter": {
     "outputs_hidden": false
    }
   },
   "outputs": [],
   "source": [
    "!conda update -y --all"
   ]
  },
  {
   "cell_type": "code",
   "execution_count": null,
   "id": "55b352fb8c9e429f",
   "metadata": {
    "collapsed": false,
    "jupyter": {
     "outputs_hidden": false
    }
   },
   "outputs": [],
   "source": [
    "!conda env export > \"%USERPROFILE%/windbreaks.yml\""
   ]
  },
  {
   "cell_type": "code",
   "execution_count": null,
   "id": "84230bde0b5eb13b",
   "metadata": {
    "collapsed": false,
    "jupyter": {
     "outputs_hidden": false
    }
   },
   "outputs": [],
   "source": [
    "!conda env export > \"~/windbreaks.yml\""
   ]
  }
 ],
 "metadata": {
  "kernelspec": {
   "display_name": "WindBreaks",
   "language": "python",
   "name": "windbreaks"
  },
  "language_info": {
   "codemirror_mode": {
    "name": "ipython",
    "version": 3
   },
   "file_extension": ".py",
   "mimetype": "text/x-python",
   "name": "python",
   "nbconvert_exporter": "python",
   "pygments_lexer": "ipython3",
   "version": "3.11.6"
  }
 },
 "nbformat": 4,
 "nbformat_minor": 5
}
