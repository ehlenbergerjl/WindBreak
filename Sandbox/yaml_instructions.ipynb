{
 "cells": [
  {
   "cell_type": "code",
   "outputs": [],
   "source": [
    "def print_instructions():\n",
    "    instructions = f'''\n",
    "    The generated {YAML_FILE} file is an environment file that contains a list of all the packages with their respective versions that are installed in your current Conda environment. You can use this file to reproduce the exact same environment on a different computer.\n",
    "    Here are the steps on how to use this file on another computer:\n",
    "    \n",
    "    1. First, make sure that Conda is installed on the other computer.\n",
    "    2. Transfer the {YAML_FILE} file to the other computer. You can use any file transfer method that you prefer (e.g., USB, email, cloud storage, etc).\n",
    "    3. Open a terminal (or Anaconda Prompt, if you're using Windows) on the other computer.\n",
    "    4. Navigate to the directory where you placed the {YAML_FILE} file. For example, use the following command to change to the directory path_to_yml:\n",
    "        cd path_to_yml \n",
    "    5. Then, create a new Conda environment based on the {YAML_FILE} file with the following command:\n",
    "        conda env create -f {YAML_FILE}\n",
    "    6. This will create a new Conda environment with the same name as specified in the {YAML_FILE} file that contains all the same packages.\n",
    "    7. After the environment is created, you can activate it with this command (replace envname with the name of the environment specified in your YAML file):\n",
    "        conda activate {ENV_NAME} \n",
    "\n",
    "    This way, you can make sure that you are using the exact same environment and packages on the other computer as you were on the original computer where you exported the environment.\n",
    "    '''\n",
    "\n",
    "    print(instructions)\n"
   ],
   "metadata": {
    "collapsed": false
   },
   "id": "b5f453d590127dac"
  }
 ],
 "metadata": {
  "kernelspec": {
   "display_name": "Python 3",
   "language": "python",
   "name": "python3"
  },
  "language_info": {
   "codemirror_mode": {
    "name": "ipython",
    "version": 2
   },
   "file_extension": ".py",
   "mimetype": "text/x-python",
   "name": "python",
   "nbconvert_exporter": "python",
   "pygments_lexer": "ipython2",
   "version": "2.7.6"
  }
 },
 "nbformat": 4,
 "nbformat_minor": 5
}
