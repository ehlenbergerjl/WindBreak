{
 "cells": [
  {
   "cell_type": "markdown",
   "id": "67b35ced",
   "metadata": {},
   "source": [
    "Before you turn this problem in, make sure everything runs as expected. First, **restart the kernel** (in the menubar, select Kernel$\\rightarrow$Restart) and then **run all cells** (in the menubar, select Cell$\\rightarrow$Run All).\n",
    "\n",
    "Make sure you fill in any place that says `YOUR CODE HERE` or \"YOUR ANSWER HERE\", as well as your name and collaborators below:"
   ]
  },
  {
   "cell_type": "code",
   "execution_count": null,
   "id": "9457d9ad",
   "metadata": {},
   "outputs": [],
   "source": [
    "import rasterio\n",
    "\n",
    "NAME = 'Jason Ehlenberger'\n",
    "COLLABORATORS = 'N/A'"
   ]
  },
  {
   "cell_type": "markdown",
   "id": "ba53a55d",
   "metadata": {},
   "source": [
    "---"
   ]
  },
  {
   "cell_type": "markdown",
   "id": "d84cf6e6-10b0-43cd-8d36-a00d805c1e78",
   "metadata": {},
   "source": [
    "# Assignment 2:"
   ]
  },
  {
   "cell_type": "markdown",
   "id": "ec1ea51c-b5cb-4033-a31c-34a6d19820fb",
   "metadata": {},
   "source": [
    "1) Create zonal statistics (basically the whole step) for these datasets:   \n",
    "counties_subset_Albers4.shp   \n",
    "crop_cover_2019.tif\n",
    "2) In the zonal statistics, only include these crops: 1, 5, 6, 23, 24, 26, 225,226, 236, 237, 238, 240, 241, 254.\n",
    "3) From the zonal stat table, delete column \"sum\".\n",
    "4) What is the unit of the zonal statistics result? "
   ]
  },
  {
   "cell_type": "markdown",
   "id": "f5e604c0-d329-4285-9ac6-524323bdf888",
   "metadata": {},
   "source": [
    "What does the crop_2018_subset represent:   \n",
    "1:Corn, 5:Soybeans, 6:Sunflower, 23:Spring Wheat, 24:Winter Wheat, 26:Dbl Crop WinWht/Soybeans   \n",
    "225:Dbl Crop WinWht/Corn, 226:Dbl Crop Oats/Corn, 236:Dbl Cropp WinWht/Sorghum, 237:Dbl Crop Barley/Corn,    \n",
    "238:Dbl Crop WinWht/Cotten, 240:Dbl Crop Soybeans/Oats, 241:bl Crop Corn/Soybeans, 254: Dbl Crop Barley/Soybeans,    \n",
    "To inlcude: 1, 5, 6, 23, 24, 26, 225,226, 236, 237, 238, 240, 241, 254   "
   ]
  },
  {
   "cell_type": "code",
   "outputs": [],
   "source": [
    "!conda install -c conda-forge jupyterlab"
   ],
   "metadata": {
    "collapsed": false,
    "is_executing": true
   },
   "id": "eb47a7eb8cba355"
  },
  {
   "cell_type": "code",
   "outputs": [],
   "source": [
    "import importlib\n",
    "\n",
    "\n",
    "def import_helper(items):\n",
    "    for item in items:\n",
    "        try:\n",
    "            if isinstance(item, tuple):\n",
    "                if len(item) == 2:\n",
    "                    module_name, alias = item\n",
    "                    module = importlib.import_module(module_name)\n",
    "                    globals()[alias] = module\n",
    "                elif len(item) == 3:\n",
    "                    module_name, submodule_name, alias = item\n",
    "                    module = importlib.import_module(module_name)\n",
    "                    globals()[alias] = getattr(module, submodule_name)\n",
    "            else:\n",
    "                globals()[item] = importlib.import_module(item)\n",
    "            print(f'The {item} is installed.')\n",
    "        except ImportError:\n",
    "            print(f'The {item} is not installed.')"
   ],
   "metadata": {
    "collapsed": false
   },
   "id": "90ddac469c8c58ce"
  },
  {
   "cell_type": "code",
   "execution_count": null,
   "id": "a1fc14f4d5180194",
   "metadata": {
    "collapsed": false
   },
   "outputs": [],
   "source": [
    "'''# This is my custom import helper function\n",
    "import importlib\n",
    "\n",
    "def import_helper(items):\n",
    "    for item in items:\n",
    "        try:\n",
    "            if isinstance(item, tuple) and len(item) == 2:\n",
    "                module_name, alias = item\n",
    "                module = importlib.import_module(module_name)\n",
    "                globals()[alias] = module   # Store the module, not an attribute\n",
    "            else:\n",
    "                globals()[item] = importlib.import_module(item)\n",
    "            print(f'The {item} is installed.')\n",
    "        except ImportError:\n",
    "            print(f'The {item} is not installed.')\n",
    "'''"
   ]
  },
  {
   "cell_type": "markdown",
   "source": [
    "Define a function `import_helper` taking a list of tuples or strings `items` as parameter:\n",
    "    For `item` in `items`:\n",
    "        Try block to capture potential ImportError exceptions:\n",
    "            If `item` is a tuple of length 2 (which indicates it contains a module name and an alias):\n",
    "                Split `item` into `module_name` and `alias`\n",
    "                Import the module named `module_name` using `importlib.import_module()` \n",
    "                Assign the imported module to the name `alias` in the global namespace\n",
    "            Otherwise:\n",
    "                Assume `item` is a module name\n",
    "                Import the module named `item` using `importlib.import_module()` \n",
    "                Assign the imported module to its own name in the global namespace\n",
    "            Print a success message\n",
    "        Except block to handle ImportError exceptions (which occur if a module cannot be imported):\n",
    "            Print a failure message"
   ],
   "metadata": {
    "collapsed": false
   },
   "id": "68b529b964e1933c"
  },
  {
   "cell_type": "code",
   "execution_count": null,
   "id": "223beec9325843a6",
   "metadata": {
    "collapsed": false
   },
   "outputs": [],
   "source": [
    "# Using the helper function:\n",
    "import_helper(['os',\n",
    "               ('zipfile', 'zp'),\n",
    "               ('numpy', 'np'),\n",
    "               ('pandas', 'pd'),\n",
    "               ('seaborn', 'sns'),\n",
    "               ('geopandas', 'gpd'),\n",
    "               ('matplotlib.pyplot', 'plt'),\n",
    "               'rasterio',\n",
    "               ('rasterstats', 'zonal_stats')])"
   ]
  },
  {
   "cell_type": "code",
   "execution_count": null,
   "id": "6605a155defd1fb4",
   "metadata": {
    "collapsed": false
   },
   "outputs": [],
   "source": [
    "# Path to the directory\n",
    "directory = 'G:\\\\Shared drives\\\\ASU_Excehl_Bridge\\\\DataSpellProjects\\\\Data\\\\Assignment2'\n",
    "\n",
    "# Check if the directory exists\n",
    "if os.path.isdir(directory):\n",
    "    src_dir = directory\n",
    "else:\n",
    "    src_dir = None\n",
    "\n",
    "print(src_dir)"
   ]
  },
  {
   "cell_type": "code",
   "execution_count": null,
   "id": "a85bc184aa3d61c",
   "metadata": {
    "collapsed": false
   },
   "outputs": [],
   "source": [
    "fn = os.path.join(src_dir,'counties_subset_Albers4.shp')\n",
    "data = gpd.read_file(fn)\n",
    "data.head"
   ]
  },
  {
   "cell_type": "code",
   "execution_count": null,
   "id": "c40485b724a6b9ef",
   "metadata": {
    "collapsed": false
   },
   "outputs": [],
   "source": [
    "data.info"
   ]
  },
  {
   "cell_type": "code",
   "execution_count": null,
   "id": "993aca2743a25383",
   "metadata": {
    "collapsed": false
   },
   "outputs": [],
   "source": [
    "data.crs"
   ]
  },
  {
   "cell_type": "code",
   "execution_count": null,
   "id": "9a2c10c1fb30da72",
   "metadata": {
    "collapsed": false
   },
   "outputs": [],
   "source": [
    "# data2 = data.to_crs(epsg=####)"
   ]
  },
  {
   "cell_type": "code",
   "execution_count": null,
   "id": "7cab3e3c1d75660d",
   "metadata": {
    "collapsed": false
   },
   "outputs": [],
   "source": [
    "data.describe()"
   ]
  },
  {
   "cell_type": "code",
   "execution_count": null,
   "id": "ecb826a0b6bf43ab",
   "metadata": {
    "collapsed": false
   },
   "outputs": [],
   "source": [
    "data.plot()"
   ]
  },
  {
   "cell_type": "code",
   "execution_count": null,
   "id": "49626e64acd54dc5",
   "metadata": {
    "collapsed": false
   },
   "outputs": [],
   "source": [
    "'''# output file \n",
    "outfp = \"test_out.shp\"\n",
    "data.to_file(outfp)\n",
    "'''"
   ]
  },
  {
   "cell_type": "code",
   "execution_count": null,
   "id": "9cfa3fe049dd87de",
   "metadata": {
    "collapsed": false
   },
   "outputs": [],
   "source": [
    "'''\n",
    "Pandas.to_datetime\n",
    "# New column called date in dt format\n",
    "'''"
   ]
  },
  {
   "cell_type": "code",
   "execution_count": null,
   "id": "e76a260101cfea82",
   "metadata": {
    "collapsed": false
   },
   "outputs": [],
   "source": [
    "raster = rasterio.open(src_dir+'/crop_cover_2019.tif')"
   ]
  },
  {
   "cell_type": "code",
   "execution_count": null,
   "id": "b7ca7cb265aea8e7",
   "metadata": {
    "collapsed": false
   },
   "outputs": [],
   "source": [
    "type(raster)"
   ]
  },
  {
   "cell_type": "code",
   "execution_count": null,
   "id": "455e623a53524633",
   "metadata": {
    "collapsed": false
   },
   "outputs": [],
   "source": [
    "raster.crs"
   ]
  },
  {
   "cell_type": "code",
   "execution_count": null,
   "id": "40e9c20ebd17277e",
   "metadata": {
    "collapsed": false
   },
   "outputs": [],
   "source": [
    "# raster.head()"
   ]
  },
  {
   "cell_type": "code",
   "execution_count": null,
   "id": "55b242546b940868",
   "metadata": {
    "collapsed": false
   },
   "outputs": [],
   "source": [
    "with rasterio.open(src_dir+'/crop_cover_2019.tif') as raster_crop:\n",
    "    crop_val = raster_crop.read()\n",
    "crop_val"
   ]
  },
  {
   "cell_type": "code",
   "execution_count": null,
   "id": "983a72952d95a4dc",
   "metadata": {
    "collapsed": false
   },
   "outputs": [],
   "source": [
    "# Packages \n",
    "from rasterio.warp import calculate_default_transform, reproject, Resampling"
   ]
  },
  {
   "cell_type": "code",
   "execution_count": null,
   "id": "dc2672dcd3dd2d41",
   "metadata": {
    "collapsed": false
   },
   "outputs": [],
   "source": [
    "raster.bounds"
   ]
  },
  {
   "cell_type": "code",
   "execution_count": null,
   "id": "bac5cd2e6b47ec6b",
   "metadata": {
    "collapsed": false
   },
   "outputs": [],
   "source": [
    "# Raster resolution \n",
    "print(raster.crs.linear_units)"
   ]
  },
  {
   "cell_type": "code",
   "execution_count": null,
   "id": "21e56f40e417b26d",
   "metadata": {
    "collapsed": false
   },
   "outputs": [],
   "source": [
    "dst_crs = 'EPSG:9712'"
   ]
  },
  {
   "cell_type": "code",
   "execution_count": null,
   "id": "a6f8c32ac0ca6bbd",
   "metadata": {
    "collapsed": false
   },
   "outputs": [],
   "source": [
    "# step 1: Calculate transform array and shape of reprojected raster \n",
    "with rasterio.open(src_dir+'/crop_cover_2019.tif') as src:\n",
    "    transform, width, height = calculate_default_transform(\n",
    "        src.crs, dst_crs, src.width, src.height, *src.bounds)"
   ]
  },
  {
   "cell_type": "code",
   "execution_count": null,
   "id": "48cf8234353e8ef7",
   "metadata": {
    "collapsed": false
   },
   "outputs": [],
   "source": []
  }
 ],
 "metadata": {
  "kernelspec": {
   "display_name": "Python 3 (ipykernel)",
   "language": "python",
   "name": "python3"
  },
  "language_info": {
   "codemirror_mode": {
    "name": "ipython",
    "version": 3
   },
   "file_extension": ".py",
   "mimetype": "text/x-python",
   "name": "python",
   "nbconvert_exporter": "python",
   "pygments_lexer": "ipython3",
   "version": "3.11.7"
  }
 },
 "nbformat": 4,
 "nbformat_minor": 5
}
