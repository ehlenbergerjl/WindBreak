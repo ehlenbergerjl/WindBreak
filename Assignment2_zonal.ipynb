{
 "cells": [
  {
   "cell_type": "markdown",
   "id": "67b35ced",
   "metadata": {},
   "source": [
    "Before you turn this problem in, make sure everything runs as expected. First, **restart the kernel** (in the menubar, select Kernel$\\rightarrow$Restart) and then **run all cells** (in the menubar, select Cell$\\rightarrow$Run All).\n",
    "\n",
    "Make sure you fill in any place that says `YOUR CODE HERE` or \"YOUR ANSWER HERE\", as well as your name and collaborators below:"
   ]
  },
  {
   "cell_type": "code",
   "execution_count": 1,
   "id": "9457d9ad",
   "metadata": {
    "ExecuteTime": {
     "end_time": "2024-03-04T21:08:16.100448Z",
     "start_time": "2024-03-04T21:08:16.093920Z"
    }
   },
   "outputs": [],
   "source": [
    "NAME = 'Jason Ehlenberger'\n",
    "COLLABORATORS = 'N/A'"
   ]
  },
  {
   "cell_type": "markdown",
   "id": "ba53a55d",
   "metadata": {},
   "source": [
    "---"
   ]
  },
  {
   "cell_type": "markdown",
   "id": "d84cf6e6-10b0-43cd-8d36-a00d805c1e78",
   "metadata": {},
   "source": [
    "# Assignment 2:"
   ]
  },
  {
   "cell_type": "markdown",
   "id": "ec1ea51c-b5cb-4033-a31c-34a6d19820fb",
   "metadata": {},
   "source": [
    "1) Create zonal statistics (basically the whole step) for these datasets:   \n",
    "counties_subset_Albers4.shp   \n",
    "crop_cover_2019.tif\n",
    "2) In the zonal statistics, only include these crops: 1, 5, 6, 23, 24, 26, 225,226, 236, 237, 238, 240, 241, 254.\n",
    "3) From the zonal stat table, delete column \"sum\".\n",
    "4) What is the unit of the zonal statistics result? "
   ]
  },
  {
   "cell_type": "markdown",
   "id": "f5e604c0-d329-4285-9ac6-524323bdf888",
   "metadata": {},
   "source": [
    "What does the crop_2018_subset represent:   \n",
    "1:Corn, 5:Soybeans, 6:Sunflower, 23:Spring Wheat, 24:Winter Wheat, 26:Dbl Crop WinWht/Soybeans   \n",
    "225:Dbl Crop WinWht/Corn, 226:Dbl Crop Oats/Corn, 236:Dbl Cropp WinWht/Sorghum, 237:Dbl Crop Barley/Corn,    \n",
    "238:Dbl Crop WinWht/Cotten, 240:Dbl Crop Soybeans/Oats, 241:bl Crop Corn/Soybeans, 254: Dbl Crop Barley/Soybeans,    \n",
    "To inlcude: 1, 5, 6, 23, 24, 26, 225,226, 236, 237, 238, 240, 241, 254   "
   ]
  },
  {
   "cell_type": "code",
   "execution_count": 2,
   "id": "a1fc14f4d5180194",
   "metadata": {
    "ExecuteTime": {
     "end_time": "2024-03-04T21:08:16.110040Z",
     "start_time": "2024-03-04T21:08:16.102657Z"
    },
    "collapsed": false
   },
   "outputs": [],
   "source": [
    "# This is my custom import helper function\n",
    "import importlib\n",
    "\n",
    "def import_helper(items):\n",
    "    for item in items:\n",
    "        try:\n",
    "            if isinstance(item, tuple) and len(item) == 2:\n",
    "                module_name, alias = item\n",
    "                module = importlib.import_module(module_name)\n",
    "                globals()[alias] = module   # Store the module, not an attribute\n",
    "            else:\n",
    "                globals()[item] = importlib.import_module(item)\n",
    "            print(f'The {item} is installed.')\n",
    "        except ImportError:\n",
    "            print(f'The {item} is not installed.')\n"
   ]
  },
  {
   "cell_type": "code",
   "execution_count": 3,
   "id": "223beec9325843a6",
   "metadata": {
    "ExecuteTime": {
     "end_time": "2024-03-04T21:08:17.186653Z",
     "start_time": "2024-03-04T21:08:16.111703Z"
    },
    "collapsed": false
   },
   "outputs": [
    {
     "name": "stdout",
     "output_type": "stream",
     "text": [
      "The os is installed.\n",
      "The ('zipfile', 'zp') is installed.\n",
      "The ('numpy', 'np') is installed.\n",
      "The ('pandas', 'pd') is installed.\n",
      "The ('seaborn', 'sns') is installed.\n",
      "The ('geopandas', 'gpd') is installed.\n",
      "The ('matplotlib.pyplot', 'plt') is installed.\n",
      "The rasterio is installed.\n",
      "The ('rasterstats', 'zonal_stats') is installed.\n"
     ]
    }
   ],
   "source": [
    "# Using the helper function:\n",
    "import_helper(['os',\n",
    "               ('zipfile', 'zp'),\n",
    "               ('numpy', 'np'),\n",
    "               ('pandas', 'pd'),\n",
    "               ('seaborn', 'sns'),\n",
    "               ('geopandas', 'gpd'),\n",
    "               ('matplotlib.pyplot', 'plt'),\n",
    "               'rasterio',\n",
    "               ('rasterstats', 'zonal_stats')])"
   ]
  },
  {
   "cell_type": "code",
   "execution_count": 4,
   "id": "6605a155defd1fb4",
   "metadata": {
    "ExecuteTime": {
     "end_time": "2024-03-04T21:08:17.191677Z",
     "start_time": "2024-03-04T21:08:17.188269Z"
    },
    "collapsed": false
   },
   "outputs": [],
   "source": [
    "# pip install rasterstats"
   ]
  },
  {
   "cell_type": "code",
   "execution_count": 5,
   "id": "a85bc184aa3d61c",
   "metadata": {
    "ExecuteTime": {
     "end_time": "2024-03-04T21:08:17.301330Z",
     "start_time": "2024-03-04T21:08:17.194236Z"
    },
    "collapsed": false
   },
   "outputs": [
    {
     "data": {
      "text/plain": [
       "<bound method NDFrame.head of   STATEFP COUNTYFP  COUNTYNS        AFFGEOID  GEOID        NAME LSAD  \\\n",
       "0      20      001  00484970  0500000US20001  20001       Allen   06   \n",
       "1      20      037  00484988  0500000US20037  20037    Crawford   06   \n",
       "2      20      125  00485027  0500000US20125  20125  Montgomery   06   \n",
       "3      20      021  00484980  0500000US20021  20021    Cherokee   06   \n",
       "4      20      205  00485063  0500000US20205  20205      Wilson   06   \n",
       "5      20      133  00485030  0500000US20133  20133      Neosho   06   \n",
       "6      20      207  00485064  0500000US20207  20207     Woodson   06   \n",
       "7      20      011  00484975  0500000US20011  20011     Bourbon   06   \n",
       "8      20      099  00485014  0500000US20099  20099     Labette   06   \n",
       "\n",
       "        ALAND    AWATER                                           geometry  \n",
       "0  1295763786  13022381  POLYGON ((41438.116 1634609.881, 41463.125 163...  \n",
       "1  1527498199  13574680  POLYGON ((79758.943 1613697.800, 79759.066 161...  \n",
       "2  1666900068  20430024  POLYGON ((3120.618 1558329.024, 3108.760 15615...  \n",
       "3  1521791027   8951473  POLYGON ((81161.907 1589243.382, 88184.451 158...  \n",
       "4  1477382268  12052249  POLYGON ((3279.132 1597571.957, 3316.386 15982...  \n",
       "5  1480111173  16369480  POLYGON ((41435.474 1623207.793, 41433.262 162...  \n",
       "6  1289344336  19254559  POLYGON ((3364.885 1642873.355, 3650.351 16428...  \n",
       "7  1645861890   9377600  POLYGON ((79606.321 1633222.626, 79596.413 163...  \n",
       "8  1671560462  20006432  POLYGON ((42047.438 1557977.767, 42109.634 155...  >"
      ]
     },
     "execution_count": 5,
     "metadata": {},
     "output_type": "execute_result"
    }
   ],
   "source": [
    "fn = 'counties_subset_Albers4.shp'\n",
    "data = gpd.read_file(fn)\n",
    "data.head"
   ]
  },
  {
   "cell_type": "code",
   "execution_count": 6,
   "id": "c40485b724a6b9ef",
   "metadata": {
    "ExecuteTime": {
     "end_time": "2024-03-04T21:08:17.316646Z",
     "start_time": "2024-03-04T21:08:17.302984Z"
    },
    "collapsed": false
   },
   "outputs": [
    {
     "data": {
      "text/plain": [
       "<bound method DataFrame.info of   STATEFP COUNTYFP  COUNTYNS        AFFGEOID  GEOID        NAME LSAD  \\\n",
       "0      20      001  00484970  0500000US20001  20001       Allen   06   \n",
       "1      20      037  00484988  0500000US20037  20037    Crawford   06   \n",
       "2      20      125  00485027  0500000US20125  20125  Montgomery   06   \n",
       "3      20      021  00484980  0500000US20021  20021    Cherokee   06   \n",
       "4      20      205  00485063  0500000US20205  20205      Wilson   06   \n",
       "5      20      133  00485030  0500000US20133  20133      Neosho   06   \n",
       "6      20      207  00485064  0500000US20207  20207     Woodson   06   \n",
       "7      20      011  00484975  0500000US20011  20011     Bourbon   06   \n",
       "8      20      099  00485014  0500000US20099  20099     Labette   06   \n",
       "\n",
       "        ALAND    AWATER                                           geometry  \n",
       "0  1295763786  13022381  POLYGON ((41438.116 1634609.881, 41463.125 163...  \n",
       "1  1527498199  13574680  POLYGON ((79758.943 1613697.800, 79759.066 161...  \n",
       "2  1666900068  20430024  POLYGON ((3120.618 1558329.024, 3108.760 15615...  \n",
       "3  1521791027   8951473  POLYGON ((81161.907 1589243.382, 88184.451 158...  \n",
       "4  1477382268  12052249  POLYGON ((3279.132 1597571.957, 3316.386 15982...  \n",
       "5  1480111173  16369480  POLYGON ((41435.474 1623207.793, 41433.262 162...  \n",
       "6  1289344336  19254559  POLYGON ((3364.885 1642873.355, 3650.351 16428...  \n",
       "7  1645861890   9377600  POLYGON ((79606.321 1633222.626, 79596.413 163...  \n",
       "8  1671560462  20006432  POLYGON ((42047.438 1557977.767, 42109.634 155...  >"
      ]
     },
     "execution_count": 6,
     "metadata": {},
     "output_type": "execute_result"
    }
   ],
   "source": [
    "data.info"
   ]
  },
  {
   "cell_type": "code",
   "execution_count": 7,
   "id": "993aca2743a25383",
   "metadata": {
    "ExecuteTime": {
     "end_time": "2024-03-04T21:08:17.324503Z",
     "start_time": "2024-03-04T21:08:17.318116Z"
    },
    "collapsed": false
   },
   "outputs": [
    {
     "data": {
      "text/plain": [
       "<Projected CRS: EPSG:5070>\n",
       "Name: NAD83 / Conus Albers\n",
       "Axis Info [cartesian]:\n",
       "- X[east]: Easting (metre)\n",
       "- Y[north]: Northing (metre)\n",
       "Area of Use:\n",
       "- name: United States (USA) - CONUS onshore - Alabama; Arizona; Arkansas; California; Colorado; Connecticut; Delaware; Florida; Georgia; Idaho; Illinois; Indiana; Iowa; Kansas; Kentucky; Louisiana; Maine; Maryland; Massachusetts; Michigan; Minnesota; Mississippi; Missouri; Montana; Nebraska; Nevada; New Hampshire; New Jersey; New Mexico; New York; North Carolina; North Dakota; Ohio; Oklahoma; Oregon; Pennsylvania; Rhode Island; South Carolina; South Dakota; Tennessee; Texas; Utah; Vermont; Virginia; Washington; West Virginia; Wisconsin; Wyoming.\n",
       "- bounds: (-124.79, 24.41, -66.91, 49.38)\n",
       "Coordinate Operation:\n",
       "- name: Conus Albers\n",
       "- method: Albers Equal Area\n",
       "Datum: North American Datum 1983\n",
       "- Ellipsoid: GRS 1980\n",
       "- Prime Meridian: Greenwich"
      ]
     },
     "execution_count": 7,
     "metadata": {},
     "output_type": "execute_result"
    }
   ],
   "source": [
    "data.crs"
   ]
  },
  {
   "cell_type": "code",
   "execution_count": 8,
   "id": "9a2c10c1fb30da72",
   "metadata": {
    "ExecuteTime": {
     "end_time": "2024-03-04T21:08:17.329243Z",
     "start_time": "2024-03-04T21:08:17.326249Z"
    },
    "collapsed": false
   },
   "outputs": [],
   "source": [
    "# data2 = data.to_crs(epsg=####)"
   ]
  },
  {
   "cell_type": "code",
   "execution_count": 9,
   "id": "7cab3e3c1d75660d",
   "metadata": {
    "ExecuteTime": {
     "end_time": "2024-03-04T21:08:17.353410Z",
     "start_time": "2024-03-04T21:08:17.330940Z"
    },
    "collapsed": false
   },
   "outputs": [
    {
     "data": {
      "text/html": [
       "<div>\n",
       "<style scoped>\n",
       "    .dataframe tbody tr th:only-of-type {\n",
       "        vertical-align: middle;\n",
       "    }\n",
       "\n",
       "    .dataframe tbody tr th {\n",
       "        vertical-align: top;\n",
       "    }\n",
       "\n",
       "    .dataframe thead th {\n",
       "        text-align: right;\n",
       "    }\n",
       "</style>\n",
       "<table border=\"1\" class=\"dataframe\">\n",
       "  <thead>\n",
       "    <tr style=\"text-align: right;\">\n",
       "      <th></th>\n",
       "      <th>ALAND</th>\n",
       "      <th>AWATER</th>\n",
       "    </tr>\n",
       "  </thead>\n",
       "  <tbody>\n",
       "    <tr>\n",
       "      <th>count</th>\n",
       "      <td>9.000000e+00</td>\n",
       "      <td>9.000000e+00</td>\n",
       "    </tr>\n",
       "    <tr>\n",
       "      <th>mean</th>\n",
       "      <td>1.508468e+09</td>\n",
       "      <td>1.478210e+07</td>\n",
       "    </tr>\n",
       "    <tr>\n",
       "      <th>std</th>\n",
       "      <td>1.441116e+08</td>\n",
       "      <td>4.428978e+06</td>\n",
       "    </tr>\n",
       "    <tr>\n",
       "      <th>min</th>\n",
       "      <td>1.289344e+09</td>\n",
       "      <td>8.951473e+06</td>\n",
       "    </tr>\n",
       "    <tr>\n",
       "      <th>25%</th>\n",
       "      <td>1.477382e+09</td>\n",
       "      <td>1.205225e+07</td>\n",
       "    </tr>\n",
       "    <tr>\n",
       "      <th>50%</th>\n",
       "      <td>1.521791e+09</td>\n",
       "      <td>1.357468e+07</td>\n",
       "    </tr>\n",
       "    <tr>\n",
       "      <th>75%</th>\n",
       "      <td>1.645862e+09</td>\n",
       "      <td>1.925456e+07</td>\n",
       "    </tr>\n",
       "    <tr>\n",
       "      <th>max</th>\n",
       "      <td>1.671560e+09</td>\n",
       "      <td>2.043002e+07</td>\n",
       "    </tr>\n",
       "  </tbody>\n",
       "</table>\n",
       "</div>"
      ],
      "text/plain": [
       "              ALAND        AWATER\n",
       "count  9.000000e+00  9.000000e+00\n",
       "mean   1.508468e+09  1.478210e+07\n",
       "std    1.441116e+08  4.428978e+06\n",
       "min    1.289344e+09  8.951473e+06\n",
       "25%    1.477382e+09  1.205225e+07\n",
       "50%    1.521791e+09  1.357468e+07\n",
       "75%    1.645862e+09  1.925456e+07\n",
       "max    1.671560e+09  2.043002e+07"
      ]
     },
     "execution_count": 9,
     "metadata": {},
     "output_type": "execute_result"
    }
   ],
   "source": [
    "data.describe()"
   ]
  },
  {
   "cell_type": "code",
   "execution_count": 10,
   "id": "ecb826a0b6bf43ab",
   "metadata": {
    "ExecuteTime": {
     "end_time": "2024-03-04T21:08:17.545241Z",
     "start_time": "2024-03-04T21:08:17.355119Z"
    },
    "collapsed": false
   },
   "outputs": [
    {
     "data": {
      "text/plain": [
       "<Axes: >"
      ]
     },
     "execution_count": 10,
     "metadata": {},
     "output_type": "execute_result"
    },
    {
     "data": {
      "image/png": "[encoded data removed]",
      "text/plain": [
       "<Figure size 640x480 with 1 Axes>"
      ]
     },
     "metadata": {},
     "output_type": "display_data"
    }
   ],
   "source": [
    "data.plot()"
   ]
  },
  {
   "cell_type": "code",
   "execution_count": 11,
   "id": "49626e64acd54dc5",
   "metadata": {
    "ExecuteTime": {
     "end_time": "2024-03-04T21:08:17.553085Z",
     "start_time": "2024-03-04T21:08:17.546702Z"
    },
    "collapsed": false
   },
   "outputs": [
    {
     "data": {
      "text/plain": [
       "'# output file \\noutfp = \"test_out.shp\"\\ndata.to_file(outfp)\\n'"
      ]
     },
     "execution_count": 11,
     "metadata": {},
     "output_type": "execute_result"
    }
   ],
   "source": [
    "'''# output file \n",
    "outfp = \"test_out.shp\"\n",
    "data.to_file(outfp)\n",
    "'''"
   ]
  },
  {
   "cell_type": "code",
   "execution_count": 12,
   "id": "9cfa3fe049dd87de",
   "metadata": {
    "ExecuteTime": {
     "end_time": "2024-03-04T21:08:17.562820Z",
     "start_time": "2024-03-04T21:08:17.554637Z"
    },
    "collapsed": false
   },
   "outputs": [
    {
     "data": {
      "text/plain": [
       "'\\nPandas.to_datetime\\n# New column called date in dt format\\n'"
      ]
     },
     "execution_count": 12,
     "metadata": {},
     "output_type": "execute_result"
    }
   ],
   "source": [
    "'''\n",
    "Pandas.to_datetime\n",
    "# New column called date in dt format\n",
    "'''"
   ]
  },
  {
   "cell_type": "code",
   "execution_count": 13,
   "id": "e76a260101cfea82",
   "metadata": {
    "ExecuteTime": {
     "end_time": "2024-03-04T21:08:17.627283Z",
     "start_time": "2024-03-04T21:08:17.564432Z"
    },
    "collapsed": false
   },
   "outputs": [],
   "source": [
    "raster = rasterio.open('crop_cover_2019.tif')"
   ]
  },
  {
   "cell_type": "code",
   "execution_count": 14,
   "id": "b7ca7cb265aea8e7",
   "metadata": {
    "ExecuteTime": {
     "end_time": "2024-03-04T21:08:17.644263Z",
     "start_time": "2024-03-04T21:08:17.631427Z"
    },
    "collapsed": false
   },
   "outputs": [
    {
     "data": {
      "text/plain": [
       "rasterio.io.DatasetReader"
      ]
     },
     "execution_count": 14,
     "metadata": {},
     "output_type": "execute_result"
    }
   ],
   "source": [
    "type(raster)"
   ]
  },
  {
   "cell_type": "code",
   "execution_count": 15,
   "id": "455e623a53524633",
   "metadata": {
    "ExecuteTime": {
     "end_time": "2024-03-04T21:08:17.652793Z",
     "start_time": "2024-03-04T21:08:17.645823Z"
    },
    "collapsed": false
   },
   "outputs": [
    {
     "data": {
      "text/plain": [
       "CRS.from_epsg(5070)"
      ]
     },
     "execution_count": 15,
     "metadata": {},
     "output_type": "execute_result"
    }
   ],
   "source": [
    "raster.crs"
   ]
  },
  {
   "cell_type": "code",
   "execution_count": 16,
   "id": "40e9c20ebd17277e",
   "metadata": {
    "ExecuteTime": {
     "end_time": "2024-03-04T21:08:17.659106Z",
     "start_time": "2024-03-04T21:08:17.654536Z"
    },
    "collapsed": false
   },
   "outputs": [],
   "source": [
    "# raster.head()"
   ]
  },
  {
   "cell_type": "code",
   "execution_count": 17,
   "id": "55b242546b940868",
   "metadata": {
    "ExecuteTime": {
     "end_time": "2024-03-04T21:08:17.724889Z",
     "start_time": "2024-03-04T21:08:17.661421Z"
    },
    "collapsed": false
   },
   "outputs": [
    {
     "data": {
      "text/plain": [
       "array([[[176, 176, 176, ...,   1,   5,   5],\n",
       "        [176, 176, 176, ..., 176,  26, 141],\n",
       "        [176, 176, 176, ...,   1, 141,   1],\n",
       "        ...,\n",
       "        [176, 121, 121, ..., 141, 121, 141],\n",
       "        [121, 121, 176, ..., 176, 121, 141],\n",
       "        [176, 176, 176, ..., 141, 121, 141]]], dtype=uint8)"
      ]
     },
     "execution_count": 17,
     "metadata": {},
     "output_type": "execute_result"
    }
   ],
   "source": [
    "with rasterio.open('crop_cover_2019.tif') as raster_crop:\n",
    "    crop_val = raster_crop.read()\n",
    "crop_val"
   ]
  },
  {
   "cell_type": "code",
   "execution_count": 18,
   "id": "983a72952d95a4dc",
   "metadata": {
    "ExecuteTime": {
     "end_time": "2024-03-04T21:08:17.730227Z",
     "start_time": "2024-03-04T21:08:17.726353Z"
    },
    "collapsed": false
   },
   "outputs": [],
   "source": [
    "# Packages \n",
    "from rasterio.warp import calculate_default_transform, reproject, Resampling"
   ]
  },
  {
   "cell_type": "code",
   "execution_count": 19,
   "id": "dc2672dcd3dd2d41",
   "metadata": {
    "ExecuteTime": {
     "end_time": "2024-03-04T21:08:17.741100Z",
     "start_time": "2024-03-04T21:08:17.733871Z"
    },
    "collapsed": false
   },
   "outputs": [
    {
     "data": {
      "text/plain": [
       "BoundingBox(left=-30012.21913293552, bottom=1544807.0280387579, right=154937.7808670645, top=1673717.0280387579)"
      ]
     },
     "execution_count": 19,
     "metadata": {},
     "output_type": "execute_result"
    }
   ],
   "source": [
    "raster.bounds"
   ]
  },
  {
   "cell_type": "code",
   "execution_count": 20,
   "id": "bac5cd2e6b47ec6b",
   "metadata": {
    "ExecuteTime": {
     "end_time": "2024-03-04T21:08:17.747827Z",
     "start_time": "2024-03-04T21:08:17.743293Z"
    },
    "collapsed": false
   },
   "outputs": [
    {
     "name": "stdout",
     "output_type": "stream",
     "text": [
      "metre\n"
     ]
    }
   ],
   "source": [
    "# Raster resolution \n",
    "print(raster.crs.linear_units)"
   ]
  },
  {
   "cell_type": "code",
   "execution_count": 21,
   "id": "21e56f40e417b26d",
   "metadata": {
    "ExecuteTime": {
     "end_time": "2024-03-04T21:08:17.752072Z",
     "start_time": "2024-03-04T21:08:17.749325Z"
    },
    "collapsed": false
   },
   "outputs": [],
   "source": [
    "dst_crs = 'EPSG:9712'"
   ]
  },
  {
   "cell_type": "code",
   "execution_count": 22,
   "id": "a6f8c32ac0ca6bbd",
   "metadata": {
    "ExecuteTime": {
     "end_time": "2024-03-04T21:08:17.777684Z",
     "start_time": "2024-03-04T21:08:17.753400Z"
    },
    "collapsed": false
   },
   "outputs": [],
   "source": [
    "# step 1: Calculate transform array and shape of reprojected raster \n",
    "with rasterio.open('crop_cover_2019.tif') as src:\n",
    "    transform, width, height = calculate_default_transform(\n",
    "        src.crs, dst_crs, src.width, src.height, *src.bounds)"
   ]
  },
  {
   "cell_type": "code",
   "execution_count": 22,
   "id": "48cf8234353e8ef7",
   "metadata": {
    "ExecuteTime": {
     "end_time": "2024-03-04T21:08:17.782Z",
     "start_time": "2024-03-04T21:08:17.779402Z"
    },
    "collapsed": false
   },
   "outputs": [],
   "source": []
  }
 ],
 "metadata": {
  "kernelspec": {
   "display_name": "Python 3 (ipykernel)",
   "language": "python",
   "name": "python3"
  },
  "language_info": {
   "codemirror_mode": {
    "name": "ipython",
    "version": 3
   },
   "file_extension": ".py",
   "mimetype": "text/x-python",
   "name": "python",
   "nbconvert_exporter": "python",
   "pygments_lexer": "ipython3",
   "version": "3.11.7"
  }
 },
 "nbformat": 4,
 "nbformat_minor": 5
}
