{
 "cells": [
  {
   "cell_type": "markdown",
   "execution_count": null,
   "id": "79ea9e7284ee2ede",
   "metadata": {
    "collapsed": false
   },
   "source": []
  },
  {
   "cell_type": "code",
   "execution_count": 1,
   "id": "ce0e2438d3966c12",
   "metadata": {
    "ExecuteTime": {
     "end_time": "2024-03-17T23:11:52.801180Z",
     "start_time": "2024-03-17T23:11:52.794904Z"
    },
    "collapsed": false
   },
   "outputs": [],
   "source": [
    "NAME = 'Jason Ehlenberger'\n",
    "COLLABORATORS = 'N/A'"
   ]
  },
  {
   "cell_type": "code",
   "execution_count": 2,
   "id": "c94d61af4cba311e",
   "metadata": {
    "ExecuteTime": {
     "end_time": "2024-03-17T23:11:53.384091Z",
     "start_time": "2024-03-17T23:11:52.805554Z"
    },
    "collapsed": false
   },
   "outputs": [],
   "source": [
    "import os\n",
    "import zipfile as zp\n",
    "import numpy as np\n",
    "import pandas as pd\n",
    "import seaborn as sns\n",
    "import geopandas as gpd\n",
    "import matplotlib.pyplot as plt\n",
    "import rasterio\n",
    "from rasterio.plot import show\n",
    "from rasterio.plot import show_hist\n",
    "from rasterio.warp import calculate_default_transform, reproject, Resampling\n",
    "from rasterstats import zonal_stats"
   ]
  },
  {
   "cell_type": "code",
   "execution_count": 3,
   "id": "7b199a85c7019f0d",
   "metadata": {
    "ExecuteTime": {
     "end_time": "2024-03-17T23:11:53.396615Z",
     "start_time": "2024-03-17T23:11:53.386237Z"
    },
    "collapsed": false
   },
   "outputs": [
    {
     "name": "stdout",
     "output_type": "stream",
     "text": [
      "Data\\Assignment2\n"
     ]
    }
   ],
   "source": [
    "# Path to the directory\n",
    "directory = 'Data\\Assignment2'\n",
    "\n",
    "# Check if the directory exists\n",
    "if os.path.isdir(directory):\n",
    "    src_dir = directory\n",
    "else:\n",
    "    src_dir = None\n",
    "\n",
    "print(src_dir)"
   ]
  },
  {
   "cell_type": "code",
   "execution_count": 4,
   "id": "16f17a306fe84f09",
   "metadata": {
    "ExecuteTime": {
     "end_time": "2024-03-17T23:11:57.118631Z",
     "start_time": "2024-03-17T23:11:57.112361Z"
    },
    "collapsed": false
   },
   "outputs": [],
   "source": [
    "def data_path(directory, filename):\n",
    "    file_path = os.path.join(directory, filename)\n",
    "    return file_path"
   ]
  },
  {
   "cell_type": "code",
   "execution_count": 5,
   "id": "96f6b7e927f134e3",
   "metadata": {
    "ExecuteTime": {
     "end_time": "2024-03-17T23:12:33.542713Z",
     "start_time": "2024-03-17T23:12:33.428260Z"
    },
    "collapsed": false
   },
   "outputs": [
    {
     "data": {
      "text/plain": [
       "rasterio.io.DatasetReader"
      ]
     },
     "execution_count": 5,
     "metadata": {},
     "output_type": "execute_result"
    }
   ],
   "source": [
    "# Use the new function to set the path\n",
    "shpfn = 'counties_subset_Albers4.shp'\n",
    "data = data_path(src_dir, shpfn)\n",
    "\n",
    "rstfn = 'crop_cover_2019.tif'\n",
    "raster = rasterio.open(data_path(src_dir, rstfn))\n",
    "\n",
    "type(raster)"
   ]
  },
  {
   "cell_type": "code",
   "execution_count": 6,
   "id": "616ed82d2c155007",
   "metadata": {
    "ExecuteTime": {
     "end_time": "2024-03-17T23:12:39.760712Z",
     "start_time": "2024-03-17T23:12:39.742559Z"
    },
    "collapsed": false
   },
   "outputs": [
    {
     "data": {
      "text/plain": [
       "CRS.from_epsg(5070)"
      ]
     },
     "execution_count": 6,
     "metadata": {},
     "output_type": "execute_result"
    }
   ],
   "source": [
    "raster.crs"
   ]
  },
  {
   "cell_type": "code",
   "execution_count": 7,
   "id": "a5586887658f85a",
   "metadata": {
    "ExecuteTime": {
     "end_time": "2024-03-17T23:12:47.596282Z",
     "start_time": "2024-03-17T23:12:47.479556Z"
    },
    "collapsed": false
   },
   "outputs": [
    {
     "data": {
      "text/plain": [
       "array([[[176, 176, 176, ...,   1,   5,   5],\n",
       "        [176, 176, 176, ..., 176,  26, 141],\n",
       "        [176, 176, 176, ...,   1, 141,   1],\n",
       "        ...,\n",
       "        [176, 121, 121, ..., 141, 121, 141],\n",
       "        [121, 121, 176, ..., 176, 121, 141],\n",
       "        [176, 176, 176, ..., 141, 121, 141]]], dtype=uint8)"
      ]
     },
     "execution_count": 7,
     "metadata": {},
     "output_type": "execute_result"
    }
   ],
   "source": [
    "with rasterio.open(data_path(src_dir, 'crop_cover_2019.tif')) as raster_crop:\n",
    "    crop_val = raster_crop.read()\n",
    "crop_val"
   ]
  },
  {
   "cell_type": "code",
   "execution_count": 8,
   "id": "c58b8fe512b4d6c8",
   "metadata": {
    "ExecuteTime": {
     "end_time": "2024-03-17T23:12:50.696998Z",
     "start_time": "2024-03-17T23:12:50.689251Z"
    },
    "collapsed": false
   },
   "outputs": [
    {
     "data": {
      "text/plain": [
       "BoundingBox(left=-30012.21913293552, bottom=1544807.0280387579, right=154937.7808670645, top=1673717.0280387579)"
      ]
     },
     "execution_count": 8,
     "metadata": {},
     "output_type": "execute_result"
    }
   ],
   "source": [
    "raster.bounds"
   ]
  },
  {
   "cell_type": "code",
   "execution_count": 9,
   "id": "aa6f94bfec1d9cc5",
   "metadata": {
    "ExecuteTime": {
     "end_time": "2024-03-17T23:12:52.182531Z",
     "start_time": "2024-03-17T23:12:52.174240Z"
    },
    "collapsed": false
   },
   "outputs": [
    {
     "name": "stdout",
     "output_type": "stream",
     "text": [
      "The raster units are metres and the resolution is (30.0, 30.0).\n"
     ]
    }
   ],
   "source": [
    "# Raster units & Resolution\n",
    "print(f'The raster units are {raster.crs.linear_units}s and the resolution is {raster.res}.')"
   ]
  },
  {
   "cell_type": "code",
   "execution_count": 10,
   "id": "a3f41a3e488fa2e9",
   "metadata": {
    "ExecuteTime": {
     "end_time": "2024-03-17T23:13:18.900201Z",
     "start_time": "2024-03-17T23:13:18.889647Z"
    },
    "collapsed": false
   },
   "outputs": [],
   "source": [
    "dst_crs = 'EPSG:9712'"
   ]
  },
  {
   "cell_type": "code",
   "execution_count": 11,
   "id": "2b1ae9d36e60b75c",
   "metadata": {
    "ExecuteTime": {
     "end_time": "2024-03-17T23:14:02.521567Z",
     "start_time": "2024-03-17T23:14:02.485731Z"
    },
    "collapsed": false
   },
   "outputs": [],
   "source": [
    "# step 1: Calculate transform array and shape of reprojected raster \n",
    "with rasterio.open(data_path(src_dir, 'crop_cover_2019.tif')) as src:\n",
    "    transform, width, height = calculate_default_transform(\n",
    "        src.crs, dst_crs, src.width, src.height, *src.bounds)"
   ]
  },
  {
   "cell_type": "code",
   "execution_count": 12,
   "id": "17f70e690c506930",
   "metadata": {
    "ExecuteTime": {
     "end_time": "2024-03-17T23:15:09.253790Z",
     "start_time": "2024-03-17T23:15:09.238796Z"
    },
    "collapsed": false
   },
   "outputs": [],
   "source": [
    "    # step 2: We copy metadata from source dataset to dictionary object `kwargs`\n",
    "    kwargs = src.meta.copy()\n",
    "    # step 3: we update information in kwargs object with destination crs \n",
    "    kwargs.update({\n",
    "    'crs': dst_crs,\n",
    "    'transform': transform, \n",
    "    'width': width, \n",
    "    'height': height\n",
    "    })"
   ]
  },
  {
   "cell_type": "code",
   "execution_count": null,
   "id": "f6a21c0b3cb49ae4",
   "metadata": {
    "collapsed": false
   },
   "outputs": [],
   "source": [
    " # step 4: for each band (i), we reproject the calculated parameters froms source to destination      \n",
    "    with rasterio.open(data_path(src_dir,'crop_2018_subset2_pr.tif', 'w', **kwargs)) as dst:\n",
    "        for i in range(1, src.count +1):\n",
    "            reproject(\n",
    "                source = rasterio.band(src, i), \n",
    "                destination = rasterio.band(dst, i), \n",
    "                src_transform = src.transform, \n",
    "                src_crs = src.crs, \n",
    "                dst_transform = transform, \n",
    "                dst_crs = dst_crs, \n",
    "                resampling = Resampling.nearest)\n",
    "    # make sure to close the raster file\n",
    "        dst.close()"
   ]
  }
 ],
 "metadata": {
  "kernelspec": {
   "display_name": "WindBreaks",
   "language": "python",
   "name": "windbreaks"
  },
  "language_info": {
   "codemirror_mode": {
    "name": "ipython",
    "version": 3
   },
   "file_extension": ".py",
   "mimetype": "text/x-python",
   "name": "python",
   "nbconvert_exporter": "python",
   "pygments_lexer": "ipython3",
   "version": "3.11.7"
  }
 },
 "nbformat": 4,
 "nbformat_minor": 5
}
