{
 "cells": [
  {
   "cell_type": "markdown",
   "id": "79ea9e7284ee2ede",
   "metadata": {
    "collapsed": false
   },
   "source": []
  },
  {
   "cell_type": "code",
   "execution_count": 1,
   "id": "ce0e2438d3966c12",
   "metadata": {
    "ExecuteTime": {
     "end_time": "2024-03-18T16:35:04.256586Z",
     "start_time": "2024-03-18T16:35:04.252929Z"
    },
    "collapsed": false
   },
   "outputs": [],
   "source": [
    "NAME = 'Jason Ehlenberger'\n",
    "COLLABORATORS = 'N/A'"
   ]
  },
  {
   "cell_type": "code",
   "execution_count": null,
   "id": "c94d61af4cba311e",
   "metadata": {
    "collapsed": false
   },
   "outputs": [],
   "source": [
    "import os\n",
    "import zipfile as zp\n",
    "import numpy as np\n",
    "import pandas as pd\n",
    "import seaborn as sns\n",
    "import geopandas as gpd\n",
    "import matplotlib.pyplot as plt\n",
    "import rasterio\n",
    "from rasterio.plot import show\n",
    "from rasterio.plot import show_hist\n",
    "from rasterio.warp import calculate_default_transform, reproject, Resampling\n",
    "from rasterstats import zonal_stats"
   ]
  },
  {
   "cell_type": "code",
   "execution_count": null,
   "id": "7b199a85c7019f0d",
   "metadata": {
    "collapsed": false
   },
   "outputs": [],
   "source": [
    "# Path to the directory\n",
    "directory = 'Data\\Assignment2'\n",
    "\n",
    "# Check if the directory exists\n",
    "if os.path.isdir(directory):\n",
    "    src_dir = directory\n",
    "else:\n",
    "    src_dir = None\n",
    "\n",
    "print(src_dir)"
   ]
  },
  {
   "cell_type": "code",
   "execution_count": null,
   "id": "16f17a306fe84f09",
   "metadata": {
    "collapsed": false
   },
   "outputs": [],
   "source": [
    "def data_path(directory, filename):\n",
    "    file_path = os.path.join(directory, filename)\n",
    "    return file_path"
   ]
  },
  {
   "cell_type": "code",
   "execution_count": null,
   "id": "96f6b7e927f134e3",
   "metadata": {
    "collapsed": false
   },
   "outputs": [],
   "source": [
    "# Use the new function to set the path\n",
    "shpfn = 'counties_subset_Albers4.shp'\n",
    "data = data_path(src_dir, shpfn)\n",
    "\n",
    "rstfn = 'crop_cover_2019.tif'\n",
    "raster = rasterio.open(data_path(src_dir, rstfn))\n",
    "\n",
    "type(raster)"
   ]
  },
  {
   "cell_type": "code",
   "execution_count": null,
   "id": "616ed82d2c155007",
   "metadata": {
    "collapsed": false
   },
   "outputs": [],
   "source": [
    "raster.crs"
   ]
  },
  {
   "cell_type": "code",
   "execution_count": null,
   "id": "a5586887658f85a",
   "metadata": {
    "collapsed": false
   },
   "outputs": [],
   "source": [
    "with rasterio.open(data_path(src_dir, 'crop_cover_2019.tif')) as raster_crop:\n",
    "    crop_val = raster_crop.read()\n",
    "crop_val"
   ]
  },
  {
   "cell_type": "code",
   "execution_count": null,
   "id": "c58b8fe512b4d6c8",
   "metadata": {
    "collapsed": false
   },
   "outputs": [],
   "source": [
    "raster.bounds"
   ]
  },
  {
   "cell_type": "code",
   "execution_count": null,
   "id": "aa6f94bfec1d9cc5",
   "metadata": {
    "collapsed": false
   },
   "outputs": [],
   "source": [
    "# Raster units & Resolution\n",
    "print(f'The raster units are {raster.crs.linear_units}s and the resolution is {raster.res}.')"
   ]
  },
  {
   "cell_type": "code",
   "execution_count": null,
   "id": "a3f41a3e488fa2e9",
   "metadata": {
    "collapsed": false
   },
   "outputs": [],
   "source": [
    "dst_crs = 'EPSG:9712'"
   ]
  },
  {
   "cell_type": "code",
   "execution_count": null,
   "id": "2b1ae9d36e60b75c",
   "metadata": {
    "collapsed": false
   },
   "outputs": [],
   "source": [
    "# step 1: Calculate transform array and shape of reprojected raster \n",
    "with rasterio.open(data_path(src_dir, 'crop_cover_2019.tif')) as src:\n",
    "    transform, width, height = calculate_default_transform(\n",
    "        src.crs, dst_crs, src.width, src.height, *src.bounds)"
   ]
  },
  {
   "cell_type": "code",
   "execution_count": null,
   "id": "17f70e690c506930",
   "metadata": {
    "collapsed": false
   },
   "outputs": [],
   "source": [
    "    # step 2: We copy metadata from source dataset to dictionary object `kwargs`\n",
    "    kwargs = src.meta.copy()\n",
    "    # step 3: we update information in kwargs object with destination crs \n",
    "    kwargs.update({\n",
    "    'crs': dst_crs,\n",
    "    'transform': transform, \n",
    "    'width': width, \n",
    "    'height': height\n",
    "    })"
   ]
  },
  {
   "cell_type": "code",
   "execution_count": null,
   "id": "f6a21c0b3cb49ae4",
   "metadata": {
    "collapsed": false
   },
   "outputs": [],
   "source": [
    " # step 4: for each band (i), we reproject the calculated parameters froms source to destination      \n",
    "    with rasterio.open(data_path(src_dir,'crop_2018_subset2_pr.tif', 'w', **kwargs)) as dst:\n",
    "        for i in range(1, src.count +1):\n",
    "            reproject(\n",
    "                source = rasterio.band(src, i), \n",
    "                destination = rasterio.band(dst, i), \n",
    "                src_transform = src.transform, \n",
    "                src_crs = src.crs, \n",
    "                dst_transform = transform, \n",
    "                dst_crs = dst_crs, \n",
    "                resampling = Resampling.nearest)\n",
    "    # make sure to close the raster file\n",
    "        dst.close()"
   ]
  }
 ],
 "metadata": {
  "kernelspec": {
   "name": "windbreaks",
   "language": "python",
   "display_name": "WindBreaks"
  },
  "language_info": {
   "codemirror_mode": {
    "name": "ipython",
    "version": 3
   },
   "file_extension": ".py",
   "mimetype": "text/x-python",
   "name": "python",
   "nbconvert_exporter": "python",
   "pygments_lexer": "ipython3",
   "version": "3.11.7"
  }
 },
 "nbformat": 4,
 "nbformat_minor": 5
}
