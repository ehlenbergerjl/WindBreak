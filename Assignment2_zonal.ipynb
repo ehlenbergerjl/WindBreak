{
 "cells": [
  {
   "cell_type": "markdown",
   "source": [
    "Before you turn this problem in, make sure everything runs as expected. First, **restart the kernel** (in the menubar, select Kernel$\\rightarrow$Restart) and then **run all cells** (in the menubar, select Cell$\\rightarrow$Run All).\n",
    "\n",
    "Make sure you fill in any place that says `YOUR CODE HERE` or \"YOUR ANSWER HERE\", as well as your name and collaborators below:"
   ],
   "metadata": {
    "collapsed": false
   },
   "id": "79ea9e7284ee2ede"
  },
  {
   "cell_type": "code",
   "outputs": [],
   "source": [
    "NAME = 'Jason Ehlenberger'\n",
    "COLLABORATORS = 'N/A'"
   ],
   "metadata": {
    "collapsed": false
   },
   "id": "ce0e2438d3966c12",
   "execution_count": null
  },
  {
   "cell_type": "markdown",
   "source": [
    "---"
   ],
   "metadata": {
    "collapsed": false
   },
   "id": "1f2a1040232fd37e"
  },
  {
   "cell_type": "markdown",
   "source": [
    "# Assignment 2:"
   ],
   "metadata": {
    "collapsed": false
   },
   "id": "503d08525a399b6c"
  },
  {
   "cell_type": "markdown",
   "source": [
    "1) Create zonal statistics (basically the whole step) for these datasets:   \n",
    "counties_subset_Albers4.shp   \n",
    "crop_cover_2019.tif\n",
    "2) In the zonal statistics, only include these crops: 1, 5, 6, 23, 24, 26, 225,226, 236, 237, 238, 240, 241, 254.\n",
    "3) From the zonal stat table, delete column \"sum\".\n",
    "4) What is the unit of the zonal statistics result? "
   ],
   "metadata": {
    "collapsed": false
   },
   "id": "2f69ea2b23a23e24"
  },
  {
   "cell_type": "markdown",
   "source": [
    "What does the crop_2018_subset represent:   \n",
    "1:Corn, 5:Soybeans, 6:Sunflower, 23:Spring Wheat, 24:Winter Wheat, 26:Dbl Crop WinWht/Soybeans   \n",
    "225:Dbl Crop WinWht/Corn, 226:Dbl Crop Oats/Corn, 236:Dbl Cropp WinWht/Sorghum, 237:Dbl Crop Barley/Corn,    \n",
    "238:Dbl Crop WinWht/Cotten, 240:Dbl Crop Soybeans/Oats, 241:bl Crop Corn/Soybeans, 254: Dbl Crop Barley/Soybeans,    \n",
    "To inlcude: 1, 5, 6, 23, 24, 26, 225,226, 236, 237, 238, 240, 241, 254   "
   ],
   "metadata": {
    "collapsed": false
   },
   "id": "c144f26560b0461f"
  },
  {
   "cell_type": "code",
   "outputs": [],
   "source": [
    "import numpy"
   ],
   "metadata": {
    "collapsed": false,
    "ExecuteTime": {
     "end_time": "2024-03-16T23:58:19.494562Z",
     "start_time": "2024-03-16T23:58:19.479261Z"
    }
   },
   "id": "6e6de599470b88e",
   "execution_count": 2
  },
  {
   "cell_type": "code",
   "outputs": [
    {
     "ename": "ModuleNotFoundError",
     "evalue": "No module named 'pandas'",
     "output_type": "error",
     "traceback": [
      "\u001B[1;31m---------------------------------------------------------------------------\u001B[0m",
      "\u001B[1;31mModuleNotFoundError\u001B[0m                       Traceback (most recent call last)",
      "Cell \u001B[1;32mIn[1], line 4\u001B[0m\n\u001B[0;32m      2\u001B[0m \u001B[38;5;28;01mimport\u001B[39;00m \u001B[38;5;21;01mzipfile\u001B[39;00m \u001B[38;5;28;01mas\u001B[39;00m \u001B[38;5;21;01mzp\u001B[39;00m\n\u001B[0;32m      3\u001B[0m \u001B[38;5;28;01mimport\u001B[39;00m \u001B[38;5;21;01mnumpy\u001B[39;00m \u001B[38;5;28;01mas\u001B[39;00m \u001B[38;5;21;01mnp\u001B[39;00m\n\u001B[1;32m----> 4\u001B[0m \u001B[38;5;28;01mimport\u001B[39;00m \u001B[38;5;21;01mpandas\u001B[39;00m \u001B[38;5;28;01mas\u001B[39;00m \u001B[38;5;21;01mpd\u001B[39;00m\n\u001B[0;32m      5\u001B[0m \u001B[38;5;28;01mimport\u001B[39;00m \u001B[38;5;21;01mseaborn\u001B[39;00m \u001B[38;5;28;01mas\u001B[39;00m \u001B[38;5;21;01msns\u001B[39;00m\n\u001B[0;32m      6\u001B[0m \u001B[38;5;28;01mimport\u001B[39;00m \u001B[38;5;21;01mgeopandas\u001B[39;00m \u001B[38;5;28;01mas\u001B[39;00m \u001B[38;5;21;01mgpd\u001B[39;00m\n",
      "\u001B[1;31mModuleNotFoundError\u001B[0m: No module named 'pandas'"
     ]
    }
   ],
   "source": [
    "import os\n",
    "import zipfile as zp\n",
    "import numpy as np\n",
    "import pandas as pd\n",
    "import seaborn as sns\n",
    "import geopandas as gpd\n",
    "import matplotlib.pyplot as plt\n",
    "import rasterio\n",
    "from rasterio.plot import show\n",
    "from rasterio.plot import show_hist\n",
    "from rasterstats import zonal_stats"
   ],
   "metadata": {
    "collapsed": false,
    "ExecuteTime": {
     "end_time": "2024-03-17T01:07:02.486428Z",
     "start_time": "2024-03-17T01:07:02.237470Z"
    }
   },
   "id": "c94d61af4cba311e",
   "execution_count": 1
  },
  {
   "cell_type": "code",
   "outputs": [],
   "source": [
    "# Path to the directory\n",
    "directory = 'G:\\\\Shared drives\\\\ASU_Excehl_Bridge\\\\DataSpellProjects\\\\Data\\\\Assignment2'\n",
    "\n",
    "# Check if the directory exists\n",
    "if os.path.isdir(directory):\n",
    "    src_dir = directory\n",
    "else:\n",
    "    src_dir = None\n",
    "\n",
    "print(src_dir)"
   ],
   "metadata": {
    "collapsed": false
   },
   "id": "7b199a85c7019f0d"
  },
  {
   "cell_type": "code",
   "outputs": [],
   "source": [
    "def load_data(directory, filename):\n",
    "    file_path = os.path.join(directory, filename)\n",
    "    data = gpd.read_file(file_path)\n",
    "    return data"
   ],
   "metadata": {
    "collapsed": false
   },
   "id": "16f17a306fe84f09"
  },
  {
   "cell_type": "code",
   "outputs": [],
   "source": [
    "  # Use the new function to load data (shapefile in this case)\n",
    "filename = 'counties_subset_Albers4.shp'\n",
    "data = load_data(src_dir, filename)\n",
    "\n",
    "# Load raster data\n",
    "raster_filename = 'crop_cover_2019.tif'\n",
    "raster = rasterio.open(load_data(src_dir, raster_filename))\n",
    "\n",
    "type(raster)"
   ],
   "metadata": {
    "collapsed": false
   },
   "id": "96f6b7e927f134e3"
  },
  {
   "cell_type": "code",
   "outputs": [],
   "source": [
    "raster.crs"
   ],
   "metadata": {
    "collapsed": false
   },
   "id": "616ed82d2c155007"
  },
  {
   "cell_type": "code",
   "outputs": [],
   "source": [
    "# raster.head()"
   ],
   "metadata": {
    "collapsed": false
   },
   "id": "842987b562d1861e"
  },
  {
   "cell_type": "code",
   "outputs": [],
   "source": [
    "with rasterio.open(os.path.join(src_dir, 'crop_cover_2019.tif')) as raster_crop:\n",
    "    crop_val = raster_crop.read()\n",
    "crop_val"
   ],
   "metadata": {
    "collapsed": false
   },
   "id": "a5586887658f85a"
  },
  {
   "cell_type": "code",
   "outputs": [],
   "source": [
    "# Packages \n",
    "from rasterio.warp import calculate_default_transform, reproject, Resampling"
   ],
   "metadata": {
    "collapsed": false
   },
   "id": "25c01c8978ac2bd8"
  },
  {
   "cell_type": "code",
   "outputs": [],
   "source": [
    "raster.bounds"
   ],
   "metadata": {
    "collapsed": false
   },
   "id": "c58b8fe512b4d6c8"
  },
  {
   "cell_type": "code",
   "outputs": [],
   "source": [
    "# Raster resolution \n",
    "print(raster.crs.linear_units)"
   ],
   "metadata": {
    "collapsed": false
   },
   "id": "aa6f94bfec1d9cc5"
  },
  {
   "cell_type": "code",
   "outputs": [],
   "source": [
    "dst_crs = 'EPSG:9712'"
   ],
   "metadata": {
    "collapsed": false
   },
   "id": "a3f41a3e488fa2e9"
  },
  {
   "cell_type": "code",
   "outputs": [],
   "source": [
    "# step 1: Calculate transform array and shape of reprojected raster \n",
    "with rasterio.open(os.path.join(src_dir, 'crop_cover_2019.tif')) as src:\n",
    "    transform, width, height = calculate_default_transform(\n",
    "        src.crs, dst_crs, src.width, src.height, *src.bounds)"
   ],
   "metadata": {
    "collapsed": false
   },
   "id": "2b1ae9d36e60b75c"
  },
  {
   "cell_type": "code",
   "outputs": [],
   "source": [
    "    # step 2: We copy metadata from source dataset to dictionary object `kwargs`\n",
    "    # step 3: we update information in kwargs object with destination crs \n",
    "    kwargs = src.meta.copy()\n",
    "    kwargs.update({\n",
    "    'crs': dst_crs,\n",
    "    'transform': transform, \n",
    "    'width': width, \n",
    "    'height': height\n",
    "    })"
   ],
   "metadata": {
    "collapsed": false
   },
   "id": "17f70e690c506930"
  },
  {
   "cell_type": "code",
   "outputs": [],
   "source": [
    " # step 4: for each band (i), we reproject the calculated parameters froms source to destination      \n",
    "    with rasterio.open(os.path.join(src_dir,'crop_2018_subset2_pr.tif', 'w', **kwargs)) as dst:\n",
    "        for i in range(1, src.count +1):\n",
    "            reproject(\n",
    "                source = rasterio.band(src, i), \n",
    "                destination = rasterio.band(dst, i), \n",
    "                src_transform = src.transform, \n",
    "                src_crs = src.crs, \n",
    "                dst_transform = transform, \n",
    "                dst_crs = dst_crs, \n",
    "                resampling = Resampling.nearest)\n",
    "    # make sure to close the raster file\n",
    "        dst.close()"
   ],
   "metadata": {
    "collapsed": false
   },
   "id": "f6a21c0b3cb49ae4"
  }
 ],
 "metadata": {
  "kernelspec": {
   "name": "windbreaks",
   "language": "python",
   "display_name": "WindBreaks"
  },
  "language_info": {
   "codemirror_mode": {
    "name": "ipython",
    "version": 3
   },
   "file_extension": ".py",
   "mimetype": "text/x-python",
   "name": "python",
   "nbconvert_exporter": "python",
   "pygments_lexer": "ipython3",
   "version": "3.11.7"
  }
 },
 "nbformat": 4,
 "nbformat_minor": 5
}
