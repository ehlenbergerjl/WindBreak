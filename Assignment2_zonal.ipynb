{
 "cells": [
  {
   "cell_type": "markdown",
   "id": "79ea9e7284ee2ede",
   "metadata": {
    "collapsed": false
   },
   "source": []
  },
  {
   "cell_type": "code",
   "execution_count": 1,
   "id": "ce0e2438d3966c12",
   "metadata": {
    "collapsed": false,
    "ExecuteTime": {
     "end_time": "2024-03-18T19:17:02.140349Z",
     "start_time": "2024-03-18T19:17:02.137218Z"
    }
   },
   "outputs": [],
   "source": [
    "NAME = 'Jason Ehlenberger'\n",
    "COLLABORATORS = 'N/A'"
   ]
  },
  {
   "cell_type": "code",
   "execution_count": 2,
   "id": "c94d61af4cba311e",
   "metadata": {
    "collapsed": false,
    "ExecuteTime": {
     "end_time": "2024-03-18T19:17:02.576310Z",
     "start_time": "2024-03-18T19:17:02.141349Z"
    }
   },
   "outputs": [],
   "source": [
    "import os\n",
    "import zipfile as zp\n",
    "import numpy as np\n",
    "import pandas as pd\n",
    "import seaborn as sns\n",
    "import geopandas as gpd\n",
    "import matplotlib.pyplot as plt\n",
    "import rasterio\n",
    "from rasterio.plot import show\n",
    "from rasterio.plot import show_hist\n",
    "from rasterio.warp import calculate_default_transform, reproject, Resampling\n",
    "from rasterstats import zonal_stats"
   ]
  },
  {
   "cell_type": "code",
   "execution_count": 3,
   "id": "7b199a85c7019f0d",
   "metadata": {
    "collapsed": false,
    "ExecuteTime": {
     "end_time": "2024-03-18T19:17:02.582184Z",
     "start_time": "2024-03-18T19:17:02.577310Z"
    }
   },
   "outputs": [
    {
     "name": "stdout",
     "output_type": "stream",
     "text": [
      "Data\\Assignment2\n"
     ]
    }
   ],
   "source": [
    "# Path to the directory\n",
    "directory = 'Data\\Assignment2'\n",
    "\n",
    "# Check if the directory exists\n",
    "if os.path.isdir(directory):\n",
    "    src_dir = directory\n",
    "else:\n",
    "    src_dir = None\n",
    "\n",
    "print(src_dir)"
   ]
  },
  {
   "cell_type": "code",
   "outputs": [],
   "source": [
    "# scr_dir = 'https://jupyter.geo.appstate.edu/user/ehlenbergerjl/lab/tree/Module6_assignment2/'"
   ],
   "metadata": {
    "collapsed": false,
    "ExecuteTime": {
     "end_time": "2024-03-18T19:17:02.587149Z",
     "start_time": "2024-03-18T19:17:02.584184Z"
    }
   },
   "id": "d9968ff18cfccb7b",
   "execution_count": 4
  },
  {
   "cell_type": "code",
   "execution_count": 6,
   "id": "16f17a306fe84f09",
   "metadata": {
    "collapsed": false,
    "ExecuteTime": {
     "end_time": "2024-03-18T19:21:39.858277Z",
     "start_time": "2024-03-18T19:21:39.854280Z"
    }
   },
   "outputs": [],
   "source": [
    "def data_path(directory, filename):\n",
    "    file_path = os.path.join(directory, filename)\n",
    "    return file_path"
   ]
  },
  {
   "cell_type": "code",
   "execution_count": 8,
   "id": "e44514e5dbee622f",
   "metadata": {
    "collapsed": false,
    "ExecuteTime": {
     "end_time": "2024-03-18T19:22:08.583596Z",
     "start_time": "2024-03-18T19:22:08.555661Z"
    }
   },
   "outputs": [
    {
     "data": {
      "text/plain": "  STATEFP COUNTYFP  COUNTYNS        AFFGEOID  GEOID        NAME LSAD  \\\n0      20      001  00484970  0500000US20001  20001       Allen   06   \n1      20      037  00484988  0500000US20037  20037    Crawford   06   \n2      20      125  00485027  0500000US20125  20125  Montgomery   06   \n3      20      021  00484980  0500000US20021  20021    Cherokee   06   \n4      20      205  00485063  0500000US20205  20205      Wilson   06   \n\n        ALAND    AWATER                                           geometry  \n0  1295763786  13022381  POLYGON ((41438.116 1634609.881, 41463.125 163...  \n1  1527498199  13574680  POLYGON ((79758.943 1613697.800, 79759.066 161...  \n2  1666900068  20430024  POLYGON ((3120.618 1558329.024, 3108.760 15615...  \n3  1521791027   8951473  POLYGON ((81161.907 1589243.382, 88184.451 158...  \n4  1477382268  12052249  POLYGON ((3279.132 1597571.957, 3316.386 15982...  ",
      "text/html": "<div>\n<style scoped>\n    .dataframe tbody tr th:only-of-type {\n        vertical-align: middle;\n    }\n\n    .dataframe tbody tr th {\n        vertical-align: top;\n    }\n\n    .dataframe thead th {\n        text-align: right;\n    }\n</style>\n<table border=\"1\" class=\"dataframe\">\n  <thead>\n    <tr style=\"text-align: right;\">\n      <th></th>\n      <th>STATEFP</th>\n      <th>COUNTYFP</th>\n      <th>COUNTYNS</th>\n      <th>AFFGEOID</th>\n      <th>GEOID</th>\n      <th>NAME</th>\n      <th>LSAD</th>\n      <th>ALAND</th>\n      <th>AWATER</th>\n      <th>geometry</th>\n    </tr>\n  </thead>\n  <tbody>\n    <tr>\n      <th>0</th>\n      <td>20</td>\n      <td>001</td>\n      <td>00484970</td>\n      <td>0500000US20001</td>\n      <td>20001</td>\n      <td>Allen</td>\n      <td>06</td>\n      <td>1295763786</td>\n      <td>13022381</td>\n      <td>POLYGON ((41438.116 1634609.881, 41463.125 163...</td>\n    </tr>\n    <tr>\n      <th>1</th>\n      <td>20</td>\n      <td>037</td>\n      <td>00484988</td>\n      <td>0500000US20037</td>\n      <td>20037</td>\n      <td>Crawford</td>\n      <td>06</td>\n      <td>1527498199</td>\n      <td>13574680</td>\n      <td>POLYGON ((79758.943 1613697.800, 79759.066 161...</td>\n    </tr>\n    <tr>\n      <th>2</th>\n      <td>20</td>\n      <td>125</td>\n      <td>00485027</td>\n      <td>0500000US20125</td>\n      <td>20125</td>\n      <td>Montgomery</td>\n      <td>06</td>\n      <td>1666900068</td>\n      <td>20430024</td>\n      <td>POLYGON ((3120.618 1558329.024, 3108.760 15615...</td>\n    </tr>\n    <tr>\n      <th>3</th>\n      <td>20</td>\n      <td>021</td>\n      <td>00484980</td>\n      <td>0500000US20021</td>\n      <td>20021</td>\n      <td>Cherokee</td>\n      <td>06</td>\n      <td>1521791027</td>\n      <td>8951473</td>\n      <td>POLYGON ((81161.907 1589243.382, 88184.451 158...</td>\n    </tr>\n    <tr>\n      <th>4</th>\n      <td>20</td>\n      <td>205</td>\n      <td>00485063</td>\n      <td>0500000US20205</td>\n      <td>20205</td>\n      <td>Wilson</td>\n      <td>06</td>\n      <td>1477382268</td>\n      <td>12052249</td>\n      <td>POLYGON ((3279.132 1597571.957, 3316.386 15982...</td>\n    </tr>\n  </tbody>\n</table>\n</div>"
     },
     "execution_count": 8,
     "metadata": {},
     "output_type": "execute_result"
    }
   ],
   "source": [
    "# Use the new function to set the path\n",
    "shpfn = data_path(src_dir, 'counties_subset_Albers4.shp')\n",
    "data = gpd.read_file(shpfn)\n",
    "data.head()"
   ]
  },
  {
   "cell_type": "code",
   "outputs": [
    {
     "data": {
      "text/plain": "rasterio.io.DatasetReader"
     },
     "execution_count": 9,
     "metadata": {},
     "output_type": "execute_result"
    }
   ],
   "source": [
    "rstfn = data_path(src_dir,'crop_cover_2019.tif')\n",
    "raster = rasterio.open(rstfn)\n",
    "\n",
    "type(raster)"
   ],
   "metadata": {
    "collapsed": false,
    "ExecuteTime": {
     "end_time": "2024-03-18T19:22:19.826802Z",
     "start_time": "2024-03-18T19:22:19.787311Z"
    }
   },
   "id": "96f6b7e927f134e3",
   "execution_count": 9
  },
  {
   "cell_type": "code",
   "execution_count": 10,
   "id": "616ed82d2c155007",
   "metadata": {
    "collapsed": false,
    "ExecuteTime": {
     "end_time": "2024-03-18T19:23:23.534226Z",
     "start_time": "2024-03-18T19:23:23.531199Z"
    }
   },
   "outputs": [],
   "source": [
    "raster.crs"
   ]
  },
  {
   "cell_type": "code",
   "execution_count": 11,
   "id": "a5586887658f85a",
   "metadata": {
    "collapsed": false,
    "ExecuteTime": {
     "end_time": "2024-03-18T19:24:42.912448Z",
     "start_time": "2024-03-18T19:24:42.865572Z"
    }
   },
   "outputs": [
    {
     "data": {
      "text/plain": "rasterio.io.DatasetReader"
     },
     "execution_count": 11,
     "metadata": {},
     "output_type": "execute_result"
    }
   ],
   "source": [
    "with rasterio.open(data_path(src_dir, 'crop_cover_2019.tif')) as raster_crop:\n",
    "    crop_val = raster_crop.read()\n",
    "crop_val\n",
    "type(raster)"
   ]
  },
  {
   "cell_type": "code",
   "execution_count": 12,
   "id": "c58b8fe512b4d6c8",
   "metadata": {
    "collapsed": false,
    "ExecuteTime": {
     "end_time": "2024-03-18T19:24:53.046874Z",
     "start_time": "2024-03-18T19:24:53.042237Z"
    }
   },
   "outputs": [
    {
     "data": {
      "text/plain": "BoundingBox(left=-30012.21913293552, bottom=1544807.0280387579, right=154937.7808670645, top=1673717.0280387579)"
     },
     "execution_count": 12,
     "metadata": {},
     "output_type": "execute_result"
    }
   ],
   "source": [
    "raster.bounds"
   ]
  },
  {
   "cell_type": "code",
   "execution_count": 13,
   "id": "aa6f94bfec1d9cc5",
   "metadata": {
    "collapsed": false,
    "ExecuteTime": {
     "end_time": "2024-03-18T19:25:06.716453Z",
     "start_time": "2024-03-18T19:25:05.791711Z"
    }
   },
   "outputs": [
    {
     "ename": "AttributeError",
     "evalue": "'NoneType' object has no attribute 'linear_units'",
     "output_type": "error",
     "traceback": [
      "\u001B[1;31m---------------------------------------------------------------------------\u001B[0m",
      "\u001B[1;31mAttributeError\u001B[0m                            Traceback (most recent call last)",
      "Cell \u001B[1;32mIn[13], line 2\u001B[0m\n\u001B[0;32m      1\u001B[0m \u001B[38;5;66;03m# Raster units & Resolution\u001B[39;00m\n\u001B[1;32m----> 2\u001B[0m \u001B[38;5;28mprint\u001B[39m(\u001B[38;5;124mf\u001B[39m\u001B[38;5;124m'\u001B[39m\u001B[38;5;124mThe raster units are \u001B[39m\u001B[38;5;132;01m{\u001B[39;00mraster\u001B[38;5;241m.\u001B[39mcrs\u001B[38;5;241m.\u001B[39mlinear_units\u001B[38;5;132;01m}\u001B[39;00m\u001B[38;5;124ms and the resolution is \u001B[39m\u001B[38;5;132;01m{\u001B[39;00mraster\u001B[38;5;241m.\u001B[39mres\u001B[38;5;132;01m}\u001B[39;00m\u001B[38;5;124m.\u001B[39m\u001B[38;5;124m'\u001B[39m)\n",
      "\u001B[1;31mAttributeError\u001B[0m: 'NoneType' object has no attribute 'linear_units'"
     ]
    }
   ],
   "source": [
    "# Raster units & Resolution\n",
    "print(f'The raster units are {raster.crs.linear_units}s and the resolution is {raster.res}.')"
   ]
  },
  {
   "cell_type": "code",
   "execution_count": null,
   "id": "a3f41a3e488fa2e9",
   "metadata": {
    "collapsed": false
   },
   "outputs": [],
   "source": [
    "dst_crs = 'EPSG:9712'"
   ]
  },
  {
   "cell_type": "code",
   "execution_count": null,
   "id": "2b1ae9d36e60b75c",
   "metadata": {
    "collapsed": false
   },
   "outputs": [],
   "source": [
    "# step 1: Calculate transform array and shape of reprojected raster \n",
    "with rasterio.open(data_path(src_dir, 'crop_cover_2019.tif')) as src:\n",
    "    transform, width, height = calculate_default_transform(\n",
    "        src.crs, dst_crs, src.width, src.height, *src.bounds)"
   ]
  },
  {
   "cell_type": "code",
   "execution_count": null,
   "id": "17f70e690c506930",
   "metadata": {
    "collapsed": false
   },
   "outputs": [],
   "source": [
    "    # step 2: We copy metadata from source dataset to dictionary object `kwargs`\n",
    "    kwargs = src.meta.copy()\n",
    "    # step 3: we update information in kwargs object with destination crs \n",
    "    kwargs.update({\n",
    "    'crs': dst_crs,\n",
    "    'transform': transform, \n",
    "    'width': width, \n",
    "    'height': height\n",
    "    })"
   ]
  },
  {
   "cell_type": "code",
   "execution_count": null,
   "id": "f6a21c0b3cb49ae4",
   "metadata": {
    "collapsed": false
   },
   "outputs": [],
   "source": [
    " # step 4: for each band (i), we reproject the calculated parameters froms source to destination      \n",
    "    with rasterio.open(data_path(src_dir,'crop_2018_subset2_pr.tif', 'w', **kwargs)) as dst:\n",
    "        for i in range(1, src.count +1):\n",
    "            reproject(\n",
    "                source = rasterio.band(src, i), \n",
    "                destination = rasterio.band(dst, i), \n",
    "                src_transform = src.transform, \n",
    "                src_crs = src.crs, \n",
    "                dst_transform = transform, \n",
    "                dst_crs = dst_crs, \n",
    "                resampling = Resampling.nearest)\n",
    "    # make sure to close the raster file\n",
    "        dst.close()"
   ]
  }
 ],
 "metadata": {
  "kernelspec": {
   "name": "windbreaks",
   "language": "python",
   "display_name": "WindBreaks"
  },
  "language_info": {
   "codemirror_mode": {
    "name": "ipython",
    "version": 3
   },
   "file_extension": ".py",
   "mimetype": "text/x-python",
   "name": "python",
   "nbconvert_exporter": "python",
   "pygments_lexer": "ipython3",
   "version": "3.11.7"
  }
 },
 "nbformat": 4,
 "nbformat_minor": 5
}
