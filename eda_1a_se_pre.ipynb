{
 "cells": [
  {
   "cell_type": "markdown",
   "id": "cfc1f96ad46d24f5",
   "metadata": {
    "collapsed": false
   },
   "source": [
    "# Prepare the EDA Environment"
   ]
  },
  {
   "cell_type": "code",
   "source": [
    "import sys\n",
    "import os\n",
    "import types\n",
    "import warnings\n",
    "import glob\n",
    "import regex as re\n",
    "import netCDF4 as nc\n",
    "import rasterio\n",
    "import numpy as np\n",
    "import xarray as xr\n",
    "import hvplot.xarray\n",
    "import holoviews as hv\n",
    "import pandas as pd\n",
    "import seaborn as sns\n",
    "import matplotlib.pyplot as plt\n",
    "import geopandas as gpd\n",
    "import cartopy.crs as ccrs\n",
    "import cartopy.feature as cf\n",
    "import ipywidgets as widgets\n",
    "import matplotlib.ticker as mticker\n",
    "import matplotlib.dates as mdates\n",
    "import chardet\n",
    "import pyperclip\n",
    "from geopandas import GeoDataFrame\n",
    "from shapely.geometry import Point\n",
    "from bokeh.io import output_notebook, show\n",
    "from bokeh.resources import INLINE\n",
    "from rasterio.transform import from_origin\n",
    "from rasterstats import zonal_stats\n",
    "from shapely.geometry import LineString\n",
    "from matplotlib.path import Path\n",
    "from matplotlib.colors import Normalize\n",
    "from netCDF4 import Dataset\n",
    "from pyproj import CRS\n",
    "from IPython.display import display\n",
    "from cartopy.mpl.gridliner import LONGITUDE_FORMATTER, LATITUDE_FORMATTER\n",
    "from _windbreaks_helpers import *"
   ],
   "metadata": {
    "collapsed": false,
    "ExecuteTime": {
     "end_time": "2024-04-11T03:44:25.195343Z",
     "start_time": "2024-04-11T03:44:17.008764Z"
    }
   },
   "id": "9db4260c60fa023b",
   "outputs": [
    {
     "data": {
      "application/javascript": "(function(root) {\n  function now() {\n    return new Date();\n  }\n\n  var force = true;\n  var py_version = '3.4.0'.replace('rc', '-rc.').replace('.dev', '-dev.');\n  var reloading = false;\n  var Bokeh = root.Bokeh;\n\n  if (typeof (root._bokeh_timeout) === \"undefined\" || force) {\n    root._bokeh_timeout = Date.now() + 5000;\n    root._bokeh_failed_load = false;\n  }\n\n  function run_callbacks() {\n    try {\n      root._bokeh_onload_callbacks.forEach(function(callback) {\n        if (callback != null)\n          callback();\n      });\n    } finally {\n      delete root._bokeh_onload_callbacks;\n    }\n    console.debug(\"Bokeh: all callbacks have finished\");\n  }\n\n  function load_libs(css_urls, js_urls, js_modules, js_exports, callback) {\n    if (css_urls == null) css_urls = [];\n    if (js_urls == null) js_urls = [];\n    if (js_modules == null) js_modules = [];\n    if (js_exports == null) js_exports = {};\n\n    root._bokeh_onload_callbacks.push(callback);\n\n    if (root._bokeh_is_loading > 0) {\n      console.debug(\"Bokeh: BokehJS is being loaded, scheduling callback at\", now());\n      return null;\n    }\n    if (js_urls.length === 0 && js_modules.length === 0 && Object.keys(js_exports).length === 0) {\n      run_callbacks();\n      return null;\n    }\n    if (!reloading) {\n      console.debug(\"Bokeh: BokehJS not loaded, scheduling load and callback at\", now());\n    }\n\n    function on_load() {\n      root._bokeh_is_loading--;\n      if (root._bokeh_is_loading === 0) {\n        console.debug(\"Bokeh: all BokehJS libraries/stylesheets loaded\");\n        run_callbacks()\n      }\n    }\n    window._bokeh_on_load = on_load\n\n    function on_error() {\n      console.error(\"failed to load \" + url);\n    }\n\n    var skip = [];\n    if (window.requirejs) {\n      window.requirejs.config({'packages': {}, 'paths': {}, 'shim': {}});\n      root._bokeh_is_loading = css_urls.length + 0;\n    } else {\n      root._bokeh_is_loading = css_urls.length + js_urls.length + js_modules.length + Object.keys(js_exports).length;\n    }\n\n    var existing_stylesheets = []\n    var links = document.getElementsByTagName('link')\n    for (var i = 0; i < links.length; i++) {\n      var link = links[i]\n      if (link.href != null) {\n\texisting_stylesheets.push(link.href)\n      }\n    }\n    for (var i = 0; i < css_urls.length; i++) {\n      var url = css_urls[i];\n      if (existing_stylesheets.indexOf(url) !== -1) {\n\ton_load()\n\tcontinue;\n      }\n      const element = document.createElement(\"link\");\n      element.onload = on_load;\n      element.onerror = on_error;\n      element.rel = \"stylesheet\";\n      element.type = \"text/css\";\n      element.href = url;\n      console.debug(\"Bokeh: injecting link tag for BokehJS stylesheet: \", url);\n      document.body.appendChild(element);\n    }    var existing_scripts = []\n    var scripts = document.getElementsByTagName('script')\n    for (var i = 0; i < scripts.length; i++) {\n      var script = scripts[i]\n      if (script.src != null) {\n\texisting_scripts.push(script.src)\n      }\n    }\n    for (var i = 0; i < js_urls.length; i++) {\n      var url = js_urls[i];\n      if (skip.indexOf(url) !== -1 || existing_scripts.indexOf(url) !== -1) {\n\tif (!window.requirejs) {\n\t  on_load();\n\t}\n\tcontinue;\n      }\n      var element = document.createElement('script');\n      element.onload = on_load;\n      element.onerror = on_error;\n      element.async = false;\n      element.src = url;\n      console.debug(\"Bokeh: injecting script tag for BokehJS library: \", url);\n      document.head.appendChild(element);\n    }\n    for (var i = 0; i < js_modules.length; i++) {\n      var url = js_modules[i];\n      if (skip.indexOf(url) !== -1 || existing_scripts.indexOf(url) !== -1) {\n\tif (!window.requirejs) {\n\t  on_load();\n\t}\n\tcontinue;\n      }\n      var element = document.createElement('script');\n      element.onload = on_load;\n      element.onerror = on_error;\n      element.async = false;\n      element.src = url;\n      element.type = \"module\";\n      console.debug(\"Bokeh: injecting script tag for BokehJS library: \", url);\n      document.head.appendChild(element);\n    }\n    for (const name in js_exports) {\n      var url = js_exports[name];\n      if (skip.indexOf(url) >= 0 || root[name] != null) {\n\tif (!window.requirejs) {\n\t  on_load();\n\t}\n\tcontinue;\n      }\n      var element = document.createElement('script');\n      element.onerror = on_error;\n      element.async = false;\n      element.type = \"module\";\n      console.debug(\"Bokeh: injecting script tag for BokehJS library: \", url);\n      element.textContent = `\n      import ${name} from \"${url}\"\n      window.${name} = ${name}\n      window._bokeh_on_load()\n      `\n      document.head.appendChild(element);\n    }\n    if (!js_urls.length && !js_modules.length) {\n      on_load()\n    }\n  };\n\n  function inject_raw_css(css) {\n    const element = document.createElement(\"style\");\n    element.appendChild(document.createTextNode(css));\n    document.body.appendChild(element);\n  }\n\n  var js_urls = [\"https://cdn.bokeh.org/bokeh/release/bokeh-3.4.0.min.js\", \"https://cdn.bokeh.org/bokeh/release/bokeh-gl-3.4.0.min.js\", \"https://cdn.bokeh.org/bokeh/release/bokeh-widgets-3.4.0.min.js\", \"https://cdn.bokeh.org/bokeh/release/bokeh-tables-3.4.0.min.js\", \"https://cdn.holoviz.org/panel/1.4.0/dist/panel.min.js\"];\n  var js_modules = [];\n  var js_exports = {};\n  var css_urls = [];\n  var inline_js = [    function(Bokeh) {\n      Bokeh.set_log_level(\"info\");\n    },\nfunction(Bokeh) {} // ensure no trailing comma for IE\n  ];\n\n  function run_inline_js() {\n    if ((root.Bokeh !== undefined) || (force === true)) {\n      for (var i = 0; i < inline_js.length; i++) {\n\ttry {\n          inline_js[i].call(root, root.Bokeh);\n\t} catch(e) {\n\t  if (!reloading) {\n\t    throw e;\n\t  }\n\t}\n      }\n      // Cache old bokeh versions\n      if (Bokeh != undefined && !reloading) {\n\tvar NewBokeh = root.Bokeh;\n\tif (Bokeh.versions === undefined) {\n\t  Bokeh.versions = new Map();\n\t}\n\tif (NewBokeh.version !== Bokeh.version) {\n\t  Bokeh.versions.set(NewBokeh.version, NewBokeh)\n\t}\n\troot.Bokeh = Bokeh;\n      }} else if (Date.now() < root._bokeh_timeout) {\n      setTimeout(run_inline_js, 100);\n    } else if (!root._bokeh_failed_load) {\n      console.log(\"Bokeh: BokehJS failed to load within specified timeout.\");\n      root._bokeh_failed_load = true;\n    }\n    root._bokeh_is_initializing = false\n  }\n\n  function load_or_wait() {\n    // Implement a backoff loop that tries to ensure we do not load multiple\n    // versions of Bokeh and its dependencies at the same time.\n    // In recent versions we use the root._bokeh_is_initializing flag\n    // to determine whether there is an ongoing attempt to initialize\n    // bokeh, however for backward compatibility we also try to ensure\n    // that we do not start loading a newer (Panel>=1.0 and Bokeh>3) version\n    // before older versions are fully initialized.\n    if (root._bokeh_is_initializing && Date.now() > root._bokeh_timeout) {\n      root._bokeh_is_initializing = false;\n      root._bokeh_onload_callbacks = undefined;\n      console.log(\"Bokeh: BokehJS was loaded multiple times but one version failed to initialize.\");\n      load_or_wait();\n    } else if (root._bokeh_is_initializing || (typeof root._bokeh_is_initializing === \"undefined\" && root._bokeh_onload_callbacks !== undefined)) {\n      setTimeout(load_or_wait, 100);\n    } else {\n      root._bokeh_is_initializing = true\n      root._bokeh_onload_callbacks = []\n      var bokeh_loaded = Bokeh != null && (Bokeh.version === py_version || (Bokeh.versions !== undefined && Bokeh.versions.has(py_version)));\n      if (!reloading && !bokeh_loaded) {\n\troot.Bokeh = undefined;\n      }\n      load_libs(css_urls, js_urls, js_modules, js_exports, function() {\n\tconsole.debug(\"Bokeh: BokehJS plotting callback run at\", now());\n\trun_inline_js();\n      });\n    }\n  }\n  // Give older versions of the autoload script a head-start to ensure\n  // they initialize before we start loading newer version.\n  setTimeout(load_or_wait, 100)\n}(window));",
      "application/vnd.holoviews_load.v0+json": "(function(root) {\n  function now() {\n    return new Date();\n  }\n\n  var force = true;\n  var py_version = '3.4.0'.replace('rc', '-rc.').replace('.dev', '-dev.');\n  var reloading = false;\n  var Bokeh = root.Bokeh;\n\n  if (typeof (root._bokeh_timeout) === \"undefined\" || force) {\n    root._bokeh_timeout = Date.now() + 5000;\n    root._bokeh_failed_load = false;\n  }\n\n  function run_callbacks() {\n    try {\n      root._bokeh_onload_callbacks.forEach(function(callback) {\n        if (callback != null)\n          callback();\n      });\n    } finally {\n      delete root._bokeh_onload_callbacks;\n    }\n    console.debug(\"Bokeh: all callbacks have finished\");\n  }\n\n  function load_libs(css_urls, js_urls, js_modules, js_exports, callback) {\n    if (css_urls == null) css_urls = [];\n    if (js_urls == null) js_urls = [];\n    if (js_modules == null) js_modules = [];\n    if (js_exports == null) js_exports = {};\n\n    root._bokeh_onload_callbacks.push(callback);\n\n    if (root._bokeh_is_loading > 0) {\n      console.debug(\"Bokeh: BokehJS is being loaded, scheduling callback at\", now());\n      return null;\n    }\n    if (js_urls.length === 0 && js_modules.length === 0 && Object.keys(js_exports).length === 0) {\n      run_callbacks();\n      return null;\n    }\n    if (!reloading) {\n      console.debug(\"Bokeh: BokehJS not loaded, scheduling load and callback at\", now());\n    }\n\n    function on_load() {\n      root._bokeh_is_loading--;\n      if (root._bokeh_is_loading === 0) {\n        console.debug(\"Bokeh: all BokehJS libraries/stylesheets loaded\");\n        run_callbacks()\n      }\n    }\n    window._bokeh_on_load = on_load\n\n    function on_error() {\n      console.error(\"failed to load \" + url);\n    }\n\n    var skip = [];\n    if (window.requirejs) {\n      window.requirejs.config({'packages': {}, 'paths': {}, 'shim': {}});\n      root._bokeh_is_loading = css_urls.length + 0;\n    } else {\n      root._bokeh_is_loading = css_urls.length + js_urls.length + js_modules.length + Object.keys(js_exports).length;\n    }\n\n    var existing_stylesheets = []\n    var links = document.getElementsByTagName('link')\n    for (var i = 0; i < links.length; i++) {\n      var link = links[i]\n      if (link.href != null) {\n\texisting_stylesheets.push(link.href)\n      }\n    }\n    for (var i = 0; i < css_urls.length; i++) {\n      var url = css_urls[i];\n      if (existing_stylesheets.indexOf(url) !== -1) {\n\ton_load()\n\tcontinue;\n      }\n      const element = document.createElement(\"link\");\n      element.onload = on_load;\n      element.onerror = on_error;\n      element.rel = \"stylesheet\";\n      element.type = \"text/css\";\n      element.href = url;\n      console.debug(\"Bokeh: injecting link tag for BokehJS stylesheet: \", url);\n      document.body.appendChild(element);\n    }    var existing_scripts = []\n    var scripts = document.getElementsByTagName('script')\n    for (var i = 0; i < scripts.length; i++) {\n      var script = scripts[i]\n      if (script.src != null) {\n\texisting_scripts.push(script.src)\n      }\n    }\n    for (var i = 0; i < js_urls.length; i++) {\n      var url = js_urls[i];\n      if (skip.indexOf(url) !== -1 || existing_scripts.indexOf(url) !== -1) {\n\tif (!window.requirejs) {\n\t  on_load();\n\t}\n\tcontinue;\n      }\n      var element = document.createElement('script');\n      element.onload = on_load;\n      element.onerror = on_error;\n      element.async = false;\n      element.src = url;\n      console.debug(\"Bokeh: injecting script tag for BokehJS library: \", url);\n      document.head.appendChild(element);\n    }\n    for (var i = 0; i < js_modules.length; i++) {\n      var url = js_modules[i];\n      if (skip.indexOf(url) !== -1 || existing_scripts.indexOf(url) !== -1) {\n\tif (!window.requirejs) {\n\t  on_load();\n\t}\n\tcontinue;\n      }\n      var element = document.createElement('script');\n      element.onload = on_load;\n      element.onerror = on_error;\n      element.async = false;\n      element.src = url;\n      element.type = \"module\";\n      console.debug(\"Bokeh: injecting script tag for BokehJS library: \", url);\n      document.head.appendChild(element);\n    }\n    for (const name in js_exports) {\n      var url = js_exports[name];\n      if (skip.indexOf(url) >= 0 || root[name] != null) {\n\tif (!window.requirejs) {\n\t  on_load();\n\t}\n\tcontinue;\n      }\n      var element = document.createElement('script');\n      element.onerror = on_error;\n      element.async = false;\n      element.type = \"module\";\n      console.debug(\"Bokeh: injecting script tag for BokehJS library: \", url);\n      element.textContent = `\n      import ${name} from \"${url}\"\n      window.${name} = ${name}\n      window._bokeh_on_load()\n      `\n      document.head.appendChild(element);\n    }\n    if (!js_urls.length && !js_modules.length) {\n      on_load()\n    }\n  };\n\n  function inject_raw_css(css) {\n    const element = document.createElement(\"style\");\n    element.appendChild(document.createTextNode(css));\n    document.body.appendChild(element);\n  }\n\n  var js_urls = [\"https://cdn.bokeh.org/bokeh/release/bokeh-3.4.0.min.js\", \"https://cdn.bokeh.org/bokeh/release/bokeh-gl-3.4.0.min.js\", \"https://cdn.bokeh.org/bokeh/release/bokeh-widgets-3.4.0.min.js\", \"https://cdn.bokeh.org/bokeh/release/bokeh-tables-3.4.0.min.js\", \"https://cdn.holoviz.org/panel/1.4.0/dist/panel.min.js\"];\n  var js_modules = [];\n  var js_exports = {};\n  var css_urls = [];\n  var inline_js = [    function(Bokeh) {\n      Bokeh.set_log_level(\"info\");\n    },\nfunction(Bokeh) {} // ensure no trailing comma for IE\n  ];\n\n  function run_inline_js() {\n    if ((root.Bokeh !== undefined) || (force === true)) {\n      for (var i = 0; i < inline_js.length; i++) {\n\ttry {\n          inline_js[i].call(root, root.Bokeh);\n\t} catch(e) {\n\t  if (!reloading) {\n\t    throw e;\n\t  }\n\t}\n      }\n      // Cache old bokeh versions\n      if (Bokeh != undefined && !reloading) {\n\tvar NewBokeh = root.Bokeh;\n\tif (Bokeh.versions === undefined) {\n\t  Bokeh.versions = new Map();\n\t}\n\tif (NewBokeh.version !== Bokeh.version) {\n\t  Bokeh.versions.set(NewBokeh.version, NewBokeh)\n\t}\n\troot.Bokeh = Bokeh;\n      }} else if (Date.now() < root._bokeh_timeout) {\n      setTimeout(run_inline_js, 100);\n    } else if (!root._bokeh_failed_load) {\n      console.log(\"Bokeh: BokehJS failed to load within specified timeout.\");\n      root._bokeh_failed_load = true;\n    }\n    root._bokeh_is_initializing = false\n  }\n\n  function load_or_wait() {\n    // Implement a backoff loop that tries to ensure we do not load multiple\n    // versions of Bokeh and its dependencies at the same time.\n    // In recent versions we use the root._bokeh_is_initializing flag\n    // to determine whether there is an ongoing attempt to initialize\n    // bokeh, however for backward compatibility we also try to ensure\n    // that we do not start loading a newer (Panel>=1.0 and Bokeh>3) version\n    // before older versions are fully initialized.\n    if (root._bokeh_is_initializing && Date.now() > root._bokeh_timeout) {\n      root._bokeh_is_initializing = false;\n      root._bokeh_onload_callbacks = undefined;\n      console.log(\"Bokeh: BokehJS was loaded multiple times but one version failed to initialize.\");\n      load_or_wait();\n    } else if (root._bokeh_is_initializing || (typeof root._bokeh_is_initializing === \"undefined\" && root._bokeh_onload_callbacks !== undefined)) {\n      setTimeout(load_or_wait, 100);\n    } else {\n      root._bokeh_is_initializing = true\n      root._bokeh_onload_callbacks = []\n      var bokeh_loaded = Bokeh != null && (Bokeh.version === py_version || (Bokeh.versions !== undefined && Bokeh.versions.has(py_version)));\n      if (!reloading && !bokeh_loaded) {\n\troot.Bokeh = undefined;\n      }\n      load_libs(css_urls, js_urls, js_modules, js_exports, function() {\n\tconsole.debug(\"Bokeh: BokehJS plotting callback run at\", now());\n\trun_inline_js();\n      });\n    }\n  }\n  // Give older versions of the autoload script a head-start to ensure\n  // they initialize before we start loading newer version.\n  setTimeout(load_or_wait, 100)\n}(window));"
     },
     "metadata": {},
     "output_type": "display_data"
    },
    {
     "data": {
      "application/vnd.holoviews_load.v0+json": "\nif ((window.PyViz === undefined) || (window.PyViz instanceof HTMLElement)) {\n  window.PyViz = {comms: {}, comm_status:{}, kernels:{}, receivers: {}, plot_index: []}\n}\n\n\n    function JupyterCommManager() {\n    }\n\n    JupyterCommManager.prototype.register_target = function(plot_id, comm_id, msg_handler) {\n      if (window.comm_manager || ((window.Jupyter !== undefined) && (Jupyter.notebook.kernel != null))) {\n        var comm_manager = window.comm_manager || Jupyter.notebook.kernel.comm_manager;\n        comm_manager.register_target(comm_id, function(comm) {\n          comm.on_msg(msg_handler);\n        });\n      } else if ((plot_id in window.PyViz.kernels) && (window.PyViz.kernels[plot_id])) {\n        window.PyViz.kernels[plot_id].registerCommTarget(comm_id, function(comm) {\n          comm.onMsg = msg_handler;\n        });\n      } else if (typeof google != 'undefined' && google.colab.kernel != null) {\n        google.colab.kernel.comms.registerTarget(comm_id, (comm) => {\n          var messages = comm.messages[Symbol.asyncIterator]();\n          function processIteratorResult(result) {\n            var message = result.value;\n            console.log(message)\n            var content = {data: message.data, comm_id};\n            var buffers = []\n            for (var buffer of message.buffers || []) {\n              buffers.push(new DataView(buffer))\n            }\n            var metadata = message.metadata || {};\n            var msg = {content, buffers, metadata}\n            msg_handler(msg);\n            return messages.next().then(processIteratorResult);\n          }\n          return messages.next().then(processIteratorResult);\n        })\n      }\n    }\n\n    JupyterCommManager.prototype.get_client_comm = function(plot_id, comm_id, msg_handler) {\n      if (comm_id in window.PyViz.comms) {\n        return window.PyViz.comms[comm_id];\n      } else if (window.comm_manager || ((window.Jupyter !== undefined) && (Jupyter.notebook.kernel != null))) {\n        var comm_manager = window.comm_manager || Jupyter.notebook.kernel.comm_manager;\n        var comm = comm_manager.new_comm(comm_id, {}, {}, {}, comm_id);\n        if (msg_handler) {\n          comm.on_msg(msg_handler);\n        }\n      } else if ((plot_id in window.PyViz.kernels) && (window.PyViz.kernels[plot_id])) {\n        var comm = window.PyViz.kernels[plot_id].connectToComm(comm_id);\n        comm.open();\n        if (msg_handler) {\n          comm.onMsg = msg_handler;\n        }\n      } else if (typeof google != 'undefined' && google.colab.kernel != null) {\n        var comm_promise = google.colab.kernel.comms.open(comm_id)\n        comm_promise.then((comm) => {\n          window.PyViz.comms[comm_id] = comm;\n          if (msg_handler) {\n            var messages = comm.messages[Symbol.asyncIterator]();\n            function processIteratorResult(result) {\n              var message = result.value;\n              var content = {data: message.data};\n              var metadata = message.metadata || {comm_id};\n              var msg = {content, metadata}\n              msg_handler(msg);\n              return messages.next().then(processIteratorResult);\n            }\n            return messages.next().then(processIteratorResult);\n          }\n        }) \n        var sendClosure = (data, metadata, buffers, disposeOnDone) => {\n          return comm_promise.then((comm) => {\n            comm.send(data, metadata, buffers, disposeOnDone);\n          });\n        };\n        var comm = {\n          send: sendClosure\n        };\n      }\n      window.PyViz.comms[comm_id] = comm;\n      return comm;\n    }\n    window.PyViz.comm_manager = new JupyterCommManager();\n    \n\n\nvar JS_MIME_TYPE = 'application/javascript';\nvar HTML_MIME_TYPE = 'text/html';\nvar EXEC_MIME_TYPE = 'application/vnd.holoviews_exec.v0+json';\nvar CLASS_NAME = 'output';\n\n/**\n * Render data to the DOM node\n */\nfunction render(props, node) {\n  var div = document.createElement(\"div\");\n  var script = document.createElement(\"script\");\n  node.appendChild(div);\n  node.appendChild(script);\n}\n\n/**\n * Handle when a new output is added\n */\nfunction handle_add_output(event, handle) {\n  var output_area = handle.output_area;\n  var output = handle.output;\n  if ((output.data == undefined) || (!output.data.hasOwnProperty(EXEC_MIME_TYPE))) {\n    return\n  }\n  var id = output.metadata[EXEC_MIME_TYPE][\"id\"];\n  var toinsert = output_area.element.find(\".\" + CLASS_NAME.split(' ')[0]);\n  if (id !== undefined) {\n    var nchildren = toinsert.length;\n    var html_node = toinsert[nchildren-1].children[0];\n    html_node.innerHTML = output.data[HTML_MIME_TYPE];\n    var scripts = [];\n    var nodelist = html_node.querySelectorAll(\"script\");\n    for (var i in nodelist) {\n      if (nodelist.hasOwnProperty(i)) {\n        scripts.push(nodelist[i])\n      }\n    }\n\n    scripts.forEach( function (oldScript) {\n      var newScript = document.createElement(\"script\");\n      var attrs = [];\n      var nodemap = oldScript.attributes;\n      for (var j in nodemap) {\n        if (nodemap.hasOwnProperty(j)) {\n          attrs.push(nodemap[j])\n        }\n      }\n      attrs.forEach(function(attr) { newScript.setAttribute(attr.name, attr.value) });\n      newScript.appendChild(document.createTextNode(oldScript.innerHTML));\n      oldScript.parentNode.replaceChild(newScript, oldScript);\n    });\n    if (JS_MIME_TYPE in output.data) {\n      toinsert[nchildren-1].children[1].textContent = output.data[JS_MIME_TYPE];\n    }\n    output_area._hv_plot_id = id;\n    if ((window.Bokeh !== undefined) && (id in Bokeh.index)) {\n      window.PyViz.plot_index[id] = Bokeh.index[id];\n    } else {\n      window.PyViz.plot_index[id] = null;\n    }\n  } else if (output.metadata[EXEC_MIME_TYPE][\"server_id\"] !== undefined) {\n    var bk_div = document.createElement(\"div\");\n    bk_div.innerHTML = output.data[HTML_MIME_TYPE];\n    var script_attrs = bk_div.children[0].attributes;\n    for (var i = 0; i < script_attrs.length; i++) {\n      toinsert[toinsert.length - 1].childNodes[1].setAttribute(script_attrs[i].name, script_attrs[i].value);\n    }\n    // store reference to server id on output_area\n    output_area._bokeh_server_id = output.metadata[EXEC_MIME_TYPE][\"server_id\"];\n  }\n}\n\n/**\n * Handle when an output is cleared or removed\n */\nfunction handle_clear_output(event, handle) {\n  var id = handle.cell.output_area._hv_plot_id;\n  var server_id = handle.cell.output_area._bokeh_server_id;\n  if (((id === undefined) || !(id in PyViz.plot_index)) && (server_id !== undefined)) { return; }\n  var comm = window.PyViz.comm_manager.get_client_comm(\"hv-extension-comm\", \"hv-extension-comm\", function () {});\n  if (server_id !== null) {\n    comm.send({event_type: 'server_delete', 'id': server_id});\n    return;\n  } else if (comm !== null) {\n    comm.send({event_type: 'delete', 'id': id});\n  }\n  delete PyViz.plot_index[id];\n  if ((window.Bokeh !== undefined) & (id in window.Bokeh.index)) {\n    var doc = window.Bokeh.index[id].model.document\n    doc.clear();\n    const i = window.Bokeh.documents.indexOf(doc);\n    if (i > -1) {\n      window.Bokeh.documents.splice(i, 1);\n    }\n  }\n}\n\n/**\n * Handle kernel restart event\n */\nfunction handle_kernel_cleanup(event, handle) {\n  delete PyViz.comms[\"hv-extension-comm\"];\n  window.PyViz.plot_index = {}\n}\n\n/**\n * Handle update_display_data messages\n */\nfunction handle_update_output(event, handle) {\n  handle_clear_output(event, {cell: {output_area: handle.output_area}})\n  handle_add_output(event, handle)\n}\n\nfunction register_renderer(events, OutputArea) {\n  function append_mime(data, metadata, element) {\n    // create a DOM node to render to\n    var toinsert = this.create_output_subarea(\n    metadata,\n    CLASS_NAME,\n    EXEC_MIME_TYPE\n    );\n    this.keyboard_manager.register_events(toinsert);\n    // Render to node\n    var props = {data: data, metadata: metadata[EXEC_MIME_TYPE]};\n    render(props, toinsert[0]);\n    element.append(toinsert);\n    return toinsert\n  }\n\n  events.on('output_added.OutputArea', handle_add_output);\n  events.on('output_updated.OutputArea', handle_update_output);\n  events.on('clear_output.CodeCell', handle_clear_output);\n  events.on('delete.Cell', handle_clear_output);\n  events.on('kernel_ready.Kernel', handle_kernel_cleanup);\n\n  OutputArea.prototype.register_mime_type(EXEC_MIME_TYPE, append_mime, {\n    safe: true,\n    index: 0\n  });\n}\n\nif (window.Jupyter !== undefined) {\n  try {\n    var events = require('base/js/events');\n    var OutputArea = require('notebook/js/outputarea').OutputArea;\n    if (OutputArea.prototype.mime_types().indexOf(EXEC_MIME_TYPE) == -1) {\n      register_renderer(events, OutputArea);\n    }\n  } catch(err) {\n  }\n}\n",
      "application/javascript": "\nif ((window.PyViz === undefined) || (window.PyViz instanceof HTMLElement)) {\n  window.PyViz = {comms: {}, comm_status:{}, kernels:{}, receivers: {}, plot_index: []}\n}\n\n\n    function JupyterCommManager() {\n    }\n\n    JupyterCommManager.prototype.register_target = function(plot_id, comm_id, msg_handler) {\n      if (window.comm_manager || ((window.Jupyter !== undefined) && (Jupyter.notebook.kernel != null))) {\n        var comm_manager = window.comm_manager || Jupyter.notebook.kernel.comm_manager;\n        comm_manager.register_target(comm_id, function(comm) {\n          comm.on_msg(msg_handler);\n        });\n      } else if ((plot_id in window.PyViz.kernels) && (window.PyViz.kernels[plot_id])) {\n        window.PyViz.kernels[plot_id].registerCommTarget(comm_id, function(comm) {\n          comm.onMsg = msg_handler;\n        });\n      } else if (typeof google != 'undefined' && google.colab.kernel != null) {\n        google.colab.kernel.comms.registerTarget(comm_id, (comm) => {\n          var messages = comm.messages[Symbol.asyncIterator]();\n          function processIteratorResult(result) {\n            var message = result.value;\n            console.log(message)\n            var content = {data: message.data, comm_id};\n            var buffers = []\n            for (var buffer of message.buffers || []) {\n              buffers.push(new DataView(buffer))\n            }\n            var metadata = message.metadata || {};\n            var msg = {content, buffers, metadata}\n            msg_handler(msg);\n            return messages.next().then(processIteratorResult);\n          }\n          return messages.next().then(processIteratorResult);\n        })\n      }\n    }\n\n    JupyterCommManager.prototype.get_client_comm = function(plot_id, comm_id, msg_handler) {\n      if (comm_id in window.PyViz.comms) {\n        return window.PyViz.comms[comm_id];\n      } else if (window.comm_manager || ((window.Jupyter !== undefined) && (Jupyter.notebook.kernel != null))) {\n        var comm_manager = window.comm_manager || Jupyter.notebook.kernel.comm_manager;\n        var comm = comm_manager.new_comm(comm_id, {}, {}, {}, comm_id);\n        if (msg_handler) {\n          comm.on_msg(msg_handler);\n        }\n      } else if ((plot_id in window.PyViz.kernels) && (window.PyViz.kernels[plot_id])) {\n        var comm = window.PyViz.kernels[plot_id].connectToComm(comm_id);\n        comm.open();\n        if (msg_handler) {\n          comm.onMsg = msg_handler;\n        }\n      } else if (typeof google != 'undefined' && google.colab.kernel != null) {\n        var comm_promise = google.colab.kernel.comms.open(comm_id)\n        comm_promise.then((comm) => {\n          window.PyViz.comms[comm_id] = comm;\n          if (msg_handler) {\n            var messages = comm.messages[Symbol.asyncIterator]();\n            function processIteratorResult(result) {\n              var message = result.value;\n              var content = {data: message.data};\n              var metadata = message.metadata || {comm_id};\n              var msg = {content, metadata}\n              msg_handler(msg);\n              return messages.next().then(processIteratorResult);\n            }\n            return messages.next().then(processIteratorResult);\n          }\n        }) \n        var sendClosure = (data, metadata, buffers, disposeOnDone) => {\n          return comm_promise.then((comm) => {\n            comm.send(data, metadata, buffers, disposeOnDone);\n          });\n        };\n        var comm = {\n          send: sendClosure\n        };\n      }\n      window.PyViz.comms[comm_id] = comm;\n      return comm;\n    }\n    window.PyViz.comm_manager = new JupyterCommManager();\n    \n\n\nvar JS_MIME_TYPE = 'application/javascript';\nvar HTML_MIME_TYPE = 'text/html';\nvar EXEC_MIME_TYPE = 'application/vnd.holoviews_exec.v0+json';\nvar CLASS_NAME = 'output';\n\n/**\n * Render data to the DOM node\n */\nfunction render(props, node) {\n  var div = document.createElement(\"div\");\n  var script = document.createElement(\"script\");\n  node.appendChild(div);\n  node.appendChild(script);\n}\n\n/**\n * Handle when a new output is added\n */\nfunction handle_add_output(event, handle) {\n  var output_area = handle.output_area;\n  var output = handle.output;\n  if ((output.data == undefined) || (!output.data.hasOwnProperty(EXEC_MIME_TYPE))) {\n    return\n  }\n  var id = output.metadata[EXEC_MIME_TYPE][\"id\"];\n  var toinsert = output_area.element.find(\".\" + CLASS_NAME.split(' ')[0]);\n  if (id !== undefined) {\n    var nchildren = toinsert.length;\n    var html_node = toinsert[nchildren-1].children[0];\n    html_node.innerHTML = output.data[HTML_MIME_TYPE];\n    var scripts = [];\n    var nodelist = html_node.querySelectorAll(\"script\");\n    for (var i in nodelist) {\n      if (nodelist.hasOwnProperty(i)) {\n        scripts.push(nodelist[i])\n      }\n    }\n\n    scripts.forEach( function (oldScript) {\n      var newScript = document.createElement(\"script\");\n      var attrs = [];\n      var nodemap = oldScript.attributes;\n      for (var j in nodemap) {\n        if (nodemap.hasOwnProperty(j)) {\n          attrs.push(nodemap[j])\n        }\n      }\n      attrs.forEach(function(attr) { newScript.setAttribute(attr.name, attr.value) });\n      newScript.appendChild(document.createTextNode(oldScript.innerHTML));\n      oldScript.parentNode.replaceChild(newScript, oldScript);\n    });\n    if (JS_MIME_TYPE in output.data) {\n      toinsert[nchildren-1].children[1].textContent = output.data[JS_MIME_TYPE];\n    }\n    output_area._hv_plot_id = id;\n    if ((window.Bokeh !== undefined) && (id in Bokeh.index)) {\n      window.PyViz.plot_index[id] = Bokeh.index[id];\n    } else {\n      window.PyViz.plot_index[id] = null;\n    }\n  } else if (output.metadata[EXEC_MIME_TYPE][\"server_id\"] !== undefined) {\n    var bk_div = document.createElement(\"div\");\n    bk_div.innerHTML = output.data[HTML_MIME_TYPE];\n    var script_attrs = bk_div.children[0].attributes;\n    for (var i = 0; i < script_attrs.length; i++) {\n      toinsert[toinsert.length - 1].childNodes[1].setAttribute(script_attrs[i].name, script_attrs[i].value);\n    }\n    // store reference to server id on output_area\n    output_area._bokeh_server_id = output.metadata[EXEC_MIME_TYPE][\"server_id\"];\n  }\n}\n\n/**\n * Handle when an output is cleared or removed\n */\nfunction handle_clear_output(event, handle) {\n  var id = handle.cell.output_area._hv_plot_id;\n  var server_id = handle.cell.output_area._bokeh_server_id;\n  if (((id === undefined) || !(id in PyViz.plot_index)) && (server_id !== undefined)) { return; }\n  var comm = window.PyViz.comm_manager.get_client_comm(\"hv-extension-comm\", \"hv-extension-comm\", function () {});\n  if (server_id !== null) {\n    comm.send({event_type: 'server_delete', 'id': server_id});\n    return;\n  } else if (comm !== null) {\n    comm.send({event_type: 'delete', 'id': id});\n  }\n  delete PyViz.plot_index[id];\n  if ((window.Bokeh !== undefined) & (id in window.Bokeh.index)) {\n    var doc = window.Bokeh.index[id].model.document\n    doc.clear();\n    const i = window.Bokeh.documents.indexOf(doc);\n    if (i > -1) {\n      window.Bokeh.documents.splice(i, 1);\n    }\n  }\n}\n\n/**\n * Handle kernel restart event\n */\nfunction handle_kernel_cleanup(event, handle) {\n  delete PyViz.comms[\"hv-extension-comm\"];\n  window.PyViz.plot_index = {}\n}\n\n/**\n * Handle update_display_data messages\n */\nfunction handle_update_output(event, handle) {\n  handle_clear_output(event, {cell: {output_area: handle.output_area}})\n  handle_add_output(event, handle)\n}\n\nfunction register_renderer(events, OutputArea) {\n  function append_mime(data, metadata, element) {\n    // create a DOM node to render to\n    var toinsert = this.create_output_subarea(\n    metadata,\n    CLASS_NAME,\n    EXEC_MIME_TYPE\n    );\n    this.keyboard_manager.register_events(toinsert);\n    // Render to node\n    var props = {data: data, metadata: metadata[EXEC_MIME_TYPE]};\n    render(props, toinsert[0]);\n    element.append(toinsert);\n    return toinsert\n  }\n\n  events.on('output_added.OutputArea', handle_add_output);\n  events.on('output_updated.OutputArea', handle_update_output);\n  events.on('clear_output.CodeCell', handle_clear_output);\n  events.on('delete.Cell', handle_clear_output);\n  events.on('kernel_ready.Kernel', handle_kernel_cleanup);\n\n  OutputArea.prototype.register_mime_type(EXEC_MIME_TYPE, append_mime, {\n    safe: true,\n    index: 0\n  });\n}\n\nif (window.Jupyter !== undefined) {\n  try {\n    var events = require('base/js/events');\n    var OutputArea = require('notebook/js/outputarea').OutputArea;\n    if (OutputArea.prototype.mime_types().indexOf(EXEC_MIME_TYPE) == -1) {\n      register_renderer(events, OutputArea);\n    }\n  } catch(err) {\n  }\n}\n"
     },
     "metadata": {},
     "output_type": "display_data"
    },
    {
     "data": {
      "text/html": [
       "<style>*[data-root-id],\n",
       "*[data-root-id] > * {\n",
       "  box-sizing: border-box;\n",
       "  font-family: var(--jp-ui-font-family);\n",
       "  font-size: var(--jp-ui-font-size1);\n",
       "  color: var(--vscode-editor-foreground, var(--jp-ui-font-color1));\n",
       "}\n",
       "\n",
       "/* Override VSCode background color */\n",
       ".cell-output-ipywidget-background:has(\n",
       "    > .cell-output-ipywidget-background > .lm-Widget > *[data-root-id]\n",
       "  ),\n",
       ".cell-output-ipywidget-background:has(> .lm-Widget > *[data-root-id]) {\n",
       "  background-color: transparent !important;\n",
       "}\n",
       "</style>"
      ]
     },
     "metadata": {},
     "output_type": "display_data"
    },
    {
     "data": {
      "text/html": [
       "<div id='p1002'>\n",
       "  <div id=\"c9263657-1608-44a0-8fd0-c7d6d273c48c\" data-root-id=\"p1002\" style=\"display: contents;\"></div>\n",
       "</div>\n",
       "<script type=\"application/javascript\">(function(root) {\n",
       "  var docs_json = {\"751b7faf-be44-4ca3-818f-c2e663982bcf\":{\"version\":\"3.4.0\",\"title\":\"Bokeh Application\",\"roots\":[{\"type\":\"object\",\"name\":\"panel.models.browser.BrowserInfo\",\"id\":\"p1002\"},{\"type\":\"object\",\"name\":\"panel.models.comm_manager.CommManager\",\"id\":\"p1003\",\"attributes\":{\"plot_id\":\"p1002\",\"comm_id\":\"bef404adceb3435bb2b29663e55ac230\",\"client_comm_id\":\"1912e3c4ee384176bd6e247c1498ce02\"}}],\"defs\":[{\"type\":\"model\",\"name\":\"ReactiveHTML1\"},{\"type\":\"model\",\"name\":\"FlexBox1\",\"properties\":[{\"name\":\"align_content\",\"kind\":\"Any\",\"default\":\"flex-start\"},{\"name\":\"align_items\",\"kind\":\"Any\",\"default\":\"flex-start\"},{\"name\":\"flex_direction\",\"kind\":\"Any\",\"default\":\"row\"},{\"name\":\"flex_wrap\",\"kind\":\"Any\",\"default\":\"wrap\"},{\"name\":\"justify_content\",\"kind\":\"Any\",\"default\":\"flex-start\"},{\"name\":\"gap\",\"kind\":\"Any\",\"default\":\"\"}]},{\"type\":\"model\",\"name\":\"FloatPanel1\",\"properties\":[{\"name\":\"config\",\"kind\":\"Any\",\"default\":{\"type\":\"map\"}},{\"name\":\"contained\",\"kind\":\"Any\",\"default\":true},{\"name\":\"position\",\"kind\":\"Any\",\"default\":\"right-top\"},{\"name\":\"offsetx\",\"kind\":\"Any\",\"default\":null},{\"name\":\"offsety\",\"kind\":\"Any\",\"default\":null},{\"name\":\"theme\",\"kind\":\"Any\",\"default\":\"primary\"},{\"name\":\"status\",\"kind\":\"Any\",\"default\":\"normalized\"}]},{\"type\":\"model\",\"name\":\"GridStack1\",\"properties\":[{\"name\":\"mode\",\"kind\":\"Any\",\"default\":\"warn\"},{\"name\":\"ncols\",\"kind\":\"Any\",\"default\":null},{\"name\":\"nrows\",\"kind\":\"Any\",\"default\":null},{\"name\":\"allow_resize\",\"kind\":\"Any\",\"default\":true},{\"name\":\"allow_drag\",\"kind\":\"Any\",\"default\":true},{\"name\":\"state\",\"kind\":\"Any\",\"default\":[]}]},{\"type\":\"model\",\"name\":\"drag1\",\"properties\":[{\"name\":\"slider_width\",\"kind\":\"Any\",\"default\":5},{\"name\":\"slider_color\",\"kind\":\"Any\",\"default\":\"black\"},{\"name\":\"value\",\"kind\":\"Any\",\"default\":50}]},{\"type\":\"model\",\"name\":\"click1\",\"properties\":[{\"name\":\"terminal_output\",\"kind\":\"Any\",\"default\":\"\"},{\"name\":\"debug_name\",\"kind\":\"Any\",\"default\":\"\"},{\"name\":\"clears\",\"kind\":\"Any\",\"default\":0}]},{\"type\":\"model\",\"name\":\"FastWrapper1\",\"properties\":[{\"name\":\"object\",\"kind\":\"Any\",\"default\":null},{\"name\":\"style\",\"kind\":\"Any\",\"default\":null}]},{\"type\":\"model\",\"name\":\"NotificationAreaBase1\",\"properties\":[{\"name\":\"js_events\",\"kind\":\"Any\",\"default\":{\"type\":\"map\"}},{\"name\":\"position\",\"kind\":\"Any\",\"default\":\"bottom-right\"},{\"name\":\"_clear\",\"kind\":\"Any\",\"default\":0}]},{\"type\":\"model\",\"name\":\"NotificationArea1\",\"properties\":[{\"name\":\"js_events\",\"kind\":\"Any\",\"default\":{\"type\":\"map\"}},{\"name\":\"notifications\",\"kind\":\"Any\",\"default\":[]},{\"name\":\"position\",\"kind\":\"Any\",\"default\":\"bottom-right\"},{\"name\":\"_clear\",\"kind\":\"Any\",\"default\":0},{\"name\":\"types\",\"kind\":\"Any\",\"default\":[{\"type\":\"map\",\"entries\":[[\"type\",\"warning\"],[\"background\",\"#ffc107\"],[\"icon\",{\"type\":\"map\",\"entries\":[[\"className\",\"fas fa-exclamation-triangle\"],[\"tagName\",\"i\"],[\"color\",\"white\"]]}]]},{\"type\":\"map\",\"entries\":[[\"type\",\"info\"],[\"background\",\"#007bff\"],[\"icon\",{\"type\":\"map\",\"entries\":[[\"className\",\"fas fa-info-circle\"],[\"tagName\",\"i\"],[\"color\",\"white\"]]}]]}]}]},{\"type\":\"model\",\"name\":\"Notification\",\"properties\":[{\"name\":\"background\",\"kind\":\"Any\",\"default\":null},{\"name\":\"duration\",\"kind\":\"Any\",\"default\":3000},{\"name\":\"icon\",\"kind\":\"Any\",\"default\":null},{\"name\":\"message\",\"kind\":\"Any\",\"default\":\"\"},{\"name\":\"notification_type\",\"kind\":\"Any\",\"default\":null},{\"name\":\"_destroyed\",\"kind\":\"Any\",\"default\":false}]},{\"type\":\"model\",\"name\":\"TemplateActions1\",\"properties\":[{\"name\":\"open_modal\",\"kind\":\"Any\",\"default\":0},{\"name\":\"close_modal\",\"kind\":\"Any\",\"default\":0}]},{\"type\":\"model\",\"name\":\"BootstrapTemplateActions1\",\"properties\":[{\"name\":\"open_modal\",\"kind\":\"Any\",\"default\":0},{\"name\":\"close_modal\",\"kind\":\"Any\",\"default\":0}]},{\"type\":\"model\",\"name\":\"TemplateEditor1\",\"properties\":[{\"name\":\"layout\",\"kind\":\"Any\",\"default\":[]}]},{\"type\":\"model\",\"name\":\"MaterialTemplateActions1\",\"properties\":[{\"name\":\"open_modal\",\"kind\":\"Any\",\"default\":0},{\"name\":\"close_modal\",\"kind\":\"Any\",\"default\":0}]},{\"type\":\"model\",\"name\":\"copy_to_clipboard1\",\"properties\":[{\"name\":\"fill\",\"kind\":\"Any\",\"default\":\"none\"},{\"name\":\"value\",\"kind\":\"Any\",\"default\":null}]}]}};\n",
       "  var render_items = [{\"docid\":\"751b7faf-be44-4ca3-818f-c2e663982bcf\",\"roots\":{\"p1002\":\"c9263657-1608-44a0-8fd0-c7d6d273c48c\"},\"root_ids\":[\"p1002\"]}];\n",
       "  var docs = Object.values(docs_json)\n",
       "  if (!docs) {\n",
       "    return\n",
       "  }\n",
       "  const py_version = docs[0].version.replace('rc', '-rc.').replace('.dev', '-dev.')\n",
       "  function embed_document(root) {\n",
       "    var Bokeh = get_bokeh(root)\n",
       "    Bokeh.embed.embed_items_notebook(docs_json, render_items);\n",
       "    for (const render_item of render_items) {\n",
       "      for (const root_id of render_item.root_ids) {\n",
       "\tconst id_el = document.getElementById(root_id)\n",
       "\tif (id_el.children.length && (id_el.children[0].className === 'bk-root')) {\n",
       "\t  const root_el = id_el.children[0]\n",
       "\t  root_el.id = root_el.id + '-rendered'\n",
       "\t}\n",
       "      }\n",
       "    }\n",
       "  }\n",
       "  function get_bokeh(root) {\n",
       "    if (root.Bokeh === undefined) {\n",
       "      return null\n",
       "    } else if (root.Bokeh.version !== py_version) {\n",
       "      if (root.Bokeh.versions === undefined || !root.Bokeh.versions.has(py_version)) {\n",
       "\treturn null\n",
       "      }\n",
       "      return root.Bokeh.versions.get(py_version);\n",
       "    } else if (root.Bokeh.version === py_version) {\n",
       "      return root.Bokeh\n",
       "    }\n",
       "    return null\n",
       "  }\n",
       "  function is_loaded(root) {\n",
       "    var Bokeh = get_bokeh(root)\n",
       "    return (Bokeh != null && Bokeh.Panel !== undefined)\n",
       "  }\n",
       "  if (is_loaded(root)) {\n",
       "    embed_document(root);\n",
       "  } else {\n",
       "    var attempts = 0;\n",
       "    var timer = setInterval(function(root) {\n",
       "      if (is_loaded(root)) {\n",
       "        clearInterval(timer);\n",
       "        embed_document(root);\n",
       "      } else if (document.readyState == \"complete\") {\n",
       "        attempts++;\n",
       "        if (attempts > 200) {\n",
       "          clearInterval(timer);\n",
       "\t  var Bokeh = get_bokeh(root)\n",
       "\t  if (Bokeh == null || Bokeh.Panel == null) {\n",
       "            console.warn(\"Panel: ERROR: Unable to run Panel code because Bokeh or Panel library is missing\");\n",
       "\t  } else {\n",
       "\t    console.warn(\"Panel: WARNING: Attempting to render but not all required libraries could be resolved.\")\n",
       "\t    embed_document(root)\n",
       "\t  }\n",
       "        }\n",
       "      }\n",
       "    }, 25, root)\n",
       "  }\n",
       "})(window);</script>"
      ],
      "application/vnd.holoviews_exec.v0+json": ""
     },
     "metadata": {
      "application/vnd.holoviews_exec.v0+json": {
       "id": "p1002"
      }
     },
     "output_type": "display_data"
    }
   ],
   "execution_count": 1
  },
  {
   "metadata": {
    "ExecuteTime": {
     "end_time": "2024-04-11T03:44:25.204369Z",
     "start_time": "2024-04-11T03:44:25.195343Z"
    }
   },
   "cell_type": "code",
   "source": "warnings.filterwarnings('ignore')",
   "id": "3b5f15a86679c8ee",
   "outputs": [],
   "execution_count": 2
  },
  {
   "cell_type": "markdown",
   "id": "2769cacb0a0693a5",
   "metadata": {
    "collapsed": false
   },
   "source": [
    "## Set data source variables"
   ]
  },
  {
   "cell_type": "code",
   "id": "ac774d0c0fd0ea3",
   "metadata": {
    "collapsed": false,
    "ExecuteTime": {
     "end_time": "2024-04-11T03:44:25.220084Z",
     "start_time": "2024-04-11T03:44:25.204369Z"
    }
   },
   "source": [
    "# Path to the directory\n",
    "directory = 'Data'\n",
    "\n",
    "# Check if the directory exists\n",
    "if os.path.isdir(directory):\n",
    "    src_dir = directory\n",
    "else:\n",
    "    src_dir = None\n",
    "\n",
    "print(src_dir)\n",
    "%store src_dir"
   ],
   "outputs": [
    {
     "name": "stdout",
     "output_type": "stream",
     "text": [
      "Data\n",
      "Stored 'src_dir' (str)\n"
     ]
    }
   ],
   "execution_count": 3
  },
  {
   "cell_type": "markdown",
   "id": "6d373e296bf7ba0a",
   "metadata": {
    "collapsed": false
   },
   "source": [
    "## Set the extents of the Area of Interest (AOI)"
   ]
  },
  {
   "cell_type": "code",
   "id": "47f39387e6fe36fd",
   "metadata": {
    "collapsed": false,
    "ExecuteTime": {
     "end_time": "2024-04-11T03:44:25.232891Z",
     "start_time": "2024-04-11T03:44:25.220084Z"
    }
   },
   "source": [
    "# Project extents\n",
    "extent_coords = {'min_lat': 36.9314320, 'max_lat': 43.1345169,\n",
    "                 'min_lon': -104.2232889, 'max_lon': -94.5426297}\n",
    "%store extent_coords"
   ],
   "outputs": [
    {
     "name": "stdout",
     "output_type": "stream",
     "text": [
      "Stored 'extent_coords' (dict)\n"
     ]
    }
   ],
   "execution_count": 4
  },
  {
   "cell_type": "code",
   "id": "5b7e2ff848f935e2",
   "metadata": {
    "collapsed": false,
    "ExecuteTime": {
     "end_time": "2024-04-11T03:44:25.243370Z",
     "start_time": "2024-04-11T03:44:25.234657Z"
    }
   },
   "source": [
    "# Use Jupyter magik to list all variables and function loaded in the interactive workspace\n",
    "%whos"
   ],
   "outputs": [
    {
     "name": "stdout",
     "output_type": "stream",
     "text": [
      "Variable                     Type             Data/Info\n",
      "-------------------------------------------------------\n",
      "CRS                          type             <class 'pyproj.crs.crs.CRS'>\n",
      "Dataset                      type             <class 'netCDF4._netCDF4.Dataset'>\n",
      "GeoDataFrame                 type             <class 'geopandas.geodataframe.GeoDataFrame'>\n",
      "INLINE                       Resources        Resources(mode='inline')\n",
      "LATITUDE_FORMATTER           FuncFormatter    <matplotlib.ticker.FuncFo<...>ct at 0x000001EDA24EF410>\n",
      "LONGITUDE_FORMATTER          FuncFormatter    <matplotlib.ticker.FuncFo<...>ct at 0x000001EDA24EF390>\n",
      "LineString                   type             <class 'shapely.geometry.linestring.LineString'>\n",
      "Normalize                    type             <class 'matplotlib.colors.Normalize'>\n",
      "Path                         type             <class 'matplotlib.path.Path'>\n",
      "Point                        type             <class 'shapely.geometry.point.Point'>\n",
      "ccrs                         module           <module 'cartopy.crs' fro<...>ckages\\\\cartopy\\\\crs.py'>\n",
      "cf                           module           <module 'cartopy.feature'<...>y\\\\feature\\\\__init__.py'>\n",
      "chardet                      module           <module 'chardet' from 'C<...>s\\\\chardet\\\\__init__.py'>\n",
      "combine_files                function         <function combine_files at 0x000001EDA254A480>\n",
      "directory                    str              Data\n",
      "display                      function         <function display at 0x000001ED94832B60>\n",
      "extent_coords                dict             n=4\n",
      "filter_df_extent             function         <function filter_df_extent at 0x000001EDA254A2A0>\n",
      "from_origin                  function         <function from_origin at 0x000001ED9D676660>\n",
      "gdf_buf                      function         <function gdf_buf at 0x000001EDA254A3E0>\n",
      "gdf_to_shp                   function         <function gdf_to_shp at 0x000001EDA254A340>\n",
      "get_crs                      function         <function get_crs at 0x000001EDA254A200>\n",
      "glob                         module           <module 'glob' from 'C:\\\\<...>indBreaks\\\\Lib\\\\glob.py'>\n",
      "gpd                          module           <module 'geopandas' from <...>\\geopandas\\\\__init__.py'>\n",
      "hv                           module           <module 'holoviews' from <...>\\holoviews\\\\__init__.py'>\n",
      "hvplot                       module           <module 'hvplot' from 'C:<...>es\\\\hvplot\\\\__init__.py'>\n",
      "importlib                    module           <module 'importlib' from <...>\\importlib\\\\__init__.py'>\n",
      "mdates                       module           <module 'matplotlib.dates<...>s\\\\matplotlib\\\\dates.py'>\n",
      "mticker                      module           <module 'matplotlib.ticke<...>\\\\matplotlib\\\\ticker.py'>\n",
      "nc                           module           <module 'netCDF4' from 'C<...>s\\\\netCDF4\\\\__init__.py'>\n",
      "np                           module           <module 'numpy' from 'C:\\<...>ges\\\\numpy\\\\__init__.py'>\n",
      "os                           module           <module 'os' (frozen)>\n",
      "output_notebook              function         <function output_notebook at 0x000001ED98596700>\n",
      "pd                           module           <module 'pandas' from 'C:<...>es\\\\pandas\\\\__init__.py'>\n",
      "plt                          module           <module 'matplotlib.pyplo<...>\\\\matplotlib\\\\pyplot.py'>\n",
      "print_all_imported_modules   function         <function print_all_impor<...>es at 0x000001EDA254A0C0>\n",
      "print_cols                   function         <function print_cols at 0x000001EDA254A160>\n",
      "print_functions              function         <function print_functions at 0x000001EDA2549F80>\n",
      "print_modules                function         <function print_modules at 0x000001EDA254A020>\n",
      "pyperclip                    module           <module 'pyperclip' from <...>\\pyperclip\\\\__init__.py'>\n",
      "rasterio                     module           <module 'rasterio' from '<...>\\\\rasterio\\\\__init__.py'>\n",
      "re                           module           <module 're' from 'C:\\\\Us<...>s\\\\Lib\\\\re\\\\__init__.py'>\n",
      "remove_outliers              function         <function remove_outliers at 0x000001EDA254A520>\n",
      "show                         function         <function show at 0x000001ED98596F20>\n",
      "sns                          module           <module 'seaborn' from 'C<...>s\\\\seaborn\\\\__init__.py'>\n",
      "src_dir                      str              Data\n",
      "sys                          module           <module 'sys' (built-in)>\n",
      "types                        module           <module 'types' from 'C:\\<...>ndBreaks\\\\Lib\\\\types.py'>\n",
      "warnings                     module           <module 'warnings' from '<...>reaks\\\\Lib\\\\warnings.py'>\n",
      "widgets                      module           <module 'ipywidgets' from<...>ipywidgets\\\\__init__.py'>\n",
      "wkt                          module           <module 'shapely.wkt' fro<...>ckages\\\\shapely\\\\wkt.py'>\n",
      "xr                           module           <module 'xarray' from 'C:<...>es\\\\xarray\\\\__init__.py'>\n",
      "zonal_stats                  function         <function zonal_stats at 0x000001EDA20BEDE0>\n"
     ]
    }
   ],
   "execution_count": 5
  },
  {
   "cell_type": "markdown",
   "id": "a05b96ef2e81ad02",
   "metadata": {
    "collapsed": false
   },
   "source": [
    "## Load basemaps and boundary files for AOI"
   ]
  },
  {
   "cell_type": "code",
   "id": "9531a2279283a20e",
   "metadata": {
    "collapsed": false,
    "ExecuteTime": {
     "end_time": "2024-04-11T03:44:29.201243Z",
     "start_time": "2024-04-11T03:44:28.979150Z"
    }
   },
   "source": [
    "# Load the county boundary shapefile\n",
    "ksne_fn = os.path.join(src_dir, 'GIS_files/NE_KS_county.shp')\n",
    "ksne_data = gpd.read_file(ksne_fn)\n",
    "\n",
    "# Get the CRS\n",
    "crs = CRS(ksne_data.crs)\n",
    "\n",
    "# Name of the CRS\n",
    "print('Name:', crs.name)\n",
    "# EPSG of the CRS\n",
    "if crs.to_epsg():\n",
    "    print('EPSG:', crs.to_epsg())\n",
    "else:\n",
    "    print('No EPSG found for this CRS')\n",
    "# Unit of the CRS\n",
    "print('Unit:', crs.axis_info[0].unit_name)\n",
    "\n",
    "# Preview Data\n",
    "ksne_data.head(6)"
   ],
   "outputs": [
    {
     "name": "stdout",
     "output_type": "stream",
     "text": [
      "Name: NAD83\n",
      "EPSG: 4269\n",
      "Unit: degree\n"
     ]
    },
    {
     "data": {
      "text/plain": [
       "  STATEFP COUNTYFP  COUNTYNS        AFFGEOID  GEOID       NAME LSAD  \\\n",
       "0      20      053  00484996  0500000US20053  20053  Ellsworth   06   \n",
       "1      20      095  00485012  0500000US20095  20095    Kingman   06   \n",
       "2      20      135  00485031  0500000US20135  20135       Ness   06   \n",
       "3      20      199  00485060  0500000US20199  20199    Wallace   06   \n",
       "4      31      091  00835867  0500000US31091  31091     Hooker   06   \n",
       "5      31      167  00835905  0500000US31167  31167    Stanton   06   \n",
       "\n",
       "        ALAND    AWATER                                           geometry  \n",
       "0  1853331063  19969761  POLYGON ((-98.48554 38.78395, -98.48561 38.794...  \n",
       "1  2236100137   8536908  POLYGON ((-98.46489 37.64530, -98.46481 37.703...  \n",
       "2  2783562240    667491  POLYGON ((-100.24774 38.65441, -100.24720 38.6...  \n",
       "3  2366348284    140936  POLYGON ((-102.04719 39.13315, -102.02582 39.1...  \n",
       "4  1867796137    882994  POLYGON ((-101.42656 42.09219, -101.41220 42.0...  \n",
       "5  1107500701   8789497  POLYGON ((-97.36840 42.09092, -97.30991 42.090...  "
      ],
      "text/html": [
       "<div>\n",
       "<style scoped>\n",
       "    .dataframe tbody tr th:only-of-type {\n",
       "        vertical-align: middle;\n",
       "    }\n",
       "\n",
       "    .dataframe tbody tr th {\n",
       "        vertical-align: top;\n",
       "    }\n",
       "\n",
       "    .dataframe thead th {\n",
       "        text-align: right;\n",
       "    }\n",
       "</style>\n",
       "<table border=\"1\" class=\"dataframe\">\n",
       "  <thead>\n",
       "    <tr style=\"text-align: right;\">\n",
       "      <th></th>\n",
       "      <th>STATEFP</th>\n",
       "      <th>COUNTYFP</th>\n",
       "      <th>COUNTYNS</th>\n",
       "      <th>AFFGEOID</th>\n",
       "      <th>GEOID</th>\n",
       "      <th>NAME</th>\n",
       "      <th>LSAD</th>\n",
       "      <th>ALAND</th>\n",
       "      <th>AWATER</th>\n",
       "      <th>geometry</th>\n",
       "    </tr>\n",
       "  </thead>\n",
       "  <tbody>\n",
       "    <tr>\n",
       "      <th>0</th>\n",
       "      <td>20</td>\n",
       "      <td>053</td>\n",
       "      <td>00484996</td>\n",
       "      <td>0500000US20053</td>\n",
       "      <td>20053</td>\n",
       "      <td>Ellsworth</td>\n",
       "      <td>06</td>\n",
       "      <td>1853331063</td>\n",
       "      <td>19969761</td>\n",
       "      <td>POLYGON ((-98.48554 38.78395, -98.48561 38.794...</td>\n",
       "    </tr>\n",
       "    <tr>\n",
       "      <th>1</th>\n",
       "      <td>20</td>\n",
       "      <td>095</td>\n",
       "      <td>00485012</td>\n",
       "      <td>0500000US20095</td>\n",
       "      <td>20095</td>\n",
       "      <td>Kingman</td>\n",
       "      <td>06</td>\n",
       "      <td>2236100137</td>\n",
       "      <td>8536908</td>\n",
       "      <td>POLYGON ((-98.46489 37.64530, -98.46481 37.703...</td>\n",
       "    </tr>\n",
       "    <tr>\n",
       "      <th>2</th>\n",
       "      <td>20</td>\n",
       "      <td>135</td>\n",
       "      <td>00485031</td>\n",
       "      <td>0500000US20135</td>\n",
       "      <td>20135</td>\n",
       "      <td>Ness</td>\n",
       "      <td>06</td>\n",
       "      <td>2783562240</td>\n",
       "      <td>667491</td>\n",
       "      <td>POLYGON ((-100.24774 38.65441, -100.24720 38.6...</td>\n",
       "    </tr>\n",
       "    <tr>\n",
       "      <th>3</th>\n",
       "      <td>20</td>\n",
       "      <td>199</td>\n",
       "      <td>00485060</td>\n",
       "      <td>0500000US20199</td>\n",
       "      <td>20199</td>\n",
       "      <td>Wallace</td>\n",
       "      <td>06</td>\n",
       "      <td>2366348284</td>\n",
       "      <td>140936</td>\n",
       "      <td>POLYGON ((-102.04719 39.13315, -102.02582 39.1...</td>\n",
       "    </tr>\n",
       "    <tr>\n",
       "      <th>4</th>\n",
       "      <td>31</td>\n",
       "      <td>091</td>\n",
       "      <td>00835867</td>\n",
       "      <td>0500000US31091</td>\n",
       "      <td>31091</td>\n",
       "      <td>Hooker</td>\n",
       "      <td>06</td>\n",
       "      <td>1867796137</td>\n",
       "      <td>882994</td>\n",
       "      <td>POLYGON ((-101.42656 42.09219, -101.41220 42.0...</td>\n",
       "    </tr>\n",
       "    <tr>\n",
       "      <th>5</th>\n",
       "      <td>31</td>\n",
       "      <td>167</td>\n",
       "      <td>00835905</td>\n",
       "      <td>0500000US31167</td>\n",
       "      <td>31167</td>\n",
       "      <td>Stanton</td>\n",
       "      <td>06</td>\n",
       "      <td>1107500701</td>\n",
       "      <td>8789497</td>\n",
       "      <td>POLYGON ((-97.36840 42.09092, -97.30991 42.090...</td>\n",
       "    </tr>\n",
       "  </tbody>\n",
       "</table>\n",
       "</div>"
      ]
     },
     "execution_count": 6,
     "metadata": {},
     "output_type": "execute_result"
    }
   ],
   "execution_count": 6
  },
  {
   "cell_type": "code",
   "id": "d063ca6db7fa6f36",
   "metadata": {
    "collapsed": false,
    "ExecuteTime": {
     "end_time": "2024-04-11T03:44:55.639075Z",
     "start_time": "2024-04-11T03:44:52.878545Z"
    }
   },
   "source": [
    "ksne_data = ksne_data.to_crs('EPSG:15914')\n",
    "# Get the CRS\n",
    "crs = CRS(ksne_data.crs)\n",
    "\n",
    "# Name of the CRS\n",
    "print('Name:', crs.name)\n",
    "# EPSG of the CRS\n",
    "if crs.to_epsg():\n",
    "    print('EPSG:', crs.to_epsg())\n",
    "else:\n",
    "    print('No EPSG found for this CRS')\n",
    "# Unit of the CRS\n",
    "print('Unit:', crs.axis_info[0].unit_name)\n",
    "# get column names with their index\n",
    "print('\\n', 'ksne_data columns:', '\\n')\n",
    "\n",
    "output_string = ''\n",
    "\n",
    "for i, col_name in enumerate(ksne_data.columns):\n",
    "    dtype = ksne_data[col_name].dtype\n",
    "    output_string += f'Index: {i}, Column Name: {col_name}, Data Type: {dtype}\\n'\n",
    "\n",
    "pyperclip.copy('ksne_data:\\n' + output_string)\n",
    "print(output_string)"
   ],
   "outputs": [
    {
     "ename": "CRSError",
     "evalue": "Invalid projection: EPSG:15914: (Internal Proj Error: proj_create: crs not found)",
     "output_type": "error",
     "traceback": [
      "\u001B[1;31m---------------------------------------------------------------------------\u001B[0m",
      "\u001B[1;31mCRSError\u001B[0m                                  Traceback (most recent call last)",
      "Cell \u001B[1;32mIn[7], line 1\u001B[0m\n\u001B[1;32m----> 1\u001B[0m ksne_data \u001B[38;5;241m=\u001B[39m ksne_data\u001B[38;5;241m.\u001B[39mto_crs(\u001B[38;5;124m'\u001B[39m\u001B[38;5;124mEPSG:15914\u001B[39m\u001B[38;5;124m'\u001B[39m)\n\u001B[0;32m      2\u001B[0m \u001B[38;5;66;03m# Get the CRS\u001B[39;00m\n\u001B[0;32m      3\u001B[0m crs \u001B[38;5;241m=\u001B[39m CRS(ksne_data\u001B[38;5;241m.\u001B[39mcrs)\n",
      "File \u001B[1;32m~\\miniconda3\\envs\\WindBreaks\\Lib\\site-packages\\geopandas\\geodataframe.py:1407\u001B[0m, in \u001B[0;36mGeoDataFrame.to_crs\u001B[1;34m(self, crs, epsg, inplace)\u001B[0m\n\u001B[0;32m   1405\u001B[0m \u001B[38;5;28;01melse\u001B[39;00m:\n\u001B[0;32m   1406\u001B[0m     df \u001B[38;5;241m=\u001B[39m \u001B[38;5;28mself\u001B[39m\u001B[38;5;241m.\u001B[39mcopy()\n\u001B[1;32m-> 1407\u001B[0m geom \u001B[38;5;241m=\u001B[39m df\u001B[38;5;241m.\u001B[39mgeometry\u001B[38;5;241m.\u001B[39mto_crs(crs\u001B[38;5;241m=\u001B[39mcrs, epsg\u001B[38;5;241m=\u001B[39mepsg)\n\u001B[0;32m   1408\u001B[0m df\u001B[38;5;241m.\u001B[39mgeometry \u001B[38;5;241m=\u001B[39m geom\n\u001B[0;32m   1409\u001B[0m \u001B[38;5;28;01mif\u001B[39;00m \u001B[38;5;129;01mnot\u001B[39;00m inplace:\n",
      "File \u001B[1;32m~\\miniconda3\\envs\\WindBreaks\\Lib\\site-packages\\geopandas\\geoseries.py:1170\u001B[0m, in \u001B[0;36mGeoSeries.to_crs\u001B[1;34m(self, crs, epsg)\u001B[0m\n\u001B[0;32m   1091\u001B[0m \u001B[38;5;28;01mdef\u001B[39;00m \u001B[38;5;21mto_crs\u001B[39m(\n\u001B[0;32m   1092\u001B[0m     \u001B[38;5;28mself\u001B[39m, crs: Optional[Any] \u001B[38;5;241m=\u001B[39m \u001B[38;5;28;01mNone\u001B[39;00m, epsg: Optional[\u001B[38;5;28mint\u001B[39m] \u001B[38;5;241m=\u001B[39m \u001B[38;5;28;01mNone\u001B[39;00m\n\u001B[0;32m   1093\u001B[0m ) \u001B[38;5;241m-\u001B[39m\u001B[38;5;241m>\u001B[39m GeoSeries:\n\u001B[0;32m   1094\u001B[0m \u001B[38;5;250m    \u001B[39m\u001B[38;5;124;03m\"\"\"Returns a ``GeoSeries`` with all geometries transformed to a new\u001B[39;00m\n\u001B[0;32m   1095\u001B[0m \u001B[38;5;124;03m    coordinate reference system.\u001B[39;00m\n\u001B[0;32m   1096\u001B[0m \n\u001B[1;32m   (...)\u001B[0m\n\u001B[0;32m   1167\u001B[0m \n\u001B[0;32m   1168\u001B[0m \u001B[38;5;124;03m    \"\"\"\u001B[39;00m\n\u001B[0;32m   1169\u001B[0m     \u001B[38;5;28;01mreturn\u001B[39;00m GeoSeries(\n\u001B[1;32m-> 1170\u001B[0m         \u001B[38;5;28mself\u001B[39m\u001B[38;5;241m.\u001B[39mvalues\u001B[38;5;241m.\u001B[39mto_crs(crs\u001B[38;5;241m=\u001B[39mcrs, epsg\u001B[38;5;241m=\u001B[39mepsg), index\u001B[38;5;241m=\u001B[39m\u001B[38;5;28mself\u001B[39m\u001B[38;5;241m.\u001B[39mindex, name\u001B[38;5;241m=\u001B[39m\u001B[38;5;28mself\u001B[39m\u001B[38;5;241m.\u001B[39mname\n\u001B[0;32m   1171\u001B[0m     )\n",
      "File \u001B[1;32m~\\miniconda3\\envs\\WindBreaks\\Lib\\site-packages\\geopandas\\array.py:860\u001B[0m, in \u001B[0;36mGeometryArray.to_crs\u001B[1;34m(self, crs, epsg)\u001B[0m\n\u001B[0;32m    855\u001B[0m     \u001B[38;5;28;01mraise\u001B[39;00m \u001B[38;5;167;01mValueError\u001B[39;00m(\n\u001B[0;32m    856\u001B[0m         \u001B[38;5;124m\"\u001B[39m\u001B[38;5;124mCannot transform naive geometries.  \u001B[39m\u001B[38;5;124m\"\u001B[39m\n\u001B[0;32m    857\u001B[0m         \u001B[38;5;124m\"\u001B[39m\u001B[38;5;124mPlease set a crs on the object first.\u001B[39m\u001B[38;5;124m\"\u001B[39m\n\u001B[0;32m    858\u001B[0m     )\n\u001B[0;32m    859\u001B[0m \u001B[38;5;28;01mif\u001B[39;00m crs \u001B[38;5;129;01mis\u001B[39;00m \u001B[38;5;129;01mnot\u001B[39;00m \u001B[38;5;28;01mNone\u001B[39;00m:\n\u001B[1;32m--> 860\u001B[0m     crs \u001B[38;5;241m=\u001B[39m CRS\u001B[38;5;241m.\u001B[39mfrom_user_input(crs)\n\u001B[0;32m    861\u001B[0m \u001B[38;5;28;01melif\u001B[39;00m epsg \u001B[38;5;129;01mis\u001B[39;00m \u001B[38;5;129;01mnot\u001B[39;00m \u001B[38;5;28;01mNone\u001B[39;00m:\n\u001B[0;32m    862\u001B[0m     crs \u001B[38;5;241m=\u001B[39m CRS\u001B[38;5;241m.\u001B[39mfrom_epsg(epsg)\n",
      "File \u001B[1;32m~\\AppData\\Roaming\\Python\\Python311\\site-packages\\pyproj\\crs\\crs.py:501\u001B[0m, in \u001B[0;36mCRS.from_user_input\u001B[1;34m(cls, value, **kwargs)\u001B[0m\n\u001B[0;32m    499\u001B[0m \u001B[38;5;28;01mif\u001B[39;00m \u001B[38;5;28misinstance\u001B[39m(value, \u001B[38;5;28mcls\u001B[39m):\n\u001B[0;32m    500\u001B[0m     \u001B[38;5;28;01mreturn\u001B[39;00m value\n\u001B[1;32m--> 501\u001B[0m \u001B[38;5;28;01mreturn\u001B[39;00m \u001B[38;5;28mcls\u001B[39m(value, \u001B[38;5;241m*\u001B[39m\u001B[38;5;241m*\u001B[39mkwargs)\n",
      "File \u001B[1;32m~\\AppData\\Roaming\\Python\\Python311\\site-packages\\pyproj\\crs\\crs.py:348\u001B[0m, in \u001B[0;36mCRS.__init__\u001B[1;34m(self, projparams, **kwargs)\u001B[0m\n\u001B[0;32m    346\u001B[0m     \u001B[38;5;28mself\u001B[39m\u001B[38;5;241m.\u001B[39m_local\u001B[38;5;241m.\u001B[39mcrs \u001B[38;5;241m=\u001B[39m projparams\n\u001B[0;32m    347\u001B[0m \u001B[38;5;28;01melse\u001B[39;00m:\n\u001B[1;32m--> 348\u001B[0m     \u001B[38;5;28mself\u001B[39m\u001B[38;5;241m.\u001B[39m_local\u001B[38;5;241m.\u001B[39mcrs \u001B[38;5;241m=\u001B[39m _CRS(\u001B[38;5;28mself\u001B[39m\u001B[38;5;241m.\u001B[39msrs)\n",
      "File \u001B[1;32m~\\AppData\\Roaming\\Python\\Python311\\site-packages\\pyproj\\_crs.pyx:2378\u001B[0m, in \u001B[0;36mpyproj._crs._CRS.__init__\u001B[1;34m()\u001B[0m\n",
      "\u001B[1;31mCRSError\u001B[0m: Invalid projection: EPSG:15914: (Internal Proj Error: proj_create: crs not found)"
     ]
    }
   ],
   "execution_count": 7
  },
  {
   "cell_type": "markdown",
   "id": "5e9a49ffc18b1c42",
   "metadata": {
    "collapsed": false
   },
   "source": [
    "# Examine Storm Event Data"
   ]
  },
  {
   "cell_type": "markdown",
   "id": "77c7f24344b1ccfc",
   "metadata": {
    "collapsed": false
   },
   "source": "## - Examine Storm Event csv's"
  },
  {
   "metadata": {},
   "cell_type": "code",
   "outputs": [],
   "execution_count": null,
   "source": "",
   "id": "6c56d6f9718b6776"
  },
  {
   "metadata": {
    "ExecuteTime": {
     "end_time": "2024-04-10T03:04:18.560950Z",
     "start_time": "2024-04-10T03:04:17.293782Z"
    }
   },
   "cell_type": "code",
   "source": "modified_se_data.to_csv(os.path.join(src_dir, 'Storm_event/StormEvents_all.csv'))",
   "id": "c64646107c90881b",
   "outputs": [],
   "execution_count": 12
  },
  {
   "metadata": {
    "ExecuteTime": {
     "end_time": "2024-04-10T03:04:18.655858Z",
     "start_time": "2024-04-10T03:04:18.560950Z"
    }
   },
   "cell_type": "code",
   "source": [
    "modified_se_data = modified_se_data.drop(columns='EVENT_ID_1').rename(\n",
    "    columns={'BEGIN_YEAR': 'BEGIN_YRMO', 'END_YEARMO': 'END_YRMO', 'CZ_FIPS': 'COUNTY_FIP', 'CZ_NAME': 'COUNTY'})"
   ],
   "id": "de98488ad0a5ac56",
   "outputs": [],
   "execution_count": 13
  },
  {
   "metadata": {
    "ExecuteTime": {
     "end_time": "2024-04-10T03:04:19.963843Z",
     "start_time": "2024-04-10T03:04:18.655858Z"
    }
   },
   "cell_type": "code",
   "source": "modified_se_data.to_csv(os.path.join(src_dir, 'Storm_event/StormEvents_alltest.csv'))",
   "id": "187e839f5e16fbf4",
   "outputs": [],
   "execution_count": 14
  },
  {
   "metadata": {
    "ExecuteTime": {
     "end_time": "2024-04-10T03:04:20.053417Z",
     "start_time": "2024-04-10T03:04:19.966819Z"
    }
   },
   "cell_type": "code",
   "source": [
    "# list all columns, in the order you want them\n",
    "column_order = modified_se_data.columns.tolist()\n",
    "\n",
    "# remove 'COUNTY' and 'COUNTY_FIPS' from their current location and\n",
    "# insert them right after 'STATE' (index 12) and 'STATE_FIPS' (index 13)\n",
    "column_order.remove('COUNTY')\n",
    "column_order.remove('COUNTY_FIP')\n",
    "column_order.insert(14, 'COUNTY')\n",
    "column_order.insert(15, 'COUNTY_FIP')\n",
    "\n",
    "# reindex the dataframe\n",
    "modified_se_data = modified_se_data[column_order]\n",
    "print('\\n', 'modified_se_data columns:', '\\n')\n",
    "# get column names with their index\n",
    "output_string = ''\n",
    "\n",
    "for i, col_name in enumerate(original_se_data.columns):\n",
    "    dtype = original_se_data[col_name].dtype\n",
    "    output_string += f'Index: {i}, Column Name: {col_name}, Data Type: {dtype}\\n'\n",
    "\n",
    "pyperclip.copy('modified_se_data:\\n' + output_string)\n",
    "print(output_string)"
   ],
   "id": "b16deba87151bbec",
   "outputs": [
    {
     "name": "stdout",
     "output_type": "stream",
     "text": [
      "\n",
      " modified_se_data columns: \n",
      "\n",
      "Index: 0, Column Name: OID_, Data Type: int64\n",
      "Index: 1, Column Name: EVENT_ID, Data Type: int64\n",
      "Index: 2, Column Name: BEGIN_LAT, Data Type: float64\n",
      "Index: 3, Column Name: BEGIN_LON, Data Type: float64\n",
      "Index: 4, Column Name: END_LAT, Data Type: float64\n",
      "Index: 5, Column Name: END_LON, Data Type: float64\n",
      "Index: 6, Column Name: Shape_Leng, Data Type: float64\n",
      "Index: 7, Column Name: Field1, Data Type: int64\n",
      "Index: 8, Column Name: EVENT_ID_1, Data Type: int64\n",
      "Index: 9, Column Name: BEGIN_YEAR, Data Type: int64\n",
      "Index: 10, Column Name: BEGIN_DAY, Data Type: int64\n",
      "Index: 11, Column Name: END_YEARMO, Data Type: int64\n",
      "Index: 12, Column Name: END_DAY, Data Type: int64\n",
      "Index: 13, Column Name: STATE, Data Type: object\n",
      "Index: 14, Column Name: STATE_FIPS, Data Type: int64\n",
      "Index: 15, Column Name: YEAR, Data Type: int64\n",
      "Index: 16, Column Name: MONTH_NAME, Data Type: object\n",
      "Index: 17, Column Name: EVENT_TYPE, Data Type: object\n",
      "Index: 18, Column Name: DAMAGE_CRO, Data Type: object\n",
      "Index: 19, Column Name: MAGNITUDE, Data Type: float64\n",
      "Index: 20, Column Name: MAGNITUDE_, Data Type: object\n",
      "Index: 21, Column Name: geometry, Data Type: geometry\n",
      "\n"
     ]
    }
   ],
   "execution_count": 15
  },
  {
   "metadata": {
    "ExecuteTime": {
     "end_time": "2024-04-10T03:04:20.063573Z",
     "start_time": "2024-04-10T03:04:20.053417Z"
    }
   },
   "cell_type": "code",
   "source": "",
   "id": "4f1747d8a3eca524",
   "outputs": [],
   "execution_count": 15
  },
  {
   "cell_type": "code",
   "id": "96bba2f8dad613d0",
   "metadata": {
    "collapsed": false,
    "ExecuteTime": {
     "end_time": "2024-04-10T03:04:20.091059Z",
     "start_time": "2024-04-10T03:04:20.063573Z"
    }
   },
   "source": [
    "# Get the CRS\n",
    "crs = CRS(modified_se_data.crs)\n",
    "\n",
    "# Name of the CRS\n",
    "print('Name:', crs.name)\n",
    "# EPSG of the CRS\n",
    "if crs.to_epsg():\n",
    "    print('EPSG:', crs.to_epsg())\n",
    "else:\n",
    "    print('No EPSG found for this CRS')\n",
    "# Unit of the CRS\n",
    "print('Unit:', crs.axis_info[0].unit_name)\n"
   ],
   "outputs": [
    {
     "name": "stdout",
     "output_type": "stream",
     "text": [
      "Name: NAD83\n",
      "EPSG: 4269\n",
      "Unit: degree\n"
     ]
    }
   ],
   "execution_count": 16
  },
  {
   "cell_type": "code",
   "id": "2d33d948f233a413",
   "metadata": {
    "collapsed": false,
    "ExecuteTime": {
     "end_time": "2024-04-10T03:04:20.199252Z",
     "start_time": "2024-04-10T03:04:20.093238Z"
    }
   },
   "source": [
    "# Reproject / transform to BLM zone 14N (US survey foot)\n",
    "modified_se_data = modified_se_data.to_crs('EPSG:15914')\n",
    "# Get the CRS\n",
    "crs = CRS(modified_se_data.crs)\n",
    "\n",
    "# Name of the CRS\n",
    "print('Name:', crs.name)\n",
    "# EPSG of the CRS\n",
    "if crs.to_epsg():\n",
    "    print('EPSG:', crs.to_epsg())\n",
    "else:\n",
    "    print('No EPSG found for this CRS')\n",
    "# Unit of the CRS\n",
    "print('Unit:', crs.axis_info[0].unit_name)\n",
    "print(\"Unique Years: \", modified_se_data['YEAR'].unique())\n",
    "print(\"Unique Counties: \", modified_se_data['COUNTY'].unique())"
   ],
   "outputs": [
    {
     "name": "stdout",
     "output_type": "stream",
     "text": [
      "Name: NAD83(2011) / Kansas South (ftUS)\n",
      "EPSG: 6469\n",
      "Unit: US survey foot\n",
      "Unique Years:  [2011 2012 2013 2014 2015 2016 2017 2018 2019]\n",
      "Unique Counties:  ['MARION' 'BUTLER' 'HARRISON' 'RANDOLPH' 'COOPER' 'SHERIDAN' 'CLARK'\n",
      " 'GRAY' 'DENT' 'OKMULGEE' 'NOWATA' 'CREEK' 'CRAIG' 'COLUMBIA' 'GRAHAM'\n",
      " 'HODGEMAN' 'FORD' 'KIOWA' 'PRATT' 'PAWNEE' 'COWLEY' 'GENTRY' 'MERCER'\n",
      " 'HOLT' 'ANDREW' 'MACON' 'SULLIVAN' 'DAVIESS' 'LINN' 'CHASE' 'RUSSELL'\n",
      " 'RICE' 'MCPHERSON' 'DEUEL' 'UNION' 'GRUNDY' 'NODAWAY' 'ELK' 'ALLEN'\n",
      " 'MONTGOMERY' 'CHERRY' 'HARVEY' 'TULSA' 'MILLER' 'HEMPSTEAD' 'ATOKA'\n",
      " 'KEITH' 'CRITTENDEN' 'THOMAS' 'KIT CARSON' 'KEARNY' 'CALDWELL' 'ADAIR'\n",
      " 'WOODSON' 'CHAUTAUQUA' 'GRANT' 'COMANCHE' 'LANE' 'FINNEY' 'SEDGWICK'\n",
      " 'GREENE' 'PITTSBURG' 'MORGAN' 'MCCURTAIN' 'LE FLORE' 'LARAMIE'\n",
      " 'SCOTTS BLUFF' 'LINCOLN' 'LITTLE RIVER' 'CUSTER' 'ROCK' 'NEVADA' 'DUNDY'\n",
      " 'YUMA' 'HAMILTON' 'JACKSON' 'MEADE' 'DE KALB' 'CLAY' 'PLATTE' 'WRIGHT'\n",
      " 'GAGE' 'BOX BUTTE' 'ANTELOPE' 'PONTOTOC' 'NEOSHO' 'LABETTE' 'CASS'\n",
      " 'DUNKLIN' 'NESS' 'ELLIS' 'MONROE' 'GARLAND' 'CUMING' 'EDWARDS' 'SCOTT'\n",
      " 'C & S WELD COUNTY' 'CLINTON' 'FRANKLIN' 'ARTHUR' 'WAGONER' 'SALINE'\n",
      " 'JOHNSON' 'SARPY' 'CARBON' 'NIOBRARA' 'KIMBALL' 'CHEYENNE' 'KAY' 'SEWARD'\n",
      " 'OSAGE' 'DADE' 'POLK' 'BENTON' 'CAMDEN' 'JASPER' 'PULASKI' 'BOLLINGER'\n",
      " 'CAPE GIRARDEAU' 'CARTER' 'MISSISSIPPI' 'NEW MADRID' 'HUGHES' 'STANTON'\n",
      " 'LACLEDE' 'WEBSTER' 'DELAWARE' 'BARTON' 'MUSKOGEE' 'ROGERS' 'WHITE'\n",
      " 'LONOKE' 'DODGE' 'PERRY' 'RIPLEY' 'STODDARD' 'GOSHEN' 'BANNER' 'PETTIS'\n",
      " 'SHERMAN' 'BROWN' 'FRONTIER' 'PRAIRIE' 'WAYNE' 'BOONE' 'DAKOTA' 'RAWLINS'\n",
      " 'GOVE' 'WILSON' 'PUSHMATAHA' 'OTTAWA' 'DREW' 'DESHA' 'ALBANY' 'MINNEHAHA'\n",
      " 'SIOUX' 'LOGAN' 'WASHINGTON' 'RENO' 'PERKINS' 'RIO BLANCO' 'MONTEZUMA'\n",
      " 'THURSTON' 'DAWES' 'HAYES' 'LEAVENWORTH' 'STEVENS' 'MORTON' 'MAYES'\n",
      " 'CIMARRON' 'CONVERSE' 'SEBASTIAN' 'CHEROKEE' 'HOWARD' 'CRAWFORD'\n",
      " 'DOUGLAS' 'TEXAS' 'BAXTER' 'SHARP' 'JOHNSTON' 'STAFFORD' 'ATCHISON'\n",
      " 'BARBER' 'LIVINGSTON' 'SEVIER' 'FULTON' 'PHILLIPS' 'PUTNAM' 'LATIMER'\n",
      " 'CORSON' 'WALWORTH' 'LANCASTER' 'KINGMAN' 'POTTAWATOMIE' 'SHAWNEE'\n",
      " 'AUDRAIN' 'JEFFERSON' 'CALHOUN' 'ARKANSAS' 'WOODBURY' 'KINGFISHER'\n",
      " 'CADDO' 'WOODS' 'MADISON' 'WABAUNSEE' 'RALLS' 'NEMAHA' 'ANDERSON'\n",
      " 'COFFEY' 'LEWIS' 'ST. CHARLES' 'WOODRUFF' 'BUENA VISTA' 'DICKINSON'\n",
      " 'OTOE' 'RUSH' 'CLOUD' 'REPUBLIC' 'TREGO' 'COLE' 'ELLSWORTH' 'KNOX'\n",
      " 'MARSHALL' 'PIKE' 'MORRIS' 'IDA' 'DALLAS' 'BRULE' 'PIERCE' 'GEARY'\n",
      " 'IZARD' 'CLEBURNE' 'PENNINGTON' 'MILLS' 'HOT SPRING' 'POPE' 'CONWAY'\n",
      " 'FAULKNER' 'POTTAWATTAMIE' 'WALLACE' 'ST. LOUIS' 'POTTER' 'EDMUNDS'\n",
      " 'SHELBY' 'SAUNDERS' 'RILEY' 'ST. FRANCIS' 'MONITEAU' 'CHRISTIAN' 'YELL'\n",
      " 'HASKELL' 'HARPER' 'FREMONT' 'HYDE' 'HAMLIN' 'JONES' 'CALLAWAY' 'YANKTON'\n",
      " 'HUTCHINSON' 'DAY' 'STANLEY' 'CRAIGHEAD' 'BEADLE' 'REYNOLDS' 'PLYMOUTH'\n",
      " 'ROBERTS' 'HAND' 'SUMNER' 'LYMAN' 'SPINK' 'WARREN' 'JERAULD' \"O'BRIEN\"\n",
      " 'DEWEY' 'MORGAN COUNTY' 'SEARCY' 'LYON' 'LAFAYETTE' 'OSCEOLA' 'CANADIAN'\n",
      " 'OKLAHOMA' 'N & NE ELBERT COUNTY BELOW 6000 FEET / N LINCOLN COUNTY'\n",
      " 'YUMA COUNTY' 'DIXON' 'KIT CARSON COUNTY' 'HITCHCOCK' 'RED WILLOW'\n",
      " 'GASCONADE' 'DECATUR' 'NORTON' 'CLEVELAND' 'INDEPENDENCE' 'BLAINE'\n",
      " 'NORTH SNOWY RANGE FOOTHILLS' 'FERRIS/SEMINOE/SHIRLEY MOUNTAINS'\n",
      " 'EAST PLATTE COUNTY' 'LARAMIE VALLEY' 'EAST LARAMIE COUNTY'\n",
      " 'CENTRAL CARBON COUNTY' 'PUEBLO VICINITY / PUEBLO COUNTY BELOW 6300 FT'\n",
      " 'WEST / CENTRAL FREMONT COUNTY BELOW 8500 FT' 'SOUTH LARAMIE RANGE'\n",
      " 'SPRINGFIELD VICINITY / BACA COUNTY'\n",
      " 'EASTERN LAKE COUNTY / WESTERN MOSQUITO RANGE ABOVE 11000 FT'\n",
      " 'EASTERN SAWATCH MOUNTAINS ABOVE 11000 FT' 'OUACHITA'\n",
      " 'WALSENBURG VICINITY / UPPER HUERFANO RIVER BASIN BELOW 7500 FT'\n",
      " 'CENTRAL CHAFFEE COUNTY BELOW 9000 FT' 'NATRONA COUNTY LOWER ELEVATIONS'\n",
      " 'CENTRAL LARAMIE RANGE AND SOUTHWEST PLATTE COUNTY' 'KEARNEY' 'ZIEBACH'\n",
      " 'RAPID CITY' 'PENNINGTON CO PLAINS' 'HAAKON' 'OGLALA LAKOTA'\n",
      " 'WESTERN CHAFFEE COUNTY BETWEEN 9000 & 11000 FT' 'IRON' 'BURT'\n",
      " 'TRINIDAD VICINITY / LOWER HUERFANO RIVER BASIN & WESTERN LAS ANIMAS COUNTY BELOW 7500 FT'\n",
      " 'FURNAS' 'HARLAN' 'SOUTH LARAMIE RANGE FOOTHILLS' 'BENNETT' 'MELLETTE'\n",
      " 'ST. FRANCOIS' 'CEDAR' 'CONVERSE COUNTY LOWER ELEVATIONS' 'TODD' 'TRIPP'\n",
      " 'SOUTHERN MEADE CO PLAINS'\n",
      " 'BOULDER & JEFFERSON COUNTIES BELOW 6000 FEET / W BROOMFIELD COUNTY'\n",
      " 'STE. GENEVIEVE' 'SULLY' 'STONE' 'CARROLL' 'WIND RIVER BASIN'\n",
      " 'LANDER FOOTHILLS' 'WIND RIVER MOUNTAINS WEST'\n",
      " 'NORTHERN EL PASO COUNTY / MONUMENT RIDGE / RAMPART RANGE BELOW 7500 FT'\n",
      " 'PIKES PEAK ABOVE 11000 FT' 'GREELEY' 'WIND RIVER MOUNTAINS EAST' 'PAYNE'\n",
      " 'NIOBRARA COUNTY' 'NORTH LARAMIE RANGE' 'FAULK' 'BUCHANAN'\n",
      " 'GREEN MOUNTAINS & RATTLESNAKE RANGE' 'CODY FOOTHILLS'\n",
      " 'LARIMER COUNTY BELOW 6000 FEET / NW WELD COUNTY' 'RICHARDSON'\n",
      " 'ABSAROKA MOUNTAINS' 'DAWSON' 'OWL CREEK & BRIDGER MOUNTAINS' 'SEQUOYAH'\n",
      " 'SHIRLEY BASIN' 'CHARLES MIX' 'BUFFALO' 'CENTRAL LARAMIE COUNTY' 'ADAMS'\n",
      " 'TELLER COUNTY / RAMPART RANGE ABOVE 7500 FT / PIKES PEAK BETWEEN 7500 & 11000 FT'\n",
      " 'WET MOUNTAINS BETWEEN 8500 AND 10000 FT' 'HOOKER' 'VALLEY' 'GOSPER'\n",
      " 'NORTHERN MEADE CO PLAINS' 'CROWLEY COUNTY'\n",
      " 'LA JUNTA VICINITY / OTERO COUNTY' 'EASTERN LAS ANIMAS COUNTY'\n",
      " 'WESTERN KIOWA COUNTY' 'EASTERN KIOWA COUNTY' 'HALL' 'PHELPS'\n",
      " 'NORTHERN SANGRE DE CRISTO MOUNTAINS BETWEEN 8500 & 11000 FT' 'WICHITA'\n",
      " 'SMITH' 'MERRICK'\n",
      " 'SOUTHERN SANGRE DE CRISTO MOUNTAINS BETWEEN 7500 & 11000 FT' 'MONONA'\n",
      " 'ROOKS' 'WESTCLIFFE VICINITY / WET MOUNTAIN VALLEY BELOW 8500 FT'\n",
      " 'BENT COUNTY' 'LAMAR VICINITY / PROWERS COUNTY' 'TILLMAN'\n",
      " 'NORTHERN SANGRE DE CRISTO MOUNTAINS ABOVE 11000 FT' 'OSBORNE'\n",
      " 'CANON CITY VICINITY / EASTERN FREMONT COUNTY' 'NANCE'\n",
      " 'SOUTHERN SANGRE DE CRISTO MOUNTAINS ABOVE 11000 FT'\n",
      " 'WET MOUNTAINS ABOVE 10000 FT' 'GOSHEN COUNTY'\n",
      " 'COLORADO SPRINGS VICINITY / SOUTHERN EL PASO COUNTY / RAMPART RANGE BELOW 7500 FT'\n",
      " 'PAGE' 'CHEYENNE COUNTY' 'ELKHEAD AND PARK MOUNTAINS'\n",
      " 'SOUTHWEST CARBON COUNTY' 'MORRILL' 'FLATTOP MOUNTAINS' 'HOWELL' 'NEWTON'\n",
      " 'VERNON' 'SHERIDAN FOOTHILLS' 'OREGON' 'SHANNON' 'PEMISCOT'\n",
      " 'SOUTHWESTERN SAN JUAN MOUNTAINS' 'GRAND AND BATTLEMENT MESAS'\n",
      " 'WEST ELK AND SAWATCH MOUNTAINS' 'WOODWARD' 'BEAVER'\n",
      " 'UNCOMPAHGRE PLATEAU AND DALLAS DIVIDE' 'NORTHWESTERN SAN JUAN MOUNTAINS'\n",
      " 'BOURBON' 'MARIES' 'NORTH SIOUX' 'BARRY' 'CROSS' 'ANIMAS RIVER BASIN'\n",
      " 'COLFAX' 'DES MOINES' 'DUBUQUE' 'HENRY' 'IOWA' 'CHARITON' 'KEOKUK' 'LEE'\n",
      " 'LOUISA' 'MUSCATINE' 'HICKORY' 'VAN BUREN' 'ST. CLAIR' 'CAMPBELL'\n",
      " 'HARDING' 'NORTHERN FOOT HILLS' 'ROCK SPRINGS & GREEN RIVER'\n",
      " 'SOUTH LINCOLN COUNTY' 'SCHUYLER' 'ST. LOUIS (C)'\n",
      " 'LARIMER & BOULDER COUNTIES BETWEEN 6000 & 9000 FEET'\n",
      " 'EAST SWEETWATER COUNTY' 'SCOTLAND' 'BATES' 'NORTHERN CAMPBELL'\n",
      " 'SOUTH CAMPBELL' 'CODINGTON' 'NORTHEAST JOHNSON COUNTY'\n",
      " 'JEFFERSON & W DOUGLAS COUNTIES ABOVE 6000 FEET / GILPIN / CLEAR CREEK / NE PARK COUNTIES BELOW 9000 FEET'\n",
      " 'APPANOOSE' 'LAWRENCE' 'MIAMI' 'DONIPHAN' 'RAY' 'WYANDOTTE' 'MCDONALD'\n",
      " 'SOUTHERN BLACK HILLS' 'STURGIS / PIEDMONT FOOTHILLS' 'HERMOSA FOOTHILLS'\n",
      " 'BUTTE' 'GUTHRIE' 'WESTON' 'NORTHEASTERN CROOK' 'ASHLEY' 'BRYAN'\n",
      " 'MONTROSE' 'UINTA' 'OKFUSKEE'\n",
      " 'ELBERT / C & E DOUGLAS COUNTIES ABOVE 6000 FEET' 'STORY' 'CHICOT'\n",
      " 'NORTHWEST FREMONT COUNTY ABOVE 8500 FT' 'POINSETT' 'CUSTER CO PLAINS'\n",
      " 'WINNESHIEK' 'WELD' 'WESTERN CROOK' 'WINNEBAGO' 'CERRO GORDO' 'KOSSUTH'\n",
      " 'ALFALFA' 'ROGER MILLS' 'HANCOCK' 'GREENWOOD' 'WASHITA' 'HUMBOLDT'\n",
      " 'BECKHAM' 'SAC' 'HARDIN' 'WORTH' 'COTTON' 'GRADY' 'EMMET' 'MAJOR'\n",
      " 'GARFIELD' 'HARMON' 'STEPHENS' 'MCCLAIN' 'OZARK' 'GARVIN' 'WAPELLO'\n",
      " 'BRADLEY' 'GARDEN'\n",
      " 'EASTERN CHAFFEE COUNTY / WESTERN MOSQUITO RANGE ABOVE 9000 FT'\n",
      " 'NORTHEAST BIGHORN MOUNTAINS' 'TANEY' 'KINGSBURY' 'SANBORN' 'MINER'\n",
      " 'RINGGOLD' 'DAVIS' 'DAVISON' 'CLARKE' 'LUCAS' 'AURORA' 'MAHASKA'\n",
      " 'POWESHIEK' 'GREGORY' 'TAMA' 'BLACK HAWK' 'BREMER' 'WHEELER' 'MCCOOK'\n",
      " 'PROWERS' 'CHOCTAW' 'LAKE' 'BROOKINGS' 'POCAHONTAS' 'PUEBLO' 'YORK'\n",
      " 'EL PASO' 'MITCHELL' 'JEWELL' 'TAYLOR' 'MCINTOSH' 'COAL' 'SNOWY RANGE'\n",
      " 'MOODY'\n",
      " 'S & E JACKSON / LARIMER / N & NE GRAND / NW BOULDER COUNTIES ABOVE 9000 FEET'\n",
      " 'S & SE GRAND / W CENTRAL & SW BOULDER / GILPIN / CLEAR CREEK / SUMMIT / N & W PARK COUNTIES ABOVE 9000 FEET'\n",
      " 'N DOUGLAS COUNTY BELOW 6000 FEET / DENVER / W ADAMS & ARAPAHOE COUNTIES / E BROOMFIELD COUNTY'\n",
      " 'C & E ADAMS & ARAPAHOE COUNTIES' 'NE WELD COUNTY' 'LOGAN COUNTY'\n",
      " 'WASHINGTON COUNTY' 'SEDGWICK COUNTY' 'PHILLIPS COUNTY' 'NOBLE' 'BOYD'\n",
      " 'KEYA PAHA' 'ARAPAHOE' 'DENVER' 'CROOK' 'NATRONA' 'TETON' 'ELBERT'\n",
      " 'GREER' 'GRAND' 'BOULDER' 'MOFFAT' 'EAGLE' 'LOUP' 'WESTERN CHERRY'\n",
      " 'DEL NORTE VICINITY / NORTHERN SAN LUIS VALLEY BELOW 8500 FT'\n",
      " 'ALAMOSA VICINITY / CENTRAL SAN LUIS VALLEY BELOW 8500 FT'\n",
      " 'EASTERN CHERRY' 'SOUTHERN SAN LUIS VALLEY' 'FAYETTE' 'FLOYD'\n",
      " 'SIERRA MADRE RANGE' 'WYOMING BLACK HILLS' 'BIG HORN' 'CLAYTON'\n",
      " 'LAS ANIMAS' 'OTERO' 'LOVE' 'FALL RIVER' 'MESA' 'NUCKOLLS' 'FILLMORE'\n",
      " 'WASHAKIE' 'PARK' 'SEMINOLE' 'CHAFFEE' 'BENT' 'PALO ALTO' 'MURRAY'\n",
      " 'BROOMFIELD' 'BACA' 'SUBLETTE' 'HINSDALE' 'LARIMER' 'THAYER' 'AUDUBON'\n",
      " 'HANSON' 'SOUTH SIOUX' 'UPPER NORTH PLATTE RIVER BASIN' 'BON HOMME'\n",
      " 'GORE AND ELK MOUNTAINS/CENTRAL MOUNTAIN VALLEYS' 'ALLAMAKEE' 'CHICKASAW'\n",
      " 'SOUTHERN FOOT HILLS' 'UPPER GREEN RIVER BASIN FOOTHILLS'\n",
      " 'UPPER GREEN RIVER BASIN' 'SWEETWATER'\n",
      " 'SAGUACHE COUNTY EAST OF CONTINENTAL DIVIDE BELOW 10000 FT' 'HOT SPRINGS'\n",
      " 'SAN JUAN' 'CENTRAL BLACK HILLS'\n",
      " 'WEST JACKSON & WEST GRAND COUNTIES ABOVE 9000 FEET' 'FLAMING GORGE'\n",
      " 'SOUTHWEST BIG HORN BASIN' 'UPPER WIND RIVER BASIN' 'PITKIN'\n",
      " 'SOUTHEAST BIG HORN BASIN' 'SOUTHEAST JOHNSON COUNTY'\n",
      " 'NORTH BIG HORN BASIN' 'LOWER YAMPA RIVER BASIN'\n",
      " 'CENTRAL YAMPA RIVER BASIN' 'ROAN AND TAVAPUTS PLATEAUS' 'GRAND VALLEY'\n",
      " 'DEBEQUE TO SILT CORRIDOR' 'CENTRAL COLORADO RIVER BASIN'\n",
      " 'CENTRAL GUNNISON AND UNCOMPAHGRE RIVER BASIN' 'NORTHERN BLACK HILLS'\n",
      " 'TURNER' 'ROUTT' 'CLEAR CREEK' 'RIO GRANDE' 'CROWLEY' 'LA PLATA'\n",
      " 'ALAMOSA' 'SAGUACHE' 'OURAY' 'ARCHULETA' 'STAR VALLEY' 'CASPER MOUNTAIN'\n",
      " 'YELLOWSTONE NATIONAL PARK' 'DELTA' 'TELLER'\n",
      " 'SALT RIVER & WYOMING RANGES' 'BIGHORN MOUNTAINS SOUTHEAST' 'Harding'\n",
      " 'Perkins' 'Northern Meade County Plains' 'Ziebach' 'Wind River Basin'\n",
      " 'Buena Vista' 'Butte' 'Rapid City' 'Pennington Co Plains' 'Haakon'\n",
      " 'Jackson' 'Sturgis/Piedmont Foothills' 'Southern Meade Co Plains'\n",
      " 'Northeast Johnson County' 'Natrona County Lower Elevations' 'Corson'\n",
      " 'Dewey' 'Stanley' 'Lyman' 'Hughes' 'Jones' 'Barber'\n",
      " 'Green Mountains & Rattlesnake Range' 'Lander Foothills' 'Yankton'\n",
      " 'SE ELBERT COUNTY BELOW 6000 FEET / SOUTH LINCOLN COUNTY'\n",
      " 'SAN JUAN RIVER BASIN' 'HUERFANO'\n",
      " 'FOUR CORNERS / UPPER DOLORES RIVER BASIN' 'JACKSON HOLE' nan\n",
      " 'LA GARITA MOUNTAINS ABOVE 10000 FT'\n",
      " 'UPPER RIO GRANDE VALLEY / EASTERN SAN JUAN MOUNTAINS BELOW 10000 FT'\n",
      " 'EASTERN SAN JUAN MOUNTAINS ABOVE 10000 FT' 'UPPER YAMPA RIVER BASIN']\n"
     ]
    }
   ],
   "execution_count": 17
  },
  {
   "cell_type": "code",
   "id": "4c7195bcfa9899cb",
   "metadata": {
    "collapsed": false,
    "ExecuteTime": {
     "end_time": "2024-04-10T03:04:43.146243Z",
     "start_time": "2024-04-10T03:04:20.201007Z"
    }
   },
   "source": [
    "# Save modified data as a new Shapefile\n",
    "modified_shp_file = os.path.join(src_dir, 'Storm_event/modified_storm_events.shp')\n",
    "modified_se_data.to_file(modified_shp_file)"
   ],
   "outputs": [],
   "execution_count": 18
  },
  {
   "cell_type": "code",
   "id": "a727dad8168876ec",
   "metadata": {
    "collapsed": false,
    "ExecuteTime": {
     "end_time": "2024-04-10T03:04:44.203774Z",
     "start_time": "2024-04-10T03:04:43.146243Z"
    }
   },
   "source": [
    "# Filter the GeoDataFrame based on extent and save as a new shapefile\n",
    "output_shp_file = os.path.join(src_dir, 'Storm_event/filtered_storm_events.shp')\n",
    "gdf_to_shp(modified_se_data, output_shp_file, extent_coords)\n",
    "\n",
    "# Load the filtered data\n",
    "filtered_se_data = gpd.read_file(output_shp_file)\n",
    "filtered_se_data.crs"
   ],
   "outputs": [
    {
     "data": {
      "text/plain": [
       "<Projected CRS: EPSG:6469>\n",
       "Name: NAD83(2011) / Kansas South (ftUS)\n",
       "Axis Info [cartesian]:\n",
       "- X[east]: Easting (US survey foot)\n",
       "- Y[north]: Northing (US survey foot)\n",
       "Area of Use:\n",
       "- name: United States (USA) - Kansas - counties of Allen; Anderson; Barber; Barton; Bourbon; Butler; Chase; Chautauqua; Cherokee; Clark; Coffey; Comanche; Cowley; Crawford; Edwards; Elk; Finney; Ford; Franklin; Grant; Gray; Greeley; Greenwood; Hamilton; Harper; Harvey; Haskell; Hodgeman; Kearny; Kingman; Kiowa; Labette; Lane; Linn; Lyon; Marion; McPherson; Meade; Miami; Montgomery; Morton; Neosho; Ness; Osage; Pawnee; Pratt; Reno; Rice; Rush; Scott; Sedgwick; Seward; Stafford; Stanton; Stevens; Sumner; Wichita; Wilson; Woodson.\n",
       "- bounds: (-102.05, 36.99, -94.6, 38.88)\n",
       "Coordinate Operation:\n",
       "- name: SPCS83 Kansas South zone (US Survey feet)\n",
       "- method: Lambert Conic Conformal (2SP)\n",
       "Datum: NAD83 (National Spatial Reference System 2011)\n",
       "- Ellipsoid: GRS 1980\n",
       "- Prime Meridian: Greenwich"
      ]
     },
     "execution_count": 19,
     "metadata": {},
     "output_type": "execute_result"
    }
   ],
   "execution_count": 19
  },
  {
   "metadata": {
    "ExecuteTime": {
     "end_time": "2024-04-10T03:04:44.222651Z",
     "start_time": "2024-04-10T03:04:44.207276Z"
    }
   },
   "cell_type": "code",
   "source": [
    "print(type(output_shp_file))\n",
    "print(output_shp_file)\n",
    "print(modified_se_data['geometry'].head())\n"
   ],
   "id": "c76dc932ad1fda5a",
   "outputs": [
    {
     "name": "stdout",
     "output_type": "stream",
     "text": [
      "<class 'str'>\n",
      "Data\\Storm_event/filtered_storm_events.shp\n",
      "0    None\n",
      "1    None\n",
      "2    None\n",
      "3    None\n",
      "4    None\n",
      "Name: geometry, dtype: geometry\n"
     ]
    }
   ],
   "execution_count": 20
  },
  {
   "cell_type": "code",
   "id": "2963b86dbefdc3ca",
   "metadata": {
    "collapsed": false,
    "ExecuteTime": {
     "end_time": "2024-04-10T03:04:44.528226Z",
     "start_time": "2024-04-10T03:04:44.226154Z"
    }
   },
   "source": [
    "# Specify the path to the input geodataframe\n",
    "input_gdf = filtered_se_data\n",
    "# Specify the buffer distance as a float or int\n",
    "buf_dist = 3\n",
    "# or you can specify a str if you want to buffer by meters or feet instesd of kilometers and and miles, respectively\n",
    "# buf_dist = '3000ft'\n",
    "buf_dist_str = str(buf_dist).replace('.', '_')\n",
    "# Specify the path to the output shapefile\n",
    "output_path = os.path.join(src_dir, f'Storm_event/storm_line_{buf_dist_str}_buf.shp')\n",
    "\n",
    "# Create a buffered GeoDataFrame\n",
    "# Note: For Geographic Coordinate Systems, provide buffer distance in kilometers.\n",
    "# For BLM zone 14N (US survey foot) Coordinate Systems, provide buffer distance in miles.\n",
    "buffered_storm_events = gdf_buf(input_gdf, buf_dist, output_path)"
   ],
   "outputs": [],
   "execution_count": 21
  },
  {
   "cell_type": "code",
   "id": "35f0ad81022b4994",
   "metadata": {
    "collapsed": false,
    "ExecuteTime": {
     "end_time": "2024-04-10T03:04:44.543715Z",
     "start_time": "2024-04-10T03:04:44.528226Z"
    }
   },
   "source": [
    "# Group by 'county' and 'END_YEARMO' and aggregate\n",
    "se_gdf = filtered_se_data #.groupby(['county', 'END_YEARMO']).sum().reset_index()\n",
    "\n",
    "min_value = se_gdf['BEGIN_YRMO'].min()\n",
    "max_value = se_gdf['END_YRMO'].max()\n",
    "\n",
    "print('Minimum value in BEGIN_YRMO column:', min_value)\n",
    "print('Maximum value in END_YRMO column:', max_value)\n"
   ],
   "outputs": [
    {
     "name": "stdout",
     "output_type": "stream",
     "text": [
      "Minimum value in BEGIN_YRMO column: 201102\n",
      "Maximum value in END_YRMO column: 201912\n"
     ]
    }
   ],
   "execution_count": 22
  },
  {
   "cell_type": "code",
   "id": "a19021a52bf3d51c",
   "metadata": {
    "collapsed": false,
    "ExecuteTime": {
     "end_time": "2024-04-10T03:04:45.059749Z",
     "start_time": "2024-04-10T03:04:44.547211Z"
    }
   },
   "source": [
    "# Load the storm line data from a shapefile\n",
    "buf_dist_str = '3'\n",
    "stormbuf_gdf = gpd.read_file(os.path.join(src_dir, f'Storm_event/storm_line_{buf_dist_str}_buf.shp'))\n",
    "# Perform the spatial join (intersection)\n",
    "intersect_gdf = gpd.sjoin(ksne_data, stormbuf_gdf, how='inner', op='intersects')\n",
    "intersect_gdf.head()"
   ],
   "outputs": [
    {
     "data": {
      "text/plain": [
       "  STATEFP COUNTYFP  COUNTYNS        AFFGEOID  GEOID      NAME LSAD  \\\n",
       "0      20      037  00484988  0500000US20037  20037  Crawford   06   \n",
       "2      20      021  00484980  0500000US20021  20021  Cherokee   06   \n",
       "0      20      037  00484988  0500000US20037  20037  Crawford   06   \n",
       "2      20      021  00484980  0500000US20021  20021  Cherokee   06   \n",
       "0      20      037  00484988  0500000US20037  20037  Crawford   06   \n",
       "\n",
       "        ALAND    AWATER                                           geometry  \\\n",
       "0  1527498199  13574680  POLYGON ((2301012.649 1655071.499, 2300977.621...   \n",
       "2  1521791027   8951473  POLYGON ((2307788.521 1575772.445, 2331036.824...   \n",
       "0  1527498199  13574680  POLYGON ((2301012.649 1655071.499, 2300977.621...   \n",
       "2  1521791027   8951473  POLYGON ((2307788.521 1575772.445, 2331036.824...   \n",
       "0  1527498199  13574680  POLYGON ((2301012.649 1655071.499, 2300977.621...   \n",
       "\n",
       "   ...   STATE  STATE_FIPS    COUNTY  COUNTY_FIP  YEAR  MONTH_NAME  \\\n",
       "0  ...  KANSAS          20  CHEROKEE          21  2012       April   \n",
       "2  ...  KANSAS          20  CHEROKEE          21  2012       April   \n",
       "0  ...  KANSAS          20  CHEROKEE          21  2019         May   \n",
       "2  ...  KANSAS          20  CHEROKEE          21  2019         May   \n",
       "0  ...  KANSAS          20  CRAWFORD          37  2019         May   \n",
       "\n",
       "          EVENT_TYPE  DAMAGE_CRO  MAGNITUDE  MAGNITUDE_  \n",
       "0  Thunderstorm Wind       0.00K       50.0          EG  \n",
       "2  Thunderstorm Wind       0.00K       50.0          EG  \n",
       "0            Tornado       0.00K        0.0        None  \n",
       "2            Tornado       0.00K        0.0        None  \n",
       "0            Tornado       0.00K        0.0        None  \n",
       "\n",
       "[5 rows x 33 columns]"
      ],
      "text/html": [
       "<div>\n",
       "<style scoped>\n",
       "    .dataframe tbody tr th:only-of-type {\n",
       "        vertical-align: middle;\n",
       "    }\n",
       "\n",
       "    .dataframe tbody tr th {\n",
       "        vertical-align: top;\n",
       "    }\n",
       "\n",
       "    .dataframe thead th {\n",
       "        text-align: right;\n",
       "    }\n",
       "</style>\n",
       "<table border=\"1\" class=\"dataframe\">\n",
       "  <thead>\n",
       "    <tr style=\"text-align: right;\">\n",
       "      <th></th>\n",
       "      <th>STATEFP</th>\n",
       "      <th>COUNTYFP</th>\n",
       "      <th>COUNTYNS</th>\n",
       "      <th>AFFGEOID</th>\n",
       "      <th>GEOID</th>\n",
       "      <th>NAME</th>\n",
       "      <th>LSAD</th>\n",
       "      <th>ALAND</th>\n",
       "      <th>AWATER</th>\n",
       "      <th>geometry</th>\n",
       "      <th>...</th>\n",
       "      <th>STATE</th>\n",
       "      <th>STATE_FIPS</th>\n",
       "      <th>COUNTY</th>\n",
       "      <th>COUNTY_FIP</th>\n",
       "      <th>YEAR</th>\n",
       "      <th>MONTH_NAME</th>\n",
       "      <th>EVENT_TYPE</th>\n",
       "      <th>DAMAGE_CRO</th>\n",
       "      <th>MAGNITUDE</th>\n",
       "      <th>MAGNITUDE_</th>\n",
       "    </tr>\n",
       "  </thead>\n",
       "  <tbody>\n",
       "    <tr>\n",
       "      <th>0</th>\n",
       "      <td>20</td>\n",
       "      <td>037</td>\n",
       "      <td>00484988</td>\n",
       "      <td>0500000US20037</td>\n",
       "      <td>20037</td>\n",
       "      <td>Crawford</td>\n",
       "      <td>06</td>\n",
       "      <td>1527498199</td>\n",
       "      <td>13574680</td>\n",
       "      <td>POLYGON ((2301012.649 1655071.499, 2300977.621...</td>\n",
       "      <td>...</td>\n",
       "      <td>KANSAS</td>\n",
       "      <td>20</td>\n",
       "      <td>CHEROKEE</td>\n",
       "      <td>21</td>\n",
       "      <td>2012</td>\n",
       "      <td>April</td>\n",
       "      <td>Thunderstorm Wind</td>\n",
       "      <td>0.00K</td>\n",
       "      <td>50.0</td>\n",
       "      <td>EG</td>\n",
       "    </tr>\n",
       "    <tr>\n",
       "      <th>2</th>\n",
       "      <td>20</td>\n",
       "      <td>021</td>\n",
       "      <td>00484980</td>\n",
       "      <td>0500000US20021</td>\n",
       "      <td>20021</td>\n",
       "      <td>Cherokee</td>\n",
       "      <td>06</td>\n",
       "      <td>1521791027</td>\n",
       "      <td>8951473</td>\n",
       "      <td>POLYGON ((2307788.521 1575772.445, 2331036.824...</td>\n",
       "      <td>...</td>\n",
       "      <td>KANSAS</td>\n",
       "      <td>20</td>\n",
       "      <td>CHEROKEE</td>\n",
       "      <td>21</td>\n",
       "      <td>2012</td>\n",
       "      <td>April</td>\n",
       "      <td>Thunderstorm Wind</td>\n",
       "      <td>0.00K</td>\n",
       "      <td>50.0</td>\n",
       "      <td>EG</td>\n",
       "    </tr>\n",
       "    <tr>\n",
       "      <th>0</th>\n",
       "      <td>20</td>\n",
       "      <td>037</td>\n",
       "      <td>00484988</td>\n",
       "      <td>0500000US20037</td>\n",
       "      <td>20037</td>\n",
       "      <td>Crawford</td>\n",
       "      <td>06</td>\n",
       "      <td>1527498199</td>\n",
       "      <td>13574680</td>\n",
       "      <td>POLYGON ((2301012.649 1655071.499, 2300977.621...</td>\n",
       "      <td>...</td>\n",
       "      <td>KANSAS</td>\n",
       "      <td>20</td>\n",
       "      <td>CHEROKEE</td>\n",
       "      <td>21</td>\n",
       "      <td>2019</td>\n",
       "      <td>May</td>\n",
       "      <td>Tornado</td>\n",
       "      <td>0.00K</td>\n",
       "      <td>0.0</td>\n",
       "      <td>None</td>\n",
       "    </tr>\n",
       "    <tr>\n",
       "      <th>2</th>\n",
       "      <td>20</td>\n",
       "      <td>021</td>\n",
       "      <td>00484980</td>\n",
       "      <td>0500000US20021</td>\n",
       "      <td>20021</td>\n",
       "      <td>Cherokee</td>\n",
       "      <td>06</td>\n",
       "      <td>1521791027</td>\n",
       "      <td>8951473</td>\n",
       "      <td>POLYGON ((2307788.521 1575772.445, 2331036.824...</td>\n",
       "      <td>...</td>\n",
       "      <td>KANSAS</td>\n",
       "      <td>20</td>\n",
       "      <td>CHEROKEE</td>\n",
       "      <td>21</td>\n",
       "      <td>2019</td>\n",
       "      <td>May</td>\n",
       "      <td>Tornado</td>\n",
       "      <td>0.00K</td>\n",
       "      <td>0.0</td>\n",
       "      <td>None</td>\n",
       "    </tr>\n",
       "    <tr>\n",
       "      <th>0</th>\n",
       "      <td>20</td>\n",
       "      <td>037</td>\n",
       "      <td>00484988</td>\n",
       "      <td>0500000US20037</td>\n",
       "      <td>20037</td>\n",
       "      <td>Crawford</td>\n",
       "      <td>06</td>\n",
       "      <td>1527498199</td>\n",
       "      <td>13574680</td>\n",
       "      <td>POLYGON ((2301012.649 1655071.499, 2300977.621...</td>\n",
       "      <td>...</td>\n",
       "      <td>KANSAS</td>\n",
       "      <td>20</td>\n",
       "      <td>CRAWFORD</td>\n",
       "      <td>37</td>\n",
       "      <td>2019</td>\n",
       "      <td>May</td>\n",
       "      <td>Tornado</td>\n",
       "      <td>0.00K</td>\n",
       "      <td>0.0</td>\n",
       "      <td>None</td>\n",
       "    </tr>\n",
       "  </tbody>\n",
       "</table>\n",
       "<p>5 rows × 33 columns</p>\n",
       "</div>"
      ]
     },
     "execution_count": 23,
     "metadata": {},
     "output_type": "execute_result"
    }
   ],
   "execution_count": 23
  },
  {
   "metadata": {
    "ExecuteTime": {
     "end_time": "2024-04-10T03:04:45.119847Z",
     "start_time": "2024-04-10T03:04:45.059749Z"
    }
   },
   "cell_type": "code",
   "source": [
    "# get column names with their index\n",
    "print('\\n', 'stormbuf_gdf columns:', '\\n')\n",
    "output_string = ''\n",
    "\n",
    "for i, col_name in enumerate(stormbuf_gdf.columns):\n",
    "    dtype = stormbuf_gdf[col_name].dtype\n",
    "    output_string += f'Index: {i}, Column Name: {col_name}, Data Type: {dtype}\\n'\n",
    "\n",
    "pyperclip.copy('stormbuf_gdf:\\n' + output_string)\n",
    "print(output_string)"
   ],
   "id": "ec9d04a79cea9177",
   "outputs": [
    {
     "name": "stdout",
     "output_type": "stream",
     "text": [
      "\n",
      " stormbuf_gdf columns: \n",
      "\n",
      "Index: 0, Column Name: EVENT_ID, Data Type: int64\n",
      "Index: 1, Column Name: OID_, Data Type: int64\n",
      "Index: 2, Column Name: BEGIN_LAT, Data Type: float64\n",
      "Index: 3, Column Name: BEGIN_LON, Data Type: float64\n",
      "Index: 4, Column Name: END_LAT, Data Type: float64\n",
      "Index: 5, Column Name: END_LON, Data Type: float64\n",
      "Index: 6, Column Name: Shape_Leng, Data Type: float64\n",
      "Index: 7, Column Name: Field1, Data Type: int64\n",
      "Index: 8, Column Name: BEGIN_YRMO, Data Type: int64\n",
      "Index: 9, Column Name: BEGIN_DAY, Data Type: int64\n",
      "Index: 10, Column Name: END_YRMO, Data Type: int64\n",
      "Index: 11, Column Name: END_DAY, Data Type: int64\n",
      "Index: 12, Column Name: STATE, Data Type: object\n",
      "Index: 13, Column Name: STATE_FIPS, Data Type: int64\n",
      "Index: 14, Column Name: COUNTY, Data Type: object\n",
      "Index: 15, Column Name: COUNTY_FIP, Data Type: int64\n",
      "Index: 16, Column Name: YEAR, Data Type: int64\n",
      "Index: 17, Column Name: MONTH_NAME, Data Type: object\n",
      "Index: 18, Column Name: EVENT_TYPE, Data Type: object\n",
      "Index: 19, Column Name: DAMAGE_CRO, Data Type: object\n",
      "Index: 20, Column Name: MAGNITUDE, Data Type: float64\n",
      "Index: 21, Column Name: MAGNITUDE_, Data Type: object\n",
      "Index: 22, Column Name: geometry, Data Type: geometry\n",
      "\n"
     ]
    }
   ],
   "execution_count": 24
  },
  {
   "metadata": {
    "ExecuteTime": {
     "end_time": "2024-04-10T03:04:45.134729Z",
     "start_time": "2024-04-10T03:04:45.119847Z"
    }
   },
   "cell_type": "code",
   "source": [
    "print('ksne_data', ksne_data.crs)\n",
    "print('se_gdf', se_gdf.crs)\n",
    "print('stormbuf_gdf', stormbuf_gdf.crs)"
   ],
   "id": "202c2f323f249bbc",
   "outputs": [
    {
     "name": "stdout",
     "output_type": "stream",
     "text": [
      "sixco_data EPSG:6469\n",
      "se_gdf EPSG:6469\n",
      "stormbuf_gdf EPSG:6469\n"
     ]
    }
   ],
   "execution_count": 25
  },
  {
   "metadata": {
    "ExecuteTime": {
     "end_time": "2024-04-10T03:04:45.217034Z",
     "start_time": "2024-04-10T03:04:45.134729Z"
    }
   },
   "cell_type": "code",
   "source": [
    "# get column names with their index\n",
    "print('\\n', 'intersect_gdf columns:', '\\n')\n",
    "output_string = ''\n",
    "\n",
    "for i, col_name in enumerate(intersect_gdf.columns):\n",
    "    dtype = intersect_gdf[col_name].dtype\n",
    "    output_string += f'Index: {i}, Column Name: {col_name}, Data Type: {dtype}\\n'\n",
    "\n",
    "pyperclip.copy('intersect_gdf:\\n' + output_string)\n",
    "print(output_string)"
   ],
   "id": "9fa77f7820cdef0e",
   "outputs": [
    {
     "name": "stdout",
     "output_type": "stream",
     "text": [
      "\n",
      " intersect_gdf columns: \n",
      "\n",
      "Index: 0, Column Name: STATEFP, Data Type: object\n",
      "Index: 1, Column Name: COUNTYFP, Data Type: object\n",
      "Index: 2, Column Name: COUNTYNS, Data Type: object\n",
      "Index: 3, Column Name: AFFGEOID, Data Type: object\n",
      "Index: 4, Column Name: GEOID, Data Type: object\n",
      "Index: 5, Column Name: NAME, Data Type: object\n",
      "Index: 6, Column Name: LSAD, Data Type: object\n",
      "Index: 7, Column Name: ALAND, Data Type: int64\n",
      "Index: 8, Column Name: AWATER, Data Type: int64\n",
      "Index: 9, Column Name: geometry, Data Type: geometry\n",
      "Index: 10, Column Name: index_right, Data Type: int64\n",
      "Index: 11, Column Name: EVENT_ID, Data Type: int64\n",
      "Index: 12, Column Name: OID_, Data Type: int64\n",
      "Index: 13, Column Name: BEGIN_LAT, Data Type: float64\n",
      "Index: 14, Column Name: BEGIN_LON, Data Type: float64\n",
      "Index: 15, Column Name: END_LAT, Data Type: float64\n",
      "Index: 16, Column Name: END_LON, Data Type: float64\n",
      "Index: 17, Column Name: Shape_Leng, Data Type: float64\n",
      "Index: 18, Column Name: Field1, Data Type: int64\n",
      "Index: 19, Column Name: BEGIN_YRMO, Data Type: int64\n",
      "Index: 20, Column Name: BEGIN_DAY, Data Type: int64\n",
      "Index: 21, Column Name: END_YRMO, Data Type: int64\n",
      "Index: 22, Column Name: END_DAY, Data Type: int64\n",
      "Index: 23, Column Name: STATE, Data Type: object\n",
      "Index: 24, Column Name: STATE_FIPS, Data Type: int64\n",
      "Index: 25, Column Name: COUNTY, Data Type: object\n",
      "Index: 26, Column Name: COUNTY_FIP, Data Type: int64\n",
      "Index: 27, Column Name: YEAR, Data Type: int64\n",
      "Index: 28, Column Name: MONTH_NAME, Data Type: object\n",
      "Index: 29, Column Name: EVENT_TYPE, Data Type: object\n",
      "Index: 30, Column Name: DAMAGE_CRO, Data Type: object\n",
      "Index: 31, Column Name: MAGNITUDE, Data Type: float64\n",
      "Index: 32, Column Name: MAGNITUDE_, Data Type: object\n",
      "\n"
     ]
    }
   ],
   "execution_count": 26
  },
  {
   "metadata": {
    "ExecuteTime": {
     "end_time": "2024-04-10T03:04:45.518812Z",
     "start_time": "2024-04-10T03:04:45.217034Z"
    }
   },
   "cell_type": "code",
   "source": "%whos",
   "id": "cc63e928589b589c",
   "outputs": [
    {
     "name": "stdout",
     "output_type": "stream",
     "text": [
      "Variable                     Type             Data/Info\n",
      "-------------------------------------------------------\n",
      "CRS                          type             <class 'pyproj.crs.crs.CRS'>\n",
      "Dataset                      type             <class 'netCDF4._netCDF4.Dataset'>\n",
      "GeoDataFrame                 type             <class 'geopandas.geodataframe.GeoDataFrame'>\n",
      "INLINE                       Resources        Resources(mode='inline')\n",
      "LATITUDE_FORMATTER           FuncFormatter    <matplotlib.ticker.FuncFo<...>ct at 0x000001C65004EA50>\n",
      "LONGITUDE_FORMATTER          FuncFormatter    <matplotlib.ticker.FuncFo<...>ct at 0x000001C65004E990>\n",
      "LineString                   type             <class 'shapely.geometry.linestring.LineString'>\n",
      "Normalize                    type             <class 'matplotlib.colors.Normalize'>\n",
      "Path                         type             <class 'matplotlib.path.Path'>\n",
      "Point                        type             <class 'shapely.geometry.point.Point'>\n",
      "buf_dist                     int              3\n",
      "buf_dist_str                 str              3\n",
      "buffered_storm_events        GeoDataFrame          EVENT_ID  OID_  BEGI<...>\\n[440 rows x 23 columns]\n",
      "ccrs                         module           <module 'cartopy.crs' fro<...>ckages\\\\cartopy\\\\crs.py'>\n",
      "cf                           module           <module 'cartopy.feature'<...>y\\\\feature\\\\__init__.py'>\n",
      "chardet                      module           <module 'chardet' from 'C<...>s\\\\chardet\\\\__init__.py'>\n",
      "col_name                     str              MAGNITUDE_\n",
      "column_order                 list             n=23\n",
      "combine_files                function         <function combine_files at 0x000001C6500A5DA0>\n",
      "crs                          CRS              PROJCRS[\"NAD83(2011) / Ka<...>,-94.6]],ID[\"EPSG\",6469]]\n",
      "df                           DataFrame                  CZ_FIPS    CZ_N<...>n[67861 rows x 2 columns]\n",
      "directory                    str              Data\n",
      "display                      function         <function display at 0x000001C642396B60>\n",
      "dtype                        ObjectDType      object\n",
      "extent_coords                dict             n=4\n",
      "file                         str              Storm_event/StormEvents_details_2019.csv\n",
      "files                        list             n=9\n",
      "filter_df_extent             function         <function filter_df_extent at 0x000001C6500A5BC0>\n",
      "filtered_se_data             GeoDataFrame          EVENT_ID  OID_  BEGI<...>\\n[440 rows x 23 columns]\n",
      "from_origin                  function         <function from_origin at 0x000001C64B1E2160>\n",
      "gdf_buf                      function         <function gdf_buf at 0x000001C6500A5D00>\n",
      "gdf_to_shp                   function         <function gdf_to_shp at 0x000001C6500A5C60>\n",
      "get_crs                      function         <function get_crs at 0x000001C6500A5B20>\n",
      "glob                         module           <module 'glob' from 'C:\\\\<...>indBreaks\\\\Lib\\\\glob.py'>\n",
      "gpd                          module           <module 'geopandas' from <...>\\geopandas\\\\__init__.py'>\n",
      "hv                           module           <module 'holoviews' from <...>\\holoviews\\\\__init__.py'>\n",
      "hvplot                       module           <module 'hvplot' from 'C:<...>es\\\\hvplot\\\\__init__.py'>\n",
      "i                            int              32\n",
      "importlib                    module           <module 'importlib' from <...>\\importlib\\\\__init__.py'>\n",
      "input_gdf                    GeoDataFrame          EVENT_ID  OID_  BEGI<...>\\n[440 rows x 23 columns]\n",
      "input_shp_file               str              Data\\Storm_event/stormevents_line_details.shp\n",
      "intersect_gdf                GeoDataFrame        STATEFP COUNTYFP  COUN<...>n\\n[68 rows x 33 columns]\n",
      "max_value                    int              201912\n",
      "min_value                    int              201102\n",
      "modified_se_data             GeoDataFrame            EVENT_ID  OID_  BE<...>[50113 rows x 23 columns]\n",
      "modified_shp_file            str              Data\\Storm_event/modified_storm_events.shp\n",
      "mticker                      module           <module 'matplotlib.ticke<...>\\\\matplotlib\\\\ticker.py'>\n",
      "nc                           module           <module 'netCDF4' from 'C<...>s\\\\netCDF4\\\\__init__.py'>\n",
      "np                           module           <module 'numpy' from 'C:\\<...>ges\\\\numpy\\\\__init__.py'>\n",
      "original_se_data             GeoDataFrame            OID_  EVENT_ID  BE<...>[50113 rows x 22 columns]\n",
      "os                           module           <module 'os' (frozen)>\n",
      "output_notebook              function         <function output_notebook at 0x000001C646086660>\n",
      "output_path                  str              Data\\Storm_event/storm_line_3_buf.shp\n",
      "output_shp_file              str              Data\\Storm_event/filtered_storm_events.shp\n",
      "output_string                str              Index: 0, Column Name: ST<...>UDE_, Data Type: object\\n\n",
      "pd                           module           <module 'pandas' from 'C:<...>es\\\\pandas\\\\__init__.py'>\n",
      "plt                          module           <module 'matplotlib.pyplo<...>\\\\matplotlib\\\\pyplot.py'>\n",
      "print_all_imported_modules   function         <function print_all_impor<...>es at 0x000001C6500A59E0>\n",
      "print_cols                   function         <function print_cols at 0x000001C6500A5A80>\n",
      "print_functions              function         <function print_functions at 0x000001C6500A58A0>\n",
      "print_modules                function         <function print_modules at 0x000001C6500A5940>\n",
      "pyperclip                    module           <module 'pyperclip' from <...>\\pyperclip\\\\__init__.py'>\n",
      "rasterio                     module           <module 'rasterio' from '<...>\\\\rasterio\\\\__init__.py'>\n",
      "re                           module           <module 're' from 'C:\\\\Us<...>s\\\\Lib\\\\re\\\\__init__.py'>\n",
      "se_gdf                       GeoDataFrame          EVENT_ID  OID_  BEGI<...>\\n[440 rows x 23 columns]\n",
      "show                         function         <function show at 0x000001C646086E80>\n",
      "sixco_data                   GeoDataFrame       STATEFP COUNTYFP  COUNT<...>705.253, 2181058.034...  \n",
      "sixco_fn                     str              Data\\GIS_files/KS_six_co_bo.shp\n",
      "sns                          module           <module 'seaborn' from 'C<...>s\\\\seaborn\\\\__init__.py'>\n",
      "src_dir                      str              Data\n",
      "stormbuf_gdf                 GeoDataFrame          EVENT_ID  OID_  BEGI<...>\\n[440 rows x 23 columns]\n",
      "sys                          module           <module 'sys' (built-in)>\n",
      "types                        module           <module 'types' from 'C:\\<...>ndBreaks\\\\Lib\\\\types.py'>\n",
      "warnings                     module           <module 'warnings' from '<...>reaks\\\\Lib\\\\warnings.py'>\n",
      "widgets                      module           <module 'ipywidgets' from<...>ipywidgets\\\\__init__.py'>\n",
      "wkt                          module           <module 'shapely.wkt' fro<...>ckages\\\\shapely\\\\wkt.py'>\n",
      "xr                           module           <module 'xarray' from 'C:<...>es\\\\xarray\\\\__init__.py'>\n",
      "zonal_stats                  function         <function zonal_stats at 0x000001C64FC1E7A0>\n"
     ]
    }
   ],
   "execution_count": 27
  },
  {
   "metadata": {
    "ExecuteTime": {
     "end_time": "2024-04-10T03:04:45.571959Z",
     "start_time": "2024-04-10T03:04:45.518812Z"
    }
   },
   "cell_type": "code",
   "source": [
    "# get column names with their index\n",
    "print('\\n', 'se_gdf columns:', '\\n')\n",
    "output_string = ''\n",
    "\n",
    "for i, col_name in enumerate(se_gdf.columns):\n",
    "    dtype = se_gdf[col_name].dtype\n",
    "    output_string += f'Index: {i}, Column Name: {col_name}, Data Type: {dtype}\\n'\n",
    "\n",
    "pyperclip.copy('se_gdf columns:\\n' + output_string)\n",
    "print(output_string)"
   ],
   "id": "948917d8c95b1676",
   "outputs": [
    {
     "name": "stdout",
     "output_type": "stream",
     "text": [
      "\n",
      " se_gdf columns: \n",
      "\n",
      "Index: 0, Column Name: EVENT_ID, Data Type: int64\n",
      "Index: 1, Column Name: OID_, Data Type: int64\n",
      "Index: 2, Column Name: BEGIN_LAT, Data Type: float64\n",
      "Index: 3, Column Name: BEGIN_LON, Data Type: float64\n",
      "Index: 4, Column Name: END_LAT, Data Type: float64\n",
      "Index: 5, Column Name: END_LON, Data Type: float64\n",
      "Index: 6, Column Name: Shape_Leng, Data Type: float64\n",
      "Index: 7, Column Name: Field1, Data Type: int64\n",
      "Index: 8, Column Name: BEGIN_YRMO, Data Type: int64\n",
      "Index: 9, Column Name: BEGIN_DAY, Data Type: int64\n",
      "Index: 10, Column Name: END_YRMO, Data Type: int64\n",
      "Index: 11, Column Name: END_DAY, Data Type: int64\n",
      "Index: 12, Column Name: STATE, Data Type: object\n",
      "Index: 13, Column Name: STATE_FIPS, Data Type: int64\n",
      "Index: 14, Column Name: COUNTY, Data Type: object\n",
      "Index: 15, Column Name: COUNTY_FIP, Data Type: int64\n",
      "Index: 16, Column Name: YEAR, Data Type: int64\n",
      "Index: 17, Column Name: MONTH_NAME, Data Type: object\n",
      "Index: 18, Column Name: EVENT_TYPE, Data Type: object\n",
      "Index: 19, Column Name: DAMAGE_CRO, Data Type: object\n",
      "Index: 20, Column Name: MAGNITUDE, Data Type: float64\n",
      "Index: 21, Column Name: MAGNITUDE_, Data Type: object\n",
      "Index: 22, Column Name: geometry, Data Type: geometry\n",
      "\n"
     ]
    }
   ],
   "execution_count": 28
  },
  {
   "metadata": {
    "ExecuteTime": {
     "end_time": "2024-04-10T03:04:45.633085Z",
     "start_time": "2024-04-10T03:04:45.571959Z"
    }
   },
   "cell_type": "code",
   "source": "se_gdf.head()",
   "id": "6e10cdd1c72f9e41",
   "outputs": [
    {
     "data": {
      "text/plain": [
       "   EVENT_ID  OID_  BEGIN_LAT  BEGIN_LON  END_LAT  END_LON  Shape_Leng  Field1  \\\n",
       "0    320977     0      37.15     -95.78    37.15   -95.78         0.0     802   \n",
       "1    325620     0      37.53     -95.36    37.53   -95.36         0.0    1843   \n",
       "2    325622     0      37.37     -95.27    37.37   -95.27         0.0    1845   \n",
       "3    305195     0      37.10     -95.57    37.10   -95.57         0.0    2333   \n",
       "4    305200     0      37.05     -95.23    37.05   -95.23         0.0    2665   \n",
       "\n",
       "   BEGIN_YRMO  BEGIN_DAY  ...  STATE_FIPS      COUNTY COUNTY_FIP  YEAR  \\\n",
       "0      201106         20  ...          20  MONTGOMERY        125  2011   \n",
       "1      201106         10  ...          20      NEOSHO        133  2011   \n",
       "2      201106         10  ...          20     LABETTE         99  2011   \n",
       "3      201105         23  ...          20  MONTGOMERY        125  2011   \n",
       "4      201105         23  ...          20     LABETTE         99  2011   \n",
       "\n",
       "  MONTH_NAME         EVENT_TYPE  DAMAGE_CRO MAGNITUDE MAGNITUDE_ geometry  \n",
       "0       June  Thunderstorm Wind       0.00K      52.0         EG     None  \n",
       "1       June  Thunderstorm Wind        None      70.0         EG     None  \n",
       "2       June  Thunderstorm Wind        None      57.0         MG     None  \n",
       "3        May  Thunderstorm Wind        None      54.0         MG     None  \n",
       "4        May  Thunderstorm Wind        None      52.0         EG     None  \n",
       "\n",
       "[5 rows x 23 columns]"
      ],
      "text/html": [
       "<div>\n",
       "<style scoped>\n",
       "    .dataframe tbody tr th:only-of-type {\n",
       "        vertical-align: middle;\n",
       "    }\n",
       "\n",
       "    .dataframe tbody tr th {\n",
       "        vertical-align: top;\n",
       "    }\n",
       "\n",
       "    .dataframe thead th {\n",
       "        text-align: right;\n",
       "    }\n",
       "</style>\n",
       "<table border=\"1\" class=\"dataframe\">\n",
       "  <thead>\n",
       "    <tr style=\"text-align: right;\">\n",
       "      <th></th>\n",
       "      <th>EVENT_ID</th>\n",
       "      <th>OID_</th>\n",
       "      <th>BEGIN_LAT</th>\n",
       "      <th>BEGIN_LON</th>\n",
       "      <th>END_LAT</th>\n",
       "      <th>END_LON</th>\n",
       "      <th>Shape_Leng</th>\n",
       "      <th>Field1</th>\n",
       "      <th>BEGIN_YRMO</th>\n",
       "      <th>BEGIN_DAY</th>\n",
       "      <th>...</th>\n",
       "      <th>STATE_FIPS</th>\n",
       "      <th>COUNTY</th>\n",
       "      <th>COUNTY_FIP</th>\n",
       "      <th>YEAR</th>\n",
       "      <th>MONTH_NAME</th>\n",
       "      <th>EVENT_TYPE</th>\n",
       "      <th>DAMAGE_CRO</th>\n",
       "      <th>MAGNITUDE</th>\n",
       "      <th>MAGNITUDE_</th>\n",
       "      <th>geometry</th>\n",
       "    </tr>\n",
       "  </thead>\n",
       "  <tbody>\n",
       "    <tr>\n",
       "      <th>0</th>\n",
       "      <td>320977</td>\n",
       "      <td>0</td>\n",
       "      <td>37.15</td>\n",
       "      <td>-95.78</td>\n",
       "      <td>37.15</td>\n",
       "      <td>-95.78</td>\n",
       "      <td>0.0</td>\n",
       "      <td>802</td>\n",
       "      <td>201106</td>\n",
       "      <td>20</td>\n",
       "      <td>...</td>\n",
       "      <td>20</td>\n",
       "      <td>MONTGOMERY</td>\n",
       "      <td>125</td>\n",
       "      <td>2011</td>\n",
       "      <td>June</td>\n",
       "      <td>Thunderstorm Wind</td>\n",
       "      <td>0.00K</td>\n",
       "      <td>52.0</td>\n",
       "      <td>EG</td>\n",
       "      <td>None</td>\n",
       "    </tr>\n",
       "    <tr>\n",
       "      <th>1</th>\n",
       "      <td>325620</td>\n",
       "      <td>0</td>\n",
       "      <td>37.53</td>\n",
       "      <td>-95.36</td>\n",
       "      <td>37.53</td>\n",
       "      <td>-95.36</td>\n",
       "      <td>0.0</td>\n",
       "      <td>1843</td>\n",
       "      <td>201106</td>\n",
       "      <td>10</td>\n",
       "      <td>...</td>\n",
       "      <td>20</td>\n",
       "      <td>NEOSHO</td>\n",
       "      <td>133</td>\n",
       "      <td>2011</td>\n",
       "      <td>June</td>\n",
       "      <td>Thunderstorm Wind</td>\n",
       "      <td>None</td>\n",
       "      <td>70.0</td>\n",
       "      <td>EG</td>\n",
       "      <td>None</td>\n",
       "    </tr>\n",
       "    <tr>\n",
       "      <th>2</th>\n",
       "      <td>325622</td>\n",
       "      <td>0</td>\n",
       "      <td>37.37</td>\n",
       "      <td>-95.27</td>\n",
       "      <td>37.37</td>\n",
       "      <td>-95.27</td>\n",
       "      <td>0.0</td>\n",
       "      <td>1845</td>\n",
       "      <td>201106</td>\n",
       "      <td>10</td>\n",
       "      <td>...</td>\n",
       "      <td>20</td>\n",
       "      <td>LABETTE</td>\n",
       "      <td>99</td>\n",
       "      <td>2011</td>\n",
       "      <td>June</td>\n",
       "      <td>Thunderstorm Wind</td>\n",
       "      <td>None</td>\n",
       "      <td>57.0</td>\n",
       "      <td>MG</td>\n",
       "      <td>None</td>\n",
       "    </tr>\n",
       "    <tr>\n",
       "      <th>3</th>\n",
       "      <td>305195</td>\n",
       "      <td>0</td>\n",
       "      <td>37.10</td>\n",
       "      <td>-95.57</td>\n",
       "      <td>37.10</td>\n",
       "      <td>-95.57</td>\n",
       "      <td>0.0</td>\n",
       "      <td>2333</td>\n",
       "      <td>201105</td>\n",
       "      <td>23</td>\n",
       "      <td>...</td>\n",
       "      <td>20</td>\n",
       "      <td>MONTGOMERY</td>\n",
       "      <td>125</td>\n",
       "      <td>2011</td>\n",
       "      <td>May</td>\n",
       "      <td>Thunderstorm Wind</td>\n",
       "      <td>None</td>\n",
       "      <td>54.0</td>\n",
       "      <td>MG</td>\n",
       "      <td>None</td>\n",
       "    </tr>\n",
       "    <tr>\n",
       "      <th>4</th>\n",
       "      <td>305200</td>\n",
       "      <td>0</td>\n",
       "      <td>37.05</td>\n",
       "      <td>-95.23</td>\n",
       "      <td>37.05</td>\n",
       "      <td>-95.23</td>\n",
       "      <td>0.0</td>\n",
       "      <td>2665</td>\n",
       "      <td>201105</td>\n",
       "      <td>23</td>\n",
       "      <td>...</td>\n",
       "      <td>20</td>\n",
       "      <td>LABETTE</td>\n",
       "      <td>99</td>\n",
       "      <td>2011</td>\n",
       "      <td>May</td>\n",
       "      <td>Thunderstorm Wind</td>\n",
       "      <td>None</td>\n",
       "      <td>52.0</td>\n",
       "      <td>EG</td>\n",
       "      <td>None</td>\n",
       "    </tr>\n",
       "  </tbody>\n",
       "</table>\n",
       "<p>5 rows × 23 columns</p>\n",
       "</div>"
      ]
     },
     "execution_count": 29,
     "metadata": {},
     "output_type": "execute_result"
    }
   ],
   "execution_count": 29
  },
  {
   "metadata": {
    "ExecuteTime": {
     "end_time": "2024-04-10T03:04:45.649553Z",
     "start_time": "2024-04-10T03:04:45.633085Z"
    }
   },
   "cell_type": "code",
   "source": [
    "print(\"Unique Years: \", se_gdf['YEAR'].unique())\n",
    "print(\"Unique Counties: \", se_gdf['COUNTY'].unique())\n"
   ],
   "id": "a45d36e0986a5f7f",
   "outputs": [
    {
     "name": "stdout",
     "output_type": "stream",
     "text": [
      "Unique Years:  [2011 2012 2013 2014 2015 2016 2017 2018 2019]\n",
      "Unique Counties:  ['MONTGOMERY' 'NEOSHO' 'LABETTE' 'WILSON' 'CHEROKEE' 'CRAWFORD' 'BOURBON'\n",
      " 'OTTAWA' 'JASPER' 'BARTON']\n"
     ]
    }
   ],
   "execution_count": 30
  },
  {
   "cell_type": "code",
   "id": "3e24217bfe38dc93",
   "metadata": {
    "collapsed": false,
    "ExecuteTime": {
     "end_time": "2024-04-10T03:04:45.759501Z",
     "start_time": "2024-04-10T03:04:45.649553Z"
    }
   },
   "source": [
    "se_sum_gdf = se_gdf.groupby(['YEAR', 'STATE', 'COUNTY'])['EVENT_ID'].size()\n",
    "print(se_sum_gdf)\n",
    "print('\\n', 'se_sum_gdf index:', '\\n')\n",
    "output_string = ''\n",
    "\n",
    "for i, index_name in enumerate(se_sum_gdf.index.names):\n",
    "    output_string += f'Index Level: {i}, Index Name: {index_name}\\n'\n",
    "\n",
    "pyperclip.copy('se_sum_gdf index:\\n' + output_string)\n",
    "print(output_string)\n"
   ],
   "outputs": [
    {
     "name": "stdout",
     "output_type": "stream",
     "text": [
      "YEAR  STATE     COUNTY    \n",
      "2011  KANSAS    BOURBON        2\n",
      "                CHEROKEE      12\n",
      "                CRAWFORD       9\n",
      "                LABETTE       11\n",
      "                MONTGOMERY    11\n",
      "                NEOSHO        10\n",
      "                WILSON         2\n",
      "2012  KANSAS    CHEROKEE      19\n",
      "                CRAWFORD      23\n",
      "                LABETTE       10\n",
      "                MONTGOMERY     8\n",
      "                NEOSHO         5\n",
      "                WILSON         1\n",
      "2013  KANSAS    CHEROKEE       8\n",
      "                CRAWFORD       4\n",
      "                LABETTE        3\n",
      "                MONTGOMERY    11\n",
      "                NEOSHO         1\n",
      "                WILSON         3\n",
      "2014  KANSAS    CHEROKEE      10\n",
      "                CRAWFORD       2\n",
      "                LABETTE        5\n",
      "                MONTGOMERY    10\n",
      "                NEOSHO         2\n",
      "      MISSOURI  JASPER         2\n",
      "      OKLAHOMA  OTTAWA         1\n",
      "2015  KANSAS    CHEROKEE       9\n",
      "                CRAWFORD       4\n",
      "                LABETTE       14\n",
      "                MONTGOMERY     6\n",
      "                NEOSHO         2\n",
      "                WILSON         5\n",
      "2016  KANSAS    CHEROKEE       7\n",
      "                CRAWFORD       8\n",
      "                LABETTE        8\n",
      "                MONTGOMERY     6\n",
      "                WILSON         3\n",
      "2017  KANSAS    BOURBON        1\n",
      "                CHEROKEE      13\n",
      "                CRAWFORD      19\n",
      "                LABETTE        6\n",
      "                MONTGOMERY    13\n",
      "                NEOSHO         9\n",
      "                WILSON         3\n",
      "2018  KANSAS    CHEROKEE       6\n",
      "                CRAWFORD       4\n",
      "                LABETTE        5\n",
      "                MONTGOMERY    16\n",
      "                NEOSHO         4\n",
      "                WILSON         3\n",
      "2019  KANSAS    CHEROKEE      20\n",
      "                CRAWFORD      21\n",
      "                LABETTE        6\n",
      "                MONTGOMERY    17\n",
      "                NEOSHO        10\n",
      "                WILSON         3\n",
      "      MISSOURI  BARTON         2\n",
      "                JASPER         1\n",
      "      OKLAHOMA  OTTAWA         1\n",
      "Name: EVENT_ID, dtype: int64\n",
      "\n",
      " se_sum_gdf index: \n",
      "\n",
      "Index Level: 0, Index Name: YEAR\n",
      "Index Level: 1, Index Name: STATE\n",
      "Index Level: 2, Index Name: COUNTY\n",
      "\n"
     ]
    }
   ],
   "execution_count": 31
  },
  {
   "metadata": {
    "ExecuteTime": {
     "end_time": "2024-04-10T03:04:45.787328Z",
     "start_time": "2024-04-10T03:04:45.759501Z"
    }
   },
   "cell_type": "code",
   "source": [
    "se_sum_gdf = se_sum_gdf.reset_index()\n",
    "\n",
    "se_sum_gdf.head()"
   ],
   "id": "9556f2f1f921fd55",
   "outputs": [
    {
     "data": {
      "text/plain": [
       "   YEAR   STATE      COUNTY  EVENT_ID\n",
       "0  2011  KANSAS     BOURBON         2\n",
       "1  2011  KANSAS    CHEROKEE        12\n",
       "2  2011  KANSAS    CRAWFORD         9\n",
       "3  2011  KANSAS     LABETTE        11\n",
       "4  2011  KANSAS  MONTGOMERY        11"
      ],
      "text/html": [
       "<div>\n",
       "<style scoped>\n",
       "    .dataframe tbody tr th:only-of-type {\n",
       "        vertical-align: middle;\n",
       "    }\n",
       "\n",
       "    .dataframe tbody tr th {\n",
       "        vertical-align: top;\n",
       "    }\n",
       "\n",
       "    .dataframe thead th {\n",
       "        text-align: right;\n",
       "    }\n",
       "</style>\n",
       "<table border=\"1\" class=\"dataframe\">\n",
       "  <thead>\n",
       "    <tr style=\"text-align: right;\">\n",
       "      <th></th>\n",
       "      <th>YEAR</th>\n",
       "      <th>STATE</th>\n",
       "      <th>COUNTY</th>\n",
       "      <th>EVENT_ID</th>\n",
       "    </tr>\n",
       "  </thead>\n",
       "  <tbody>\n",
       "    <tr>\n",
       "      <th>0</th>\n",
       "      <td>2011</td>\n",
       "      <td>KANSAS</td>\n",
       "      <td>BOURBON</td>\n",
       "      <td>2</td>\n",
       "    </tr>\n",
       "    <tr>\n",
       "      <th>1</th>\n",
       "      <td>2011</td>\n",
       "      <td>KANSAS</td>\n",
       "      <td>CHEROKEE</td>\n",
       "      <td>12</td>\n",
       "    </tr>\n",
       "    <tr>\n",
       "      <th>2</th>\n",
       "      <td>2011</td>\n",
       "      <td>KANSAS</td>\n",
       "      <td>CRAWFORD</td>\n",
       "      <td>9</td>\n",
       "    </tr>\n",
       "    <tr>\n",
       "      <th>3</th>\n",
       "      <td>2011</td>\n",
       "      <td>KANSAS</td>\n",
       "      <td>LABETTE</td>\n",
       "      <td>11</td>\n",
       "    </tr>\n",
       "    <tr>\n",
       "      <th>4</th>\n",
       "      <td>2011</td>\n",
       "      <td>KANSAS</td>\n",
       "      <td>MONTGOMERY</td>\n",
       "      <td>11</td>\n",
       "    </tr>\n",
       "  </tbody>\n",
       "</table>\n",
       "</div>"
      ]
     },
     "execution_count": 32,
     "metadata": {},
     "output_type": "execute_result"
    }
   ],
   "execution_count": 32
  },
  {
   "cell_type": "markdown",
   "source": "# Store notebook variables for use in other notebooks in the project.",
   "metadata": {
    "collapsed": false
   },
   "id": "a283f545a5cc1b1e"
  },
  {
   "cell_type": "code",
   "id": "20fd32e50699b10b",
   "metadata": {
    "collapsed": false,
    "ExecuteTime": {
     "end_time": "2024-04-10T03:56:59.203421Z",
     "start_time": "2024-04-10T03:56:59.178364Z"
    }
   },
   "source": [
    "%store src_dir\n",
    "%store extent_coords\n",
    "%store crop_data\n",
    "%store se_gdf\n",
    "%store stormbuf_gdf\n",
    "%store ksne_data"
   ],
   "outputs": [
    {
     "name": "stdout",
     "output_type": "stream",
     "text": [
      "Stored 'src_dir' (str)\n",
      "Stored 'extent_coords' (dict)\n",
      "Stored 'crop_data' (DataFrame)\n",
      "Stored 'se_gdf' (GeoDataFrame)\n",
      "Stored 'stormbuf_gdf' (GeoDataFrame)\n",
      "Stored 'sixco_data' (GeoDataFrame)\n"
     ]
    }
   ],
   "execution_count": 144
  }
 ],
 "metadata": {
  "kernelspec": {
   "display_name": "WindBreaks",
   "language": "python",
   "name": "windbreaks"
  },
  "language_info": {
   "codemirror_mode": {
    "name": "ipython",
    "version": 3
   },
   "file_extension": ".py",
   "mimetype": "text/x-python",
   "name": "python",
   "nbconvert_exporter": "python",
   "pygments_lexer": "ipython3",
   "version": "3.11.5"
  }
 },
 "nbformat": 4,
 "nbformat_minor": 5
}
