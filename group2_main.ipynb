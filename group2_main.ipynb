{
 "cells": [
  {
   "cell_type": "code",
   "outputs": [],
   "source": [
    "import arcpy"
   ],
   "metadata": {
    "collapsed": false,
    "ExecuteTime": {
     "end_time": "2024-03-08T20:32:29.193891Z",
     "start_time": "2024-03-08T20:31:36.574840Z"
    }
   },
   "id": "d591604ab8fd4ada",
   "execution_count": 1
  },
  {
   "cell_type": "code",
   "outputs": [],
   "source": [
    "arcpy.md.MakeNetCDFRasterLayer(\n",
    "    in_netCDF_file=r\"G:\\Shared drives\\ASU_Excehl_Bridge\\PyCharmProjects\\WindBreak\\Data\\Gridmet_WIND\\vs_2017.nc\",\n",
    "    variable=\"wind_speed\",\n",
    "    x_dimension=\"lon\",\n",
    "    y_dimension=\"lat\",\n",
    "    out_raster_layer=\"wind_speed_Layer_2017\",\n",
    "    band_dimension=\"day\",\n",
    "    dimension_values=None,\n",
    "    value_selection_method=\"BY_VALUE\",\n",
    "    cell_registration=\"CENTER\"\n",
    ")"
   ],
   "metadata": {
    "collapsed": true
   },
   "id": "initial_id",
   "execution_count": null
  }
 ],
 "metadata": {
  "kernelspec": {
   "display_name": "Python 3",
   "language": "python",
   "name": "python3"
  },
  "language_info": {
   "codemirror_mode": {
    "name": "ipython",
    "version": 2
   },
   "file_extension": ".py",
   "mimetype": "text/x-python",
   "name": "python",
   "nbconvert_exporter": "python",
   "pygments_lexer": "ipython2",
   "version": "2.7.6"
  }
 },
 "nbformat": 4,
 "nbformat_minor": 5
}
