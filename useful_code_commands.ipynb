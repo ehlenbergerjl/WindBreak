{
 "cells": [
  {
   "cell_type": "code",
   "outputs": [],
   "source": [
    "# # If your Git won't go, but there is no reason it shouldn't, try this command\n",
    "# !ipconfig /flushdns"
   ],
   "metadata": {
    "collapsed": false
   },
   "id": "9c30f85f07c661e5"
  },
  {
   "cell_type": "code",
   "outputs": [],
   "source": [
    "# # List path entries in newline list format\n",
    "# # # in cmd terminal\n",
    "# echo %PATH:;=&echo.%\n",
    "# # # in PowerShell\n",
    "# ($env:Path -split ';') -join \"`n\""
   ],
   "metadata": {
    "collapsed": false
   },
   "id": "506abd38fbe46aee"
  },
  {
   "cell_type": "code",
   "outputs": [],
   "source": [
    "# # Set Pycharm Terminal to conda env\n",
    "# # use this in the path to shell field\n",
    "# cmd.exe \"/K\" \"C:\\Users\\excehl.LAPTOP-RF0HPLKT\\miniconda3\\Scripts\\activate\" \"C:\\Users\\excehl.LAPTOP-RF0HPLKT\\miniconda3\""
   ],
   "metadata": {
    "collapsed": false
   },
   "id": "9c1dcf06cf367645"
  },
  {
   "cell_type": "code",
   "outputs": [],
   "source": [
    "# # Loading Raster Data into a dataframe\n",
    "# \n",
    "# import rasterio\n",
    "# import pandas as pd\n",
    "# import numpy as np\n",
    "# \n",
    "# \n",
    "# def raster_to_dataframe(raster_file):\n",
    "#     \"\"\"\n",
    "#     Convert raster data into a pandas DataFrame.\n",
    "# \n",
    "#     Opens a raster file at the specified path, reads the data into a \n",
    "#     numpy array, and then flattens the array into one dimension and \n",
    "#     removes any NaN values. The resulting data is stored in a DataFrame \n",
    "#     with a single column named \"raster_values\".\n",
    "# \n",
    "#     Args:\n",
    "#         raster_file (str): Path to the raster file to be loaded.\n",
    "# \n",
    "#     Returns:\n",
    "#         df (pd.DataFrame): DataFrame containing pixel values from the \n",
    "#         raster data in a column named \"raster_values\".\n",
    "# \n",
    "#     \"\"\"\n",
    "#     # Open the raster file\n",
    "#     with rasterio.open(raster_file) as src:\n",
    "#         # Read the data into a numpy array\n",
    "#         array = src.read()\n",
    "# \n",
    "#     # Flatten the array to one dimension\n",
    "#     flat_array = array.flatten()\n",
    "# \n",
    "#     # Remove the NaN values from the array\n",
    "#     array_no_nan = flat_array[~np.isnan(flat_array)]\n",
    "# \n",
    "#     # Create a pandas DataFrame from the array\n",
    "#     # Each value in the DataFrame corresponds to a pixel value in the raster\n",
    "#     df = pd.DataFrame(array_no_nan, columns=[\"raster_values\"])\n",
    "# \n",
    "#     return df\n",
    "# \n",
    "# \n",
    "# # Call the function\n",
    "# df = raster_to_dataframe('raster_file.tif')\n"
   ],
   "metadata": {
    "collapsed": false
   },
   "id": "5ab69125c3bc53b2"
  },
  {
   "cell_type": "code",
   "outputs": [
    {
     "data": {
      "text/plain": "Available line magics:\n%alias  %alias_magic  %autoawait  %autocall  %automagic  %autosave  %bookmark  %cd  %clear  %cls  %code_wrap  %colors  %conda  %config  %connect_info  %copy  %ddir  %debug  %dhist  %dirs  %doctest_mode  %echo  %ed  %edit  %env  %gui  %hist  %history  %killbgscripts  %ldir  %less  %load  %load_ext  %loadpy  %logoff  %logon  %logstart  %logstate  %logstop  %ls  %lsmagic  %macro  %magic  %mamba  %matplotlib  %micromamba  %mkdir  %more  %notebook  %page  %pastebin  %pdb  %pdef  %pdoc  %pfile  %pinfo  %pinfo2  %pip  %popd  %pprint  %precision  %prun  %psearch  %psource  %pushd  %pwd  %pycat  %pylab  %qtconsole  %quickref  %recall  %rehashx  %reload_ext  %ren  %rep  %rerun  %reset  %reset_selective  %rmdir  %run  %save  %sc  %set_env  %store  %sx  %system  %tb  %time  %timeit  %unalias  %unload_ext  %who  %who_ls  %whos  %xdel  %xmode\n\nAvailable cell magics:\n%%!  %%HTML  %%SVG  %%bash  %%capture  %%cmd  %%code_wrap  %%debug  %%file  %%html  %%javascript  %%js  %%latex  %%markdown  %%perl  %%prun  %%pypy  %%python  %%python2  %%python3  %%ruby  %%script  %%sh  %%svg  %%sx  %%system  %%time  %%timeit  %%writefile\n\nAutomagic is ON, % prefix IS NOT needed for line magics.",
      "application/json": {
       "line": {
        "automagic": "AutoMagics",
        "autocall": "AutoMagics",
        "alias_magic": "BasicMagics",
        "lsmagic": "BasicMagics",
        "magic": "BasicMagics",
        "page": "BasicMagics",
        "pprint": "BasicMagics",
        "colors": "BasicMagics",
        "xmode": "BasicMagics",
        "quickref": "BasicMagics",
        "doctest_mode": "BasicMagics",
        "gui": "BasicMagics",
        "precision": "BasicMagics",
        "notebook": "BasicMagics",
        "save": "CodeMagics",
        "pastebin": "CodeMagics",
        "loadpy": "CodeMagics",
        "load": "CodeMagics",
        "edit": "KernelMagics",
        "config": "ConfigMagics",
        "prun": "ExecutionMagics",
        "pdb": "ExecutionMagics",
        "debug": "ExecutionMagics",
        "tb": "ExecutionMagics",
        "run": "ExecutionMagics",
        "timeit": "ExecutionMagics",
        "time": "ExecutionMagics",
        "macro": "ExecutionMagics",
        "code_wrap": "ExecutionMagics",
        "load_ext": "ExtensionMagics",
        "unload_ext": "ExtensionMagics",
        "reload_ext": "ExtensionMagics",
        "history": "HistoryMagics",
        "recall": "HistoryMagics",
        "rerun": "HistoryMagics",
        "logstart": "LoggingMagics",
        "logstop": "LoggingMagics",
        "logoff": "LoggingMagics",
        "logon": "LoggingMagics",
        "logstate": "LoggingMagics",
        "pinfo": "NamespaceMagics",
        "pinfo2": "NamespaceMagics",
        "pdef": "NamespaceMagics",
        "pdoc": "NamespaceMagics",
        "psource": "NamespaceMagics",
        "pfile": "NamespaceMagics",
        "psearch": "NamespaceMagics",
        "who_ls": "NamespaceMagics",
        "who": "NamespaceMagics",
        "whos": "NamespaceMagics",
        "reset": "NamespaceMagics",
        "reset_selective": "NamespaceMagics",
        "xdel": "NamespaceMagics",
        "alias": "OSMagics",
        "unalias": "OSMagics",
        "rehashx": "OSMagics",
        "pwd": "OSMagics",
        "cd": "OSMagics",
        "env": "OSMagics",
        "set_env": "OSMagics",
        "pushd": "OSMagics",
        "popd": "OSMagics",
        "dirs": "OSMagics",
        "dhist": "OSMagics",
        "sc": "OSMagics",
        "sx": "OSMagics",
        "system": "OSMagics",
        "bookmark": "OSMagics",
        "pycat": "OSMagics",
        "pip": "PackagingMagics",
        "conda": "PackagingMagics",
        "mamba": "PackagingMagics",
        "micromamba": "PackagingMagics",
        "matplotlib": "PylabMagics",
        "pylab": "PylabMagics",
        "killbgscripts": "ScriptMagics",
        "autoawait": "AsyncMagics",
        "ed": "Other",
        "hist": "Other",
        "rep": "Other",
        "clear": "KernelMagics",
        "cls": "KernelMagics",
        "less": "KernelMagics",
        "more": "KernelMagics",
        "connect_info": "KernelMagics",
        "qtconsole": "KernelMagics",
        "autosave": "KernelMagics",
        "ls": "Other",
        "ddir": "Other",
        "ldir": "Other",
        "mkdir": "Other",
        "rmdir": "Other",
        "echo": "Other",
        "ren": "Other",
        "copy": "Other",
        "store": "StoreMagics"
       },
       "cell": {
        "js": "DisplayMagics",
        "javascript": "DisplayMagics",
        "latex": "DisplayMagics",
        "svg": "DisplayMagics",
        "html": "DisplayMagics",
        "markdown": "DisplayMagics",
        "prun": "ExecutionMagics",
        "debug": "ExecutionMagics",
        "timeit": "ExecutionMagics",
        "time": "ExecutionMagics",
        "capture": "ExecutionMagics",
        "code_wrap": "ExecutionMagics",
        "sx": "OSMagics",
        "system": "OSMagics",
        "!": "OSMagics",
        "writefile": "OSMagics",
        "script": "ScriptMagics",
        "sh": "Other",
        "bash": "Other",
        "perl": "Other",
        "ruby": "Other",
        "python": "Other",
        "python2": "Other",
        "python3": "Other",
        "pypy": "Other",
        "cmd": "Other",
        "SVG": "Other",
        "HTML": "Other",
        "file": "Other"
       }
      }
     },
     "execution_count": 1,
     "metadata": {},
     "output_type": "execute_result"
    }
   ],
   "source": [
    "lsmagic"
   ],
   "metadata": {
    "collapsed": false,
    "ExecuteTime": {
     "end_time": "2024-03-28T18:22:03.012298Z",
     "start_time": "2024-03-28T18:22:02.999535Z"
    }
   },
   "id": "5a4ea52506ee98b",
   "execution_count": 1
  },
  {
   "cell_type": "code",
   "outputs": [],
   "source": [
    "# # Extent Filter Function that works with the variable 'extents_coords'\n",
    "# def filter_dataframe_on_extent(df, extent_coords, lat1, lon1, lat2, lon2):\n",
    "#     min_lat, max_lat = extent_coords['min_lat'], extent_coords['max_lat']\n",
    "#     min_lon, max_lon = extent_coords['min_lon'], extent_coords['max_lon']\n",
    "#     return df[\n",
    "#         ((df[lat1] >= min_lat) & (df[lat1] <= max_lat) &\n",
    "#          (df[lon1] >= min_lon) & (df[lon1] <= max_lon)) |\n",
    "#         ((df[lat2] >= min_lat) & (df[lat2] <= max_lat) &\n",
    "#          (df[lon2] >= min_lon) & (df[lon2] <= max_lon))\n",
    "#         ]\n",
    "# \n",
    "# \n",
    "# # Project extents\n",
    "# extent_coords = {'min_lat': 36.998665, 'max_lat': 37.734463,\n",
    "#                  'min_lon': -95.964735, 'max_lon': -94.616789}"
   ],
   "metadata": {
    "collapsed": false
   },
   "id": "ca251f7d7baabc20"
  },
  {
   "cell_type": "code",
   "outputs": [],
   "source": [
    "# # get column names with their index\n",
    "# for i, col_name in enumerate(original_data.columns):\n",
    "#     print(f\"Index: {i}, Column Name: {col_name}\")"
   ],
   "metadata": {
    "collapsed": false
   },
   "id": "1ca5a9ceb8a406a9"
  }
 ],
 "metadata": {
  "kernelspec": {
   "display_name": "Python 3",
   "language": "python",
   "name": "python3"
  },
  "language_info": {
   "codemirror_mode": {
    "name": "ipython",
    "version": 2
   },
   "file_extension": ".py",
   "mimetype": "text/x-python",
   "name": "python",
   "nbconvert_exporter": "python",
   "pygments_lexer": "ipython2",
   "version": "2.7.6"
  }
 },
 "nbformat": 4,
 "nbformat_minor": 5
}
