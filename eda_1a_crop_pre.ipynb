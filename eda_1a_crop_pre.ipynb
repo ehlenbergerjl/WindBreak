{
 "cells": [
  {
   "metadata": {
    "ExecuteTime": {
     "end_time": "2024-04-10T20:24:05.360714Z",
     "start_time": "2024-04-10T20:24:00.365907Z"
    }
   },
   "cell_type": "code",
   "source": [
    "import sys\n",
    "import os\n",
    "import types\n",
    "import warnings\n",
    "import glob\n",
    "import regex as re\n",
    "import netCDF4 as nc\n",
    "import rasterio\n",
    "import numpy as np\n",
    "import xarray as xr\n",
    "import hvplot.xarray\n",
    "import holoviews as hv\n",
    "import pandas as pd\n",
    "import seaborn as sns\n",
    "import matplotlib.pyplot as plt\n",
    "import geopandas as gpd\n",
    "import cartopy.crs as ccrs\n",
    "import cartopy.feature as cf\n",
    "import ipywidgets as widgets\n",
    "import matplotlib.ticker as mticker\n",
    "import chardet\n",
    "import pyperclip\n",
    "from geopandas import GeoDataFrame\n",
    "from shapely.geometry import Point\n",
    "from bokeh.io import output_notebook, show\n",
    "from bokeh.resources import INLINE\n",
    "from rasterio.transform import from_origin\n",
    "from rasterstats import zonal_stats\n",
    "from shapely.geometry import LineString\n",
    "from matplotlib.path import Path\n",
    "from matplotlib.colors import Normalize\n",
    "from netCDF4 import Dataset\n",
    "from pyproj import CRS\n",
    "from IPython.display import display\n",
    "from cartopy.mpl.gridliner import LONGITUDE_FORMATTER, LATITUDE_FORMATTER\n",
    "from windbreaks_helpers import *"
   ],
   "id": "90db4626e4e690a4",
   "outputs": [
    {
     "data": {
      "application/javascript": "(function(root) {\n  function now() {\n    return new Date();\n  }\n\n  var force = true;\n  var py_version = '3.4.0'.replace('rc', '-rc.').replace('.dev', '-dev.');\n  var reloading = false;\n  var Bokeh = root.Bokeh;\n\n  if (typeof (root._bokeh_timeout) === \"undefined\" || force) {\n    root._bokeh_timeout = Date.now() + 5000;\n    root._bokeh_failed_load = false;\n  }\n\n  function run_callbacks() {\n    try {\n      root._bokeh_onload_callbacks.forEach(function(callback) {\n        if (callback != null)\n          callback();\n      });\n    } finally {\n      delete root._bokeh_onload_callbacks;\n    }\n    console.debug(\"Bokeh: all callbacks have finished\");\n  }\n\n  function load_libs(css_urls, js_urls, js_modules, js_exports, callback) {\n    if (css_urls == null) css_urls = [];\n    if (js_urls == null) js_urls = [];\n    if (js_modules == null) js_modules = [];\n    if (js_exports == null) js_exports = {};\n\n    root._bokeh_onload_callbacks.push(callback);\n\n    if (root._bokeh_is_loading > 0) {\n      console.debug(\"Bokeh: BokehJS is being loaded, scheduling callback at\", now());\n      return null;\n    }\n    if (js_urls.length === 0 && js_modules.length === 0 && Object.keys(js_exports).length === 0) {\n      run_callbacks();\n      return null;\n    }\n    if (!reloading) {\n      console.debug(\"Bokeh: BokehJS not loaded, scheduling load and callback at\", now());\n    }\n\n    function on_load() {\n      root._bokeh_is_loading--;\n      if (root._bokeh_is_loading === 0) {\n        console.debug(\"Bokeh: all BokehJS libraries/stylesheets loaded\");\n        run_callbacks()\n      }\n    }\n    window._bokeh_on_load = on_load\n\n    function on_error() {\n      console.error(\"failed to load \" + url);\n    }\n\n    var skip = [];\n    if (window.requirejs) {\n      window.requirejs.config({'packages': {}, 'paths': {}, 'shim': {}});\n      root._bokeh_is_loading = css_urls.length + 0;\n    } else {\n      root._bokeh_is_loading = css_urls.length + js_urls.length + js_modules.length + Object.keys(js_exports).length;\n    }\n\n    var existing_stylesheets = []\n    var links = document.getElementsByTagName('link')\n    for (var i = 0; i < links.length; i++) {\n      var link = links[i]\n      if (link.href != null) {\n\texisting_stylesheets.push(link.href)\n      }\n    }\n    for (var i = 0; i < css_urls.length; i++) {\n      var url = css_urls[i];\n      if (existing_stylesheets.indexOf(url) !== -1) {\n\ton_load()\n\tcontinue;\n      }\n      const element = document.createElement(\"link\");\n      element.onload = on_load;\n      element.onerror = on_error;\n      element.rel = \"stylesheet\";\n      element.type = \"text/css\";\n      element.href = url;\n      console.debug(\"Bokeh: injecting link tag for BokehJS stylesheet: \", url);\n      document.body.appendChild(element);\n    }    var existing_scripts = []\n    var scripts = document.getElementsByTagName('script')\n    for (var i = 0; i < scripts.length; i++) {\n      var script = scripts[i]\n      if (script.src != null) {\n\texisting_scripts.push(script.src)\n      }\n    }\n    for (var i = 0; i < js_urls.length; i++) {\n      var url = js_urls[i];\n      if (skip.indexOf(url) !== -1 || existing_scripts.indexOf(url) !== -1) {\n\tif (!window.requirejs) {\n\t  on_load();\n\t}\n\tcontinue;\n      }\n      var element = document.createElement('script');\n      element.onload = on_load;\n      element.onerror = on_error;\n      element.async = false;\n      element.src = url;\n      console.debug(\"Bokeh: injecting script tag for BokehJS library: \", url);\n      document.head.appendChild(element);\n    }\n    for (var i = 0; i < js_modules.length; i++) {\n      var url = js_modules[i];\n      if (skip.indexOf(url) !== -1 || existing_scripts.indexOf(url) !== -1) {\n\tif (!window.requirejs) {\n\t  on_load();\n\t}\n\tcontinue;\n      }\n      var element = document.createElement('script');\n      element.onload = on_load;\n      element.onerror = on_error;\n      element.async = false;\n      element.src = url;\n      element.type = \"module\";\n      console.debug(\"Bokeh: injecting script tag for BokehJS library: \", url);\n      document.head.appendChild(element);\n    }\n    for (const name in js_exports) {\n      var url = js_exports[name];\n      if (skip.indexOf(url) >= 0 || root[name] != null) {\n\tif (!window.requirejs) {\n\t  on_load();\n\t}\n\tcontinue;\n      }\n      var element = document.createElement('script');\n      element.onerror = on_error;\n      element.async = false;\n      element.type = \"module\";\n      console.debug(\"Bokeh: injecting script tag for BokehJS library: \", url);\n      element.textContent = `\n      import ${name} from \"${url}\"\n      window.${name} = ${name}\n      window._bokeh_on_load()\n      `\n      document.head.appendChild(element);\n    }\n    if (!js_urls.length && !js_modules.length) {\n      on_load()\n    }\n  };\n\n  function inject_raw_css(css) {\n    const element = document.createElement(\"style\");\n    element.appendChild(document.createTextNode(css));\n    document.body.appendChild(element);\n  }\n\n  var js_urls = [\"https://cdn.bokeh.org/bokeh/release/bokeh-3.4.0.min.js\", \"https://cdn.bokeh.org/bokeh/release/bokeh-gl-3.4.0.min.js\", \"https://cdn.bokeh.org/bokeh/release/bokeh-widgets-3.4.0.min.js\", \"https://cdn.bokeh.org/bokeh/release/bokeh-tables-3.4.0.min.js\", \"https://cdn.holoviz.org/panel/1.4.0/dist/panel.min.js\"];\n  var js_modules = [];\n  var js_exports = {};\n  var css_urls = [];\n  var inline_js = [    function(Bokeh) {\n      Bokeh.set_log_level(\"info\");\n    },\nfunction(Bokeh) {} // ensure no trailing comma for IE\n  ];\n\n  function run_inline_js() {\n    if ((root.Bokeh !== undefined) || (force === true)) {\n      for (var i = 0; i < inline_js.length; i++) {\n\ttry {\n          inline_js[i].call(root, root.Bokeh);\n\t} catch(e) {\n\t  if (!reloading) {\n\t    throw e;\n\t  }\n\t}\n      }\n      // Cache old bokeh versions\n      if (Bokeh != undefined && !reloading) {\n\tvar NewBokeh = root.Bokeh;\n\tif (Bokeh.versions === undefined) {\n\t  Bokeh.versions = new Map();\n\t}\n\tif (NewBokeh.version !== Bokeh.version) {\n\t  Bokeh.versions.set(NewBokeh.version, NewBokeh)\n\t}\n\troot.Bokeh = Bokeh;\n      }} else if (Date.now() < root._bokeh_timeout) {\n      setTimeout(run_inline_js, 100);\n    } else if (!root._bokeh_failed_load) {\n      console.log(\"Bokeh: BokehJS failed to load within specified timeout.\");\n      root._bokeh_failed_load = true;\n    }\n    root._bokeh_is_initializing = false\n  }\n\n  function load_or_wait() {\n    // Implement a backoff loop that tries to ensure we do not load multiple\n    // versions of Bokeh and its dependencies at the same time.\n    // In recent versions we use the root._bokeh_is_initializing flag\n    // to determine whether there is an ongoing attempt to initialize\n    // bokeh, however for backward compatibility we also try to ensure\n    // that we do not start loading a newer (Panel>=1.0 and Bokeh>3) version\n    // before older versions are fully initialized.\n    if (root._bokeh_is_initializing && Date.now() > root._bokeh_timeout) {\n      root._bokeh_is_initializing = false;\n      root._bokeh_onload_callbacks = undefined;\n      console.log(\"Bokeh: BokehJS was loaded multiple times but one version failed to initialize.\");\n      load_or_wait();\n    } else if (root._bokeh_is_initializing || (typeof root._bokeh_is_initializing === \"undefined\" && root._bokeh_onload_callbacks !== undefined)) {\n      setTimeout(load_or_wait, 100);\n    } else {\n      root._bokeh_is_initializing = true\n      root._bokeh_onload_callbacks = []\n      var bokeh_loaded = Bokeh != null && (Bokeh.version === py_version || (Bokeh.versions !== undefined && Bokeh.versions.has(py_version)));\n      if (!reloading && !bokeh_loaded) {\n\troot.Bokeh = undefined;\n      }\n      load_libs(css_urls, js_urls, js_modules, js_exports, function() {\n\tconsole.debug(\"Bokeh: BokehJS plotting callback run at\", now());\n\trun_inline_js();\n      });\n    }\n  }\n  // Give older versions of the autoload script a head-start to ensure\n  // they initialize before we start loading newer version.\n  setTimeout(load_or_wait, 100)\n}(window));",
      "application/vnd.holoviews_load.v0+json": "(function(root) {\n  function now() {\n    return new Date();\n  }\n\n  var force = true;\n  var py_version = '3.4.0'.replace('rc', '-rc.').replace('.dev', '-dev.');\n  var reloading = false;\n  var Bokeh = root.Bokeh;\n\n  if (typeof (root._bokeh_timeout) === \"undefined\" || force) {\n    root._bokeh_timeout = Date.now() + 5000;\n    root._bokeh_failed_load = false;\n  }\n\n  function run_callbacks() {\n    try {\n      root._bokeh_onload_callbacks.forEach(function(callback) {\n        if (callback != null)\n          callback();\n      });\n    } finally {\n      delete root._bokeh_onload_callbacks;\n    }\n    console.debug(\"Bokeh: all callbacks have finished\");\n  }\n\n  function load_libs(css_urls, js_urls, js_modules, js_exports, callback) {\n    if (css_urls == null) css_urls = [];\n    if (js_urls == null) js_urls = [];\n    if (js_modules == null) js_modules = [];\n    if (js_exports == null) js_exports = {};\n\n    root._bokeh_onload_callbacks.push(callback);\n\n    if (root._bokeh_is_loading > 0) {\n      console.debug(\"Bokeh: BokehJS is being loaded, scheduling callback at\", now());\n      return null;\n    }\n    if (js_urls.length === 0 && js_modules.length === 0 && Object.keys(js_exports).length === 0) {\n      run_callbacks();\n      return null;\n    }\n    if (!reloading) {\n      console.debug(\"Bokeh: BokehJS not loaded, scheduling load and callback at\", now());\n    }\n\n    function on_load() {\n      root._bokeh_is_loading--;\n      if (root._bokeh_is_loading === 0) {\n        console.debug(\"Bokeh: all BokehJS libraries/stylesheets loaded\");\n        run_callbacks()\n      }\n    }\n    window._bokeh_on_load = on_load\n\n    function on_error() {\n      console.error(\"failed to load \" + url);\n    }\n\n    var skip = [];\n    if (window.requirejs) {\n      window.requirejs.config({'packages': {}, 'paths': {}, 'shim': {}});\n      root._bokeh_is_loading = css_urls.length + 0;\n    } else {\n      root._bokeh_is_loading = css_urls.length + js_urls.length + js_modules.length + Object.keys(js_exports).length;\n    }\n\n    var existing_stylesheets = []\n    var links = document.getElementsByTagName('link')\n    for (var i = 0; i < links.length; i++) {\n      var link = links[i]\n      if (link.href != null) {\n\texisting_stylesheets.push(link.href)\n      }\n    }\n    for (var i = 0; i < css_urls.length; i++) {\n      var url = css_urls[i];\n      if (existing_stylesheets.indexOf(url) !== -1) {\n\ton_load()\n\tcontinue;\n      }\n      const element = document.createElement(\"link\");\n      element.onload = on_load;\n      element.onerror = on_error;\n      element.rel = \"stylesheet\";\n      element.type = \"text/css\";\n      element.href = url;\n      console.debug(\"Bokeh: injecting link tag for BokehJS stylesheet: \", url);\n      document.body.appendChild(element);\n    }    var existing_scripts = []\n    var scripts = document.getElementsByTagName('script')\n    for (var i = 0; i < scripts.length; i++) {\n      var script = scripts[i]\n      if (script.src != null) {\n\texisting_scripts.push(script.src)\n      }\n    }\n    for (var i = 0; i < js_urls.length; i++) {\n      var url = js_urls[i];\n      if (skip.indexOf(url) !== -1 || existing_scripts.indexOf(url) !== -1) {\n\tif (!window.requirejs) {\n\t  on_load();\n\t}\n\tcontinue;\n      }\n      var element = document.createElement('script');\n      element.onload = on_load;\n      element.onerror = on_error;\n      element.async = false;\n      element.src = url;\n      console.debug(\"Bokeh: injecting script tag for BokehJS library: \", url);\n      document.head.appendChild(element);\n    }\n    for (var i = 0; i < js_modules.length; i++) {\n      var url = js_modules[i];\n      if (skip.indexOf(url) !== -1 || existing_scripts.indexOf(url) !== -1) {\n\tif (!window.requirejs) {\n\t  on_load();\n\t}\n\tcontinue;\n      }\n      var element = document.createElement('script');\n      element.onload = on_load;\n      element.onerror = on_error;\n      element.async = false;\n      element.src = url;\n      element.type = \"module\";\n      console.debug(\"Bokeh: injecting script tag for BokehJS library: \", url);\n      document.head.appendChild(element);\n    }\n    for (const name in js_exports) {\n      var url = js_exports[name];\n      if (skip.indexOf(url) >= 0 || root[name] != null) {\n\tif (!window.requirejs) {\n\t  on_load();\n\t}\n\tcontinue;\n      }\n      var element = document.createElement('script');\n      element.onerror = on_error;\n      element.async = false;\n      element.type = \"module\";\n      console.debug(\"Bokeh: injecting script tag for BokehJS library: \", url);\n      element.textContent = `\n      import ${name} from \"${url}\"\n      window.${name} = ${name}\n      window._bokeh_on_load()\n      `\n      document.head.appendChild(element);\n    }\n    if (!js_urls.length && !js_modules.length) {\n      on_load()\n    }\n  };\n\n  function inject_raw_css(css) {\n    const element = document.createElement(\"style\");\n    element.appendChild(document.createTextNode(css));\n    document.body.appendChild(element);\n  }\n\n  var js_urls = [\"https://cdn.bokeh.org/bokeh/release/bokeh-3.4.0.min.js\", \"https://cdn.bokeh.org/bokeh/release/bokeh-gl-3.4.0.min.js\", \"https://cdn.bokeh.org/bokeh/release/bokeh-widgets-3.4.0.min.js\", \"https://cdn.bokeh.org/bokeh/release/bokeh-tables-3.4.0.min.js\", \"https://cdn.holoviz.org/panel/1.4.0/dist/panel.min.js\"];\n  var js_modules = [];\n  var js_exports = {};\n  var css_urls = [];\n  var inline_js = [    function(Bokeh) {\n      Bokeh.set_log_level(\"info\");\n    },\nfunction(Bokeh) {} // ensure no trailing comma for IE\n  ];\n\n  function run_inline_js() {\n    if ((root.Bokeh !== undefined) || (force === true)) {\n      for (var i = 0; i < inline_js.length; i++) {\n\ttry {\n          inline_js[i].call(root, root.Bokeh);\n\t} catch(e) {\n\t  if (!reloading) {\n\t    throw e;\n\t  }\n\t}\n      }\n      // Cache old bokeh versions\n      if (Bokeh != undefined && !reloading) {\n\tvar NewBokeh = root.Bokeh;\n\tif (Bokeh.versions === undefined) {\n\t  Bokeh.versions = new Map();\n\t}\n\tif (NewBokeh.version !== Bokeh.version) {\n\t  Bokeh.versions.set(NewBokeh.version, NewBokeh)\n\t}\n\troot.Bokeh = Bokeh;\n      }} else if (Date.now() < root._bokeh_timeout) {\n      setTimeout(run_inline_js, 100);\n    } else if (!root._bokeh_failed_load) {\n      console.log(\"Bokeh: BokehJS failed to load within specified timeout.\");\n      root._bokeh_failed_load = true;\n    }\n    root._bokeh_is_initializing = false\n  }\n\n  function load_or_wait() {\n    // Implement a backoff loop that tries to ensure we do not load multiple\n    // versions of Bokeh and its dependencies at the same time.\n    // In recent versions we use the root._bokeh_is_initializing flag\n    // to determine whether there is an ongoing attempt to initialize\n    // bokeh, however for backward compatibility we also try to ensure\n    // that we do not start loading a newer (Panel>=1.0 and Bokeh>3) version\n    // before older versions are fully initialized.\n    if (root._bokeh_is_initializing && Date.now() > root._bokeh_timeout) {\n      root._bokeh_is_initializing = false;\n      root._bokeh_onload_callbacks = undefined;\n      console.log(\"Bokeh: BokehJS was loaded multiple times but one version failed to initialize.\");\n      load_or_wait();\n    } else if (root._bokeh_is_initializing || (typeof root._bokeh_is_initializing === \"undefined\" && root._bokeh_onload_callbacks !== undefined)) {\n      setTimeout(load_or_wait, 100);\n    } else {\n      root._bokeh_is_initializing = true\n      root._bokeh_onload_callbacks = []\n      var bokeh_loaded = Bokeh != null && (Bokeh.version === py_version || (Bokeh.versions !== undefined && Bokeh.versions.has(py_version)));\n      if (!reloading && !bokeh_loaded) {\n\troot.Bokeh = undefined;\n      }\n      load_libs(css_urls, js_urls, js_modules, js_exports, function() {\n\tconsole.debug(\"Bokeh: BokehJS plotting callback run at\", now());\n\trun_inline_js();\n      });\n    }\n  }\n  // Give older versions of the autoload script a head-start to ensure\n  // they initialize before we start loading newer version.\n  setTimeout(load_or_wait, 100)\n}(window));"
     },
     "metadata": {},
     "output_type": "display_data"
    },
    {
     "data": {
      "application/vnd.holoviews_load.v0+json": "\nif ((window.PyViz === undefined) || (window.PyViz instanceof HTMLElement)) {\n  window.PyViz = {comms: {}, comm_status:{}, kernels:{}, receivers: {}, plot_index: []}\n}\n\n\n    function JupyterCommManager() {\n    }\n\n    JupyterCommManager.prototype.register_target = function(plot_id, comm_id, msg_handler) {\n      if (window.comm_manager || ((window.Jupyter !== undefined) && (Jupyter.notebook.kernel != null))) {\n        var comm_manager = window.comm_manager || Jupyter.notebook.kernel.comm_manager;\n        comm_manager.register_target(comm_id, function(comm) {\n          comm.on_msg(msg_handler);\n        });\n      } else if ((plot_id in window.PyViz.kernels) && (window.PyViz.kernels[plot_id])) {\n        window.PyViz.kernels[plot_id].registerCommTarget(comm_id, function(comm) {\n          comm.onMsg = msg_handler;\n        });\n      } else if (typeof google != 'undefined' && google.colab.kernel != null) {\n        google.colab.kernel.comms.registerTarget(comm_id, (comm) => {\n          var messages = comm.messages[Symbol.asyncIterator]();\n          function processIteratorResult(result) {\n            var message = result.value;\n            console.log(message)\n            var content = {data: message.data, comm_id};\n            var buffers = []\n            for (var buffer of message.buffers || []) {\n              buffers.push(new DataView(buffer))\n            }\n            var metadata = message.metadata || {};\n            var msg = {content, buffers, metadata}\n            msg_handler(msg);\n            return messages.next().then(processIteratorResult);\n          }\n          return messages.next().then(processIteratorResult);\n        })\n      }\n    }\n\n    JupyterCommManager.prototype.get_client_comm = function(plot_id, comm_id, msg_handler) {\n      if (comm_id in window.PyViz.comms) {\n        return window.PyViz.comms[comm_id];\n      } else if (window.comm_manager || ((window.Jupyter !== undefined) && (Jupyter.notebook.kernel != null))) {\n        var comm_manager = window.comm_manager || Jupyter.notebook.kernel.comm_manager;\n        var comm = comm_manager.new_comm(comm_id, {}, {}, {}, comm_id);\n        if (msg_handler) {\n          comm.on_msg(msg_handler);\n        }\n      } else if ((plot_id in window.PyViz.kernels) && (window.PyViz.kernels[plot_id])) {\n        var comm = window.PyViz.kernels[plot_id].connectToComm(comm_id);\n        comm.open();\n        if (msg_handler) {\n          comm.onMsg = msg_handler;\n        }\n      } else if (typeof google != 'undefined' && google.colab.kernel != null) {\n        var comm_promise = google.colab.kernel.comms.open(comm_id)\n        comm_promise.then((comm) => {\n          window.PyViz.comms[comm_id] = comm;\n          if (msg_handler) {\n            var messages = comm.messages[Symbol.asyncIterator]();\n            function processIteratorResult(result) {\n              var message = result.value;\n              var content = {data: message.data};\n              var metadata = message.metadata || {comm_id};\n              var msg = {content, metadata}\n              msg_handler(msg);\n              return messages.next().then(processIteratorResult);\n            }\n            return messages.next().then(processIteratorResult);\n          }\n        }) \n        var sendClosure = (data, metadata, buffers, disposeOnDone) => {\n          return comm_promise.then((comm) => {\n            comm.send(data, metadata, buffers, disposeOnDone);\n          });\n        };\n        var comm = {\n          send: sendClosure\n        };\n      }\n      window.PyViz.comms[comm_id] = comm;\n      return comm;\n    }\n    window.PyViz.comm_manager = new JupyterCommManager();\n    \n\n\nvar JS_MIME_TYPE = 'application/javascript';\nvar HTML_MIME_TYPE = 'text/html';\nvar EXEC_MIME_TYPE = 'application/vnd.holoviews_exec.v0+json';\nvar CLASS_NAME = 'output';\n\n/**\n * Render data to the DOM node\n */\nfunction render(props, node) {\n  var div = document.createElement(\"div\");\n  var script = document.createElement(\"script\");\n  node.appendChild(div);\n  node.appendChild(script);\n}\n\n/**\n * Handle when a new output is added\n */\nfunction handle_add_output(event, handle) {\n  var output_area = handle.output_area;\n  var output = handle.output;\n  if ((output.data == undefined) || (!output.data.hasOwnProperty(EXEC_MIME_TYPE))) {\n    return\n  }\n  var id = output.metadata[EXEC_MIME_TYPE][\"id\"];\n  var toinsert = output_area.element.find(\".\" + CLASS_NAME.split(' ')[0]);\n  if (id !== undefined) {\n    var nchildren = toinsert.length;\n    var html_node = toinsert[nchildren-1].children[0];\n    html_node.innerHTML = output.data[HTML_MIME_TYPE];\n    var scripts = [];\n    var nodelist = html_node.querySelectorAll(\"script\");\n    for (var i in nodelist) {\n      if (nodelist.hasOwnProperty(i)) {\n        scripts.push(nodelist[i])\n      }\n    }\n\n    scripts.forEach( function (oldScript) {\n      var newScript = document.createElement(\"script\");\n      var attrs = [];\n      var nodemap = oldScript.attributes;\n      for (var j in nodemap) {\n        if (nodemap.hasOwnProperty(j)) {\n          attrs.push(nodemap[j])\n        }\n      }\n      attrs.forEach(function(attr) { newScript.setAttribute(attr.name, attr.value) });\n      newScript.appendChild(document.createTextNode(oldScript.innerHTML));\n      oldScript.parentNode.replaceChild(newScript, oldScript);\n    });\n    if (JS_MIME_TYPE in output.data) {\n      toinsert[nchildren-1].children[1].textContent = output.data[JS_MIME_TYPE];\n    }\n    output_area._hv_plot_id = id;\n    if ((window.Bokeh !== undefined) && (id in Bokeh.index)) {\n      window.PyViz.plot_index[id] = Bokeh.index[id];\n    } else {\n      window.PyViz.plot_index[id] = null;\n    }\n  } else if (output.metadata[EXEC_MIME_TYPE][\"server_id\"] !== undefined) {\n    var bk_div = document.createElement(\"div\");\n    bk_div.innerHTML = output.data[HTML_MIME_TYPE];\n    var script_attrs = bk_div.children[0].attributes;\n    for (var i = 0; i < script_attrs.length; i++) {\n      toinsert[toinsert.length - 1].childNodes[1].setAttribute(script_attrs[i].name, script_attrs[i].value);\n    }\n    // store reference to server id on output_area\n    output_area._bokeh_server_id = output.metadata[EXEC_MIME_TYPE][\"server_id\"];\n  }\n}\n\n/**\n * Handle when an output is cleared or removed\n */\nfunction handle_clear_output(event, handle) {\n  var id = handle.cell.output_area._hv_plot_id;\n  var server_id = handle.cell.output_area._bokeh_server_id;\n  if (((id === undefined) || !(id in PyViz.plot_index)) && (server_id !== undefined)) { return; }\n  var comm = window.PyViz.comm_manager.get_client_comm(\"hv-extension-comm\", \"hv-extension-comm\", function () {});\n  if (server_id !== null) {\n    comm.send({event_type: 'server_delete', 'id': server_id});\n    return;\n  } else if (comm !== null) {\n    comm.send({event_type: 'delete', 'id': id});\n  }\n  delete PyViz.plot_index[id];\n  if ((window.Bokeh !== undefined) & (id in window.Bokeh.index)) {\n    var doc = window.Bokeh.index[id].model.document\n    doc.clear();\n    const i = window.Bokeh.documents.indexOf(doc);\n    if (i > -1) {\n      window.Bokeh.documents.splice(i, 1);\n    }\n  }\n}\n\n/**\n * Handle kernel restart event\n */\nfunction handle_kernel_cleanup(event, handle) {\n  delete PyViz.comms[\"hv-extension-comm\"];\n  window.PyViz.plot_index = {}\n}\n\n/**\n * Handle update_display_data messages\n */\nfunction handle_update_output(event, handle) {\n  handle_clear_output(event, {cell: {output_area: handle.output_area}})\n  handle_add_output(event, handle)\n}\n\nfunction register_renderer(events, OutputArea) {\n  function append_mime(data, metadata, element) {\n    // create a DOM node to render to\n    var toinsert = this.create_output_subarea(\n    metadata,\n    CLASS_NAME,\n    EXEC_MIME_TYPE\n    );\n    this.keyboard_manager.register_events(toinsert);\n    // Render to node\n    var props = {data: data, metadata: metadata[EXEC_MIME_TYPE]};\n    render(props, toinsert[0]);\n    element.append(toinsert);\n    return toinsert\n  }\n\n  events.on('output_added.OutputArea', handle_add_output);\n  events.on('output_updated.OutputArea', handle_update_output);\n  events.on('clear_output.CodeCell', handle_clear_output);\n  events.on('delete.Cell', handle_clear_output);\n  events.on('kernel_ready.Kernel', handle_kernel_cleanup);\n\n  OutputArea.prototype.register_mime_type(EXEC_MIME_TYPE, append_mime, {\n    safe: true,\n    index: 0\n  });\n}\n\nif (window.Jupyter !== undefined) {\n  try {\n    var events = require('base/js/events');\n    var OutputArea = require('notebook/js/outputarea').OutputArea;\n    if (OutputArea.prototype.mime_types().indexOf(EXEC_MIME_TYPE) == -1) {\n      register_renderer(events, OutputArea);\n    }\n  } catch(err) {\n  }\n}\n",
      "application/javascript": "\nif ((window.PyViz === undefined) || (window.PyViz instanceof HTMLElement)) {\n  window.PyViz = {comms: {}, comm_status:{}, kernels:{}, receivers: {}, plot_index: []}\n}\n\n\n    function JupyterCommManager() {\n    }\n\n    JupyterCommManager.prototype.register_target = function(plot_id, comm_id, msg_handler) {\n      if (window.comm_manager || ((window.Jupyter !== undefined) && (Jupyter.notebook.kernel != null))) {\n        var comm_manager = window.comm_manager || Jupyter.notebook.kernel.comm_manager;\n        comm_manager.register_target(comm_id, function(comm) {\n          comm.on_msg(msg_handler);\n        });\n      } else if ((plot_id in window.PyViz.kernels) && (window.PyViz.kernels[plot_id])) {\n        window.PyViz.kernels[plot_id].registerCommTarget(comm_id, function(comm) {\n          comm.onMsg = msg_handler;\n        });\n      } else if (typeof google != 'undefined' && google.colab.kernel != null) {\n        google.colab.kernel.comms.registerTarget(comm_id, (comm) => {\n          var messages = comm.messages[Symbol.asyncIterator]();\n          function processIteratorResult(result) {\n            var message = result.value;\n            console.log(message)\n            var content = {data: message.data, comm_id};\n            var buffers = []\n            for (var buffer of message.buffers || []) {\n              buffers.push(new DataView(buffer))\n            }\n            var metadata = message.metadata || {};\n            var msg = {content, buffers, metadata}\n            msg_handler(msg);\n            return messages.next().then(processIteratorResult);\n          }\n          return messages.next().then(processIteratorResult);\n        })\n      }\n    }\n\n    JupyterCommManager.prototype.get_client_comm = function(plot_id, comm_id, msg_handler) {\n      if (comm_id in window.PyViz.comms) {\n        return window.PyViz.comms[comm_id];\n      } else if (window.comm_manager || ((window.Jupyter !== undefined) && (Jupyter.notebook.kernel != null))) {\n        var comm_manager = window.comm_manager || Jupyter.notebook.kernel.comm_manager;\n        var comm = comm_manager.new_comm(comm_id, {}, {}, {}, comm_id);\n        if (msg_handler) {\n          comm.on_msg(msg_handler);\n        }\n      } else if ((plot_id in window.PyViz.kernels) && (window.PyViz.kernels[plot_id])) {\n        var comm = window.PyViz.kernels[plot_id].connectToComm(comm_id);\n        comm.open();\n        if (msg_handler) {\n          comm.onMsg = msg_handler;\n        }\n      } else if (typeof google != 'undefined' && google.colab.kernel != null) {\n        var comm_promise = google.colab.kernel.comms.open(comm_id)\n        comm_promise.then((comm) => {\n          window.PyViz.comms[comm_id] = comm;\n          if (msg_handler) {\n            var messages = comm.messages[Symbol.asyncIterator]();\n            function processIteratorResult(result) {\n              var message = result.value;\n              var content = {data: message.data};\n              var metadata = message.metadata || {comm_id};\n              var msg = {content, metadata}\n              msg_handler(msg);\n              return messages.next().then(processIteratorResult);\n            }\n            return messages.next().then(processIteratorResult);\n          }\n        }) \n        var sendClosure = (data, metadata, buffers, disposeOnDone) => {\n          return comm_promise.then((comm) => {\n            comm.send(data, metadata, buffers, disposeOnDone);\n          });\n        };\n        var comm = {\n          send: sendClosure\n        };\n      }\n      window.PyViz.comms[comm_id] = comm;\n      return comm;\n    }\n    window.PyViz.comm_manager = new JupyterCommManager();\n    \n\n\nvar JS_MIME_TYPE = 'application/javascript';\nvar HTML_MIME_TYPE = 'text/html';\nvar EXEC_MIME_TYPE = 'application/vnd.holoviews_exec.v0+json';\nvar CLASS_NAME = 'output';\n\n/**\n * Render data to the DOM node\n */\nfunction render(props, node) {\n  var div = document.createElement(\"div\");\n  var script = document.createElement(\"script\");\n  node.appendChild(div);\n  node.appendChild(script);\n}\n\n/**\n * Handle when a new output is added\n */\nfunction handle_add_output(event, handle) {\n  var output_area = handle.output_area;\n  var output = handle.output;\n  if ((output.data == undefined) || (!output.data.hasOwnProperty(EXEC_MIME_TYPE))) {\n    return\n  }\n  var id = output.metadata[EXEC_MIME_TYPE][\"id\"];\n  var toinsert = output_area.element.find(\".\" + CLASS_NAME.split(' ')[0]);\n  if (id !== undefined) {\n    var nchildren = toinsert.length;\n    var html_node = toinsert[nchildren-1].children[0];\n    html_node.innerHTML = output.data[HTML_MIME_TYPE];\n    var scripts = [];\n    var nodelist = html_node.querySelectorAll(\"script\");\n    for (var i in nodelist) {\n      if (nodelist.hasOwnProperty(i)) {\n        scripts.push(nodelist[i])\n      }\n    }\n\n    scripts.forEach( function (oldScript) {\n      var newScript = document.createElement(\"script\");\n      var attrs = [];\n      var nodemap = oldScript.attributes;\n      for (var j in nodemap) {\n        if (nodemap.hasOwnProperty(j)) {\n          attrs.push(nodemap[j])\n        }\n      }\n      attrs.forEach(function(attr) { newScript.setAttribute(attr.name, attr.value) });\n      newScript.appendChild(document.createTextNode(oldScript.innerHTML));\n      oldScript.parentNode.replaceChild(newScript, oldScript);\n    });\n    if (JS_MIME_TYPE in output.data) {\n      toinsert[nchildren-1].children[1].textContent = output.data[JS_MIME_TYPE];\n    }\n    output_area._hv_plot_id = id;\n    if ((window.Bokeh !== undefined) && (id in Bokeh.index)) {\n      window.PyViz.plot_index[id] = Bokeh.index[id];\n    } else {\n      window.PyViz.plot_index[id] = null;\n    }\n  } else if (output.metadata[EXEC_MIME_TYPE][\"server_id\"] !== undefined) {\n    var bk_div = document.createElement(\"div\");\n    bk_div.innerHTML = output.data[HTML_MIME_TYPE];\n    var script_attrs = bk_div.children[0].attributes;\n    for (var i = 0; i < script_attrs.length; i++) {\n      toinsert[toinsert.length - 1].childNodes[1].setAttribute(script_attrs[i].name, script_attrs[i].value);\n    }\n    // store reference to server id on output_area\n    output_area._bokeh_server_id = output.metadata[EXEC_MIME_TYPE][\"server_id\"];\n  }\n}\n\n/**\n * Handle when an output is cleared or removed\n */\nfunction handle_clear_output(event, handle) {\n  var id = handle.cell.output_area._hv_plot_id;\n  var server_id = handle.cell.output_area._bokeh_server_id;\n  if (((id === undefined) || !(id in PyViz.plot_index)) && (server_id !== undefined)) { return; }\n  var comm = window.PyViz.comm_manager.get_client_comm(\"hv-extension-comm\", \"hv-extension-comm\", function () {});\n  if (server_id !== null) {\n    comm.send({event_type: 'server_delete', 'id': server_id});\n    return;\n  } else if (comm !== null) {\n    comm.send({event_type: 'delete', 'id': id});\n  }\n  delete PyViz.plot_index[id];\n  if ((window.Bokeh !== undefined) & (id in window.Bokeh.index)) {\n    var doc = window.Bokeh.index[id].model.document\n    doc.clear();\n    const i = window.Bokeh.documents.indexOf(doc);\n    if (i > -1) {\n      window.Bokeh.documents.splice(i, 1);\n    }\n  }\n}\n\n/**\n * Handle kernel restart event\n */\nfunction handle_kernel_cleanup(event, handle) {\n  delete PyViz.comms[\"hv-extension-comm\"];\n  window.PyViz.plot_index = {}\n}\n\n/**\n * Handle update_display_data messages\n */\nfunction handle_update_output(event, handle) {\n  handle_clear_output(event, {cell: {output_area: handle.output_area}})\n  handle_add_output(event, handle)\n}\n\nfunction register_renderer(events, OutputArea) {\n  function append_mime(data, metadata, element) {\n    // create a DOM node to render to\n    var toinsert = this.create_output_subarea(\n    metadata,\n    CLASS_NAME,\n    EXEC_MIME_TYPE\n    );\n    this.keyboard_manager.register_events(toinsert);\n    // Render to node\n    var props = {data: data, metadata: metadata[EXEC_MIME_TYPE]};\n    render(props, toinsert[0]);\n    element.append(toinsert);\n    return toinsert\n  }\n\n  events.on('output_added.OutputArea', handle_add_output);\n  events.on('output_updated.OutputArea', handle_update_output);\n  events.on('clear_output.CodeCell', handle_clear_output);\n  events.on('delete.Cell', handle_clear_output);\n  events.on('kernel_ready.Kernel', handle_kernel_cleanup);\n\n  OutputArea.prototype.register_mime_type(EXEC_MIME_TYPE, append_mime, {\n    safe: true,\n    index: 0\n  });\n}\n\nif (window.Jupyter !== undefined) {\n  try {\n    var events = require('base/js/events');\n    var OutputArea = require('notebook/js/outputarea').OutputArea;\n    if (OutputArea.prototype.mime_types().indexOf(EXEC_MIME_TYPE) == -1) {\n      register_renderer(events, OutputArea);\n    }\n  } catch(err) {\n  }\n}\n"
     },
     "metadata": {},
     "output_type": "display_data"
    },
    {
     "data": {
      "text/html": [
       "<style>*[data-root-id],\n",
       "*[data-root-id] > * {\n",
       "  box-sizing: border-box;\n",
       "  font-family: var(--jp-ui-font-family);\n",
       "  font-size: var(--jp-ui-font-size1);\n",
       "  color: var(--vscode-editor-foreground, var(--jp-ui-font-color1));\n",
       "}\n",
       "\n",
       "/* Override VSCode background color */\n",
       ".cell-output-ipywidget-background:has(\n",
       "    > .cell-output-ipywidget-background > .lm-Widget > *[data-root-id]\n",
       "  ),\n",
       ".cell-output-ipywidget-background:has(> .lm-Widget > *[data-root-id]) {\n",
       "  background-color: transparent !important;\n",
       "}\n",
       "</style>"
      ]
     },
     "metadata": {},
     "output_type": "display_data"
    },
    {
     "data": {
      "text/html": [
       "<div id='p1002'>\n",
       "  <div id=\"c20e02c0-8b33-475d-bad2-a995b2d3d396\" data-root-id=\"p1002\" style=\"display: contents;\"></div>\n",
       "</div>\n",
       "<script type=\"application/javascript\">(function(root) {\n",
       "  var docs_json = {\"7b6d6fe2-4211-4f3a-8ae9-3f9604712213\":{\"version\":\"3.4.0\",\"title\":\"Bokeh Application\",\"roots\":[{\"type\":\"object\",\"name\":\"panel.models.browser.BrowserInfo\",\"id\":\"p1002\"},{\"type\":\"object\",\"name\":\"panel.models.comm_manager.CommManager\",\"id\":\"p1003\",\"attributes\":{\"plot_id\":\"p1002\",\"comm_id\":\"e543f1e759934226ab01c78758958c57\",\"client_comm_id\":\"c05bf0d529a243ed8b140cb2050fe7ea\"}}],\"defs\":[{\"type\":\"model\",\"name\":\"ReactiveHTML1\"},{\"type\":\"model\",\"name\":\"FlexBox1\",\"properties\":[{\"name\":\"align_content\",\"kind\":\"Any\",\"default\":\"flex-start\"},{\"name\":\"align_items\",\"kind\":\"Any\",\"default\":\"flex-start\"},{\"name\":\"flex_direction\",\"kind\":\"Any\",\"default\":\"row\"},{\"name\":\"flex_wrap\",\"kind\":\"Any\",\"default\":\"wrap\"},{\"name\":\"justify_content\",\"kind\":\"Any\",\"default\":\"flex-start\"},{\"name\":\"gap\",\"kind\":\"Any\",\"default\":\"\"}]},{\"type\":\"model\",\"name\":\"FloatPanel1\",\"properties\":[{\"name\":\"config\",\"kind\":\"Any\",\"default\":{\"type\":\"map\"}},{\"name\":\"contained\",\"kind\":\"Any\",\"default\":true},{\"name\":\"position\",\"kind\":\"Any\",\"default\":\"right-top\"},{\"name\":\"offsetx\",\"kind\":\"Any\",\"default\":null},{\"name\":\"offsety\",\"kind\":\"Any\",\"default\":null},{\"name\":\"theme\",\"kind\":\"Any\",\"default\":\"primary\"},{\"name\":\"status\",\"kind\":\"Any\",\"default\":\"normalized\"}]},{\"type\":\"model\",\"name\":\"GridStack1\",\"properties\":[{\"name\":\"mode\",\"kind\":\"Any\",\"default\":\"warn\"},{\"name\":\"ncols\",\"kind\":\"Any\",\"default\":null},{\"name\":\"nrows\",\"kind\":\"Any\",\"default\":null},{\"name\":\"allow_resize\",\"kind\":\"Any\",\"default\":true},{\"name\":\"allow_drag\",\"kind\":\"Any\",\"default\":true},{\"name\":\"state\",\"kind\":\"Any\",\"default\":[]}]},{\"type\":\"model\",\"name\":\"drag1\",\"properties\":[{\"name\":\"slider_width\",\"kind\":\"Any\",\"default\":5},{\"name\":\"slider_color\",\"kind\":\"Any\",\"default\":\"black\"},{\"name\":\"value\",\"kind\":\"Any\",\"default\":50}]},{\"type\":\"model\",\"name\":\"click1\",\"properties\":[{\"name\":\"terminal_output\",\"kind\":\"Any\",\"default\":\"\"},{\"name\":\"debug_name\",\"kind\":\"Any\",\"default\":\"\"},{\"name\":\"clears\",\"kind\":\"Any\",\"default\":0}]},{\"type\":\"model\",\"name\":\"FastWrapper1\",\"properties\":[{\"name\":\"object\",\"kind\":\"Any\",\"default\":null},{\"name\":\"style\",\"kind\":\"Any\",\"default\":null}]},{\"type\":\"model\",\"name\":\"NotificationAreaBase1\",\"properties\":[{\"name\":\"js_events\",\"kind\":\"Any\",\"default\":{\"type\":\"map\"}},{\"name\":\"position\",\"kind\":\"Any\",\"default\":\"bottom-right\"},{\"name\":\"_clear\",\"kind\":\"Any\",\"default\":0}]},{\"type\":\"model\",\"name\":\"NotificationArea1\",\"properties\":[{\"name\":\"js_events\",\"kind\":\"Any\",\"default\":{\"type\":\"map\"}},{\"name\":\"notifications\",\"kind\":\"Any\",\"default\":[]},{\"name\":\"position\",\"kind\":\"Any\",\"default\":\"bottom-right\"},{\"name\":\"_clear\",\"kind\":\"Any\",\"default\":0},{\"name\":\"types\",\"kind\":\"Any\",\"default\":[{\"type\":\"map\",\"entries\":[[\"type\",\"warning\"],[\"background\",\"#ffc107\"],[\"icon\",{\"type\":\"map\",\"entries\":[[\"className\",\"fas fa-exclamation-triangle\"],[\"tagName\",\"i\"],[\"color\",\"white\"]]}]]},{\"type\":\"map\",\"entries\":[[\"type\",\"info\"],[\"background\",\"#007bff\"],[\"icon\",{\"type\":\"map\",\"entries\":[[\"className\",\"fas fa-info-circle\"],[\"tagName\",\"i\"],[\"color\",\"white\"]]}]]}]}]},{\"type\":\"model\",\"name\":\"Notification\",\"properties\":[{\"name\":\"background\",\"kind\":\"Any\",\"default\":null},{\"name\":\"duration\",\"kind\":\"Any\",\"default\":3000},{\"name\":\"icon\",\"kind\":\"Any\",\"default\":null},{\"name\":\"message\",\"kind\":\"Any\",\"default\":\"\"},{\"name\":\"notification_type\",\"kind\":\"Any\",\"default\":null},{\"name\":\"_destroyed\",\"kind\":\"Any\",\"default\":false}]},{\"type\":\"model\",\"name\":\"TemplateActions1\",\"properties\":[{\"name\":\"open_modal\",\"kind\":\"Any\",\"default\":0},{\"name\":\"close_modal\",\"kind\":\"Any\",\"default\":0}]},{\"type\":\"model\",\"name\":\"BootstrapTemplateActions1\",\"properties\":[{\"name\":\"open_modal\",\"kind\":\"Any\",\"default\":0},{\"name\":\"close_modal\",\"kind\":\"Any\",\"default\":0}]},{\"type\":\"model\",\"name\":\"TemplateEditor1\",\"properties\":[{\"name\":\"layout\",\"kind\":\"Any\",\"default\":[]}]},{\"type\":\"model\",\"name\":\"MaterialTemplateActions1\",\"properties\":[{\"name\":\"open_modal\",\"kind\":\"Any\",\"default\":0},{\"name\":\"close_modal\",\"kind\":\"Any\",\"default\":0}]},{\"type\":\"model\",\"name\":\"copy_to_clipboard1\",\"properties\":[{\"name\":\"fill\",\"kind\":\"Any\",\"default\":\"none\"},{\"name\":\"value\",\"kind\":\"Any\",\"default\":null}]}]}};\n",
       "  var render_items = [{\"docid\":\"7b6d6fe2-4211-4f3a-8ae9-3f9604712213\",\"roots\":{\"p1002\":\"c20e02c0-8b33-475d-bad2-a995b2d3d396\"},\"root_ids\":[\"p1002\"]}];\n",
       "  var docs = Object.values(docs_json)\n",
       "  if (!docs) {\n",
       "    return\n",
       "  }\n",
       "  const py_version = docs[0].version.replace('rc', '-rc.').replace('.dev', '-dev.')\n",
       "  function embed_document(root) {\n",
       "    var Bokeh = get_bokeh(root)\n",
       "    Bokeh.embed.embed_items_notebook(docs_json, render_items);\n",
       "    for (const render_item of render_items) {\n",
       "      for (const root_id of render_item.root_ids) {\n",
       "\tconst id_el = document.getElementById(root_id)\n",
       "\tif (id_el.children.length && (id_el.children[0].className === 'bk-root')) {\n",
       "\t  const root_el = id_el.children[0]\n",
       "\t  root_el.id = root_el.id + '-rendered'\n",
       "\t}\n",
       "      }\n",
       "    }\n",
       "  }\n",
       "  function get_bokeh(root) {\n",
       "    if (root.Bokeh === undefined) {\n",
       "      return null\n",
       "    } else if (root.Bokeh.version !== py_version) {\n",
       "      if (root.Bokeh.versions === undefined || !root.Bokeh.versions.has(py_version)) {\n",
       "\treturn null\n",
       "      }\n",
       "      return root.Bokeh.versions.get(py_version);\n",
       "    } else if (root.Bokeh.version === py_version) {\n",
       "      return root.Bokeh\n",
       "    }\n",
       "    return null\n",
       "  }\n",
       "  function is_loaded(root) {\n",
       "    var Bokeh = get_bokeh(root)\n",
       "    return (Bokeh != null && Bokeh.Panel !== undefined)\n",
       "  }\n",
       "  if (is_loaded(root)) {\n",
       "    embed_document(root);\n",
       "  } else {\n",
       "    var attempts = 0;\n",
       "    var timer = setInterval(function(root) {\n",
       "      if (is_loaded(root)) {\n",
       "        clearInterval(timer);\n",
       "        embed_document(root);\n",
       "      } else if (document.readyState == \"complete\") {\n",
       "        attempts++;\n",
       "        if (attempts > 200) {\n",
       "          clearInterval(timer);\n",
       "\t  var Bokeh = get_bokeh(root)\n",
       "\t  if (Bokeh == null || Bokeh.Panel == null) {\n",
       "            console.warn(\"Panel: ERROR: Unable to run Panel code because Bokeh or Panel library is missing\");\n",
       "\t  } else {\n",
       "\t    console.warn(\"Panel: WARNING: Attempting to render but not all required libraries could be resolved.\")\n",
       "\t    embed_document(root)\n",
       "\t  }\n",
       "        }\n",
       "      }\n",
       "    }, 25, root)\n",
       "  }\n",
       "})(window);</script>"
      ],
      "application/vnd.holoviews_exec.v0+json": ""
     },
     "metadata": {
      "application/vnd.holoviews_exec.v0+json": {
       "id": "p1002"
      }
     },
     "output_type": "display_data"
    }
   ],
   "execution_count": 1
  },
  {
   "metadata": {
    "ExecuteTime": {
     "end_time": "2024-04-10T20:24:05.367483Z",
     "start_time": "2024-04-10T20:24:05.360714Z"
    }
   },
   "cell_type": "code",
   "source": "warnings.filterwarnings('ignore')",
   "id": "a73828d657a2a1be",
   "outputs": [],
   "execution_count": 2
  },
  {
   "metadata": {},
   "cell_type": "markdown",
   "source": "## Set data source variables",
   "id": "2d0f83f98d5f0fbc"
  },
  {
   "metadata": {
    "ExecuteTime": {
     "end_time": "2024-04-10T20:24:05.376820Z",
     "start_time": "2024-04-10T20:24:05.368004Z"
    }
   },
   "cell_type": "code",
   "source": [
    "# Path to the directory\n",
    "directory = 'Data'\n",
    "\n",
    "# Check if the directory exists\n",
    "if os.path.isdir(directory):\n",
    "    src_dir = directory\n",
    "else:\n",
    "    src_dir = None\n",
    "\n",
    "print(src_dir)"
   ],
   "id": "56610f6d822d4111",
   "outputs": [
    {
     "name": "stdout",
     "output_type": "stream",
     "text": [
      "Data\n"
     ]
    }
   ],
   "execution_count": 3
  },
  {
   "metadata": {},
   "cell_type": "markdown",
   "source": "# Preprocess Crop Loss Data",
   "id": "631a7a1a514c2272"
  },
  {
   "metadata": {
    "ExecuteTime": {
     "end_time": "2024-04-10T20:24:09.183251Z",
     "start_time": "2024-04-10T20:24:05.376820Z"
    }
   },
   "cell_type": "code",
   "source": [
    "years = [str(year) for year in range(2014, 2020)]\n",
    "states = ['KS', 'NE']\n",
    "crop_data = combine_files(src_dir+'/_alldata', years, states)"
   ],
   "id": "cef1fd36421ddac6",
   "outputs": [],
   "execution_count": 4
  },
  {
   "metadata": {},
   "cell_type": "code",
   "source": [
    "# crop_data = pd.read_csv(os.path.join(src_dir,'crop_loss_COL/CleanCropData.csv'))\n",
    "crop_data.head()"
   ],
   "id": "656e9edfc4593654",
   "outputs": [],
   "execution_count": null
  },
  {
   "metadata": {
    "ExecuteTime": {
     "end_time": "2024-04-10T20:30:46.110201Z",
     "start_time": "2024-04-10T20:30:44.741637Z"
    }
   },
   "cell_type": "code",
   "source": "sns.lineplot(x=crop_data['Year of Loss'], y=crop_data['Indemnity Amount'])",
   "id": "de235b2e84fa0a1",
   "outputs": [
    {
     "data": {
      "text/plain": [
       "<Axes: xlabel='Year of Loss', ylabel='Indemnity Amount'>"
      ]
     },
     "execution_count": 12,
     "metadata": {},
     "output_type": "execute_result"
    },
    {
     "data": {
      "text/plain": [
       "<Figure size 640x480 with 1 Axes>"
      ],
      "image/png": "[encoded data removed]"
     },
     "metadata": {},
     "output_type": "display_data"
    }
   ],
   "execution_count": 12
  },
  {
   "metadata": {},
   "cell_type": "code",
   "source": "%whos\n",
   "id": "304db75c7a13fd7a",
   "outputs": [],
   "execution_count": null
  },
  {
   "metadata": {
    "ExecuteTime": {
     "end_time": "2024-04-10T20:31:28.492693Z",
     "start_time": "2024-04-10T20:31:28.486450Z"
    }
   },
   "cell_type": "code",
   "source": [
    "# crop_data = remove_outliers(crop_data, 'Year of Loss')\n",
    "# sns.distplot(crop_data['Year of Loss'], bins=10, kde_kws={'shade': True})"
   ],
   "id": "22ac969f7740029e",
   "outputs": [],
   "execution_count": 13
  },
  {
   "metadata": {
    "ExecuteTime": {
     "end_time": "2024-04-10T20:31:32.134950Z",
     "start_time": "2024-04-10T20:31:32.113265Z"
    }
   },
   "cell_type": "code",
   "source": [
    "# get column names with their index\n",
    "print('\\n', 'crop_data columns:', '\\n')\n",
    "output_string = ''\n",
    "\n",
    "for i, col_name in enumerate(crop_data.columns):\n",
    "    dtype = crop_data[col_name].dtype\n",
    "    output_string += f'Index: {i}, Column Name: {col_name}, Data Type: {dtype}\\n'\n",
    "\n",
    "pyperclip.copy('crop_data:\\n' + output_string)\n",
    "print(output_string)"
   ],
   "id": "d96d13f72335f549",
   "outputs": [
    {
     "name": "stdout",
     "output_type": "stream",
     "text": [
      "\n",
      " crop_data columns: \n",
      "\n",
      "Index: 0, Column Name: Commodity Year Identifier, Data Type: int64\n",
      "Index: 1, Column Name: State Code, Data Type: int64\n",
      "Index: 2, Column Name: State Abbreviation, Data Type: object\n",
      "Index: 3, Column Name: County Code, Data Type: int64\n",
      "Index: 4, Column Name: County Name, Data Type: object\n",
      "Index: 5, Column Name: Commodity Code, Data Type: int64\n",
      "Index: 6, Column Name: Commodity Name, Data Type: object\n",
      "Index: 7, Column Name: Insurance Plan Code, Data Type: int64\n",
      "Index: 8, Column Name: Insurance Plan Name Abbreviation, Data Type: object\n",
      "Index: 9, Column Name: Coverage Category, Data Type: object\n",
      "Index: 10, Column Name: Stage Code, Data Type: object\n",
      "Index: 11, Column Name: Cause of Loss Code, Data Type: object\n",
      "Index: 12, Column Name: Cause of Loss Description, Data Type: object\n",
      "Index: 13, Column Name: Month of Loss, Data Type: int64\n",
      "Index: 14, Column Name: Month of Loss Name, Data Type: object\n",
      "Index: 15, Column Name: Year of Loss, Data Type: object\n",
      "Index: 16, Column Name: Policies Earning Premium, Data Type: int64\n",
      "Index: 17, Column Name: Policies Indemnified, Data Type: int64\n",
      "Index: 18, Column Name: Net Planted Quantity, Data Type: float64\n",
      "Index: 19, Column Name: Net Endorsed Acres, Data Type: float64\n",
      "Index: 20, Column Name: Liability, Data Type: float64\n",
      "Index: 21, Column Name: Total Premium, Data Type: float64\n",
      "Index: 22, Column Name: Producer Paid Premium, Data Type: float64\n",
      "Index: 23, Column Name: Subsidy, Data Type: float64\n",
      "Index: 24, Column Name: State/Private Subsidy, Data Type: float64\n",
      "Index: 25, Column Name: Additional Subsidy, Data Type: float64\n",
      "Index: 26, Column Name: EFA Premium Discount, Data Type: float64\n",
      "Index: 27, Column Name: Net Determined Quantity, Data Type: float64\n",
      "Index: 28, Column Name: Indemnity Amount, Data Type: float64\n",
      "Index: 29, Column Name: Loss Ratio, Data Type: float64\n",
      "\n"
     ]
    }
   ],
   "execution_count": 14
  },
  {
   "metadata": {
    "ExecuteTime": {
     "end_time": "2024-04-10T20:32:01.983613Z",
     "start_time": "2024-04-10T20:32:01.970526Z"
    }
   },
   "cell_type": "code",
   "source": [
    "columns_to_drop = crop_data.columns[[0, 7, 8, 9, 10, 14, 16, 17, 18, 19, 20, 21, 22, 23, 24, 25, 26, 27, 29]]\n",
    "crop_data = crop_data.drop(columns=columns_to_drop)"
   ],
   "id": "871d67c11f44ce50",
   "outputs": [],
   "execution_count": 15
  },
  {
   "metadata": {
    "ExecuteTime": {
     "end_time": "2024-04-10T20:32:06.491203Z",
     "start_time": "2024-04-10T20:32:06.473875Z"
    }
   },
   "cell_type": "code",
   "source": [
    "# get column names with their index\n",
    "print('\\n', 'crop_data columns:', '\\n')\n",
    "output_string = ''\n",
    "\n",
    "for i, col_name in enumerate(crop_data.columns):\n",
    "    dtype = crop_data[col_name].dtype\n",
    "    output_string += f'Index: {i}, Column Name: {col_name}, Data Type: {dtype}\\n'\n",
    "\n",
    "pyperclip.copy('crop_data:\\n' + output_string)\n",
    "print(output_string)"
   ],
   "id": "36ff511d3851b39f",
   "outputs": [
    {
     "name": "stdout",
     "output_type": "stream",
     "text": [
      "\n",
      " crop_data columns: \n",
      "\n",
      "Index: 0, Column Name: State Code, Data Type: int64\n",
      "Index: 1, Column Name: State Abbreviation, Data Type: object\n",
      "Index: 2, Column Name: County Code, Data Type: int64\n",
      "Index: 3, Column Name: County Name, Data Type: object\n",
      "Index: 4, Column Name: Commodity Code, Data Type: int64\n",
      "Index: 5, Column Name: Commodity Name, Data Type: object\n",
      "Index: 6, Column Name: Cause of Loss Code, Data Type: object\n",
      "Index: 7, Column Name: Cause of Loss Description, Data Type: object\n",
      "Index: 8, Column Name: Month of Loss, Data Type: int64\n",
      "Index: 9, Column Name: Year of Loss, Data Type: object\n",
      "Index: 10, Column Name: Indemnity Amount, Data Type: float64\n",
      "\n"
     ]
    }
   ],
   "execution_count": 16
  },
  {
   "metadata": {
    "ExecuteTime": {
     "end_time": "2024-04-10T20:32:11.857913Z",
     "start_time": "2024-04-10T20:32:11.523626Z"
    }
   },
   "cell_type": "code",
   "source": [
    "crop_data = crop_data.rename(columns={\n",
    "    'Month of Loss': 'month',\n",
    "    'Year of Loss': 'year',\n",
    "    'State Abbreviation': 'st_abb',\n",
    "    'State Code': 'st_code',\n",
    "    'County Code': 'co_code',\n",
    "    'County Name': 'co_name',\n",
    "    'Commodity Name': 'crop_name',\n",
    "    'Commodity Code': 'crop_code',\n",
    "    'Cause of Loss Code': 'col_code',\n",
    "    'Cause of Loss Description': 'col_des',\n",
    "    'Indemnity Amount': 'indemnity'\n",
    "})\n",
    "# Create 'fips' column by concatenating 'State Code' and 'County Code'\n",
    "crop_data['fips'] = crop_data['st_code'].astype(str).str.zfill(2) + crop_data['co_code'].astype(str).str.zfill(3)\n",
    "\n",
    "# Create 'yrmo' column by concatenating 'Year of Loss' and 'Month of Loss'\n",
    "crop_data['yrmo'] = crop_data['year'].astype(int).astype(str) + crop_data['month'].astype(\n",
    "    str).str.zfill(2)\n",
    "crop_data.head()"
   ],
   "id": "e4b41f1968a48d0",
   "outputs": [
    {
     "data": {
      "text/plain": [
       "   st_code st_abb  co_code                         co_name  crop_code  \\\n",
       "0       20     KS        1  Allen                                  11   \n",
       "1       20     KS        1  Allen                                  11   \n",
       "2       20     KS        1  Allen                                  11   \n",
       "3       20     KS        1  Allen                                  11   \n",
       "4       20     KS        1  Allen                                  11   \n",
       "\n",
       "                        crop_name col_code  \\\n",
       "0  Wheat                                01   \n",
       "1  Wheat                                31   \n",
       "2  Wheat                                31   \n",
       "3  Wheat                                31   \n",
       "4  Wheat                                31   \n",
       "\n",
       "                              col_des  month  year  indemnity   fips    yrmo  \n",
       "0                    Decline in Price      4  2014      34.83  20001  201404  \n",
       "1  Excess Moisture/Precipitation/Rain      4  2014    1706.67  20001  201404  \n",
       "2  Excess Moisture/Precipitation/Rain      6  2014    2237.00  20001  201406  \n",
       "3  Excess Moisture/Precipitation/Rain      7  2014    1754.00  20001  201407  \n",
       "4  Excess Moisture/Precipitation/Rain      5  2014    5434.50  20001  201405  "
      ],
      "text/html": [
       "<div>\n",
       "<style scoped>\n",
       "    .dataframe tbody tr th:only-of-type {\n",
       "        vertical-align: middle;\n",
       "    }\n",
       "\n",
       "    .dataframe tbody tr th {\n",
       "        vertical-align: top;\n",
       "    }\n",
       "\n",
       "    .dataframe thead th {\n",
       "        text-align: right;\n",
       "    }\n",
       "</style>\n",
       "<table border=\"1\" class=\"dataframe\">\n",
       "  <thead>\n",
       "    <tr style=\"text-align: right;\">\n",
       "      <th></th>\n",
       "      <th>st_code</th>\n",
       "      <th>st_abb</th>\n",
       "      <th>co_code</th>\n",
       "      <th>co_name</th>\n",
       "      <th>crop_code</th>\n",
       "      <th>crop_name</th>\n",
       "      <th>col_code</th>\n",
       "      <th>col_des</th>\n",
       "      <th>month</th>\n",
       "      <th>year</th>\n",
       "      <th>indemnity</th>\n",
       "      <th>fips</th>\n",
       "      <th>yrmo</th>\n",
       "    </tr>\n",
       "  </thead>\n",
       "  <tbody>\n",
       "    <tr>\n",
       "      <th>0</th>\n",
       "      <td>20</td>\n",
       "      <td>KS</td>\n",
       "      <td>1</td>\n",
       "      <td>Allen</td>\n",
       "      <td>11</td>\n",
       "      <td>Wheat</td>\n",
       "      <td>01</td>\n",
       "      <td>Decline in Price</td>\n",
       "      <td>4</td>\n",
       "      <td>2014</td>\n",
       "      <td>34.83</td>\n",
       "      <td>20001</td>\n",
       "      <td>201404</td>\n",
       "    </tr>\n",
       "    <tr>\n",
       "      <th>1</th>\n",
       "      <td>20</td>\n",
       "      <td>KS</td>\n",
       "      <td>1</td>\n",
       "      <td>Allen</td>\n",
       "      <td>11</td>\n",
       "      <td>Wheat</td>\n",
       "      <td>31</td>\n",
       "      <td>Excess Moisture/Precipitation/Rain</td>\n",
       "      <td>4</td>\n",
       "      <td>2014</td>\n",
       "      <td>1706.67</td>\n",
       "      <td>20001</td>\n",
       "      <td>201404</td>\n",
       "    </tr>\n",
       "    <tr>\n",
       "      <th>2</th>\n",
       "      <td>20</td>\n",
       "      <td>KS</td>\n",
       "      <td>1</td>\n",
       "      <td>Allen</td>\n",
       "      <td>11</td>\n",
       "      <td>Wheat</td>\n",
       "      <td>31</td>\n",
       "      <td>Excess Moisture/Precipitation/Rain</td>\n",
       "      <td>6</td>\n",
       "      <td>2014</td>\n",
       "      <td>2237.00</td>\n",
       "      <td>20001</td>\n",
       "      <td>201406</td>\n",
       "    </tr>\n",
       "    <tr>\n",
       "      <th>3</th>\n",
       "      <td>20</td>\n",
       "      <td>KS</td>\n",
       "      <td>1</td>\n",
       "      <td>Allen</td>\n",
       "      <td>11</td>\n",
       "      <td>Wheat</td>\n",
       "      <td>31</td>\n",
       "      <td>Excess Moisture/Precipitation/Rain</td>\n",
       "      <td>7</td>\n",
       "      <td>2014</td>\n",
       "      <td>1754.00</td>\n",
       "      <td>20001</td>\n",
       "      <td>201407</td>\n",
       "    </tr>\n",
       "    <tr>\n",
       "      <th>4</th>\n",
       "      <td>20</td>\n",
       "      <td>KS</td>\n",
       "      <td>1</td>\n",
       "      <td>Allen</td>\n",
       "      <td>11</td>\n",
       "      <td>Wheat</td>\n",
       "      <td>31</td>\n",
       "      <td>Excess Moisture/Precipitation/Rain</td>\n",
       "      <td>5</td>\n",
       "      <td>2014</td>\n",
       "      <td>5434.50</td>\n",
       "      <td>20001</td>\n",
       "      <td>201405</td>\n",
       "    </tr>\n",
       "  </tbody>\n",
       "</table>\n",
       "</div>"
      ]
     },
     "execution_count": 17,
     "metadata": {},
     "output_type": "execute_result"
    }
   ],
   "execution_count": 17
  },
  {
   "metadata": {
    "ExecuteTime": {
     "end_time": "2024-04-10T20:32:16.785799Z",
     "start_time": "2024-04-10T20:32:16.751534Z"
    }
   },
   "cell_type": "code",
   "source": [
    "db1_crop_data = crop_data\n",
    "# Capitals dictionary\n",
    "us_state_abbrev_upper = {\n",
    "    'ALABAMA': 'AL',\n",
    "    'ALASKA': 'AK',\n",
    "    'AMERICAN SAMOA': 'AS',\n",
    "    'ARIZONA': 'AZ',\n",
    "    'ARKANSAS': 'AR',\n",
    "    'CALIFORNIA': 'CA',\n",
    "    'COLORADO': 'CO',\n",
    "    'CONNECTICUT': 'CT',\n",
    "    'DELAWARE': 'DE',\n",
    "    'DISTRICT OF COLUMBIA': 'DC',\n",
    "    'FLORIDA': 'FL',\n",
    "    'GEORGIA': 'GA',\n",
    "    'GUAM': 'GU',\n",
    "    'HAWAII': 'HI',\n",
    "    'IDAHO': 'ID',\n",
    "    'ILLINOIS': 'IL',\n",
    "    'INDIANA': 'IN',\n",
    "    'IOWA': 'IA',\n",
    "    'KANSAS': 'KS',\n",
    "    'KENTUCKY': 'KY',\n",
    "    'LOUISIANA': 'LA',\n",
    "    'MAINE': 'ME',\n",
    "    'MARYLAND': 'MD',\n",
    "    'MASSACHUSETTS': 'MA',\n",
    "    'MICHIGAN': 'MI',\n",
    "    'MINNESOTA': 'MN',\n",
    "    'MISSISSIPPI': 'MS',\n",
    "    'MISSOURI': 'MO',\n",
    "    'MONTANA': 'MT',\n",
    "    'NEBRASKA': 'NE',\n",
    "    'NEVADA': 'NV',\n",
    "    'NEW HAMPSHIRE': 'NH',\n",
    "    'NEW JERSEY': 'NJ',\n",
    "    'NEW MEXICO': 'NM',\n",
    "    'NEW YORK': 'NY',\n",
    "    'NORTH CAROLINA': 'NC',\n",
    "    'NORTH DAKOTA': 'ND',\n",
    "    'NORTHERN MARIANA ISLANDS': 'MP',\n",
    "    'OHIO': 'OH',\n",
    "    'OKLAHOMA': 'OK',\n",
    "    'OREGON': 'OR',\n",
    "    'PENNSYLVANIA': 'PA',\n",
    "    'PUERTO RICO': 'PR',\n",
    "    'RHODE ISLAND': 'RI',\n",
    "    'SOUTH CAROLINA': 'SC',\n",
    "    'SOUTH DAKOTA': 'SD',\n",
    "    'TENNESSEE': 'TN',\n",
    "    'TEXAS': 'TX',\n",
    "    'UTAH': 'UT',\n",
    "    'VERMONT': 'VT',\n",
    "    'VIRGIN ISLANDS': 'VI',\n",
    "    'VIRGINIA': 'VA',\n",
    "    'WASHINGTON': 'WA',\n",
    "    'WEST VIRGINIA': 'WV',\n",
    "    'WISCONSIN': 'WI',\n",
    "    'WYOMING': 'WY'\n",
    "}\n",
    "\n",
    "# Inverse the dictionary for easier mapping.\n",
    "abbrev_us_state_upper = {v: k for k, v in us_state_abbrev_upper.items()}\n",
    "\n",
    "crop_data['state'] = crop_data['st_abb'].map(abbrev_us_state_upper)\n",
    "crop_data.head()"
   ],
   "id": "6dae087d35a61f29",
   "outputs": [
    {
     "data": {
      "text/plain": [
       "   st_code st_abb  co_code                         co_name  crop_code  \\\n",
       "0       20     KS        1  Allen                                  11   \n",
       "1       20     KS        1  Allen                                  11   \n",
       "2       20     KS        1  Allen                                  11   \n",
       "3       20     KS        1  Allen                                  11   \n",
       "4       20     KS        1  Allen                                  11   \n",
       "\n",
       "                        crop_name col_code  \\\n",
       "0  Wheat                                01   \n",
       "1  Wheat                                31   \n",
       "2  Wheat                                31   \n",
       "3  Wheat                                31   \n",
       "4  Wheat                                31   \n",
       "\n",
       "                              col_des  month  year  indemnity   fips    yrmo  \\\n",
       "0                    Decline in Price      4  2014      34.83  20001  201404   \n",
       "1  Excess Moisture/Precipitation/Rain      4  2014    1706.67  20001  201404   \n",
       "2  Excess Moisture/Precipitation/Rain      6  2014    2237.00  20001  201406   \n",
       "3  Excess Moisture/Precipitation/Rain      7  2014    1754.00  20001  201407   \n",
       "4  Excess Moisture/Precipitation/Rain      5  2014    5434.50  20001  201405   \n",
       "\n",
       "    state  \n",
       "0  KANSAS  \n",
       "1  KANSAS  \n",
       "2  KANSAS  \n",
       "3  KANSAS  \n",
       "4  KANSAS  "
      ],
      "text/html": [
       "<div>\n",
       "<style scoped>\n",
       "    .dataframe tbody tr th:only-of-type {\n",
       "        vertical-align: middle;\n",
       "    }\n",
       "\n",
       "    .dataframe tbody tr th {\n",
       "        vertical-align: top;\n",
       "    }\n",
       "\n",
       "    .dataframe thead th {\n",
       "        text-align: right;\n",
       "    }\n",
       "</style>\n",
       "<table border=\"1\" class=\"dataframe\">\n",
       "  <thead>\n",
       "    <tr style=\"text-align: right;\">\n",
       "      <th></th>\n",
       "      <th>st_code</th>\n",
       "      <th>st_abb</th>\n",
       "      <th>co_code</th>\n",
       "      <th>co_name</th>\n",
       "      <th>crop_code</th>\n",
       "      <th>crop_name</th>\n",
       "      <th>col_code</th>\n",
       "      <th>col_des</th>\n",
       "      <th>month</th>\n",
       "      <th>year</th>\n",
       "      <th>indemnity</th>\n",
       "      <th>fips</th>\n",
       "      <th>yrmo</th>\n",
       "      <th>state</th>\n",
       "    </tr>\n",
       "  </thead>\n",
       "  <tbody>\n",
       "    <tr>\n",
       "      <th>0</th>\n",
       "      <td>20</td>\n",
       "      <td>KS</td>\n",
       "      <td>1</td>\n",
       "      <td>Allen</td>\n",
       "      <td>11</td>\n",
       "      <td>Wheat</td>\n",
       "      <td>01</td>\n",
       "      <td>Decline in Price</td>\n",
       "      <td>4</td>\n",
       "      <td>2014</td>\n",
       "      <td>34.83</td>\n",
       "      <td>20001</td>\n",
       "      <td>201404</td>\n",
       "      <td>KANSAS</td>\n",
       "    </tr>\n",
       "    <tr>\n",
       "      <th>1</th>\n",
       "      <td>20</td>\n",
       "      <td>KS</td>\n",
       "      <td>1</td>\n",
       "      <td>Allen</td>\n",
       "      <td>11</td>\n",
       "      <td>Wheat</td>\n",
       "      <td>31</td>\n",
       "      <td>Excess Moisture/Precipitation/Rain</td>\n",
       "      <td>4</td>\n",
       "      <td>2014</td>\n",
       "      <td>1706.67</td>\n",
       "      <td>20001</td>\n",
       "      <td>201404</td>\n",
       "      <td>KANSAS</td>\n",
       "    </tr>\n",
       "    <tr>\n",
       "      <th>2</th>\n",
       "      <td>20</td>\n",
       "      <td>KS</td>\n",
       "      <td>1</td>\n",
       "      <td>Allen</td>\n",
       "      <td>11</td>\n",
       "      <td>Wheat</td>\n",
       "      <td>31</td>\n",
       "      <td>Excess Moisture/Precipitation/Rain</td>\n",
       "      <td>6</td>\n",
       "      <td>2014</td>\n",
       "      <td>2237.00</td>\n",
       "      <td>20001</td>\n",
       "      <td>201406</td>\n",
       "      <td>KANSAS</td>\n",
       "    </tr>\n",
       "    <tr>\n",
       "      <th>3</th>\n",
       "      <td>20</td>\n",
       "      <td>KS</td>\n",
       "      <td>1</td>\n",
       "      <td>Allen</td>\n",
       "      <td>11</td>\n",
       "      <td>Wheat</td>\n",
       "      <td>31</td>\n",
       "      <td>Excess Moisture/Precipitation/Rain</td>\n",
       "      <td>7</td>\n",
       "      <td>2014</td>\n",
       "      <td>1754.00</td>\n",
       "      <td>20001</td>\n",
       "      <td>201407</td>\n",
       "      <td>KANSAS</td>\n",
       "    </tr>\n",
       "    <tr>\n",
       "      <th>4</th>\n",
       "      <td>20</td>\n",
       "      <td>KS</td>\n",
       "      <td>1</td>\n",
       "      <td>Allen</td>\n",
       "      <td>11</td>\n",
       "      <td>Wheat</td>\n",
       "      <td>31</td>\n",
       "      <td>Excess Moisture/Precipitation/Rain</td>\n",
       "      <td>5</td>\n",
       "      <td>2014</td>\n",
       "      <td>5434.50</td>\n",
       "      <td>20001</td>\n",
       "      <td>201405</td>\n",
       "      <td>KANSAS</td>\n",
       "    </tr>\n",
       "  </tbody>\n",
       "</table>\n",
       "</div>"
      ]
     },
     "execution_count": 18,
     "metadata": {},
     "output_type": "execute_result"
    }
   ],
   "execution_count": 18
  },
  {
   "metadata": {
    "ExecuteTime": {
     "end_time": "2024-04-10T20:32:20.550676Z",
     "start_time": "2024-04-10T20:32:20.536214Z"
    }
   },
   "cell_type": "code",
   "source": [
    "# get column names with their index\n",
    "print('\\n', 'crop_data columns:', '\\n')\n",
    "output_string = ''\n",
    "\n",
    "for i, col_name in enumerate(crop_data.columns):\n",
    "    dtype = crop_data[col_name].dtype\n",
    "    output_string += f'Index: {i}, Column Name: {col_name}, Data Type: {dtype}\\n'\n",
    "\n",
    "pyperclip.copy('crop_data:\\n' + output_string)\n",
    "print(output_string)"
   ],
   "id": "10bbb2728b8d734",
   "outputs": [
    {
     "name": "stdout",
     "output_type": "stream",
     "text": [
      "\n",
      " crop_data columns: \n",
      "\n",
      "Index: 0, Column Name: st_code, Data Type: int64\n",
      "Index: 1, Column Name: st_abb, Data Type: object\n",
      "Index: 2, Column Name: co_code, Data Type: int64\n",
      "Index: 3, Column Name: co_name, Data Type: object\n",
      "Index: 4, Column Name: crop_code, Data Type: int64\n",
      "Index: 5, Column Name: crop_name, Data Type: object\n",
      "Index: 6, Column Name: col_code, Data Type: object\n",
      "Index: 7, Column Name: col_des, Data Type: object\n",
      "Index: 8, Column Name: month, Data Type: int64\n",
      "Index: 9, Column Name: year, Data Type: object\n",
      "Index: 10, Column Name: indemnity, Data Type: float64\n",
      "Index: 11, Column Name: fips, Data Type: object\n",
      "Index: 12, Column Name: yrmo, Data Type: object\n",
      "Index: 13, Column Name: state, Data Type: object\n",
      "\n"
     ]
    }
   ],
   "execution_count": 19
  },
  {
   "metadata": {
    "ExecuteTime": {
     "end_time": "2024-04-10T20:32:27.917718Z",
     "start_time": "2024-04-10T20:32:27.901949Z"
    }
   },
   "cell_type": "code",
   "source": [
    "db2_crop_data = crop_data\n",
    "# specify the new column order\n",
    "column_order = ['yrmo', 'fips', 'year', 'month', 'st_abb',\n",
    "                'st_code', 'state', 'co_code', 'co_name',\n",
    "                'crop_name', 'crop_code', 'col_des',\n",
    "                'col_code', 'indemnity']\n",
    "\n",
    "# reindex the dataframe\n",
    "crop_data = crop_data[column_order]"
   ],
   "id": "9a25f4d93f7f2add",
   "outputs": [],
   "execution_count": 20
  },
  {
   "metadata": {
    "ExecuteTime": {
     "end_time": "2024-04-10T20:32:30.205163Z",
     "start_time": "2024-04-10T20:32:30.189343Z"
    }
   },
   "cell_type": "code",
   "source": [
    "print('\\n', 'crop_data columns:', '\\n')\n",
    "# get column names with their index\n",
    "output_string = ''\n",
    "\n",
    "for i, col_name in enumerate(crop_data.columns):\n",
    "    dtype = crop_data[col_name].dtype\n",
    "    output_string += f'Index: {i}, Column Name: {col_name}, Data Type: {dtype}\\n'\n",
    "\n",
    "pyperclip.copy('crop_data:\\n' + output_string)\n",
    "print(output_string)"
   ],
   "id": "d1869745f2b1e95e",
   "outputs": [
    {
     "name": "stdout",
     "output_type": "stream",
     "text": [
      "\n",
      " crop_data columns: \n",
      "\n",
      "Index: 0, Column Name: yrmo, Data Type: object\n",
      "Index: 1, Column Name: fips, Data Type: object\n",
      "Index: 2, Column Name: year, Data Type: object\n",
      "Index: 3, Column Name: month, Data Type: int64\n",
      "Index: 4, Column Name: st_abb, Data Type: object\n",
      "Index: 5, Column Name: st_code, Data Type: int64\n",
      "Index: 6, Column Name: state, Data Type: object\n",
      "Index: 7, Column Name: co_code, Data Type: int64\n",
      "Index: 8, Column Name: co_name, Data Type: object\n",
      "Index: 9, Column Name: crop_name, Data Type: object\n",
      "Index: 10, Column Name: crop_code, Data Type: int64\n",
      "Index: 11, Column Name: col_des, Data Type: object\n",
      "Index: 12, Column Name: col_code, Data Type: object\n",
      "Index: 13, Column Name: indemnity, Data Type: float64\n",
      "\n"
     ]
    }
   ],
   "execution_count": 21
  },
  {
   "metadata": {
    "ExecuteTime": {
     "end_time": "2024-04-10T20:32:38.407612Z",
     "start_time": "2024-04-10T20:32:38.293836Z"
    }
   },
   "cell_type": "code",
   "source": [
    "crop_data['co_name'] = crop_data['co_name'].str.upper()\n",
    "crop_data['crop_name'] = crop_data['crop_name'].str.upper()\n",
    "crop_data['col_des'] = crop_data['col_des'].str.upper()\n",
    "crop_data.head()"
   ],
   "id": "a99c7211f2ffb89a",
   "outputs": [
    {
     "data": {
      "text/plain": [
       "     yrmo   fips  year  month st_abb  st_code   state  co_code  \\\n",
       "0  201404  20001  2014      4     KS       20  KANSAS        1   \n",
       "1  201404  20001  2014      4     KS       20  KANSAS        1   \n",
       "2  201406  20001  2014      6     KS       20  KANSAS        1   \n",
       "3  201407  20001  2014      7     KS       20  KANSAS        1   \n",
       "4  201405  20001  2014      5     KS       20  KANSAS        1   \n",
       "\n",
       "                          co_name                       crop_name  crop_code  \\\n",
       "0  ALLEN                           WHEAT                                  11   \n",
       "1  ALLEN                           WHEAT                                  11   \n",
       "2  ALLEN                           WHEAT                                  11   \n",
       "3  ALLEN                           WHEAT                                  11   \n",
       "4  ALLEN                           WHEAT                                  11   \n",
       "\n",
       "                              col_des col_code  indemnity  \n",
       "0                    DECLINE IN PRICE       01      34.83  \n",
       "1  EXCESS MOISTURE/PRECIPITATION/RAIN       31    1706.67  \n",
       "2  EXCESS MOISTURE/PRECIPITATION/RAIN       31    2237.00  \n",
       "3  EXCESS MOISTURE/PRECIPITATION/RAIN       31    1754.00  \n",
       "4  EXCESS MOISTURE/PRECIPITATION/RAIN       31    5434.50  "
      ],
      "text/html": [
       "<div>\n",
       "<style scoped>\n",
       "    .dataframe tbody tr th:only-of-type {\n",
       "        vertical-align: middle;\n",
       "    }\n",
       "\n",
       "    .dataframe tbody tr th {\n",
       "        vertical-align: top;\n",
       "    }\n",
       "\n",
       "    .dataframe thead th {\n",
       "        text-align: right;\n",
       "    }\n",
       "</style>\n",
       "<table border=\"1\" class=\"dataframe\">\n",
       "  <thead>\n",
       "    <tr style=\"text-align: right;\">\n",
       "      <th></th>\n",
       "      <th>yrmo</th>\n",
       "      <th>fips</th>\n",
       "      <th>year</th>\n",
       "      <th>month</th>\n",
       "      <th>st_abb</th>\n",
       "      <th>st_code</th>\n",
       "      <th>state</th>\n",
       "      <th>co_code</th>\n",
       "      <th>co_name</th>\n",
       "      <th>crop_name</th>\n",
       "      <th>crop_code</th>\n",
       "      <th>col_des</th>\n",
       "      <th>col_code</th>\n",
       "      <th>indemnity</th>\n",
       "    </tr>\n",
       "  </thead>\n",
       "  <tbody>\n",
       "    <tr>\n",
       "      <th>0</th>\n",
       "      <td>201404</td>\n",
       "      <td>20001</td>\n",
       "      <td>2014</td>\n",
       "      <td>4</td>\n",
       "      <td>KS</td>\n",
       "      <td>20</td>\n",
       "      <td>KANSAS</td>\n",
       "      <td>1</td>\n",
       "      <td>ALLEN</td>\n",
       "      <td>WHEAT</td>\n",
       "      <td>11</td>\n",
       "      <td>DECLINE IN PRICE</td>\n",
       "      <td>01</td>\n",
       "      <td>34.83</td>\n",
       "    </tr>\n",
       "    <tr>\n",
       "      <th>1</th>\n",
       "      <td>201404</td>\n",
       "      <td>20001</td>\n",
       "      <td>2014</td>\n",
       "      <td>4</td>\n",
       "      <td>KS</td>\n",
       "      <td>20</td>\n",
       "      <td>KANSAS</td>\n",
       "      <td>1</td>\n",
       "      <td>ALLEN</td>\n",
       "      <td>WHEAT</td>\n",
       "      <td>11</td>\n",
       "      <td>EXCESS MOISTURE/PRECIPITATION/RAIN</td>\n",
       "      <td>31</td>\n",
       "      <td>1706.67</td>\n",
       "    </tr>\n",
       "    <tr>\n",
       "      <th>2</th>\n",
       "      <td>201406</td>\n",
       "      <td>20001</td>\n",
       "      <td>2014</td>\n",
       "      <td>6</td>\n",
       "      <td>KS</td>\n",
       "      <td>20</td>\n",
       "      <td>KANSAS</td>\n",
       "      <td>1</td>\n",
       "      <td>ALLEN</td>\n",
       "      <td>WHEAT</td>\n",
       "      <td>11</td>\n",
       "      <td>EXCESS MOISTURE/PRECIPITATION/RAIN</td>\n",
       "      <td>31</td>\n",
       "      <td>2237.00</td>\n",
       "    </tr>\n",
       "    <tr>\n",
       "      <th>3</th>\n",
       "      <td>201407</td>\n",
       "      <td>20001</td>\n",
       "      <td>2014</td>\n",
       "      <td>7</td>\n",
       "      <td>KS</td>\n",
       "      <td>20</td>\n",
       "      <td>KANSAS</td>\n",
       "      <td>1</td>\n",
       "      <td>ALLEN</td>\n",
       "      <td>WHEAT</td>\n",
       "      <td>11</td>\n",
       "      <td>EXCESS MOISTURE/PRECIPITATION/RAIN</td>\n",
       "      <td>31</td>\n",
       "      <td>1754.00</td>\n",
       "    </tr>\n",
       "    <tr>\n",
       "      <th>4</th>\n",
       "      <td>201405</td>\n",
       "      <td>20001</td>\n",
       "      <td>2014</td>\n",
       "      <td>5</td>\n",
       "      <td>KS</td>\n",
       "      <td>20</td>\n",
       "      <td>KANSAS</td>\n",
       "      <td>1</td>\n",
       "      <td>ALLEN</td>\n",
       "      <td>WHEAT</td>\n",
       "      <td>11</td>\n",
       "      <td>EXCESS MOISTURE/PRECIPITATION/RAIN</td>\n",
       "      <td>31</td>\n",
       "      <td>5434.50</td>\n",
       "    </tr>\n",
       "  </tbody>\n",
       "</table>\n",
       "</div>"
      ]
     },
     "execution_count": 22,
     "metadata": {},
     "output_type": "execute_result"
    }
   ],
   "execution_count": 22
  },
  {
   "metadata": {
    "ExecuteTime": {
     "end_time": "2024-04-10T20:32:41.056756Z",
     "start_time": "2024-04-10T20:32:41.043729Z"
    }
   },
   "cell_type": "code",
   "source": [
    "unique_col_des = crop_data['col_des'].unique()\n",
    "for value in unique_col_des:\n",
    "    print(value)"
   ],
   "id": "192cd3c814910ac5",
   "outputs": [
    {
     "name": "stdout",
     "output_type": "stream",
     "text": [
      "DECLINE IN PRICE\n",
      "EXCESS MOISTURE/PRECIPITATION/RAIN\n",
      "COLD WINTER\n",
      "DROUGHT\n",
      "FLOOD\n",
      "WIND/EXCESS WIND\n",
      "HAIL\n",
      "OTHER (SNOW, LIGHTNING, ETC.)\n",
      "ARPI CROPS ONLY\n",
      "FROST\n",
      "COLD WET WEATHER\n",
      "WILDLIFE\n",
      "HEAT\n",
      "INSECTS\n",
      "FREEZE\n",
      "HOT WIND\n",
      "nan\n",
      "CYCLONE\n",
      "INABILITY TO PREPARE LAND FOR IRRIGATION\n",
      "PLANT DISEASE\n",
      "FAILURE OF IRRIGATION EQUIPMENT\n",
      "FAILURE OF IRRIGATION SUPPLY\n",
      "FIRE\n",
      "FALLING NUMBERS\n",
      "TORNADO\n",
      "ASIAN SOYBEAN RUST\n",
      "MYCOTOXIN\n",
      "FEDERAL OR STATE ORDERED DESTRUCTION\n",
      "ARPI/SCO/STAX CROPS ONLY\n",
      "ARPI/SCO/STAX/MP CROPS ONLY\n",
      "EARTHQUAKE\n",
      "ALL OTHER CAUSES\n"
     ]
    }
   ],
   "execution_count": 23
  },
  {
   "metadata": {
    "ExecuteTime": {
     "end_time": "2024-04-10T20:32:43.139233Z",
     "start_time": "2024-04-10T20:32:43.123467Z"
    }
   },
   "cell_type": "code",
   "source": [
    "db4_crop_data = crop_data\n",
    "crop_data_col_all = crop_data\n",
    "crop_data = crop_data[crop_data['col_des'].isin(['WIND/EXCESS WIND', 'HOT WIND', 'TORNADO'])]\n",
    "filter_col_des = crop_data['col_des'].unique()\n",
    "for value in filter_col_des:\n",
    "    print(value)"
   ],
   "id": "9abd5cc4346ae660",
   "outputs": [
    {
     "name": "stdout",
     "output_type": "stream",
     "text": [
      "WIND/EXCESS WIND\n",
      "HOT WIND\n",
      "TORNADO\n"
     ]
    }
   ],
   "execution_count": 24
  },
  {
   "metadata": {
    "ExecuteTime": {
     "end_time": "2024-04-10T20:32:48.065012Z",
     "start_time": "2024-04-10T20:32:48.042511Z"
    }
   },
   "cell_type": "code",
   "source": [
    "# Assuming crop_data is your DataFrame\n",
    "for col in crop_data.columns:\n",
    "\n",
    "    # If the current column's data type is float and column is not 'Indemnity', convert to int first\n",
    "    if crop_data[col].dtype == 'float64' and col != 'indemnity':\n",
    "        crop_data[col] = crop_data[col].astype(int)\n",
    "\n",
    "    # If column is not 'Indemnity', convert to object\n",
    "    if col != 'indemnity':\n",
    "        crop_data[col] = crop_data[col].astype('object')\n",
    "\n",
    "crop_data.head()"
   ],
   "id": "9c2a453561f36a4c",
   "outputs": [
    {
     "data": {
      "text/plain": [
       "       yrmo   fips  year month st_abb st_code   state co_code  \\\n",
       "15   201404  20001  2014     4     KS      20  KANSAS       1   \n",
       "99   201407  20005  2014     7     KS      20  KANSAS       5   \n",
       "100  201407  20005  2014     7     KS      20  KANSAS       5   \n",
       "172  201402  20007  2014     2     KS      20  KANSAS       7   \n",
       "173  201402  20007  2014     2     KS      20  KANSAS       7   \n",
       "\n",
       "                            co_name                       crop_name crop_code  \\\n",
       "15   ALLEN                           CORN                                  41   \n",
       "99   ATCHISON                        CORN                                  41   \n",
       "100  ATCHISON                        CORN                                  41   \n",
       "172  BARBER                          WHEAT                                 11   \n",
       "173  BARBER                          WHEAT                                 11   \n",
       "\n",
       "              col_des col_code  indemnity  \n",
       "15   WIND/EXCESS WIND       61     4952.0  \n",
       "99   WIND/EXCESS WIND       61     2290.0  \n",
       "100  WIND/EXCESS WIND       61     4936.0  \n",
       "172  WIND/EXCESS WIND       61     1181.0  \n",
       "173  WIND/EXCESS WIND       61    14769.0  "
      ],
      "text/html": [
       "<div>\n",
       "<style scoped>\n",
       "    .dataframe tbody tr th:only-of-type {\n",
       "        vertical-align: middle;\n",
       "    }\n",
       "\n",
       "    .dataframe tbody tr th {\n",
       "        vertical-align: top;\n",
       "    }\n",
       "\n",
       "    .dataframe thead th {\n",
       "        text-align: right;\n",
       "    }\n",
       "</style>\n",
       "<table border=\"1\" class=\"dataframe\">\n",
       "  <thead>\n",
       "    <tr style=\"text-align: right;\">\n",
       "      <th></th>\n",
       "      <th>yrmo</th>\n",
       "      <th>fips</th>\n",
       "      <th>year</th>\n",
       "      <th>month</th>\n",
       "      <th>st_abb</th>\n",
       "      <th>st_code</th>\n",
       "      <th>state</th>\n",
       "      <th>co_code</th>\n",
       "      <th>co_name</th>\n",
       "      <th>crop_name</th>\n",
       "      <th>crop_code</th>\n",
       "      <th>col_des</th>\n",
       "      <th>col_code</th>\n",
       "      <th>indemnity</th>\n",
       "    </tr>\n",
       "  </thead>\n",
       "  <tbody>\n",
       "    <tr>\n",
       "      <th>15</th>\n",
       "      <td>201404</td>\n",
       "      <td>20001</td>\n",
       "      <td>2014</td>\n",
       "      <td>4</td>\n",
       "      <td>KS</td>\n",
       "      <td>20</td>\n",
       "      <td>KANSAS</td>\n",
       "      <td>1</td>\n",
       "      <td>ALLEN</td>\n",
       "      <td>CORN</td>\n",
       "      <td>41</td>\n",
       "      <td>WIND/EXCESS WIND</td>\n",
       "      <td>61</td>\n",
       "      <td>4952.0</td>\n",
       "    </tr>\n",
       "    <tr>\n",
       "      <th>99</th>\n",
       "      <td>201407</td>\n",
       "      <td>20005</td>\n",
       "      <td>2014</td>\n",
       "      <td>7</td>\n",
       "      <td>KS</td>\n",
       "      <td>20</td>\n",
       "      <td>KANSAS</td>\n",
       "      <td>5</td>\n",
       "      <td>ATCHISON</td>\n",
       "      <td>CORN</td>\n",
       "      <td>41</td>\n",
       "      <td>WIND/EXCESS WIND</td>\n",
       "      <td>61</td>\n",
       "      <td>2290.0</td>\n",
       "    </tr>\n",
       "    <tr>\n",
       "      <th>100</th>\n",
       "      <td>201407</td>\n",
       "      <td>20005</td>\n",
       "      <td>2014</td>\n",
       "      <td>7</td>\n",
       "      <td>KS</td>\n",
       "      <td>20</td>\n",
       "      <td>KANSAS</td>\n",
       "      <td>5</td>\n",
       "      <td>ATCHISON</td>\n",
       "      <td>CORN</td>\n",
       "      <td>41</td>\n",
       "      <td>WIND/EXCESS WIND</td>\n",
       "      <td>61</td>\n",
       "      <td>4936.0</td>\n",
       "    </tr>\n",
       "    <tr>\n",
       "      <th>172</th>\n",
       "      <td>201402</td>\n",
       "      <td>20007</td>\n",
       "      <td>2014</td>\n",
       "      <td>2</td>\n",
       "      <td>KS</td>\n",
       "      <td>20</td>\n",
       "      <td>KANSAS</td>\n",
       "      <td>7</td>\n",
       "      <td>BARBER</td>\n",
       "      <td>WHEAT</td>\n",
       "      <td>11</td>\n",
       "      <td>WIND/EXCESS WIND</td>\n",
       "      <td>61</td>\n",
       "      <td>1181.0</td>\n",
       "    </tr>\n",
       "    <tr>\n",
       "      <th>173</th>\n",
       "      <td>201402</td>\n",
       "      <td>20007</td>\n",
       "      <td>2014</td>\n",
       "      <td>2</td>\n",
       "      <td>KS</td>\n",
       "      <td>20</td>\n",
       "      <td>KANSAS</td>\n",
       "      <td>7</td>\n",
       "      <td>BARBER</td>\n",
       "      <td>WHEAT</td>\n",
       "      <td>11</td>\n",
       "      <td>WIND/EXCESS WIND</td>\n",
       "      <td>61</td>\n",
       "      <td>14769.0</td>\n",
       "    </tr>\n",
       "  </tbody>\n",
       "</table>\n",
       "</div>"
      ]
     },
     "execution_count": 25,
     "metadata": {},
     "output_type": "execute_result"
    }
   ],
   "execution_count": 25
  },
  {
   "metadata": {
    "ExecuteTime": {
     "end_time": "2024-04-10T20:34:02.821742Z",
     "start_time": "2024-04-10T20:34:02.757589Z"
    }
   },
   "cell_type": "code",
   "source": [
    "crop_data = crop_data.applymap(lambda x: x.strip() if isinstance(x, str) else x)\n",
    "\n",
    "crop_data.to_csv('Output/crop_data_filtered.csv', index=False)"
   ],
   "id": "6f1aaac10f14d6c9",
   "outputs": [],
   "execution_count": 27
  },
  {
   "metadata": {},
   "cell_type": "code",
   "outputs": [],
   "execution_count": null,
   "source": "",
   "id": "6af1a9205fe9e163"
  }
 ],
 "metadata": {
  "kernelspec": {
   "display_name": "WindBreaks",
   "language": "python",
   "name": "windbreaks"
  },
  "language_info": {
   "codemirror_mode": {
    "name": "ipython",
    "version": 2
   },
   "file_extension": ".py",
   "mimetype": "text/x-python",
   "name": "python",
   "nbconvert_exporter": "python",
   "pygments_lexer": "ipython2",
   "version": "2.7.6"
  }
 },
 "nbformat": 4,
 "nbformat_minor": 5
}
