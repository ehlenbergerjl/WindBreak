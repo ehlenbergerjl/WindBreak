{
 "cells": [
  {
   "cell_type": "code",
   "execution_count": null,
   "id": "initial_id",
   "metadata": {
    "collapsed": true
   },
   "outputs": [],
   "source": [
    "import sys\n",
    "import types\n",
    "import warnings\n",
    "import os\n",
    "import glob\n",
    "import regex as re\n",
    "import netCDF4 as nc\n",
    "import rasterio\n",
    "import numpy as np\n",
    "import xarray as xr\n",
    "import hvplot.xarray\n",
    "import holoviews as hv\n",
    "import pandas as pd\n",
    "import seaborn as sns\n",
    "import matplotlib.pyplot as plt\n",
    "import geopandas as gpd\n",
    "import cartopy.crs as ccrs\n",
    "import cartopy.feature as cf\n",
    "import ipywidgets as widgets\n",
    "import matplotlib.ticker as mticker\n",
    "import chardet\n",
    "import pyperclip\n",
    "from geopandas import GeoDataFrame\n",
    "from shapely.geometry import Point\n",
    "from bokeh.io import output_notebook, show\n",
    "from bokeh.resources import INLINE\n",
    "from rasterio.transform import from_origin\n",
    "from rasterstats import zonal_stats\n",
    "from shapely.geometry import LineString\n",
    "from matplotlib.path import Path\n",
    "from matplotlib.colors import Normalize\n",
    "from netCDF4 import Dataset\n",
    "from pyproj import CRS\n",
    "from IPython.display import display\n",
    "from cartopy.mpl.gridliner import LONGITUDE_FORMATTER, LATITUDE_FORMATTER"
   ]
  }
 ],
 "metadata": {
  "kernelspec": {
   "display_name": "Python 3",
   "language": "python",
   "name": "python3"
  },
  "language_info": {
   "codemirror_mode": {
    "name": "ipython",
    "version": 2
   },
   "file_extension": ".py",
   "mimetype": "text/x-python",
   "name": "python",
   "nbconvert_exporter": "python",
   "pygments_lexer": "ipython2",
   "version": "2.7.6"
  }
 },
 "nbformat": 4,
 "nbformat_minor": 5
}
