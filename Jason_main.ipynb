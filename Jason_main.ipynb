{
 "cells": [
  {
   "cell_type": "markdown",
   "source": [
    "- April-June 2014, 2016, 2018\n",
    "- Histogram to understand the distribution of the data\n",
    "- Summary Table\n",
    "    - Ways to summarize the hourly wind data: \n",
    "    - mean wind speed for a county in a given month  \n",
    "    - Max wind speed for a county in a given month \n",
    "    - Number of times we had high wind speed (15+ m2/sec) \n",
    "- ArcPro Map -- Spatial map of which places receive the most wind events and when?"
   ],
   "metadata": {
    "collapsed": false
   },
   "id": "2f08c0c81f1b8a21"
  },
  {
   "cell_type": "markdown",
   "source": [],
   "metadata": {
    "collapsed": false
   },
   "id": "8c458e13e7c1e40f"
  }
 ],
 "metadata": {
  "kernelspec": {
   "display_name": "Python 3",
   "language": "python",
   "name": "python3"
  },
  "language_info": {
   "codemirror_mode": {
    "name": "ipython",
    "version": 2
   },
   "file_extension": ".py",
   "mimetype": "text/x-python",
   "name": "python",
   "nbconvert_exporter": "python",
   "pygments_lexer": "ipython2",
   "version": "2.7.6"
  }
 },
 "nbformat": 4,
 "nbformat_minor": 5
}
